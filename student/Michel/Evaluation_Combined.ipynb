{
 "cells": [
  {
   "cell_type": "code",
   "execution_count": 1,
   "id": "22e8ef90",
   "metadata": {
    "ExecuteTime": {
     "end_time": "2022-01-25T11:17:02.961888Z",
     "start_time": "2022-01-25T11:17:01.582406Z"
    }
   },
   "outputs": [],
   "source": [
    "import os\n",
    "\n",
    "import numpy as np\n",
    "import xarray as xr\n",
    "import cfgrib\n",
    "import cartopy.crs as ccrs\n",
    "from cartopy.util import add_cyclic_point\n",
    "\n",
    "from dask.distributed import Client, LocalCluster\n",
    "\n",
    "import matplotlib as mpl\n",
    "import matplotlib.pyplot as plt\n",
    "plt.rcParams.update({'font.size': 16, \"axes.labelsize\":16, \"axes.titlesize\":16,\n",
    "                     \"font.weight\": \"bold\",\"axes.labelweight\":\"bold\",\"axes.titleweight\":\"bold\",\n",
    "                    \"figure.titleweight\":\"bold\", \"figure.titlesize\":\"large\" })\n",
    "\n",
    "from ambiance import Atmosphere\n",
    "from aostools import climate\n",
    "\n",
    "from Eval import plot_map_xr, plot_profile_xr, plot_time_profile_xr, make_gif\n",
    "from Eval import var_info, coord_info, results_dir\n"
   ]
  },
  {
   "cell_type": "code",
   "execution_count": 2,
   "id": "6307293c",
   "metadata": {
    "ExecuteTime": {
     "end_time": "2022-01-25T11:17:02.968337Z",
     "start_time": "2022-01-25T11:17:02.966124Z"
    }
   },
   "outputs": [],
   "source": [
    "dateset_name = {\n",
    "    'icon':'ICON',\n",
    "    'era5':'ERA5',\n",
    "    'geos':'GEOS-FP',\n",
    "    'geos_vmfc':'GEOS-FP'\n",
    "}"
   ]
  },
  {
   "cell_type": "markdown",
   "id": "a894ba34",
   "metadata": {},
   "source": [
    "# Open dataset"
   ]
  },
  {
   "cell_type": "code",
   "execution_count": 3,
   "id": "f8eb9df8",
   "metadata": {
    "ExecuteTime": {
     "end_time": "2022-01-25T11:17:02.971720Z",
     "start_time": "2022-01-25T11:17:02.969430Z"
    }
   },
   "outputs": [],
   "source": [
    "dataset_i = 'icon'\n",
    "dataset_e = 'era5'\n",
    "dataset_g = 'geos'\n",
    "dataset_g_vmfc = 'geos_vmfc'"
   ]
  },
  {
   "cell_type": "code",
   "execution_count": 4,
   "id": "a8b05588",
   "metadata": {
    "ExecuteTime": {
     "end_time": "2022-01-25T11:17:02.974877Z",
     "start_time": "2022-01-25T11:17:02.972931Z"
    }
   },
   "outputs": [],
   "source": [
    "data_dir = '/gemeinsam_tmp/SSW_2021/'"
   ]
  },
  {
   "cell_type": "code",
   "execution_count": 5,
   "id": "e90386a7",
   "metadata": {
    "ExecuteTime": {
     "end_time": "2022-01-25T11:17:04.366365Z",
     "start_time": "2022-01-25T11:17:02.976107Z"
    }
   },
   "outputs": [],
   "source": [
    "#client = Client(LocalCluster(host='192.168.154.3')) # change to ora's IP adress: 192.168.135.33\n",
    "client = Client(LocalCluster(host='192.168.155.33'))"
   ]
  },
  {
   "cell_type": "code",
   "execution_count": 6,
   "id": "50560cbf",
   "metadata": {
    "ExecuteTime": {
     "end_time": "2022-01-25T11:17:04.385103Z",
     "start_time": "2022-01-25T11:17:04.371276Z"
    }
   },
   "outputs": [
    {
     "data": {
      "text/html": [
       "<table style=\"border: 2px solid white;\">\n",
       "<tr>\n",
       "<td style=\"vertical-align: top; border: 0px solid white\">\n",
       "<h3 style=\"text-align: left;\">Client</h3>\n",
       "<ul style=\"text-align: left; list-style: none; margin: 0; padding: 0;\">\n",
       "  <li><b>Scheduler: </b>tcp://192.168.155.33:38367</li>\n",
       "  <li><b>Dashboard: </b><a href='http://192.168.155.33:8787/status' target='_blank'>http://192.168.155.33:8787/status</a></li>\n",
       "</ul>\n",
       "</td>\n",
       "<td style=\"vertical-align: top; border: 0px solid white\">\n",
       "<h3 style=\"text-align: left;\">Cluster</h3>\n",
       "<ul style=\"text-align: left; list-style:none; margin: 0; padding: 0;\">\n",
       "  <li><b>Workers: </b>8</li>\n",
       "  <li><b>Cores: </b>64</li>\n",
       "  <li><b>Memory: </b>810.22 GB</li>\n",
       "</ul>\n",
       "</td>\n",
       "</tr>\n",
       "</table>"
      ],
      "text/plain": [
       "<Client: 'tcp://192.168.155.33:38367' processes=8 threads=64, memory=810.22 GB>"
      ]
     },
     "execution_count": 6,
     "metadata": {},
     "output_type": "execute_result"
    }
   ],
   "source": [
    "client"
   ]
  },
  {
   "cell_type": "markdown",
   "id": "eccf2ddd",
   "metadata": {},
   "source": [
    "## GEOS-FP"
   ]
  },
  {
   "cell_type": "code",
   "execution_count": 7,
   "id": "f557b7f2",
   "metadata": {
    "ExecuteTime": {
     "end_time": "2022-01-25T11:17:06.496940Z",
     "start_time": "2022-01-25T11:17:04.387612Z"
    }
   },
   "outputs": [],
   "source": [
    "infiles = f'{data_dir}/geos-fp/geos5_subset*.nc'\n",
    "ds_geos = xr.open_mfdataset(\n",
    "    infiles,\n",
    "    combine='nested',\n",
    "    concat_dim = 'time',\n",
    "    parallel = True,\n",
    ")"
   ]
  },
  {
   "cell_type": "code",
   "execution_count": 8,
   "id": "72347ed5",
   "metadata": {
    "ExecuteTime": {
     "end_time": "2022-01-25T11:17:06.550302Z",
     "start_time": "2022-01-25T11:17:06.499008Z"
    }
   },
   "outputs": [
    {
     "name": "stderr",
     "output_type": "stream",
     "text": [
      "/home/ap1_12/.conda/envs/nwp-py3/lib/python3.6/site-packages/xarray/core/indexing.py:1369: PerformanceWarning: Slicing is producing a large chunk. To accept the large\n",
      "chunk and silence this warning, set the option\n",
      "    >>> with dask.config.set(**{'array.slicing.split_large_chunks': False}):\n",
      "    ...     array[indexer]\n",
      "\n",
      "To avoid creating the large chunks, set the option\n",
      "    >>> with dask.config.set(**{'array.slicing.split_large_chunks': True}):\n",
      "    ...     array[indexer]\n",
      "  return self.array[key]\n",
      "/home/ap1_12/.conda/envs/nwp-py3/lib/python3.6/site-packages/xarray/core/indexing.py:1369: PerformanceWarning: Slicing is producing a large chunk. To accept the large\n",
      "chunk and silence this warning, set the option\n",
      "    >>> with dask.config.set(**{'array.slicing.split_large_chunks': False}):\n",
      "    ...     array[indexer]\n",
      "\n",
      "To avoid creating the large chunks, set the option\n",
      "    >>> with dask.config.set(**{'array.slicing.split_large_chunks': True}):\n",
      "    ...     array[indexer]\n",
      "  return self.array[key]\n",
      "/home/ap1_12/.conda/envs/nwp-py3/lib/python3.6/site-packages/xarray/core/indexing.py:1369: PerformanceWarning: Slicing is producing a large chunk. To accept the large\n",
      "chunk and silence this warning, set the option\n",
      "    >>> with dask.config.set(**{'array.slicing.split_large_chunks': False}):\n",
      "    ...     array[indexer]\n",
      "\n",
      "To avoid creating the large chunks, set the option\n",
      "    >>> with dask.config.set(**{'array.slicing.split_large_chunks': True}):\n",
      "    ...     array[indexer]\n",
      "  return self.array[key]\n",
      "/home/ap1_12/.conda/envs/nwp-py3/lib/python3.6/site-packages/xarray/core/indexing.py:1369: PerformanceWarning: Slicing is producing a large chunk. To accept the large\n",
      "chunk and silence this warning, set the option\n",
      "    >>> with dask.config.set(**{'array.slicing.split_large_chunks': False}):\n",
      "    ...     array[indexer]\n",
      "\n",
      "To avoid creating the large chunks, set the option\n",
      "    >>> with dask.config.set(**{'array.slicing.split_large_chunks': True}):\n",
      "    ...     array[indexer]\n",
      "  return self.array[key]\n"
     ]
    }
   ],
   "source": [
    "wrong_idx = [300, 250, 200, 150]\n",
    "for i in wrong_idx:\n",
    "    ds_geos = ds_geos.where(ds_geos.lev != i, drop=True )"
   ]
  },
  {
   "cell_type": "markdown",
   "id": "a11cb343",
   "metadata": {},
   "source": [
    "## ERA5"
   ]
  },
  {
   "cell_type": "code",
   "execution_count": 9,
   "id": "7153d13a",
   "metadata": {
    "ExecuteTime": {
     "end_time": "2022-01-25T11:17:40.361400Z",
     "start_time": "2022-01-25T11:17:06.551799Z"
    }
   },
   "outputs": [],
   "source": [
    "infiles = f'{data_dir}ERA5/*.grib'\n",
    "ds_era5 = xr.open_mfdataset(\n",
    "    infiles,\n",
    "    engine='cfgrib',\n",
    "    combine='nested',\n",
    "    concat_dim = 'time',\n",
    "    parallel = True,\n",
    ")"
   ]
  },
  {
   "cell_type": "markdown",
   "id": "5299d7dd",
   "metadata": {},
   "source": [
    "## ICON"
   ]
  },
  {
   "cell_type": "code",
   "execution_count": 10,
   "id": "2092e55a",
   "metadata": {
    "ExecuteTime": {
     "end_time": "2022-01-25T11:17:51.913767Z",
     "start_time": "2022-01-25T11:17:40.365926Z"
    }
   },
   "outputs": [],
   "source": [
    "filter_by_keys={'typeOfLevel': 'isobaricInhPa'}\n",
    "infiles = f'{data_dir}dwd/analysis_new/igar??????????'\n",
    "ds_icon = xr.open_mfdataset(\n",
    "    infiles,\n",
    "    engine='cfgrib',\n",
    "    combine='nested',\n",
    "    concat_dim = 'time',\n",
    "    parallel = True,\n",
    "    backend_kwargs={'filter_by_keys': filter_by_keys},\n",
    ")"
   ]
  },
  {
   "cell_type": "markdown",
   "id": "fa7743e9",
   "metadata": {},
   "source": [
    "## Define markant time points"
   ]
  },
  {
   "cell_type": "code",
   "execution_count": 11,
   "id": "0611cd3f",
   "metadata": {
    "ExecuteTime": {
     "end_time": "2022-01-25T11:17:51.918877Z",
     "start_time": "2022-01-25T11:17:51.915756Z"
    }
   },
   "outputs": [],
   "source": [
    "tt_SSW = np.datetime64('2021-01-04T18')\n",
    "tt_GWF = np.datetime64('2020-12-26T00')"
   ]
  },
  {
   "cell_type": "markdown",
   "id": "60e266b2",
   "metadata": {},
   "source": [
    "### Wind Profiles"
   ]
  },
  {
   "cell_type": "code",
   "execution_count": null,
   "id": "fd96a17a",
   "metadata": {
    "ExecuteTime": {
     "end_time": "2022-01-24T17:55:38.969455Z",
     "start_time": "2022-01-24T17:55:38.743129Z"
    },
    "scrolled": false
   },
   "outputs": [],
   "source": [
    "p = ds_icon['u'].sel(\n",
    "    isobaricInhPa=10,\n",
    "    latitude = 60,\n",
    "    method = 'nearest'\n",
    ").mean('longitude').plot(x = 'time', label = 'ICON', lw = 3)\n",
    "\n",
    "ax = p[0].axes\n",
    "\n",
    "ds_era5['u'].sel(\n",
    "    isobaricInhPa=10,\n",
    "    latitude = 60,\n",
    "    method = 'nearest'\n",
    ").mean('longitude').plot(x = 'time', ax = ax, label = 'ERA5', alpha = 0.7)\n",
    "\n",
    "\n",
    "ds_geos['u'].sel(\n",
    "    lev=10,\n",
    "    lat = 60,\n",
    ").mean('lon').plot(x = 'time', ax = ax, label = 'GEOS-FP', alpha = 0.5)\n",
    "\n",
    "ax.legend()\n",
    "ax.grid()"
   ]
  },
  {
   "cell_type": "code",
   "execution_count": null,
   "id": "3dda8d40",
   "metadata": {
    "ExecuteTime": {
     "end_time": "2022-01-25T03:48:40.230946Z",
     "start_time": "2022-01-25T03:47:54.159560Z"
    }
   },
   "outputs": [],
   "source": [
    "var = 't'\n",
    "p_level = 10\n",
    "\n",
    "x_i = (ds_icon[var].sel(\n",
    "    isobaricInhPa=p_level,\n",
    "    latitude = 60,\n",
    ").mean('longitude') - 273.15).compute()\n",
    "x_i = x_i.rename('tc')\n",
    "\n",
    "x_e = (ds_era5[var].sel(\n",
    "    isobaricInhPa=p_level,\n",
    "    latitude = 60,\n",
    ").mean('longitude') - 273.15).compute()\n",
    "x_e = x_e.rename('tc')\n",
    "\n",
    "x_g = (ds_geos[var].sel(\n",
    "    lev=p_level,\n",
    "    lat = 60,\n",
    ").mean('lon') - 273.15).compute() \n",
    "x_g = x_g.rename('tc')"
   ]
  },
  {
   "cell_type": "code",
   "execution_count": null,
   "id": "375a0dbc",
   "metadata": {},
   "outputs": [],
   "source": []
  },
  {
   "cell_type": "code",
   "execution_count": null,
   "id": "2914ad99",
   "metadata": {
    "ExecuteTime": {
     "end_time": "2022-01-25T03:49:34.504419Z",
     "start_time": "2022-01-25T03:49:34.172231Z"
    },
    "scrolled": false
   },
   "outputs": [],
   "source": [
    "fig, ax = plt.subplots(figsize=(12,7), constrained_layout=True)\n",
    "\n",
    "\n",
    "ax.plot(x_i.time, x_i,\n",
    "        label = 'ICON', lw = 3)\n",
    "\n",
    "ax.plot(x_e.time, x_e,\n",
    "        label = 'ERA5', alpha = 0.5)\n",
    "\n",
    "ax.plot(x_g.time, x_g,\n",
    "        label = 'GEOS_FP', alpha = 0.5)\n",
    "\n",
    "\n",
    "ax.axvline(x = tt_SSW, color = 'r', label = 'SSW')\n",
    "ax.axvline(x = tt_GWF, color = 'g', label = 'GWF')\n",
    "\n",
    "\n",
    "ax.grid()\n",
    "ax.legend()\n",
    "\n",
    "for label in ax.xaxis.get_majorticklabels():\n",
    "    label.set_rotation(45)\n",
    "    label.set_ha('right')\n",
    "\n",
    "    \n",
    "#ax.set_xlabel('time')\n",
    "ax.set_ylabel(r'$\\overline{T} \\,\\,\\,\\,$' + r'$[^\\circ C]$')\n",
    "ax.set_title('Zonal Mean Temperature: 10hPa | 60°N ')\n",
    "\n",
    "\n",
    "pass"
   ]
  },
  {
   "cell_type": "code",
   "execution_count": null,
   "id": "03576833",
   "metadata": {
    "ExecuteTime": {
     "end_time": "2022-01-24T17:13:22.168068Z",
     "start_time": "2022-01-24T17:09:32.340854Z"
    }
   },
   "outputs": [],
   "source": [
    "var = 'u'\n",
    "x2_i = ds_icon[var].sel(\n",
    "    #isobaricInhPa = 10,\n",
    "    latitude = 60,\n",
    ").mean('longitude').compute()"
   ]
  },
  {
   "cell_type": "code",
   "execution_count": null,
   "id": "80a3ac1a",
   "metadata": {
    "ExecuteTime": {
     "end_time": "2022-01-25T03:19:23.128361Z",
     "start_time": "2022-01-25T03:16:33.400425Z"
    }
   },
   "outputs": [],
   "source": [
    "var = 'u'\n",
    "x2_e = ds_era5[var].sel(\n",
    "    #isobaricInhPa=10,\n",
    "    latitude = 60,\n",
    ").mean('longitude').compute()"
   ]
  },
  {
   "cell_type": "code",
   "execution_count": null,
   "id": "260826da",
   "metadata": {
    "ExecuteTime": {
     "end_time": "2022-01-24T17:55:52.449534Z",
     "start_time": "2022-01-24T17:55:46.509287Z"
    }
   },
   "outputs": [],
   "source": [
    "var = 'u'\n",
    "x2_g = ds_geos[var].sel(\n",
    "    #lev=10,\n",
    "    lat = 60,\n",
    ").mean('lon').compute()"
   ]
  },
  {
   "cell_type": "code",
   "execution_count": null,
   "id": "8aaf975b",
   "metadata": {
    "ExecuteTime": {
     "end_time": "2022-01-25T03:19:24.286429Z",
     "start_time": "2022-01-25T03:19:23.133085Z"
    }
   },
   "outputs": [],
   "source": [
    "plot_time_profile_xr(x2_e, dataset_e,  mode='meridional', average=False,\n",
    "                    norm_bound=None, norm_type = 'diverging', \n",
    "                    cmap = plt.cm.PuOr, levels=20,\n",
    "                    save=False, title = 'ERA5: Zonal Mean Zonal Wind \\n 60°N')"
   ]
  },
  {
   "cell_type": "code",
   "execution_count": null,
   "id": "04265ba3",
   "metadata": {
    "ExecuteTime": {
     "end_time": "2022-01-25T03:38:56.952592Z",
     "start_time": "2022-01-25T03:35:57.586294Z"
    }
   },
   "outputs": [],
   "source": [
    "var = 't'\n",
    "x2_e = (ds_era5[var].sel(\n",
    "    #isobaricInhPa=10,\n",
    "    latitude = 60,\n",
    ").mean('longitude') - 273.15).compute()\n",
    "\n",
    "x2_e = x2_e.rename('tc')"
   ]
  },
  {
   "cell_type": "code",
   "execution_count": null,
   "id": "c5f8983a",
   "metadata": {
    "ExecuteTime": {
     "end_time": "2022-01-25T03:39:27.798211Z",
     "start_time": "2022-01-25T03:39:27.785296Z"
    }
   },
   "outputs": [],
   "source": [
    "x2_e.min(), x2_e.max()"
   ]
  },
  {
   "cell_type": "code",
   "execution_count": null,
   "id": "c63e3ceb",
   "metadata": {
    "ExecuteTime": {
     "end_time": "2022-01-25T03:42:31.938040Z",
     "start_time": "2022-01-25T03:42:31.199072Z"
    }
   },
   "outputs": [],
   "source": [
    "plot_time_profile_xr(x2_e, dataset_e,  mode='meridional', average=False,\n",
    "                    norm_bound=None, norm_type = 'linear', \n",
    "                    cmap = plt.cm.Blues_r, levels=20,\n",
    "                    save=False, title = 'ERA5: Zonal Mean Temperature \\n 60°N')"
   ]
  },
  {
   "cell_type": "code",
   "execution_count": null,
   "id": "c560a504",
   "metadata": {
    "ExecuteTime": {
     "end_time": "2022-01-25T03:35:28.767224Z",
     "start_time": "2022-01-25T03:35:28.728008Z"
    }
   },
   "outputs": [],
   "source": [
    "x2_e"
   ]
  },
  {
   "cell_type": "code",
   "execution_count": null,
   "id": "b1965c6e",
   "metadata": {},
   "outputs": [],
   "source": []
  },
  {
   "cell_type": "markdown",
   "id": "e882f500",
   "metadata": {},
   "source": [
    "# EP Flux "
   ]
  },
  {
   "cell_type": "markdown",
   "id": "2b1a59f6",
   "metadata": {},
   "source": [
    "### Compote EP Eddy Heat"
   ]
  },
  {
   "cell_type": "markdown",
   "id": "25ce48ed",
   "metadata": {
    "ExecuteTime": {
     "end_time": "2022-01-23T16:23:47.860398Z",
     "start_time": "2022-01-23T16:23:47.814738Z"
    }
   },
   "source": [
    "#### icon ~3 min"
   ]
  },
  {
   "cell_type": "code",
   "execution_count": 12,
   "id": "a22bcaa3",
   "metadata": {
    "ExecuteTime": {
     "end_time": "2022-01-25T11:21:07.703969Z",
     "start_time": "2022-01-25T11:17:51.924165Z"
    }
   },
   "outputs": [],
   "source": [
    "data_i = ds_icon.sel(\n",
    "    **{coord_info.get(dataset_i).get('p'): slice(350, 1)},\n",
    "    **{coord_info.get(dataset_i).get('lat'): slice(45, 75)}\n",
    "       ).load()"
   ]
  },
  {
   "cell_type": "code",
   "execution_count": 13,
   "id": "8d200aed",
   "metadata": {
    "ExecuteTime": {
     "end_time": "2022-01-25T11:21:16.808699Z",
     "start_time": "2022-01-25T11:21:07.706610Z"
    }
   },
   "outputs": [],
   "source": [
    "ep1_i, ep2_i, ep1_div_i, ep2_div_i = climate.ComputeEPfluxDivXr(data_i['u'], data_i['v'], data_i['t'],\n",
    "                lat=coord_info.get(dataset_i).get('lat'), lon=coord_info.get(dataset_i).get('lon'),\n",
    "                pres=coord_info.get(dataset_i).get('p'), time=coord_info.get(dataset_i).get('time') )\n",
    "\n",
    "ep_div_i = ep1_div_i + ep2_div_i\n",
    "\n",
    "ep1_i.name = 'EP1'\n",
    "ep2_i.name = 'EP2'\n",
    "ep1_div_i.name = 'EP1_div'\n",
    "ep2_div_i.name = 'EP2_div'\n",
    "ep_div_i.name = 'EP_div'"
   ]
  },
  {
   "cell_type": "code",
   "execution_count": 14,
   "id": "b2181b36",
   "metadata": {
    "ExecuteTime": {
     "end_time": "2022-01-25T11:21:16.823266Z",
     "start_time": "2022-01-25T11:21:16.810209Z"
    }
   },
   "outputs": [],
   "source": [
    "ep2_i_w = ep2_i\n",
    "coslat_weights = np.cos(np.deg2rad(ep2_i_w[coord_info.get(dataset_i).get('lat')]))\n",
    "coslat_weights.name = \"weights\"\n",
    "ep2_i_w = ep2_i_w.weighted(coslat_weights)\n",
    "ep2_i_w = ep2_i_w.mean(dim = coord_info.get(dataset_i).get('lat'))"
   ]
  },
  {
   "cell_type": "code",
   "execution_count": 15,
   "id": "0e968621",
   "metadata": {
    "ExecuteTime": {
     "end_time": "2022-01-25T11:21:16.837484Z",
     "start_time": "2022-01-25T11:21:16.825143Z"
    }
   },
   "outputs": [],
   "source": [
    "ep1_i_w = ep1_i\n",
    "coslat_weights = np.cos(np.deg2rad(ep1_i_w[coord_info.get(dataset_i).get('lat')]))\n",
    "coslat_weights.name = \"weights\"\n",
    "ep1_i_w = ep1_i_w.weighted(coslat_weights)\n",
    "ep1_i_w = ep1_i_w.mean(dim = coord_info.get(dataset_i).get('lat'))"
   ]
  },
  {
   "cell_type": "code",
   "execution_count": 16,
   "id": "b1f70403",
   "metadata": {
    "ExecuteTime": {
     "end_time": "2022-01-25T11:21:16.850215Z",
     "start_time": "2022-01-25T11:21:16.838874Z"
    }
   },
   "outputs": [],
   "source": [
    "ep1_div_i_w = ep1_div_i\n",
    "coslat_weights = np.cos(np.deg2rad(ep1_div_i_w[coord_info.get(dataset_i).get('lat')]))\n",
    "coslat_weights.name = \"weights\"\n",
    "ep1_div_i_w = ep1_div_i_w.weighted(coslat_weights)\n",
    "ep1_div_i_w = ep1_div_i_w.mean(dim = coord_info.get(dataset_i).get('lat'))"
   ]
  },
  {
   "cell_type": "code",
   "execution_count": 17,
   "id": "d3a47a42",
   "metadata": {
    "ExecuteTime": {
     "end_time": "2022-01-25T11:21:16.863798Z",
     "start_time": "2022-01-25T11:21:16.851659Z"
    }
   },
   "outputs": [],
   "source": [
    "ep2_div_i_w = ep2_div_i\n",
    "coslat_weights = np.cos(np.deg2rad(ep2_div_i_w[coord_info.get(dataset_i).get('lat')]))\n",
    "coslat_weights.name = \"weights\"\n",
    "ep2_div_i_w = ep2_div_i_w.weighted(coslat_weights)\n",
    "ep2_div_i_w = ep2_div_i_w.mean(dim = coord_info.get(dataset_i).get('lat'))"
   ]
  },
  {
   "cell_type": "code",
   "execution_count": 18,
   "id": "67d82505",
   "metadata": {
    "ExecuteTime": {
     "end_time": "2022-01-25T11:21:16.877678Z",
     "start_time": "2022-01-25T11:21:16.865209Z"
    }
   },
   "outputs": [],
   "source": [
    "ep_div_i_w = ep_div_i\n",
    "coslat_weights = np.cos(np.deg2rad(ep_div_i_w[coord_info.get(dataset_i).get('lat')]))\n",
    "coslat_weights.name = \"weights\"\n",
    "ep_div_i_w = ep_div_i_w.weighted(coslat_weights)\n",
    "ep_div_i_w = ep_div_i_w.mean(dim = coord_info.get(dataset_i).get('lat'))"
   ]
  },
  {
   "cell_type": "markdown",
   "id": "5619d27b",
   "metadata": {},
   "source": [
    "#### era5 ~5 min"
   ]
  },
  {
   "cell_type": "code",
   "execution_count": 19,
   "id": "aebc6eb3",
   "metadata": {
    "ExecuteTime": {
     "end_time": "2022-01-25T11:27:20.215676Z",
     "start_time": "2022-01-25T11:21:16.878934Z"
    }
   },
   "outputs": [],
   "source": [
    "data_e = ds_era5.sel(\n",
    "    **{coord_info.get(dataset_e).get('p'): slice(350, 1)},\n",
    "    **{coord_info.get(dataset_e).get('lat'): slice(75, 45)}\n",
    "       ).load()"
   ]
  },
  {
   "cell_type": "code",
   "execution_count": 20,
   "id": "33d105db",
   "metadata": {
    "ExecuteTime": {
     "end_time": "2022-01-25T11:27:45.314434Z",
     "start_time": "2022-01-25T11:27:20.219299Z"
    }
   },
   "outputs": [],
   "source": [
    "ep1_e, ep2_e, ep1_div_e, ep2_div_e = climate.ComputeEPfluxDivXr(data_e['u'], data_e['v'], data_e['t'],\n",
    "                lat=coord_info.get(dataset_e).get('lat'), lon=coord_info.get(dataset_e).get('lon'),\n",
    "                pres=coord_info.get(dataset_e).get('p'), time=coord_info.get(dataset_e).get('time') )\n",
    "\n",
    "ep_div_e = ep1_div_e + ep2_div_e\n",
    "\n",
    "ep1_e.name = 'EP1'\n",
    "ep2_e.name = 'EP2'\n",
    "ep1_div_e.name = 'EP1_div'\n",
    "ep2_div_e.name = 'EP2_div'\n",
    "ep_div_e.name = 'EP_div'"
   ]
  },
  {
   "cell_type": "code",
   "execution_count": 21,
   "id": "e742ccc7",
   "metadata": {
    "ExecuteTime": {
     "end_time": "2022-01-25T11:27:45.330655Z",
     "start_time": "2022-01-25T11:27:45.316106Z"
    }
   },
   "outputs": [],
   "source": [
    "ep2_e_w = ep2_e\n",
    "coslat_weights = np.cos(np.deg2rad(ep2_e_w[coord_info.get(dataset_e).get('lat')]))\n",
    "coslat_weights.name = \"weights\"\n",
    "ep2_e_w = ep2_e_w.weighted(coslat_weights)\n",
    "ep2_e_w = ep2_e_w.mean(dim = coord_info.get(dataset_e).get('lat'))"
   ]
  },
  {
   "cell_type": "code",
   "execution_count": 22,
   "id": "8ad4ee53",
   "metadata": {
    "ExecuteTime": {
     "end_time": "2022-01-25T11:27:45.345872Z",
     "start_time": "2022-01-25T11:27:45.332039Z"
    }
   },
   "outputs": [],
   "source": [
    "ep1_e_w = ep1_e\n",
    "coslat_weights = np.cos(np.deg2rad(ep1_e_w[coord_info.get(dataset_e).get('lat')]))\n",
    "coslat_weights.name = \"weights\"\n",
    "ep1_e_w = ep1_e_w.weighted(coslat_weights)\n",
    "ep1_e_w = ep1_e_w.mean(dim = coord_info.get(dataset_e).get('lat'))"
   ]
  },
  {
   "cell_type": "code",
   "execution_count": 23,
   "id": "41550b7b",
   "metadata": {
    "ExecuteTime": {
     "end_time": "2022-01-25T11:27:45.360695Z",
     "start_time": "2022-01-25T11:27:45.347110Z"
    }
   },
   "outputs": [],
   "source": [
    "ep1_div_e_w = ep1_div_e\n",
    "coslat_weights = np.cos(np.deg2rad(ep1_div_e_w[coord_info.get(dataset_e).get('lat')]))\n",
    "coslat_weights.name = \"weights\"\n",
    "ep1_div_e_w = ep1_div_e_w.weighted(coslat_weights)\n",
    "ep1_div_e_w = ep1_div_e_w.mean(dim = coord_info.get(dataset_e).get('lat'))"
   ]
  },
  {
   "cell_type": "code",
   "execution_count": 24,
   "id": "4bacafc3",
   "metadata": {
    "ExecuteTime": {
     "end_time": "2022-01-25T11:27:45.386613Z",
     "start_time": "2022-01-25T11:27:45.373627Z"
    }
   },
   "outputs": [],
   "source": [
    "ep2_div_e_w = ep2_div_e\n",
    "coslat_weights = np.cos(np.deg2rad(ep2_div_e_w[coord_info.get(dataset_e).get('lat')]))\n",
    "coslat_weights.name = \"weights\"\n",
    "ep2_div_e_w = ep2_div_e_w.weighted(coslat_weights)\n",
    "ep2_div_e_w = ep2_div_e_w.mean(dim = coord_info.get(dataset_e).get('lat'))"
   ]
  },
  {
   "cell_type": "code",
   "execution_count": 25,
   "id": "927faada",
   "metadata": {
    "ExecuteTime": {
     "end_time": "2022-01-25T11:27:45.402369Z",
     "start_time": "2022-01-25T11:27:45.388549Z"
    }
   },
   "outputs": [],
   "source": [
    "ep_div_e_w = ep_div_e\n",
    "coslat_weights = np.cos(np.deg2rad(ep_div_e_w[coord_info.get(dataset_e).get('lat')]))\n",
    "coslat_weights.name = \"weights\"\n",
    "ep_div_e_w = ep_div_e_w.weighted(coslat_weights)\n",
    "ep_div_e_w = ep_div_e_w.mean(dim = coord_info.get(dataset_e).get('lat'))"
   ]
  },
  {
   "cell_type": "markdown",
   "id": "a3747cba",
   "metadata": {},
   "source": [
    "#### geos ~1 min"
   ]
  },
  {
   "cell_type": "code",
   "execution_count": 26,
   "id": "96ab783f",
   "metadata": {
    "ExecuteTime": {
     "end_time": "2022-01-25T11:28:05.019567Z",
     "start_time": "2022-01-25T11:27:45.403737Z"
    }
   },
   "outputs": [],
   "source": [
    "data_g = ds_geos.sel(\n",
    "    **{coord_info.get(dataset_g).get('p'): slice(350, 1)},\n",
    "    **{coord_info.get(dataset_g).get('lat'): slice(45, 75)}\n",
    "       ).load()"
   ]
  },
  {
   "cell_type": "code",
   "execution_count": 27,
   "id": "6e763392",
   "metadata": {
    "ExecuteTime": {
     "end_time": "2022-01-25T11:28:10.013788Z",
     "start_time": "2022-01-25T11:28:05.021041Z"
    }
   },
   "outputs": [],
   "source": [
    "ep1_g, ep2_g, ep1_div_g, ep2_div_g = climate.ComputeEPfluxDivXr(data_g['u'], data_g['v'], data_g['t'],\n",
    "                lat=coord_info.get(dataset_g).get('lat'), lon=coord_info.get(dataset_g).get('lon'),\n",
    "                pres=coord_info.get(dataset_g).get('p'), time=coord_info.get(dataset_g).get('time') )\n",
    "\n",
    "ep_div_g = ep1_div_g + ep2_div_g\n",
    "\n",
    "ep1_g.name = 'EP1'\n",
    "ep2_g.name = 'EP2'\n",
    "ep1_div_g.name = 'EP1_div'\n",
    "ep2_div_g.name = 'EP2_div'\n",
    "ep_div_g.name = 'EP_div'"
   ]
  },
  {
   "cell_type": "code",
   "execution_count": 28,
   "id": "47cd77fc",
   "metadata": {
    "ExecuteTime": {
     "end_time": "2022-01-25T11:28:10.024385Z",
     "start_time": "2022-01-25T11:28:10.015424Z"
    }
   },
   "outputs": [],
   "source": [
    "ep2_g_w = ep2_g\n",
    "coslat_weights = np.cos(np.deg2rad(ep2_g_w[coord_info.get(dataset_g).get('lat')]))\n",
    "coslat_weights.name = \"weights\"\n",
    "ep2_g_w = ep2_g_w.weighted(coslat_weights)\n",
    "ep2_g_w = ep2_g_w.mean(dim = coord_info.get(dataset_g).get('lat'))"
   ]
  },
  {
   "cell_type": "code",
   "execution_count": 29,
   "id": "e84b15b1",
   "metadata": {
    "ExecuteTime": {
     "end_time": "2022-01-25T11:28:10.034833Z",
     "start_time": "2022-01-25T11:28:10.025560Z"
    }
   },
   "outputs": [],
   "source": [
    "ep1_g_w = ep1_g\n",
    "coslat_weights = np.cos(np.deg2rad(ep1_g_w[coord_info.get(dataset_g).get('lat')]))\n",
    "coslat_weights.name = \"weights\"\n",
    "ep1_g_w = ep1_g_w.weighted(coslat_weights)\n",
    "ep1_g_w = ep1_g_w.mean(dim = coord_info.get(dataset_g).get('lat'))"
   ]
  },
  {
   "cell_type": "code",
   "execution_count": 30,
   "id": "115c86df",
   "metadata": {
    "ExecuteTime": {
     "end_time": "2022-01-25T11:28:10.044715Z",
     "start_time": "2022-01-25T11:28:10.036001Z"
    }
   },
   "outputs": [],
   "source": [
    "ep1_div_g_w = ep1_div_g\n",
    "coslat_weights = np.cos(np.deg2rad(ep1_div_g_w[coord_info.get(dataset_g).get('lat')]))\n",
    "coslat_weights.name = \"weights\"\n",
    "ep1_div_g_w = ep1_div_g_w.weighted(coslat_weights)\n",
    "ep1_div_g_w = ep1_div_g_w.mean(dim = coord_info.get(dataset_g).get('lat'))"
   ]
  },
  {
   "cell_type": "code",
   "execution_count": 31,
   "id": "a27c6876",
   "metadata": {
    "ExecuteTime": {
     "end_time": "2022-01-25T11:28:10.055700Z",
     "start_time": "2022-01-25T11:28:10.046280Z"
    }
   },
   "outputs": [],
   "source": [
    "ep2_div_g_w = ep2_div_g\n",
    "coslat_weights = np.cos(np.deg2rad(ep2_div_g_w[coord_info.get(dataset_g).get('lat')]))\n",
    "coslat_weights.name = \"weights\"\n",
    "ep2_div_g_w = ep2_div_g_w.weighted(coslat_weights)\n",
    "ep2_div_g_w = ep2_div_g_w.mean(dim = coord_info.get(dataset_g).get('lat'))"
   ]
  },
  {
   "cell_type": "code",
   "execution_count": 32,
   "id": "3a77ec83",
   "metadata": {
    "ExecuteTime": {
     "end_time": "2022-01-25T11:28:10.065537Z",
     "start_time": "2022-01-25T11:28:10.056962Z"
    }
   },
   "outputs": [],
   "source": [
    "ep_div_g_w = ep_div_g\n",
    "coslat_weights = np.cos(np.deg2rad(ep_div_g_w[coord_info.get(dataset_g).get('lat')]))\n",
    "coslat_weights.name = \"weights\"\n",
    "ep_div_g_w = ep_div_g_w.weighted(coslat_weights)\n",
    "ep_div_g_w = ep_div_g_w.mean(dim = coord_info.get(dataset_g).get('lat'))"
   ]
  },
  {
   "cell_type": "markdown",
   "id": "87fecada",
   "metadata": {
    "ExecuteTime": {
     "end_time": "2022-01-24T00:24:11.944950Z",
     "start_time": "2022-01-24T00:24:11.905663Z"
    }
   },
   "source": [
    "### plotting"
   ]
  },
  {
   "cell_type": "code",
   "execution_count": 41,
   "id": "3f5cfc99",
   "metadata": {
    "ExecuteTime": {
     "end_time": "2022-01-25T11:35:52.332987Z",
     "start_time": "2022-01-25T11:35:52.327773Z"
    }
   },
   "outputs": [],
   "source": [
    "p_level = 10"
   ]
  },
  {
   "cell_type": "code",
   "execution_count": 45,
   "id": "fb5f2b20",
   "metadata": {
    "ExecuteTime": {
     "end_time": "2022-01-25T11:36:22.641296Z",
     "start_time": "2022-01-25T11:36:22.316719Z"
    }
   },
   "outputs": [
    {
     "data": {
      "image/png": "[encoded data removed]",
      "text/plain": [
       "<Figure size 864x504 with 1 Axes>"
      ]
     },
     "metadata": {
      "needs_background": "light"
     },
     "output_type": "display_data"
    }
   ],
   "source": [
    "fig, ax = plt.subplots(figsize=(12,7), constrained_layout=True)\n",
    "\n",
    "ax.plot(ep2_i_w.time,\n",
    "        ep2_i_w.sel(**{coord_info.get(dataset_i).get('p'): p_level}),\n",
    "        label = 'ICON', lw = 3)\n",
    "\n",
    "ax.plot(ep2_e_w.time,\n",
    "        ep2_e_w.sel(**{coord_info.get(dataset_e).get('p'): p_level}),\n",
    "        label = 'ERA5', alpha = 0.5)\n",
    "\n",
    "ax.plot(ep2_g_w.time,\n",
    "        ep2_g_w.sel(**{coord_info.get(dataset_g).get('p'): p_level}),\n",
    "        label = 'GEOS_FP', alpha = 0.5)\n",
    "\n",
    "\n",
    "ax.axvline(x = tt_SSW, color = 'r', label = 'SSW')\n",
    "ax.axvline(x = tt_GWF, color = 'g', label = 'GWF')\n",
    "\n",
    "ax.grid()\n",
    "ax.legend()\n",
    "\n",
    "for label in ax.xaxis.get_majorticklabels():\n",
    "    label.set_rotation(45)\n",
    "    label.set_ha('right')\n",
    "\n",
    "    \n",
    "#ax.set_xlabel('time')\n",
    "ax.set_ylabel(r'$F_v \\,\\,\\,\\,$' + r'$[\\frac{m}{s \\, d}]$')\n",
    "ax.set_title('vertical EP Flux: 10hPa | 45-75°N area weighted')\n",
    "\n",
    "pass"
   ]
  },
  {
   "cell_type": "raw",
   "id": "b781c87f",
   "metadata": {
    "ExecuteTime": {
     "end_time": "2022-01-24T10:44:35.189785Z",
     "start_time": "2022-01-24T10:44:35.153527Z"
    }
   },
   "source": [
    "eddy_heat_i.time"
   ]
  },
  {
   "cell_type": "code",
   "execution_count": 43,
   "id": "414cf881",
   "metadata": {
    "ExecuteTime": {
     "end_time": "2022-01-25T11:35:58.222484Z",
     "start_time": "2022-01-25T11:35:57.906107Z"
    }
   },
   "outputs": [
    {
     "data": {
      "image/png": "[encoded data removed]",
      "text/plain": [
       "<Figure size 864x504 with 1 Axes>"
      ]
     },
     "metadata": {
      "needs_background": "light"
     },
     "output_type": "display_data"
    }
   ],
   "source": [
    "fig, ax = plt.subplots(figsize=(12,7), constrained_layout=True)\n",
    "\n",
    "ax.plot(ep1_i_w.time,\n",
    "        ep1_i_w.sel(**{coord_info.get(dataset_i).get('p'): p_level}),\n",
    "        label = 'ICON', lw = 3)\n",
    "\n",
    "ax.plot(ep1_e_w.time,\n",
    "        ep1_e_w.sel(**{coord_info.get(dataset_e).get('p'): p_level}),\n",
    "        label = 'ERA5', alpha = 0.5)\n",
    "\n",
    "ax.plot(ep1_g_w.time,\n",
    "        ep1_g_w.sel(**{coord_info.get(dataset_g).get('p'): p_level}),\n",
    "        label = 'GEOS_FP', alpha = 0.5)\n",
    "\n",
    "\n",
    "ax.axvline(x = tt_SSW, color = 'r', label = 'SSW')\n",
    "ax.axvline(x = tt_GWF, color = 'g', label = 'GWF')\n",
    "\n",
    "ax.grid()\n",
    "ax.legend()\n",
    "\n",
    "for label in ax.xaxis.get_majorticklabels():\n",
    "    label.set_rotation(45)\n",
    "    label.set_ha('right')\n",
    "\n",
    "    \n",
    "#ax.set_xlabel('time')\n",
    "ax.set_ylabel(r'$F_m \\,\\,\\,\\,$' + r'$[\\frac{m}{s \\, d}]$')\n",
    "ax.set_title('meridional EP Flux: 10hPa | 45-75°N area weighted')\n",
    "\n",
    "pass"
   ]
  },
  {
   "cell_type": "code",
   "execution_count": 44,
   "id": "85d692e4",
   "metadata": {
    "ExecuteTime": {
     "end_time": "2022-01-25T11:36:03.410795Z",
     "start_time": "2022-01-25T11:36:03.038695Z"
    }
   },
   "outputs": [
    {
     "data": {
      "image/png": "[encoded data removed]",
      "text/plain": [
       "<Figure size 864x504 with 1 Axes>"
      ]
     },
     "metadata": {
      "needs_background": "light"
     },
     "output_type": "display_data"
    }
   ],
   "source": [
    "fig, ax = plt.subplots(figsize=(12,7), constrained_layout=True)\n",
    "\n",
    "ax.plot(ep1_div_i_w.time,\n",
    "        ep1_div_i_w.sel(**{coord_info.get(dataset_i).get('p'): p_level}),\n",
    "        label = 'ICON', lw = 3)\n",
    "\n",
    "ax.plot(ep1_div_e_w.time,\n",
    "        ep1_div_e_w.sel(**{coord_info.get(dataset_e).get('p'): p_level}),\n",
    "        label = 'ERA5', alpha = 0.5)\n",
    "\n",
    "ax.plot(ep1_div_g_w.time,\n",
    "        ep1_div_g_w.sel(**{coord_info.get(dataset_g).get('p'): p_level}),\n",
    "        label = 'GEOS_FP', alpha = 0.5)\n",
    "\n",
    "\n",
    "ax.axvline(x = tt_SSW, color = 'r', label = 'SSW')\n",
    "ax.axvline(x = tt_GWF, color = 'g', label = 'GWF')\n",
    "\n",
    "ax.grid()\n",
    "ax.legend()\n",
    "\n",
    "for label in ax.xaxis.get_majorticklabels():\n",
    "    label.set_rotation(45)\n",
    "    label.set_ha('right')\n",
    "\n",
    "    \n",
    "#ax.set_xlabel('time')\n",
    "ax.set_ylabel(r'$(\\nabla \\cdot F)_v \\,\\,\\,\\,$' + r'$[\\frac{m}{s \\, d}]$')\n",
    "ax.set_title('vertical EP Flux Div: 10hPa | 45-75°N area weighted')\n",
    "\n",
    "pass"
   ]
  },
  {
   "cell_type": "code",
   "execution_count": null,
   "id": "5f047eaf",
   "metadata": {
    "ExecuteTime": {
     "end_time": "2022-01-25T04:14:41.125243Z",
     "start_time": "2022-01-25T04:14:40.712760Z"
    }
   },
   "outputs": [],
   "source": [
    "fig, ax = plt.subplots(figsize=(12,7), constrained_layout=True)\n",
    "\n",
    "ax.plot(ep2_div_i_w.time,\n",
    "        ep2_div_i_w.sel(**{coord_info.get(dataset_i).get('p'): p_level}),\n",
    "        label = 'ICON', lw = 3)\n",
    "\n",
    "ax.plot(ep2_div_e_w.time,\n",
    "        ep2_div_e_w.sel(**{coord_info.get(dataset_e).get('p'): p_level}),\n",
    "        label = 'ERA5', alpha = 0.5)\n",
    "\n",
    "ax.plot(ep2_div_g_w.time,\n",
    "        ep2_div_g_w.sel(**{coord_info.get(dataset_g).get('p'): p_level}),\n",
    "        label = 'GEOS_FP', alpha = 0.5)\n",
    "\n",
    "\n",
    "ax.axvline(x = tt_SSW, color = 'r', label = 'SSW')\n",
    "ax.axvline(x = tt_GWF, color = 'g', label = 'GWF')\n",
    "\n",
    "ax.grid()\n",
    "ax.legend()\n",
    "\n",
    "for label in ax.xaxis.get_majorticklabels():\n",
    "    label.set_rotation(45)\n",
    "    label.set_ha('right')\n",
    "\n",
    "    \n",
    "#ax.set_xlabel('time')\n",
    "ax.set_ylabel(r'$(\\nabla \\cdot F)_m \\,\\,\\,\\,$' + r'$[\\frac{m}{s \\, d}]$')\n",
    "ax.set_title('meridional EP Flux Div: 10hPa | 45-75°N area weighted')\n",
    "\n",
    "pass"
   ]
  },
  {
   "cell_type": "code",
   "execution_count": null,
   "id": "94cbc0cb",
   "metadata": {
    "ExecuteTime": {
     "end_time": "2022-01-24T19:12:11.650236Z",
     "start_time": "2022-01-24T19:12:11.348237Z"
    }
   },
   "outputs": [],
   "source": [
    "fig, ax = plt.subplots(figsize=(12,7), constrained_layout=True)\n",
    "\n",
    "ax.plot(ep_div_i_w.time,\n",
    "        ep_div_i_w.sel(**{coord_info.get(dataset_i).get('p'): p_level}),\n",
    "        label = 'ICON', lw = 3)\n",
    "\n",
    "ax.plot(ep_div_e_w.time,\n",
    "        ep_div_e_w.sel(**{coord_info.get(dataset_e).get('p'): p_level}),\n",
    "        label = 'ERA5', alpha = 0.5)\n",
    "\n",
    "ax.plot(ep_div_g_w.time,\n",
    "        ep_div_g_w.sel(**{coord_info.get(dataset_g).get('p'): p_level}),\n",
    "        label = 'GEOS_FP', alpha = 0.5)\n",
    "\n",
    "\n",
    "ax.axvline(x = tt_SSW, color = 'r', label = 'SSW')\n",
    "\n",
    "ax.grid()\n",
    "ax.legend()\n",
    "\n",
    "for label in ax.xaxis.get_majorticklabels():\n",
    "    label.set_rotation(45)\n",
    "    label.set_ha('right')\n",
    "\n",
    "    \n",
    "#ax.set_xlabel('time')\n",
    "ax.set_ylabel(r'$(\\nabla \\cdot F)_m + (\\nabla \\cdot F)_v \\,\\,\\,\\,$' + r'$[\\frac{m}{s \\, d}]$')\n",
    "ax.set_title('EP Flux Div: 10hPa | 45-75°N area weighted')\n",
    "\n",
    "pass"
   ]
  },
  {
   "cell_type": "markdown",
   "id": "991579ed",
   "metadata": {},
   "source": [
    "### Time Profiles"
   ]
  },
  {
   "cell_type": "code",
   "execution_count": null,
   "id": "ef3d1f50",
   "metadata": {
    "ExecuteTime": {
     "end_time": "2022-01-24T22:07:05.420135Z",
     "start_time": "2022-01-24T22:07:05.401688Z"
    }
   },
   "outputs": [],
   "source": [
    "p_level_d = 350\n",
    "\n",
    "ep_div_icon_time_60 = ep_div_i.sel(**{coord_info.get(dataset_i).get('lat'): 60},\n",
    "                                 **{coord_info.get(dataset_i).get('p'): slice(p_level_d,1)})\n",
    "ep_div_icon_time_w = ep_div_i_w\n",
    "\n",
    "ep_div_era5_time_60 = ep_div_e.sel(**{coord_info.get(dataset_e).get('lat'): 60},\n",
    "                                 **{coord_info.get(dataset_e).get('p'): slice(p_level_d,1)})\n",
    "ep_div_era5_time_w = ep_div_e_w\n",
    "\n",
    "ep_div_geos_time_60 = ep_div_g.sel(**{coord_info.get(dataset_g).get('lat'): 60},\n",
    "                                 **{coord_info.get(dataset_g).get('p'): slice(p_level_d,1)})\n",
    "ep_div_geos_time_w = ep_div_g_w"
   ]
  },
  {
   "cell_type": "code",
   "execution_count": null,
   "id": "14e1915a",
   "metadata": {
    "ExecuteTime": {
     "end_time": "2022-01-24T22:07:08.153456Z",
     "start_time": "2022-01-24T22:07:08.138815Z"
    }
   },
   "outputs": [],
   "source": [
    "mini = min([ep_div_icon_time_60.min().data, ep_div_icon_time_w.min().data,\n",
    "            ep_div_era5_time_60.min().data, ep_div_era5_time_w.min().data,\n",
    "            ep_div_geos_time_60.min().data, ep_div_geos_time_w.min().data])\n",
    "\n",
    "maxi = max([ep_div_icon_time_60.max().data, ep_div_icon_time_w.max().data,\n",
    "            ep_div_era5_time_60.max().data, ep_div_era5_time_w.max().data,\n",
    "            ep_div_geos_time_60.max().data, ep_div_geos_time_w.max().data])"
   ]
  },
  {
   "cell_type": "code",
   "execution_count": null,
   "id": "c00f8e61",
   "metadata": {
    "ExecuteTime": {
     "end_time": "2022-01-24T22:13:46.643908Z",
     "start_time": "2022-01-24T22:13:46.639095Z"
    }
   },
   "outputs": [],
   "source": [
    "norm_type = 'diverging'\n",
    "#norm_type = 'symlog'\n",
    "linthresh=10. \n",
    "linscale=1.0 \n",
    "base=np.e"
   ]
  },
  {
   "cell_type": "markdown",
   "id": "71943cdf",
   "metadata": {
    "ExecuteTime": {
     "end_time": "2022-01-24T19:19:15.394111Z",
     "start_time": "2022-01-24T19:19:15.363864Z"
    }
   },
   "source": [
    "### icon"
   ]
  },
  {
   "cell_type": "code",
   "execution_count": null,
   "id": "a2e85c64",
   "metadata": {
    "ExecuteTime": {
     "end_time": "2022-01-24T22:13:48.436707Z",
     "start_time": "2022-01-24T22:13:47.425961Z"
    }
   },
   "outputs": [],
   "source": [
    "plot_time_profile_xr(ep_div_icon_time_60, dataset_i,  mode='meridional', average=False, mark_time=True,\n",
    "                    norm_bound=(mini,maxi), norm_type = norm_type, \n",
    "                    linthresh=linthresh, linscale=linscale, base=base,\n",
    "                    cmap = plt.cm.PuOr, levels=50,\n",
    "                    save=False, title = 'ICON: EP Flux Divergence \\n 60°N')"
   ]
  },
  {
   "cell_type": "code",
   "execution_count": null,
   "id": "8c01a4de",
   "metadata": {
    "ExecuteTime": {
     "end_time": "2022-01-24T22:13:49.332518Z",
     "start_time": "2022-01-24T22:13:48.438631Z"
    }
   },
   "outputs": [],
   "source": [
    "plot_time_profile_xr(ep_div_icon_time_w, dataset_i,  mode='meridional', average=False, mark_time=True,\n",
    "                    norm_bound=(mini,maxi), norm_type = norm_type, \n",
    "                    linthresh=linthresh, linscale=linscale, base=base,\n",
    "                    cmap = plt.cm.PuOr, levels=50,\n",
    "                    save=False, title = 'ICON: EP Flux Divergence \\n 45-75°N area weighted')"
   ]
  },
  {
   "cell_type": "markdown",
   "id": "023bf5ec",
   "metadata": {},
   "source": [
    "### era5"
   ]
  },
  {
   "cell_type": "code",
   "execution_count": null,
   "id": "1b8151cb",
   "metadata": {
    "ExecuteTime": {
     "end_time": "2022-01-24T22:13:50.960170Z",
     "start_time": "2022-01-24T22:13:49.334714Z"
    }
   },
   "outputs": [],
   "source": [
    "plot_time_profile_xr(ep_div_era5_time_60, dataset_e,  mode='meridional', average=False, mark_time=True,\n",
    "                    norm_bound=(mini,maxi), norm_type = norm_type, \n",
    "                    linthresh=linthresh, linscale=linscale, base=base,\n",
    "                    cmap = plt.cm.PuOr, levels=50,\n",
    "                    save=False, title = 'ERA5: EP Flux Divergence \\n 60°N')"
   ]
  },
  {
   "cell_type": "code",
   "execution_count": null,
   "id": "77a8174c",
   "metadata": {
    "ExecuteTime": {
     "end_time": "2022-01-24T22:13:52.051615Z",
     "start_time": "2022-01-24T22:13:50.962004Z"
    }
   },
   "outputs": [],
   "source": [
    "plot_time_profile_xr(ep_div_era5_time_w, dataset_i,  mode='meridional', average=False, mark_time=True,\n",
    "                    norm_bound=(mini,maxi), norm_type = norm_type, \n",
    "                    linthresh=linthresh, linscale=linscale, base=base,\n",
    "                    cmap = plt.cm.PuOr, levels=50,\n",
    "                    save=False, title = 'ERA5: EP Flux Divergence \\n 45-75°N area weighted')"
   ]
  },
  {
   "cell_type": "markdown",
   "id": "3142b5a9",
   "metadata": {},
   "source": [
    "### geos"
   ]
  },
  {
   "cell_type": "code",
   "execution_count": null,
   "id": "08473a9e",
   "metadata": {
    "ExecuteTime": {
     "end_time": "2022-01-24T22:13:53.064982Z",
     "start_time": "2022-01-24T22:13:52.053283Z"
    }
   },
   "outputs": [],
   "source": [
    "plot_time_profile_xr(ep_div_geos_time_60, dataset_g,  mode='meridional', average=False, mark_time=True,\n",
    "                    norm_bound=(mini,maxi), norm_type = norm_type, \n",
    "                    linthresh=linthresh, linscale=linscale, base=base,\n",
    "                    cmap = plt.cm.PuOr, levels=50,\n",
    "                    save=False, title = 'GEOS-FP: EP Flux Divergence \\n 60°N')"
   ]
  },
  {
   "cell_type": "code",
   "execution_count": null,
   "id": "0cb4eb39",
   "metadata": {
    "ExecuteTime": {
     "end_time": "2022-01-24T22:13:53.872516Z",
     "start_time": "2022-01-24T22:13:53.067244Z"
    }
   },
   "outputs": [],
   "source": [
    "plot_time_profile_xr(ep_div_geos_time_w, dataset_g,  mode='meridional', average=False, mark_time=True,\n",
    "                    norm_bound=(mini,maxi), norm_type = norm_type, \n",
    "                    linthresh=linthresh, linscale=linscale, base=base,\n",
    "                    cmap = plt.cm.PuOr, levels=50,\n",
    "                    save=False, title = 'GEOS-FP: EP Flux Divergence \\n 45-75°N area weighted')"
   ]
  },
  {
   "cell_type": "code",
   "execution_count": null,
   "id": "10dd33ad",
   "metadata": {},
   "outputs": [],
   "source": []
  },
  {
   "cell_type": "code",
   "execution_count": null,
   "id": "6b793d70",
   "metadata": {},
   "outputs": [],
   "source": []
  },
  {
   "cell_type": "code",
   "execution_count": null,
   "id": "52256e91",
   "metadata": {},
   "outputs": [],
   "source": []
  },
  {
   "cell_type": "markdown",
   "id": "f630f7c8",
   "metadata": {},
   "source": [
    "# VMFC"
   ]
  },
  {
   "cell_type": "markdown",
   "id": "e08b9afc",
   "metadata": {},
   "source": [
    "#### icon"
   ]
  },
  {
   "cell_type": "code",
   "execution_count": null,
   "id": "ac9e97fb",
   "metadata": {
    "ExecuteTime": {
     "end_time": "2022-01-24T20:42:54.576718Z",
     "start_time": "2022-01-24T20:42:54.472126Z"
    }
   },
   "outputs": [],
   "source": [
    "filter_by_keys={'typeOfLevel': 'isobaricInhPa'}\n",
    "infiles = f'{data_dir}dwd/analysis_new/vmfc_20201215_20210107.nc'\n",
    "vmfc_icon = xr.open_mfdataset(\n",
    "    infiles,\n",
    "    #engine='cfgrib',\n",
    "    #combine='nested',\n",
    "    #concat_dim = 'time',\n",
    "    parallel = True,\n",
    "    #backend_kwargs={'filter_by_keys': filter_by_keys},\n",
    ").load()"
   ]
  },
  {
   "cell_type": "code",
   "execution_count": null,
   "id": "2ed7945b",
   "metadata": {
    "ExecuteTime": {
     "end_time": "2022-01-24T20:42:54.724702Z",
     "start_time": "2022-01-24T20:42:54.696641Z"
    }
   },
   "outputs": [],
   "source": [
    "vmfc_icon_w = vmfc_icon.sel(**{coord_info.get(dataset_i).get('lat'): slice(45, 75)})\n",
    "coslat_weights = np.cos(np.deg2rad(vmfc_icon_w[coord_info.get(dataset_i).get('lat')]))\n",
    "coslat_weights.name = \"weights\"\n",
    "vmfc_icon_w = vmfc_icon_w.weighted(coslat_weights)\n",
    "vmfc_icon_w = vmfc_icon_w.mean(dim = coord_info.get(dataset_i).get('lat'))"
   ]
  },
  {
   "cell_type": "markdown",
   "id": "190630d9",
   "metadata": {},
   "source": [
    "#### era5"
   ]
  },
  {
   "cell_type": "code",
   "execution_count": null,
   "id": "2d3c6698",
   "metadata": {
    "ExecuteTime": {
     "end_time": "2022-01-24T20:42:55.238910Z",
     "start_time": "2022-01-24T20:42:55.083370Z"
    }
   },
   "outputs": [],
   "source": [
    "filter_by_keys={'typeOfLevel': 'isobaricInhPa'}\n",
    "infiles = f'{data_dir}ERA5/vmfc_20201201_20210131.nc'\n",
    "vmfc_era5 = xr.open_mfdataset(\n",
    "    infiles,\n",
    "    #engine='cfgrib',\n",
    "    #combine='nested',\n",
    "    #concat_dim = 'time',\n",
    "    parallel = True,\n",
    "    #backend_kwargs={'filter_by_keys': filter_by_keys},\n",
    ").load()"
   ]
  },
  {
   "cell_type": "code",
   "execution_count": null,
   "id": "6fd460d0",
   "metadata": {
    "ExecuteTime": {
     "end_time": "2022-01-24T20:42:55.271685Z",
     "start_time": "2022-01-24T20:42:55.244596Z"
    }
   },
   "outputs": [],
   "source": [
    "vmfc_era5_w = vmfc_era5.sel(**{coord_info.get(dataset_e).get('lat'): slice(75, 45)})\n",
    "coslat_weights = np.cos(np.deg2rad(vmfc_era5_w[coord_info.get(dataset_e).get('lat')]))\n",
    "coslat_weights.name = \"weights\"\n",
    "vmfc_era5_w = vmfc_era5_w.weighted(coslat_weights)\n",
    "vmfc_era5_w = vmfc_era5_w.mean(dim = coord_info.get(dataset_e).get('lat'))"
   ]
  },
  {
   "cell_type": "markdown",
   "id": "b261229b",
   "metadata": {},
   "source": [
    "#### geos"
   ]
  },
  {
   "cell_type": "code",
   "execution_count": null,
   "id": "7e008a45",
   "metadata": {
    "ExecuteTime": {
     "end_time": "2022-01-24T20:42:55.741770Z",
     "start_time": "2022-01-24T20:42:55.633433Z"
    }
   },
   "outputs": [],
   "source": [
    "filter_by_keys={'typeOfLevel': 'isobaricInhPa'}\n",
    "infiles = f'{data_dir}geos-fp/vmfc_20201215_20210107.nc'\n",
    "vmfc_geos = xr.open_mfdataset(\n",
    "    infiles,\n",
    "    #engine='cfgrib',\n",
    "    #combine='nested',\n",
    "    #concat_dim = 'time',\n",
    "    parallel = True,\n",
    "    #backend_kwargs={'filter_by_keys': filter_by_keys},\n",
    ").load()\n"
   ]
  },
  {
   "cell_type": "code",
   "execution_count": null,
   "id": "9d3a2691",
   "metadata": {
    "ExecuteTime": {
     "end_time": "2022-01-24T20:42:56.237091Z",
     "start_time": "2022-01-24T20:42:56.212126Z"
    }
   },
   "outputs": [],
   "source": [
    "vmfc_geos_w = vmfc_geos.sel(**{coord_info.get('era5').get('lat'): slice(45, 75)})\n",
    "coslat_weights = np.cos(np.deg2rad(vmfc_geos_w[coord_info.get('era5').get('lat')]))\n",
    "coslat_weights.name = \"weights\"\n",
    "vmfc_geos_w = vmfc_geos_w.weighted(coslat_weights)\n",
    "vmfc_geos_w = vmfc_geos_w.mean(dim = coord_info.get('era5').get('lat'))"
   ]
  },
  {
   "cell_type": "markdown",
   "id": "c13def27",
   "metadata": {},
   "source": [
    "### Plots"
   ]
  },
  {
   "cell_type": "code",
   "execution_count": null,
   "id": "5207ffeb",
   "metadata": {
    "ExecuteTime": {
     "end_time": "2022-01-24T20:42:58.731092Z",
     "start_time": "2022-01-24T20:42:58.723243Z"
    }
   },
   "outputs": [],
   "source": [
    "test = vmfc_geos['vmfc'].sel(**{coord_info.get('era5').get('lat'): 60},\n",
    "                        **{coord_info.get('era5').get('p'): 1},)"
   ]
  },
  {
   "cell_type": "code",
   "execution_count": null,
   "id": "55911aa2",
   "metadata": {
    "ExecuteTime": {
     "end_time": "2022-01-24T20:42:59.144469Z",
     "start_time": "2022-01-24T20:42:58.955419Z"
    }
   },
   "outputs": [],
   "source": [
    "test.plot()"
   ]
  },
  {
   "cell_type": "markdown",
   "id": "9298d4b8",
   "metadata": {},
   "source": [
    "### time plots"
   ]
  },
  {
   "cell_type": "code",
   "execution_count": null,
   "id": "c78f6e32",
   "metadata": {
    "ExecuteTime": {
     "end_time": "2022-01-24T20:43:00.113583Z",
     "start_time": "2022-01-24T20:43:00.097989Z"
    }
   },
   "outputs": [],
   "source": [
    "p_level_d = 1000\n",
    "\n",
    "vmfc_geos_time_60 = vmfc_geos['vmfc'].sel(**{coord_info.get(dataset_g_vmfc).get('lat'): 60},\n",
    "                             **{coord_info.get(dataset_g_vmfc).get('p'): slice(p_level_d,1)})\n",
    "vmfc_geos_time_w = vmfc_geos_w['vmfc']\n",
    "\n",
    "vmfc_era5_time_60 = vmfc_era5['vmfc'].sel(**{coord_info.get(dataset_e).get('lat'): 60},\n",
    "                             **{coord_info.get(dataset_e).get('p'): slice(p_level_d,1)})\n",
    "vmfc_era5_time_w = vmfc_era5_w['vmfc']\n",
    "\n",
    "vmfc_icon_time_60 = vmfc_icon['vmfc'].sel(**{coord_info.get(dataset_i).get('lat'): 60},\n",
    "                             **{coord_info.get(dataset_i).get('p'): slice(p_level_d,1)})\n",
    "vmfc_icon_time_w = vmfc_icon_w['vmfc']"
   ]
  },
  {
   "cell_type": "code",
   "execution_count": null,
   "id": "d6f86e6a",
   "metadata": {
    "ExecuteTime": {
     "end_time": "2022-01-24T20:43:00.732233Z",
     "start_time": "2022-01-24T20:43:00.719714Z"
    }
   },
   "outputs": [],
   "source": [
    "mini = min([vmfc_geos_time_60.min().data, vmfc_geos_time_w.min().data,\n",
    "            vmfc_era5_time_60.min().data, vmfc_era5_time_w.min().data,\n",
    "            vmfc_icon_time_60.min().data, vmfc_icon_time_w.min().data])\n",
    "\n",
    "maxi = max([vmfc_geos_time_60.max().data, vmfc_geos_time_w.max().data,\n",
    "            vmfc_era5_time_60.max().data, vmfc_era5_time_w.max().data,\n",
    "            vmfc_icon_time_60.max().data, vmfc_icon_time_w.max().data])"
   ]
  },
  {
   "cell_type": "code",
   "execution_count": null,
   "id": "f79be3ac",
   "metadata": {
    "ExecuteTime": {
     "end_time": "2022-01-24T20:46:08.443207Z",
     "start_time": "2022-01-24T20:46:08.437293Z"
    }
   },
   "outputs": [],
   "source": [
    "norm_type = 'symlog'\n",
    "linthresh=0.1 \n",
    "linscale=1.0 \n",
    "base=np.e"
   ]
  },
  {
   "cell_type": "markdown",
   "id": "84704287",
   "metadata": {},
   "source": [
    "### icon"
   ]
  },
  {
   "cell_type": "code",
   "execution_count": null,
   "id": "ee9eabb0",
   "metadata": {
    "ExecuteTime": {
     "end_time": "2022-01-24T20:46:15.963957Z",
     "start_time": "2022-01-24T20:46:15.187091Z"
    }
   },
   "outputs": [],
   "source": [
    "plot_time_profile_xr(vmfc_icon_time_60, dataset_i,  mode='meridional', average=False, mark_time=True,\n",
    "                    norm_bound=(mini,maxi), norm_type = norm_type, \n",
    "                     linthresh=linthresh, linscale=linscale, base=base,\n",
    "                    cmap = plt.cm.PuOr, levels=20,\n",
    "                    save=False, title = 'ICON: Vetical Momentum Flux Convergence \\n 60°N')"
   ]
  },
  {
   "cell_type": "code",
   "execution_count": null,
   "id": "a4712b11",
   "metadata": {
    "ExecuteTime": {
     "end_time": "2022-01-24T20:46:16.744051Z",
     "start_time": "2022-01-24T20:46:15.965767Z"
    }
   },
   "outputs": [],
   "source": [
    "plot_time_profile_xr(vmfc_icon_time_w, dataset_i,  mode='meridional', average=False, mark_time=True,\n",
    "                    norm_bound=(mini,maxi), norm_type = norm_type, \n",
    "                     linthresh=linthresh, linscale=linscale, base=base,\n",
    "                    cmap = plt.cm.PuOr, levels=20,\n",
    "                    save=False, title = 'ICON: Vetical Momentum Flux Convergence \\n 45-75°N area weighted')"
   ]
  },
  {
   "cell_type": "markdown",
   "id": "9dabb991",
   "metadata": {},
   "source": [
    "### era5"
   ]
  },
  {
   "cell_type": "code",
   "execution_count": null,
   "id": "49c88ab3",
   "metadata": {
    "ExecuteTime": {
     "end_time": "2022-01-24T20:46:11.433574Z",
     "start_time": "2022-01-24T20:46:10.484449Z"
    }
   },
   "outputs": [],
   "source": [
    "plot_time_profile_xr(vmfc_era5_time_60, dataset_e,  mode='meridional', average=False, mark_time=True,\n",
    "                    norm_bound=(mini,maxi), norm_type = norm_type,\n",
    "                     linthresh=linthresh, linscale=linscale, base=base,\n",
    "                    cmap = plt.cm.PuOr, levels=20,\n",
    "                    save=False, title = 'ERA5: Vetical Momentum Flux Convergence \\n 60°N')"
   ]
  },
  {
   "cell_type": "code",
   "execution_count": null,
   "id": "38ea7cfb",
   "metadata": {
    "ExecuteTime": {
     "end_time": "2022-01-24T20:46:14.281760Z",
     "start_time": "2022-01-24T20:46:13.403231Z"
    }
   },
   "outputs": [],
   "source": [
    "plot_time_profile_xr(vmfc_era5_time_w, dataset_e,  mode='meridional', average=False, mark_time=True,\n",
    "                    norm_bound=(mini,maxi), norm_type = norm_type, \n",
    "                     linthresh=linthresh, linscale=linscale, base=base,\n",
    "                    cmap = plt.cm.PuOr, levels=20,\n",
    "                    save=False, title = 'ERA5: Vetical Momentum Flux Convergence \\n 45-75°N area weighted')"
   ]
  },
  {
   "cell_type": "markdown",
   "id": "9da54168",
   "metadata": {},
   "source": [
    "### geos"
   ]
  },
  {
   "cell_type": "code",
   "execution_count": null,
   "id": "cd67bb0a",
   "metadata": {
    "ExecuteTime": {
     "end_time": "2022-01-24T20:46:09.627044Z",
     "start_time": "2022-01-24T20:46:08.818318Z"
    }
   },
   "outputs": [],
   "source": [
    "plot_time_profile_xr(vmfc_geos_time_60, dataset_g_vmfc,  mode='meridional', average=False, mark_time=True,\n",
    "                    norm_bound=(mini,maxi), norm_type = norm_type, \n",
    "                    linthresh=linthresh, linscale=linscale, base=base,\n",
    "                    cmap = plt.cm.PuOr, levels=20,\n",
    "                    save=False, title = 'GEOS-FP: Vetical Momentum Flux Convergence \\n 60°N')"
   ]
  },
  {
   "cell_type": "code",
   "execution_count": null,
   "id": "683b2c0b",
   "metadata": {
    "ExecuteTime": {
     "end_time": "2022-01-24T20:46:10.482021Z",
     "start_time": "2022-01-24T20:46:09.629223Z"
    }
   },
   "outputs": [],
   "source": [
    "plot_time_profile_xr(vmfc_geos_time_w, dataset_g_vmfc,  mode='meridional', average=False, mark_time=True,\n",
    "                    norm_bound=(mini,maxi), norm_type = norm_type, \n",
    "                    linthresh=linthresh, linscale=linscale, base=base,\n",
    "                    cmap = plt.cm.PuOr, levels=20,\n",
    "                    save=False, title = 'GEOS-FP: Vetical Momentum Flux Convergence \\n 45-75°N area weighted')"
   ]
  },
  {
   "cell_type": "code",
   "execution_count": null,
   "id": "8722fbb4",
   "metadata": {},
   "outputs": [],
   "source": []
  },
  {
   "cell_type": "code",
   "execution_count": null,
   "id": "7b6b6794",
   "metadata": {},
   "outputs": [],
   "source": []
  },
  {
   "cell_type": "markdown",
   "id": "7eaa02c2",
   "metadata": {},
   "source": [
    "## level time plots"
   ]
  },
  {
   "cell_type": "code",
   "execution_count": null,
   "id": "006e1777",
   "metadata": {
    "ExecuteTime": {
     "end_time": "2022-01-24T18:54:59.455167Z",
     "start_time": "2022-01-24T18:54:59.092758Z"
    }
   },
   "outputs": [],
   "source": [
    "p_level = 1\n",
    "\n",
    "fig, ax = plt.subplots(figsize=(12,7), constrained_layout=True)\n",
    "\n",
    "ax.plot(vmfc_icon.time,\n",
    "        vmfc_icon['vmfc'].sel(**{coord_info.get(dataset_i).get('p'): p_level},\n",
    "                     **{coord_info.get(dataset_i).get('lat'): 60}),\n",
    "        label = 'ICON', lw = 3)\n",
    "\n",
    "ax.plot(vmfc_era5.time,\n",
    "        vmfc_era5['vmfc'].sel(**{coord_info.get(dataset_e).get('p'): p_level},\n",
    "                     **{coord_info.get(dataset_e).get('lat'): 60}),\n",
    "        label = 'ERA5', alpha = 0.5)\n",
    "\n",
    "ax.plot(vmfc_geos.time,\n",
    "        vmfc_geos['vmfc'].sel(**{coord_info.get('era5').get('p'): p_level},\n",
    "                     **{coord_info.get('era5').get('lat'): 60}),\n",
    "        label = 'GEOS_FP', alpha = 0.5)\n",
    "\n",
    "\n",
    "ax.axvline(x = tt_SSW, color = 'r', label = 'SSW')\n",
    "#ax.axvline(x = tt_GWF, color = 'g', label = 'GWF')\n",
    "\n",
    "ax.grid()\n",
    "ax.legend()\n",
    "\n",
    "for label in ax.xaxis.get_majorticklabels():\n",
    "    label.set_rotation(45)\n",
    "    label.set_ha('right')\n",
    "\n",
    "    \n",
    "#ax.set_xlabel('time')\n",
    "ax.set_ylabel(r'vmfc ' + r'$[\\frac{m}{s \\, d}]$')\n",
    "ax.set_title('Vertical Momentum Flux Convergence: ' +str(p_level)+'hPa | 60°N ')\n",
    "\n",
    "pass"
   ]
  },
  {
   "cell_type": "code",
   "execution_count": null,
   "id": "60840f5e",
   "metadata": {},
   "outputs": [],
   "source": []
  },
  {
   "cell_type": "code",
   "execution_count": null,
   "id": "0e5a06da",
   "metadata": {},
   "outputs": [],
   "source": []
  },
  {
   "cell_type": "code",
   "execution_count": null,
   "id": "07b249e6",
   "metadata": {},
   "outputs": [],
   "source": []
  },
  {
   "cell_type": "code",
   "execution_count": null,
   "id": "0e202392",
   "metadata": {
    "ExecuteTime": {
     "end_time": "2022-01-24T18:53:48.366046Z",
     "start_time": "2022-01-24T18:53:48.032918Z"
    }
   },
   "outputs": [],
   "source": [
    "p_level = 1\n",
    "\n",
    "fig, ax = plt.subplots(figsize=(12,7), constrained_layout=True)\n",
    "\n",
    "ax.plot(vmfc_icon_w.time,\n",
    "        vmfc_icon_w['vmfc'].sel(**{coord_info.get(dataset_i).get('p'): p_level}),\n",
    "        label = 'ICON', lw = 3)\n",
    "\n",
    "ax.plot(vmfc_era5_w.time,\n",
    "        vmfc_era5_w['vmfc'].sel(**{coord_info.get(dataset_e).get('p'): p_level}),\n",
    "        label = 'ERA5', alpha = 0.5)\n",
    "\n",
    "ax.plot(vmfc_geos_w.time,\n",
    "        vmfc_geos_w['vmfc'].sel(**{coord_info.get('era5').get('p'): p_level}),\n",
    "        label = 'GEOS_FP', alpha = 0.5)\n",
    "\n",
    "\n",
    "ax.axvline(x = tt_SSW, color = 'r', label = 'SSW')\n",
    "ax.axvline(x = tt_GWF, color = 'g', label = 'GWF')\n",
    "\n",
    "ax.grid()\n",
    "ax.legend()\n",
    "\n",
    "for label in ax.xaxis.get_majorticklabels():\n",
    "    label.set_rotation(45)\n",
    "    label.set_ha('right')\n",
    "\n",
    "    \n",
    "#ax.set_xlabel('time')\n",
    "ax.set_ylabel(r'vmfc ' + r'$[\\frac{m}{s \\, d}]$')\n",
    "ax.set_title('Vertical Momentum Flux Convergence: '+str(p_level)+'hPa | 45-75°N area weighted')\n",
    "\n",
    "pass"
   ]
  },
  {
   "cell_type": "markdown",
   "id": "37df58e1",
   "metadata": {},
   "source": [
    "### meridional profiles"
   ]
  },
  {
   "cell_type": "code",
   "execution_count": null,
   "id": "4bd1bbcc",
   "metadata": {
    "ExecuteTime": {
     "end_time": "2022-01-24T18:58:32.328612Z",
     "start_time": "2022-01-24T18:58:32.308353Z"
    }
   },
   "outputs": [],
   "source": [
    "t = vmfc_icon.sel(time = tt_GWF).time\n",
    "#t = vmfc_icon.sel(time = tt_SSW).time\n",
    "\n",
    "\n",
    "sel_i = vmfc_icon['vmfc'].sel(time = t,\n",
    "               **{coord_info.get(dataset_i).get('lat'): slice(30, 89)},\n",
    "               **{coord_info.get(dataset_i).get('p'): slice(100,1)},)\n",
    "sel_e = vmfc_era5['vmfc'].sel(time = t,\n",
    "               **{coord_info.get(dataset_e).get('lat'): slice(89, 30)},\n",
    "               **{coord_info.get(dataset_e).get('p'): slice(100,1)},)\n",
    "sel_g = vmfc_geos['vmfc'].sel(time = t,\n",
    "               **{coord_info.get('era5').get('lat'): slice(30, 89)},\n",
    "               **{coord_info.get('era5').get('p'): slice(100,1)},)"
   ]
  },
  {
   "cell_type": "code",
   "execution_count": null,
   "id": "35ca85e1",
   "metadata": {
    "ExecuteTime": {
     "end_time": "2022-01-24T18:58:32.336511Z",
     "start_time": "2022-01-24T18:58:32.331110Z"
    }
   },
   "outputs": [],
   "source": [
    "mini = min([sel_i.min().data, sel_e.min().data, sel_g.min().data])\n",
    "maxi = max([sel_i.max().data, sel_e.max().data, sel_g.max().data])"
   ]
  },
  {
   "cell_type": "code",
   "execution_count": null,
   "id": "f336f9b2",
   "metadata": {
    "ExecuteTime": {
     "end_time": "2022-01-24T18:58:32.344061Z",
     "start_time": "2022-01-24T18:58:32.339148Z"
    }
   },
   "outputs": [],
   "source": [
    "mini, maxi"
   ]
  },
  {
   "cell_type": "code",
   "execution_count": null,
   "id": "b2bdce3f",
   "metadata": {},
   "outputs": [],
   "source": []
  },
  {
   "cell_type": "code",
   "execution_count": null,
   "id": "24ea8280",
   "metadata": {
    "ExecuteTime": {
     "end_time": "2022-01-24T18:58:32.993451Z",
     "start_time": "2022-01-24T18:58:32.346303Z"
    }
   },
   "outputs": [],
   "source": [
    "plot_profile_xr(sel_i, t, dataset=dataset_i, mode='meridional', average = False,\n",
    "                norm_bound=(mini,maxi), norm_type = 'diverging', \n",
    "                cmap = plt.cm.PuOr, levels=50,\n",
    "                save=False )"
   ]
  },
  {
   "cell_type": "code",
   "execution_count": null,
   "id": "7cf1fea6",
   "metadata": {
    "ExecuteTime": {
     "end_time": "2022-01-24T18:58:33.555947Z",
     "start_time": "2022-01-24T18:58:32.995882Z"
    }
   },
   "outputs": [],
   "source": [
    "plot_profile_xr(sel_e, t, dataset=dataset_e, mode='meridional', average = False,\n",
    "                norm_bound=(mini,maxi), norm_type = 'diverging', \n",
    "                cmap = plt.cm.PuOr, levels=50,\n",
    "                save=False )"
   ]
  },
  {
   "cell_type": "code",
   "execution_count": null,
   "id": "cf6246ba",
   "metadata": {
    "ExecuteTime": {
     "end_time": "2022-01-24T18:58:34.117311Z",
     "start_time": "2022-01-24T18:58:33.557602Z"
    }
   },
   "outputs": [],
   "source": [
    "plot_profile_xr(sel_g, t, dataset='era5', mode='meridional', average = False,\n",
    "                norm_bound=(mini,maxi), norm_type = 'diverging', \n",
    "                cmap = plt.cm.PuOr, levels=50,\n",
    "                save=False )"
   ]
  },
  {
   "cell_type": "code",
   "execution_count": null,
   "id": "b4b09b76",
   "metadata": {},
   "outputs": [],
   "source": []
  },
  {
   "cell_type": "code",
   "execution_count": null,
   "id": "4b3076e4",
   "metadata": {},
   "outputs": [],
   "source": []
  }
 ],
 "metadata": {
  "kernelspec": {
   "display_name": "nwp-py3",
   "language": "python",
   "name": "nwp-py3"
  },
  "language_info": {
   "codemirror_mode": {
    "name": "ipython",
    "version": 3
   },
   "file_extension": ".py",
   "mimetype": "text/x-python",
   "name": "python",
   "nbconvert_exporter": "python",
   "pygments_lexer": "ipython3",
   "version": "3.6.13"
  }
 },
 "nbformat": 4,
 "nbformat_minor": 5
}
