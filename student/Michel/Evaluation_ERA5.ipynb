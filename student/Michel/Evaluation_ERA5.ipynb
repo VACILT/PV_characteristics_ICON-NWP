{
 "cells": [
  {
   "cell_type": "code",
   "execution_count": 2,
   "id": "22e8ef90",
   "metadata": {
    "ExecuteTime": {
     "end_time": "2022-01-23T21:22:34.466039Z",
     "start_time": "2022-01-23T21:22:34.454655Z"
    }
   },
   "outputs": [],
   "source": [
    "import os\n",
    "\n",
    "import numpy as np\n",
    "import xarray as xr\n",
    "import cfgrib\n",
    "import cartopy.crs as ccrs\n",
    "from cartopy.util import add_cyclic_point\n",
    "\n",
    "from dask.distributed import Client, LocalCluster\n",
    "\n",
    "import matplotlib as mpl\n",
    "import matplotlib.pyplot as plt\n",
    "plt.rcParams.update({'font.size': 16, \"axes.labelsize\":16, \"axes.titlesize\":16,\n",
    "                     \"font.weight\": \"bold\",\"axes.labelweight\":\"bold\",\"axes.titleweight\":\"bold\",\n",
    "                    \"figure.titleweight\":\"bold\", \"figure.titlesize\":\"large\" })\n",
    "\n",
    "from ambiance import Atmosphere\n",
    "from aostools import climate\n",
    "\n",
    "from Eval import plot_map_xr, plot_profile_xr, make_gif\n",
    "from Eval import var_info, coord_info, results_dir\n"
   ]
  },
  {
   "cell_type": "markdown",
   "id": "a894ba34",
   "metadata": {},
   "source": [
    "# Open dataset"
   ]
  },
  {
   "cell_type": "code",
   "execution_count": 3,
   "id": "f8eb9df8",
   "metadata": {
    "ExecuteTime": {
     "end_time": "2022-01-23T21:22:36.335387Z",
     "start_time": "2022-01-23T21:22:36.330978Z"
    }
   },
   "outputs": [],
   "source": [
    "dataset = 'era5'"
   ]
  },
  {
   "cell_type": "code",
   "execution_count": 4,
   "id": "a8b05588",
   "metadata": {
    "ExecuteTime": {
     "end_time": "2022-01-23T21:22:36.576774Z",
     "start_time": "2022-01-23T21:22:36.572691Z"
    }
   },
   "outputs": [],
   "source": [
    "data_dir = '/gemeinsam_tmp/SSW_2021/'"
   ]
  },
  {
   "cell_type": "code",
   "execution_count": 5,
   "id": "e90386a7",
   "metadata": {
    "ExecuteTime": {
     "end_time": "2022-01-23T21:22:38.125105Z",
     "start_time": "2022-01-23T21:22:36.808092Z"
    }
   },
   "outputs": [],
   "source": [
    "#client = Client(LocalCluster(host='192.168.154.3')) # change to ora's IP adress: 192.168.135.33\n",
    "client = Client(LocalCluster(host='192.168.155.33'))"
   ]
  },
  {
   "cell_type": "code",
   "execution_count": 6,
   "id": "50560cbf",
   "metadata": {
    "ExecuteTime": {
     "end_time": "2022-01-23T21:22:38.142952Z",
     "start_time": "2022-01-23T21:22:38.129791Z"
    }
   },
   "outputs": [
    {
     "data": {
      "text/html": [
       "<table style=\"border: 2px solid white;\">\n",
       "<tr>\n",
       "<td style=\"vertical-align: top; border: 0px solid white\">\n",
       "<h3 style=\"text-align: left;\">Client</h3>\n",
       "<ul style=\"text-align: left; list-style: none; margin: 0; padding: 0;\">\n",
       "  <li><b>Scheduler: </b>tcp://192.168.155.33:40263</li>\n",
       "  <li><b>Dashboard: </b><a href='http://192.168.155.33:8787/status' target='_blank'>http://192.168.155.33:8787/status</a></li>\n",
       "</ul>\n",
       "</td>\n",
       "<td style=\"vertical-align: top; border: 0px solid white\">\n",
       "<h3 style=\"text-align: left;\">Cluster</h3>\n",
       "<ul style=\"text-align: left; list-style:none; margin: 0; padding: 0;\">\n",
       "  <li><b>Workers: </b>8</li>\n",
       "  <li><b>Cores: </b>64</li>\n",
       "  <li><b>Memory: </b>810.22 GB</li>\n",
       "</ul>\n",
       "</td>\n",
       "</tr>\n",
       "</table>"
      ],
      "text/plain": [
       "<Client: 'tcp://192.168.155.33:40263' processes=8 threads=64, memory=810.22 GB>"
      ]
     },
     "execution_count": 6,
     "metadata": {},
     "output_type": "execute_result"
    }
   ],
   "source": [
    "client"
   ]
  },
  {
   "cell_type": "markdown",
   "id": "eccf2ddd",
   "metadata": {},
   "source": [
    "## ERA5"
   ]
  },
  {
   "cell_type": "code",
   "execution_count": 7,
   "id": "f557b7f2",
   "metadata": {
    "ExecuteTime": {
     "end_time": "2022-01-23T21:23:14.821300Z",
     "start_time": "2022-01-23T21:22:38.144476Z"
    }
   },
   "outputs": [],
   "source": [
    "infiles = f'{data_dir}ERA5/*.grib'\n",
    "ds_era5 = xr.open_mfdataset(\n",
    "    infiles,\n",
    "    engine='cfgrib',\n",
    "    combine='nested',\n",
    "    concat_dim = 'time',\n",
    "    parallel = True,\n",
    ")"
   ]
  },
  {
   "cell_type": "code",
   "execution_count": 8,
   "id": "a87ab20d",
   "metadata": {
    "ExecuteTime": {
     "end_time": "2022-01-23T21:23:14.866469Z",
     "start_time": "2022-01-23T21:23:14.826986Z"
    }
   },
   "outputs": [
    {
     "data": {
      "text/html": [
       "<div><svg style=\"position: absolute; width: 0; height: 0; overflow: hidden\">\n",
       "<defs>\n",
       "<symbol id=\"icon-database\" viewBox=\"0 0 32 32\">\n",
       "<path d=\"M16 0c-8.837 0-16 2.239-16 5v4c0 2.761 7.163 5 16 5s16-2.239 16-5v-4c0-2.761-7.163-5-16-5z\"></path>\n",
       "<path d=\"M16 17c-8.837 0-16-2.239-16-5v6c0 2.761 7.163 5 16 5s16-2.239 16-5v-6c0 2.761-7.163 5-16 5z\"></path>\n",
       "<path d=\"M16 26c-8.837 0-16-2.239-16-5v6c0 2.761 7.163 5 16 5s16-2.239 16-5v-6c0 2.761-7.163 5-16 5z\"></path>\n",
       "</symbol>\n",
       "<symbol id=\"icon-file-text2\" viewBox=\"0 0 32 32\">\n",
       "<path d=\"M28.681 7.159c-0.694-0.947-1.662-2.053-2.724-3.116s-2.169-2.030-3.116-2.724c-1.612-1.182-2.393-1.319-2.841-1.319h-15.5c-1.378 0-2.5 1.121-2.5 2.5v27c0 1.378 1.122 2.5 2.5 2.5h23c1.378 0 2.5-1.122 2.5-2.5v-19.5c0-0.448-0.137-1.23-1.319-2.841zM24.543 5.457c0.959 0.959 1.712 1.825 2.268 2.543h-4.811v-4.811c0.718 0.556 1.584 1.309 2.543 2.268zM28 29.5c0 0.271-0.229 0.5-0.5 0.5h-23c-0.271 0-0.5-0.229-0.5-0.5v-27c0-0.271 0.229-0.5 0.5-0.5 0 0 15.499-0 15.5 0v7c0 0.552 0.448 1 1 1h7v19.5z\"></path>\n",
       "<path d=\"M23 26h-14c-0.552 0-1-0.448-1-1s0.448-1 1-1h14c0.552 0 1 0.448 1 1s-0.448 1-1 1z\"></path>\n",
       "<path d=\"M23 22h-14c-0.552 0-1-0.448-1-1s0.448-1 1-1h14c0.552 0 1 0.448 1 1s-0.448 1-1 1z\"></path>\n",
       "<path d=\"M23 18h-14c-0.552 0-1-0.448-1-1s0.448-1 1-1h14c0.552 0 1 0.448 1 1s-0.448 1-1 1z\"></path>\n",
       "</symbol>\n",
       "</defs>\n",
       "</svg>\n",
       "<style>/* CSS stylesheet for displaying xarray objects in jupyterlab.\n",
       " *\n",
       " */\n",
       "\n",
       ":root {\n",
       "  --xr-font-color0: var(--jp-content-font-color0, rgba(0, 0, 0, 1));\n",
       "  --xr-font-color2: var(--jp-content-font-color2, rgba(0, 0, 0, 0.54));\n",
       "  --xr-font-color3: var(--jp-content-font-color3, rgba(0, 0, 0, 0.38));\n",
       "  --xr-border-color: var(--jp-border-color2, #e0e0e0);\n",
       "  --xr-disabled-color: var(--jp-layout-color3, #bdbdbd);\n",
       "  --xr-background-color: var(--jp-layout-color0, white);\n",
       "  --xr-background-color-row-even: var(--jp-layout-color1, white);\n",
       "  --xr-background-color-row-odd: var(--jp-layout-color2, #eeeeee);\n",
       "}\n",
       "\n",
       "html[theme=dark],\n",
       "body.vscode-dark {\n",
       "  --xr-font-color0: rgba(255, 255, 255, 1);\n",
       "  --xr-font-color2: rgba(255, 255, 255, 0.54);\n",
       "  --xr-font-color3: rgba(255, 255, 255, 0.38);\n",
       "  --xr-border-color: #1F1F1F;\n",
       "  --xr-disabled-color: #515151;\n",
       "  --xr-background-color: #111111;\n",
       "  --xr-background-color-row-even: #111111;\n",
       "  --xr-background-color-row-odd: #313131;\n",
       "}\n",
       "\n",
       ".xr-wrap {\n",
       "  display: block;\n",
       "  min-width: 300px;\n",
       "  max-width: 700px;\n",
       "}\n",
       "\n",
       ".xr-text-repr-fallback {\n",
       "  /* fallback to plain text repr when CSS is not injected (untrusted notebook) */\n",
       "  display: none;\n",
       "}\n",
       "\n",
       ".xr-header {\n",
       "  padding-top: 6px;\n",
       "  padding-bottom: 6px;\n",
       "  margin-bottom: 4px;\n",
       "  border-bottom: solid 1px var(--xr-border-color);\n",
       "}\n",
       "\n",
       ".xr-header > div,\n",
       ".xr-header > ul {\n",
       "  display: inline;\n",
       "  margin-top: 0;\n",
       "  margin-bottom: 0;\n",
       "}\n",
       "\n",
       ".xr-obj-type,\n",
       ".xr-array-name {\n",
       "  margin-left: 2px;\n",
       "  margin-right: 10px;\n",
       "}\n",
       "\n",
       ".xr-obj-type {\n",
       "  color: var(--xr-font-color2);\n",
       "}\n",
       "\n",
       ".xr-sections {\n",
       "  padding-left: 0 !important;\n",
       "  display: grid;\n",
       "  grid-template-columns: 150px auto auto 1fr 20px 20px;\n",
       "}\n",
       "\n",
       ".xr-section-item {\n",
       "  display: contents;\n",
       "}\n",
       "\n",
       ".xr-section-item input {\n",
       "  display: none;\n",
       "}\n",
       "\n",
       ".xr-section-item input + label {\n",
       "  color: var(--xr-disabled-color);\n",
       "}\n",
       "\n",
       ".xr-section-item input:enabled + label {\n",
       "  cursor: pointer;\n",
       "  color: var(--xr-font-color2);\n",
       "}\n",
       "\n",
       ".xr-section-item input:enabled + label:hover {\n",
       "  color: var(--xr-font-color0);\n",
       "}\n",
       "\n",
       ".xr-section-summary {\n",
       "  grid-column: 1;\n",
       "  color: var(--xr-font-color2);\n",
       "  font-weight: 500;\n",
       "}\n",
       "\n",
       ".xr-section-summary > span {\n",
       "  display: inline-block;\n",
       "  padding-left: 0.5em;\n",
       "}\n",
       "\n",
       ".xr-section-summary-in:disabled + label {\n",
       "  color: var(--xr-font-color2);\n",
       "}\n",
       "\n",
       ".xr-section-summary-in + label:before {\n",
       "  display: inline-block;\n",
       "  content: '►';\n",
       "  font-size: 11px;\n",
       "  width: 15px;\n",
       "  text-align: center;\n",
       "}\n",
       "\n",
       ".xr-section-summary-in:disabled + label:before {\n",
       "  color: var(--xr-disabled-color);\n",
       "}\n",
       "\n",
       ".xr-section-summary-in:checked + label:before {\n",
       "  content: '▼';\n",
       "}\n",
       "\n",
       ".xr-section-summary-in:checked + label > span {\n",
       "  display: none;\n",
       "}\n",
       "\n",
       ".xr-section-summary,\n",
       ".xr-section-inline-details {\n",
       "  padding-top: 4px;\n",
       "  padding-bottom: 4px;\n",
       "}\n",
       "\n",
       ".xr-section-inline-details {\n",
       "  grid-column: 2 / -1;\n",
       "}\n",
       "\n",
       ".xr-section-details {\n",
       "  display: none;\n",
       "  grid-column: 1 / -1;\n",
       "  margin-bottom: 5px;\n",
       "}\n",
       "\n",
       ".xr-section-summary-in:checked ~ .xr-section-details {\n",
       "  display: contents;\n",
       "}\n",
       "\n",
       ".xr-array-wrap {\n",
       "  grid-column: 1 / -1;\n",
       "  display: grid;\n",
       "  grid-template-columns: 20px auto;\n",
       "}\n",
       "\n",
       ".xr-array-wrap > label {\n",
       "  grid-column: 1;\n",
       "  vertical-align: top;\n",
       "}\n",
       "\n",
       ".xr-preview {\n",
       "  color: var(--xr-font-color3);\n",
       "}\n",
       "\n",
       ".xr-array-preview,\n",
       ".xr-array-data {\n",
       "  padding: 0 5px !important;\n",
       "  grid-column: 2;\n",
       "}\n",
       "\n",
       ".xr-array-data,\n",
       ".xr-array-in:checked ~ .xr-array-preview {\n",
       "  display: none;\n",
       "}\n",
       "\n",
       ".xr-array-in:checked ~ .xr-array-data,\n",
       ".xr-array-preview {\n",
       "  display: inline-block;\n",
       "}\n",
       "\n",
       ".xr-dim-list {\n",
       "  display: inline-block !important;\n",
       "  list-style: none;\n",
       "  padding: 0 !important;\n",
       "  margin: 0;\n",
       "}\n",
       "\n",
       ".xr-dim-list li {\n",
       "  display: inline-block;\n",
       "  padding: 0;\n",
       "  margin: 0;\n",
       "}\n",
       "\n",
       ".xr-dim-list:before {\n",
       "  content: '(';\n",
       "}\n",
       "\n",
       ".xr-dim-list:after {\n",
       "  content: ')';\n",
       "}\n",
       "\n",
       ".xr-dim-list li:not(:last-child):after {\n",
       "  content: ',';\n",
       "  padding-right: 5px;\n",
       "}\n",
       "\n",
       ".xr-has-index {\n",
       "  font-weight: bold;\n",
       "}\n",
       "\n",
       ".xr-var-list,\n",
       ".xr-var-item {\n",
       "  display: contents;\n",
       "}\n",
       "\n",
       ".xr-var-item > div,\n",
       ".xr-var-item label,\n",
       ".xr-var-item > .xr-var-name span {\n",
       "  background-color: var(--xr-background-color-row-even);\n",
       "  margin-bottom: 0;\n",
       "}\n",
       "\n",
       ".xr-var-item > .xr-var-name:hover span {\n",
       "  padding-right: 5px;\n",
       "}\n",
       "\n",
       ".xr-var-list > li:nth-child(odd) > div,\n",
       ".xr-var-list > li:nth-child(odd) > label,\n",
       ".xr-var-list > li:nth-child(odd) > .xr-var-name span {\n",
       "  background-color: var(--xr-background-color-row-odd);\n",
       "}\n",
       "\n",
       ".xr-var-name {\n",
       "  grid-column: 1;\n",
       "}\n",
       "\n",
       ".xr-var-dims {\n",
       "  grid-column: 2;\n",
       "}\n",
       "\n",
       ".xr-var-dtype {\n",
       "  grid-column: 3;\n",
       "  text-align: right;\n",
       "  color: var(--xr-font-color2);\n",
       "}\n",
       "\n",
       ".xr-var-preview {\n",
       "  grid-column: 4;\n",
       "}\n",
       "\n",
       ".xr-var-name,\n",
       ".xr-var-dims,\n",
       ".xr-var-dtype,\n",
       ".xr-preview,\n",
       ".xr-attrs dt {\n",
       "  white-space: nowrap;\n",
       "  overflow: hidden;\n",
       "  text-overflow: ellipsis;\n",
       "  padding-right: 10px;\n",
       "}\n",
       "\n",
       ".xr-var-name:hover,\n",
       ".xr-var-dims:hover,\n",
       ".xr-var-dtype:hover,\n",
       ".xr-attrs dt:hover {\n",
       "  overflow: visible;\n",
       "  width: auto;\n",
       "  z-index: 1;\n",
       "}\n",
       "\n",
       ".xr-var-attrs,\n",
       ".xr-var-data {\n",
       "  display: none;\n",
       "  background-color: var(--xr-background-color) !important;\n",
       "  padding-bottom: 5px !important;\n",
       "}\n",
       "\n",
       ".xr-var-attrs-in:checked ~ .xr-var-attrs,\n",
       ".xr-var-data-in:checked ~ .xr-var-data {\n",
       "  display: block;\n",
       "}\n",
       "\n",
       ".xr-var-data > table {\n",
       "  float: right;\n",
       "}\n",
       "\n",
       ".xr-var-name span,\n",
       ".xr-var-data,\n",
       ".xr-attrs {\n",
       "  padding-left: 25px !important;\n",
       "}\n",
       "\n",
       ".xr-attrs,\n",
       ".xr-var-attrs,\n",
       ".xr-var-data {\n",
       "  grid-column: 1 / -1;\n",
       "}\n",
       "\n",
       "dl.xr-attrs {\n",
       "  padding: 0;\n",
       "  margin: 0;\n",
       "  display: grid;\n",
       "  grid-template-columns: 125px auto;\n",
       "}\n",
       "\n",
       ".xr-attrs dt,\n",
       ".xr-attrs dd {\n",
       "  padding: 0;\n",
       "  margin: 0;\n",
       "  float: left;\n",
       "  padding-right: 10px;\n",
       "  width: auto;\n",
       "}\n",
       "\n",
       ".xr-attrs dt {\n",
       "  font-weight: normal;\n",
       "  grid-column: 1;\n",
       "}\n",
       "\n",
       ".xr-attrs dt:hover span {\n",
       "  display: inline-block;\n",
       "  background: var(--xr-background-color);\n",
       "  padding-right: 10px;\n",
       "}\n",
       "\n",
       ".xr-attrs dd {\n",
       "  grid-column: 2;\n",
       "  white-space: pre-wrap;\n",
       "  word-break: break-all;\n",
       "}\n",
       "\n",
       ".xr-icon-database,\n",
       ".xr-icon-file-text2 {\n",
       "  display: inline-block;\n",
       "  vertical-align: middle;\n",
       "  width: 1em;\n",
       "  height: 1.5em !important;\n",
       "  stroke-width: 0;\n",
       "  stroke: currentColor;\n",
       "  fill: currentColor;\n",
       "}\n",
       "</style><pre class='xr-text-repr-fallback'>&lt;xarray.Dataset&gt;\n",
       "Dimensions:        (isobaricInhPa: 24, latitude: 721, longitude: 1440, time: 248)\n",
       "Coordinates:\n",
       "    number         int64 0\n",
       "  * time           (time) datetime64[ns] 2020-12-01 ... 2021-01-31T18:00:00\n",
       "    step           timedelta64[ns] 00:00:00\n",
       "  * isobaricInhPa  (isobaricInhPa) int64 1000 950 925 900 850 800 ... 7 5 3 2 1\n",
       "  * latitude       (latitude) float64 90.0 89.75 89.5 ... -89.5 -89.75 -90.0\n",
       "  * longitude      (longitude) float64 0.0 0.25 0.5 0.75 ... 359.2 359.5 359.8\n",
       "    valid_time     (time) datetime64[ns] dask.array&lt;chunksize=(124,), meta=np.ndarray&gt;\n",
       "Data variables:\n",
       "    t              (time, isobaricInhPa, latitude, longitude) float32 dask.array&lt;chunksize=(124, 24, 721, 1440), meta=np.ndarray&gt;\n",
       "    u              (time, isobaricInhPa, latitude, longitude) float32 dask.array&lt;chunksize=(124, 24, 721, 1440), meta=np.ndarray&gt;\n",
       "    v              (time, isobaricInhPa, latitude, longitude) float32 dask.array&lt;chunksize=(124, 24, 721, 1440), meta=np.ndarray&gt;\n",
       "    w              (time, isobaricInhPa, latitude, longitude) float32 dask.array&lt;chunksize=(124, 24, 721, 1440), meta=np.ndarray&gt;\n",
       "Attributes:\n",
       "    GRIB_edition:            1\n",
       "    GRIB_centre:             ecmf\n",
       "    GRIB_centreDescription:  European Centre for Medium-Range Weather Forecasts\n",
       "    GRIB_subCentre:          0\n",
       "    Conventions:             CF-1.7\n",
       "    institution:             European Centre for Medium-Range Weather Forecasts\n",
       "    history:                 2022-01-23T22:23:14 GRIB to CDM+CF via cfgrib-0....</pre><div class='xr-wrap' hidden><div class='xr-header'><div class='xr-obj-type'>xarray.Dataset</div></div><ul class='xr-sections'><li class='xr-section-item'><input id='section-2c379d98-2156-49f1-ab95-9ac746a264df' class='xr-section-summary-in' type='checkbox' disabled ><label for='section-2c379d98-2156-49f1-ab95-9ac746a264df' class='xr-section-summary'  title='Expand/collapse section'>Dimensions:</label><div class='xr-section-inline-details'><ul class='xr-dim-list'><li><span class='xr-has-index'>isobaricInhPa</span>: 24</li><li><span class='xr-has-index'>latitude</span>: 721</li><li><span class='xr-has-index'>longitude</span>: 1440</li><li><span class='xr-has-index'>time</span>: 248</li></ul></div><div class='xr-section-details'></div></li><li class='xr-section-item'><input id='section-fbb987bf-f252-4b85-9a54-075a9d6a9a49' class='xr-section-summary-in' type='checkbox'  checked><label for='section-fbb987bf-f252-4b85-9a54-075a9d6a9a49' class='xr-section-summary' >Coordinates: <span>(7)</span></label><div class='xr-section-inline-details'></div><div class='xr-section-details'><ul class='xr-var-list'><li class='xr-var-item'><div class='xr-var-name'><span>number</span></div><div class='xr-var-dims'>()</div><div class='xr-var-dtype'>int64</div><div class='xr-var-preview xr-preview'>0</div><input id='attrs-c89f98c3-aad5-4db8-a09a-9d058392d5ba' class='xr-var-attrs-in' type='checkbox' ><label for='attrs-c89f98c3-aad5-4db8-a09a-9d058392d5ba' title='Show/Hide attributes'><svg class='icon xr-icon-file-text2'><use xlink:href='#icon-file-text2'></use></svg></label><input id='data-8ef1101b-9bd6-474b-aa9f-1cb3c007b269' class='xr-var-data-in' type='checkbox'><label for='data-8ef1101b-9bd6-474b-aa9f-1cb3c007b269' title='Show/Hide data repr'><svg class='icon xr-icon-database'><use xlink:href='#icon-database'></use></svg></label><div class='xr-var-attrs'><dl class='xr-attrs'><dt><span>long_name :</span></dt><dd>ensemble member numerical id</dd><dt><span>units :</span></dt><dd>1</dd><dt><span>standard_name :</span></dt><dd>realization</dd></dl></div><div class='xr-var-data'><pre>array(0)</pre></div></li><li class='xr-var-item'><div class='xr-var-name'><span class='xr-has-index'>time</span></div><div class='xr-var-dims'>(time)</div><div class='xr-var-dtype'>datetime64[ns]</div><div class='xr-var-preview xr-preview'>2020-12-01 ... 2021-01-31T18:00:00</div><input id='attrs-22aefa2e-2045-4edd-aa3a-b5834d258d6c' class='xr-var-attrs-in' type='checkbox' ><label for='attrs-22aefa2e-2045-4edd-aa3a-b5834d258d6c' title='Show/Hide attributes'><svg class='icon xr-icon-file-text2'><use xlink:href='#icon-file-text2'></use></svg></label><input id='data-a2d3f324-4136-4605-9dad-81f5f0568fda' class='xr-var-data-in' type='checkbox'><label for='data-a2d3f324-4136-4605-9dad-81f5f0568fda' title='Show/Hide data repr'><svg class='icon xr-icon-database'><use xlink:href='#icon-database'></use></svg></label><div class='xr-var-attrs'><dl class='xr-attrs'><dt><span>long_name :</span></dt><dd>initial time of forecast</dd><dt><span>standard_name :</span></dt><dd>forecast_reference_time</dd></dl></div><div class='xr-var-data'><pre>array([&#x27;2020-12-01T00:00:00.000000000&#x27;, &#x27;2020-12-01T06:00:00.000000000&#x27;,\n",
       "       &#x27;2020-12-01T12:00:00.000000000&#x27;, ..., &#x27;2021-01-31T06:00:00.000000000&#x27;,\n",
       "       &#x27;2021-01-31T12:00:00.000000000&#x27;, &#x27;2021-01-31T18:00:00.000000000&#x27;],\n",
       "      dtype=&#x27;datetime64[ns]&#x27;)</pre></div></li><li class='xr-var-item'><div class='xr-var-name'><span>step</span></div><div class='xr-var-dims'>()</div><div class='xr-var-dtype'>timedelta64[ns]</div><div class='xr-var-preview xr-preview'>00:00:00</div><input id='attrs-bf331150-c530-496e-b2e2-ae649bfcdc95' class='xr-var-attrs-in' type='checkbox' ><label for='attrs-bf331150-c530-496e-b2e2-ae649bfcdc95' title='Show/Hide attributes'><svg class='icon xr-icon-file-text2'><use xlink:href='#icon-file-text2'></use></svg></label><input id='data-6197e651-2fbf-4bf2-8611-f1351c76fcec' class='xr-var-data-in' type='checkbox'><label for='data-6197e651-2fbf-4bf2-8611-f1351c76fcec' title='Show/Hide data repr'><svg class='icon xr-icon-database'><use xlink:href='#icon-database'></use></svg></label><div class='xr-var-attrs'><dl class='xr-attrs'><dt><span>long_name :</span></dt><dd>time since forecast_reference_time</dd><dt><span>standard_name :</span></dt><dd>forecast_period</dd></dl></div><div class='xr-var-data'><pre>array(0, dtype=&#x27;timedelta64[ns]&#x27;)</pre></div></li><li class='xr-var-item'><div class='xr-var-name'><span class='xr-has-index'>isobaricInhPa</span></div><div class='xr-var-dims'>(isobaricInhPa)</div><div class='xr-var-dtype'>int64</div><div class='xr-var-preview xr-preview'>1000 950 925 900 850 ... 7 5 3 2 1</div><input id='attrs-f08de404-cdf0-41a5-ad98-4fe059bf8bb8' class='xr-var-attrs-in' type='checkbox' ><label for='attrs-f08de404-cdf0-41a5-ad98-4fe059bf8bb8' title='Show/Hide attributes'><svg class='icon xr-icon-file-text2'><use xlink:href='#icon-file-text2'></use></svg></label><input id='data-94629b58-528f-4c92-8d2d-45693d57387c' class='xr-var-data-in' type='checkbox'><label for='data-94629b58-528f-4c92-8d2d-45693d57387c' title='Show/Hide data repr'><svg class='icon xr-icon-database'><use xlink:href='#icon-database'></use></svg></label><div class='xr-var-attrs'><dl class='xr-attrs'><dt><span>long_name :</span></dt><dd>pressure</dd><dt><span>units :</span></dt><dd>hPa</dd><dt><span>positive :</span></dt><dd>down</dd><dt><span>stored_direction :</span></dt><dd>decreasing</dd><dt><span>standard_name :</span></dt><dd>air_pressure</dd></dl></div><div class='xr-var-data'><pre>array([1000,  950,  925,  900,  850,  800,  700,  550,  400,  300,  250,  200,\n",
       "        150,  100,   70,   50,   30,   20,   10,    7,    5,    3,    2,    1])</pre></div></li><li class='xr-var-item'><div class='xr-var-name'><span class='xr-has-index'>latitude</span></div><div class='xr-var-dims'>(latitude)</div><div class='xr-var-dtype'>float64</div><div class='xr-var-preview xr-preview'>90.0 89.75 89.5 ... -89.75 -90.0</div><input id='attrs-f605e0e2-71cf-4721-8eed-7ee50da1500e' class='xr-var-attrs-in' type='checkbox' ><label for='attrs-f605e0e2-71cf-4721-8eed-7ee50da1500e' title='Show/Hide attributes'><svg class='icon xr-icon-file-text2'><use xlink:href='#icon-file-text2'></use></svg></label><input id='data-4a56556f-4543-4329-9796-12306ba1a65e' class='xr-var-data-in' type='checkbox'><label for='data-4a56556f-4543-4329-9796-12306ba1a65e' title='Show/Hide data repr'><svg class='icon xr-icon-database'><use xlink:href='#icon-database'></use></svg></label><div class='xr-var-attrs'><dl class='xr-attrs'><dt><span>units :</span></dt><dd>degrees_north</dd><dt><span>standard_name :</span></dt><dd>latitude</dd><dt><span>long_name :</span></dt><dd>latitude</dd><dt><span>stored_direction :</span></dt><dd>decreasing</dd></dl></div><div class='xr-var-data'><pre>array([ 90.  ,  89.75,  89.5 , ..., -89.5 , -89.75, -90.  ])</pre></div></li><li class='xr-var-item'><div class='xr-var-name'><span class='xr-has-index'>longitude</span></div><div class='xr-var-dims'>(longitude)</div><div class='xr-var-dtype'>float64</div><div class='xr-var-preview xr-preview'>0.0 0.25 0.5 ... 359.2 359.5 359.8</div><input id='attrs-fa1fc7b2-b2a5-4f52-a55c-1acdd0aca554' class='xr-var-attrs-in' type='checkbox' ><label for='attrs-fa1fc7b2-b2a5-4f52-a55c-1acdd0aca554' title='Show/Hide attributes'><svg class='icon xr-icon-file-text2'><use xlink:href='#icon-file-text2'></use></svg></label><input id='data-d34ded8b-18d6-4019-b278-897bafefeb40' class='xr-var-data-in' type='checkbox'><label for='data-d34ded8b-18d6-4019-b278-897bafefeb40' title='Show/Hide data repr'><svg class='icon xr-icon-database'><use xlink:href='#icon-database'></use></svg></label><div class='xr-var-attrs'><dl class='xr-attrs'><dt><span>units :</span></dt><dd>degrees_east</dd><dt><span>standard_name :</span></dt><dd>longitude</dd><dt><span>long_name :</span></dt><dd>longitude</dd></dl></div><div class='xr-var-data'><pre>array([0.0000e+00, 2.5000e-01, 5.0000e-01, ..., 3.5925e+02, 3.5950e+02,\n",
       "       3.5975e+02])</pre></div></li><li class='xr-var-item'><div class='xr-var-name'><span>valid_time</span></div><div class='xr-var-dims'>(time)</div><div class='xr-var-dtype'>datetime64[ns]</div><div class='xr-var-preview xr-preview'>dask.array&lt;chunksize=(124,), meta=np.ndarray&gt;</div><input id='attrs-eda3e01b-fe7d-4c52-9c1a-2da3d760ef23' class='xr-var-attrs-in' type='checkbox' ><label for='attrs-eda3e01b-fe7d-4c52-9c1a-2da3d760ef23' title='Show/Hide attributes'><svg class='icon xr-icon-file-text2'><use xlink:href='#icon-file-text2'></use></svg></label><input id='data-a921f492-c2e5-4c24-ab24-eadc1f1dbb45' class='xr-var-data-in' type='checkbox'><label for='data-a921f492-c2e5-4c24-ab24-eadc1f1dbb45' title='Show/Hide data repr'><svg class='icon xr-icon-database'><use xlink:href='#icon-database'></use></svg></label><div class='xr-var-attrs'><dl class='xr-attrs'><dt><span>standard_name :</span></dt><dd>time</dd><dt><span>long_name :</span></dt><dd>time</dd></dl></div><div class='xr-var-data'><table>\n",
       "<tr>\n",
       "<td>\n",
       "<table>\n",
       "  <thead>\n",
       "    <tr><td> </td><th> Array </th><th> Chunk </th></tr>\n",
       "  </thead>\n",
       "  <tbody>\n",
       "    <tr><th> Bytes </th><td> 1.98 kB </td> <td> 992 B </td></tr>\n",
       "    <tr><th> Shape </th><td> (248,) </td> <td> (124,) </td></tr>\n",
       "    <tr><th> Count </th><td> 6 Tasks </td><td> 2 Chunks </td></tr>\n",
       "    <tr><th> Type </th><td> datetime64[ns] </td><td> numpy.ndarray </td></tr>\n",
       "  </tbody>\n",
       "</table>\n",
       "</td>\n",
       "<td>\n",
       "<svg width=\"170\" height=\"75\" style=\"stroke:rgb(0,0,0);stroke-width:1\" >\n",
       "\n",
       "  <!-- Horizontal lines -->\n",
       "  <line x1=\"0\" y1=\"0\" x2=\"120\" y2=\"0\" style=\"stroke-width:2\" />\n",
       "  <line x1=\"0\" y1=\"25\" x2=\"120\" y2=\"25\" style=\"stroke-width:2\" />\n",
       "\n",
       "  <!-- Vertical lines -->\n",
       "  <line x1=\"0\" y1=\"0\" x2=\"0\" y2=\"25\" style=\"stroke-width:2\" />\n",
       "  <line x1=\"60\" y1=\"0\" x2=\"60\" y2=\"25\" />\n",
       "  <line x1=\"120\" y1=\"0\" x2=\"120\" y2=\"25\" style=\"stroke-width:2\" />\n",
       "\n",
       "  <!-- Colored Rectangle -->\n",
       "  <polygon points=\"0.0,0.0 120.0,0.0 120.0,25.412616514582485 0.0,25.412616514582485\" style=\"fill:#ECB172A0;stroke-width:0\"/>\n",
       "\n",
       "  <!-- Text -->\n",
       "  <text x=\"60.000000\" y=\"45.412617\" font-size=\"1.0rem\" font-weight=\"100\" text-anchor=\"middle\" >248</text>\n",
       "  <text x=\"140.000000\" y=\"12.706308\" font-size=\"1.0rem\" font-weight=\"100\" text-anchor=\"middle\" transform=\"rotate(0,140.000000,12.706308)\">1</text>\n",
       "</svg>\n",
       "</td>\n",
       "</tr>\n",
       "</table></div></li></ul></div></li><li class='xr-section-item'><input id='section-0e7aaa48-fbd1-4e99-8b7c-c0849fd19a68' class='xr-section-summary-in' type='checkbox'  checked><label for='section-0e7aaa48-fbd1-4e99-8b7c-c0849fd19a68' class='xr-section-summary' >Data variables: <span>(4)</span></label><div class='xr-section-inline-details'></div><div class='xr-section-details'><ul class='xr-var-list'><li class='xr-var-item'><div class='xr-var-name'><span>t</span></div><div class='xr-var-dims'>(time, isobaricInhPa, latitude, longitude)</div><div class='xr-var-dtype'>float32</div><div class='xr-var-preview xr-preview'>dask.array&lt;chunksize=(124, 24, 721, 1440), meta=np.ndarray&gt;</div><input id='attrs-9bd33db6-fd38-449a-b64a-426d05b4ddfb' class='xr-var-attrs-in' type='checkbox' ><label for='attrs-9bd33db6-fd38-449a-b64a-426d05b4ddfb' title='Show/Hide attributes'><svg class='icon xr-icon-file-text2'><use xlink:href='#icon-file-text2'></use></svg></label><input id='data-34e9e465-74b4-447e-91b6-53d8f2a09051' class='xr-var-data-in' type='checkbox'><label for='data-34e9e465-74b4-447e-91b6-53d8f2a09051' title='Show/Hide data repr'><svg class='icon xr-icon-database'><use xlink:href='#icon-database'></use></svg></label><div class='xr-var-attrs'><dl class='xr-attrs'><dt><span>GRIB_paramId :</span></dt><dd>130</dd><dt><span>GRIB_shortName :</span></dt><dd>t</dd><dt><span>GRIB_units :</span></dt><dd>K</dd><dt><span>GRIB_name :</span></dt><dd>Temperature</dd><dt><span>GRIB_cfName :</span></dt><dd>air_temperature</dd><dt><span>GRIB_cfVarName :</span></dt><dd>t</dd><dt><span>GRIB_dataType :</span></dt><dd>an</dd><dt><span>GRIB_missingValue :</span></dt><dd>9999</dd><dt><span>GRIB_numberOfPoints :</span></dt><dd>1038240</dd><dt><span>GRIB_totalNumber :</span></dt><dd>0</dd><dt><span>GRIB_typeOfLevel :</span></dt><dd>isobaricInhPa</dd><dt><span>GRIB_NV :</span></dt><dd>0</dd><dt><span>GRIB_stepUnits :</span></dt><dd>1</dd><dt><span>GRIB_stepType :</span></dt><dd>instant</dd><dt><span>GRIB_gridType :</span></dt><dd>regular_ll</dd><dt><span>GRIB_gridDefinitionDescription :</span></dt><dd>Latitude/Longitude Grid</dd><dt><span>GRIB_Nx :</span></dt><dd>1440</dd><dt><span>GRIB_iDirectionIncrementInDegrees :</span></dt><dd>0.25</dd><dt><span>GRIB_iScansNegatively :</span></dt><dd>0</dd><dt><span>GRIB_longitudeOfFirstGridPointInDegrees :</span></dt><dd>0.0</dd><dt><span>GRIB_longitudeOfLastGridPointInDegrees :</span></dt><dd>359.75</dd><dt><span>GRIB_Ny :</span></dt><dd>721</dd><dt><span>GRIB_jDirectionIncrementInDegrees :</span></dt><dd>0.25</dd><dt><span>GRIB_jPointsAreConsecutive :</span></dt><dd>0</dd><dt><span>GRIB_jScansPositively :</span></dt><dd>0</dd><dt><span>GRIB_latitudeOfFirstGridPointInDegrees :</span></dt><dd>90.0</dd><dt><span>GRIB_latitudeOfLastGridPointInDegrees :</span></dt><dd>-90.0</dd><dt><span>long_name :</span></dt><dd>Temperature</dd><dt><span>units :</span></dt><dd>K</dd><dt><span>standard_name :</span></dt><dd>air_temperature</dd></dl></div><div class='xr-var-data'><table>\n",
       "<tr>\n",
       "<td>\n",
       "<table>\n",
       "  <thead>\n",
       "    <tr><td> </td><th> Array </th><th> Chunk </th></tr>\n",
       "  </thead>\n",
       "  <tbody>\n",
       "    <tr><th> Bytes </th><td> 24.72 GB </td> <td> 12.36 GB </td></tr>\n",
       "    <tr><th> Shape </th><td> (248, 24, 721, 1440) </td> <td> (124, 24, 721, 1440) </td></tr>\n",
       "    <tr><th> Count </th><td> 6 Tasks </td><td> 2 Chunks </td></tr>\n",
       "    <tr><th> Type </th><td> float32 </td><td> numpy.ndarray </td></tr>\n",
       "  </tbody>\n",
       "</table>\n",
       "</td>\n",
       "<td>\n",
       "<svg width=\"408\" height=\"126\" style=\"stroke:rgb(0,0,0);stroke-width:1\" >\n",
       "\n",
       "  <!-- Horizontal lines -->\n",
       "  <line x1=\"0\" y1=\"0\" x2=\"41\" y2=\"0\" style=\"stroke-width:2\" />\n",
       "  <line x1=\"0\" y1=\"25\" x2=\"41\" y2=\"25\" style=\"stroke-width:2\" />\n",
       "\n",
       "  <!-- Vertical lines -->\n",
       "  <line x1=\"0\" y1=\"0\" x2=\"0\" y2=\"25\" style=\"stroke-width:2\" />\n",
       "  <line x1=\"20\" y1=\"0\" x2=\"20\" y2=\"25\" />\n",
       "  <line x1=\"41\" y1=\"0\" x2=\"41\" y2=\"25\" style=\"stroke-width:2\" />\n",
       "\n",
       "  <!-- Colored Rectangle -->\n",
       "  <polygon points=\"0.0,0.0 41.35398437346009,0.0 41.35398437346009,25.412616514582485 0.0,25.412616514582485\" style=\"fill:#ECB172A0;stroke-width:0\"/>\n",
       "\n",
       "  <!-- Text -->\n",
       "  <text x=\"20.676992\" y=\"45.412617\" font-size=\"1.0rem\" font-weight=\"100\" text-anchor=\"middle\" >248</text>\n",
       "  <text x=\"61.353984\" y=\"12.706308\" font-size=\"1.0rem\" font-weight=\"100\" text-anchor=\"middle\" transform=\"rotate(0,61.353984,12.706308)\">1</text>\n",
       "\n",
       "\n",
       "  <!-- Horizontal lines -->\n",
       "  <line x1=\"111\" y1=\"0\" x2=\"127\" y2=\"16\" style=\"stroke-width:2\" />\n",
       "  <line x1=\"111\" y1=\"60\" x2=\"127\" y2=\"76\" style=\"stroke-width:2\" />\n",
       "\n",
       "  <!-- Vertical lines -->\n",
       "  <line x1=\"111\" y1=\"0\" x2=\"111\" y2=\"60\" style=\"stroke-width:2\" />\n",
       "  <line x1=\"127\" y1=\"16\" x2=\"127\" y2=\"76\" style=\"stroke-width:2\" />\n",
       "\n",
       "  <!-- Colored Rectangle -->\n",
       "  <polygon points=\"111.0,0.0 127.48408095241591,16.484080952415905 127.48408095241591,76.56741428574924 111.0,60.083333333333336\" style=\"fill:#ECB172A0;stroke-width:0\"/>\n",
       "\n",
       "  <!-- Horizontal lines -->\n",
       "  <line x1=\"111\" y1=\"0\" x2=\"231\" y2=\"0\" style=\"stroke-width:2\" />\n",
       "  <line x1=\"127\" y1=\"16\" x2=\"247\" y2=\"16\" style=\"stroke-width:2\" />\n",
       "\n",
       "  <!-- Vertical lines -->\n",
       "  <line x1=\"111\" y1=\"0\" x2=\"127\" y2=\"16\" style=\"stroke-width:2\" />\n",
       "  <line x1=\"231\" y1=\"0\" x2=\"247\" y2=\"16\" style=\"stroke-width:2\" />\n",
       "\n",
       "  <!-- Colored Rectangle -->\n",
       "  <polygon points=\"111.0,0.0 231.0,0.0 247.4840809524159,16.484080952415905 127.48408095241591,16.484080952415905\" style=\"fill:#ECB172A0;stroke-width:0\"/>\n",
       "\n",
       "  <!-- Horizontal lines -->\n",
       "  <line x1=\"127\" y1=\"16\" x2=\"247\" y2=\"16\" style=\"stroke-width:2\" />\n",
       "  <line x1=\"127\" y1=\"76\" x2=\"247\" y2=\"76\" style=\"stroke-width:2\" />\n",
       "\n",
       "  <!-- Vertical lines -->\n",
       "  <line x1=\"127\" y1=\"16\" x2=\"127\" y2=\"76\" style=\"stroke-width:2\" />\n",
       "  <line x1=\"247\" y1=\"16\" x2=\"247\" y2=\"76\" style=\"stroke-width:2\" />\n",
       "\n",
       "  <!-- Colored Rectangle -->\n",
       "  <polygon points=\"127.48408095241591,16.484080952415905 247.48408095241592,16.484080952415905 247.48408095241592,76.56741428574924 127.48408095241591,76.56741428574924\" style=\"fill:#ECB172A0;stroke-width:0\"/>\n",
       "\n",
       "  <!-- Text -->\n",
       "  <text x=\"187.484081\" y=\"96.567414\" font-size=\"1.0rem\" font-weight=\"100\" text-anchor=\"middle\" >1440</text>\n",
       "  <text x=\"267.484081\" y=\"46.525748\" font-size=\"1.0rem\" font-weight=\"100\" text-anchor=\"middle\" transform=\"rotate(-90,267.484081,46.525748)\">721</text>\n",
       "  <text x=\"109.242040\" y=\"88.325374\" font-size=\"1.0rem\" font-weight=\"100\" text-anchor=\"middle\" transform=\"rotate(45,109.242040,88.325374)\">24</text>\n",
       "</svg>\n",
       "</td>\n",
       "</tr>\n",
       "</table></div></li><li class='xr-var-item'><div class='xr-var-name'><span>u</span></div><div class='xr-var-dims'>(time, isobaricInhPa, latitude, longitude)</div><div class='xr-var-dtype'>float32</div><div class='xr-var-preview xr-preview'>dask.array&lt;chunksize=(124, 24, 721, 1440), meta=np.ndarray&gt;</div><input id='attrs-301279ea-1a72-435f-8286-23cd7bd5fb2f' class='xr-var-attrs-in' type='checkbox' ><label for='attrs-301279ea-1a72-435f-8286-23cd7bd5fb2f' title='Show/Hide attributes'><svg class='icon xr-icon-file-text2'><use xlink:href='#icon-file-text2'></use></svg></label><input id='data-514b930e-562b-4666-88de-7d5b3ea1ce1c' class='xr-var-data-in' type='checkbox'><label for='data-514b930e-562b-4666-88de-7d5b3ea1ce1c' title='Show/Hide data repr'><svg class='icon xr-icon-database'><use xlink:href='#icon-database'></use></svg></label><div class='xr-var-attrs'><dl class='xr-attrs'><dt><span>GRIB_paramId :</span></dt><dd>131</dd><dt><span>GRIB_shortName :</span></dt><dd>u</dd><dt><span>GRIB_units :</span></dt><dd>m s**-1</dd><dt><span>GRIB_name :</span></dt><dd>U component of wind</dd><dt><span>GRIB_cfName :</span></dt><dd>eastward_wind</dd><dt><span>GRIB_cfVarName :</span></dt><dd>u</dd><dt><span>GRIB_dataType :</span></dt><dd>an</dd><dt><span>GRIB_missingValue :</span></dt><dd>9999</dd><dt><span>GRIB_numberOfPoints :</span></dt><dd>1038240</dd><dt><span>GRIB_totalNumber :</span></dt><dd>0</dd><dt><span>GRIB_typeOfLevel :</span></dt><dd>isobaricInhPa</dd><dt><span>GRIB_NV :</span></dt><dd>0</dd><dt><span>GRIB_stepUnits :</span></dt><dd>1</dd><dt><span>GRIB_stepType :</span></dt><dd>instant</dd><dt><span>GRIB_gridType :</span></dt><dd>regular_ll</dd><dt><span>GRIB_gridDefinitionDescription :</span></dt><dd>Latitude/Longitude Grid</dd><dt><span>GRIB_Nx :</span></dt><dd>1440</dd><dt><span>GRIB_iDirectionIncrementInDegrees :</span></dt><dd>0.25</dd><dt><span>GRIB_iScansNegatively :</span></dt><dd>0</dd><dt><span>GRIB_longitudeOfFirstGridPointInDegrees :</span></dt><dd>0.0</dd><dt><span>GRIB_longitudeOfLastGridPointInDegrees :</span></dt><dd>359.75</dd><dt><span>GRIB_Ny :</span></dt><dd>721</dd><dt><span>GRIB_jDirectionIncrementInDegrees :</span></dt><dd>0.25</dd><dt><span>GRIB_jPointsAreConsecutive :</span></dt><dd>0</dd><dt><span>GRIB_jScansPositively :</span></dt><dd>0</dd><dt><span>GRIB_latitudeOfFirstGridPointInDegrees :</span></dt><dd>90.0</dd><dt><span>GRIB_latitudeOfLastGridPointInDegrees :</span></dt><dd>-90.0</dd><dt><span>long_name :</span></dt><dd>U component of wind</dd><dt><span>units :</span></dt><dd>m s**-1</dd><dt><span>standard_name :</span></dt><dd>eastward_wind</dd></dl></div><div class='xr-var-data'><table>\n",
       "<tr>\n",
       "<td>\n",
       "<table>\n",
       "  <thead>\n",
       "    <tr><td> </td><th> Array </th><th> Chunk </th></tr>\n",
       "  </thead>\n",
       "  <tbody>\n",
       "    <tr><th> Bytes </th><td> 24.72 GB </td> <td> 12.36 GB </td></tr>\n",
       "    <tr><th> Shape </th><td> (248, 24, 721, 1440) </td> <td> (124, 24, 721, 1440) </td></tr>\n",
       "    <tr><th> Count </th><td> 6 Tasks </td><td> 2 Chunks </td></tr>\n",
       "    <tr><th> Type </th><td> float32 </td><td> numpy.ndarray </td></tr>\n",
       "  </tbody>\n",
       "</table>\n",
       "</td>\n",
       "<td>\n",
       "<svg width=\"408\" height=\"126\" style=\"stroke:rgb(0,0,0);stroke-width:1\" >\n",
       "\n",
       "  <!-- Horizontal lines -->\n",
       "  <line x1=\"0\" y1=\"0\" x2=\"41\" y2=\"0\" style=\"stroke-width:2\" />\n",
       "  <line x1=\"0\" y1=\"25\" x2=\"41\" y2=\"25\" style=\"stroke-width:2\" />\n",
       "\n",
       "  <!-- Vertical lines -->\n",
       "  <line x1=\"0\" y1=\"0\" x2=\"0\" y2=\"25\" style=\"stroke-width:2\" />\n",
       "  <line x1=\"20\" y1=\"0\" x2=\"20\" y2=\"25\" />\n",
       "  <line x1=\"41\" y1=\"0\" x2=\"41\" y2=\"25\" style=\"stroke-width:2\" />\n",
       "\n",
       "  <!-- Colored Rectangle -->\n",
       "  <polygon points=\"0.0,0.0 41.35398437346009,0.0 41.35398437346009,25.412616514582485 0.0,25.412616514582485\" style=\"fill:#ECB172A0;stroke-width:0\"/>\n",
       "\n",
       "  <!-- Text -->\n",
       "  <text x=\"20.676992\" y=\"45.412617\" font-size=\"1.0rem\" font-weight=\"100\" text-anchor=\"middle\" >248</text>\n",
       "  <text x=\"61.353984\" y=\"12.706308\" font-size=\"1.0rem\" font-weight=\"100\" text-anchor=\"middle\" transform=\"rotate(0,61.353984,12.706308)\">1</text>\n",
       "\n",
       "\n",
       "  <!-- Horizontal lines -->\n",
       "  <line x1=\"111\" y1=\"0\" x2=\"127\" y2=\"16\" style=\"stroke-width:2\" />\n",
       "  <line x1=\"111\" y1=\"60\" x2=\"127\" y2=\"76\" style=\"stroke-width:2\" />\n",
       "\n",
       "  <!-- Vertical lines -->\n",
       "  <line x1=\"111\" y1=\"0\" x2=\"111\" y2=\"60\" style=\"stroke-width:2\" />\n",
       "  <line x1=\"127\" y1=\"16\" x2=\"127\" y2=\"76\" style=\"stroke-width:2\" />\n",
       "\n",
       "  <!-- Colored Rectangle -->\n",
       "  <polygon points=\"111.0,0.0 127.48408095241591,16.484080952415905 127.48408095241591,76.56741428574924 111.0,60.083333333333336\" style=\"fill:#ECB172A0;stroke-width:0\"/>\n",
       "\n",
       "  <!-- Horizontal lines -->\n",
       "  <line x1=\"111\" y1=\"0\" x2=\"231\" y2=\"0\" style=\"stroke-width:2\" />\n",
       "  <line x1=\"127\" y1=\"16\" x2=\"247\" y2=\"16\" style=\"stroke-width:2\" />\n",
       "\n",
       "  <!-- Vertical lines -->\n",
       "  <line x1=\"111\" y1=\"0\" x2=\"127\" y2=\"16\" style=\"stroke-width:2\" />\n",
       "  <line x1=\"231\" y1=\"0\" x2=\"247\" y2=\"16\" style=\"stroke-width:2\" />\n",
       "\n",
       "  <!-- Colored Rectangle -->\n",
       "  <polygon points=\"111.0,0.0 231.0,0.0 247.4840809524159,16.484080952415905 127.48408095241591,16.484080952415905\" style=\"fill:#ECB172A0;stroke-width:0\"/>\n",
       "\n",
       "  <!-- Horizontal lines -->\n",
       "  <line x1=\"127\" y1=\"16\" x2=\"247\" y2=\"16\" style=\"stroke-width:2\" />\n",
       "  <line x1=\"127\" y1=\"76\" x2=\"247\" y2=\"76\" style=\"stroke-width:2\" />\n",
       "\n",
       "  <!-- Vertical lines -->\n",
       "  <line x1=\"127\" y1=\"16\" x2=\"127\" y2=\"76\" style=\"stroke-width:2\" />\n",
       "  <line x1=\"247\" y1=\"16\" x2=\"247\" y2=\"76\" style=\"stroke-width:2\" />\n",
       "\n",
       "  <!-- Colored Rectangle -->\n",
       "  <polygon points=\"127.48408095241591,16.484080952415905 247.48408095241592,16.484080952415905 247.48408095241592,76.56741428574924 127.48408095241591,76.56741428574924\" style=\"fill:#ECB172A0;stroke-width:0\"/>\n",
       "\n",
       "  <!-- Text -->\n",
       "  <text x=\"187.484081\" y=\"96.567414\" font-size=\"1.0rem\" font-weight=\"100\" text-anchor=\"middle\" >1440</text>\n",
       "  <text x=\"267.484081\" y=\"46.525748\" font-size=\"1.0rem\" font-weight=\"100\" text-anchor=\"middle\" transform=\"rotate(-90,267.484081,46.525748)\">721</text>\n",
       "  <text x=\"109.242040\" y=\"88.325374\" font-size=\"1.0rem\" font-weight=\"100\" text-anchor=\"middle\" transform=\"rotate(45,109.242040,88.325374)\">24</text>\n",
       "</svg>\n",
       "</td>\n",
       "</tr>\n",
       "</table></div></li><li class='xr-var-item'><div class='xr-var-name'><span>v</span></div><div class='xr-var-dims'>(time, isobaricInhPa, latitude, longitude)</div><div class='xr-var-dtype'>float32</div><div class='xr-var-preview xr-preview'>dask.array&lt;chunksize=(124, 24, 721, 1440), meta=np.ndarray&gt;</div><input id='attrs-fc758e88-a801-44b9-a670-75b71bd498f3' class='xr-var-attrs-in' type='checkbox' ><label for='attrs-fc758e88-a801-44b9-a670-75b71bd498f3' title='Show/Hide attributes'><svg class='icon xr-icon-file-text2'><use xlink:href='#icon-file-text2'></use></svg></label><input id='data-0ea24c3c-43d0-4b95-bc04-71bc8ea29900' class='xr-var-data-in' type='checkbox'><label for='data-0ea24c3c-43d0-4b95-bc04-71bc8ea29900' title='Show/Hide data repr'><svg class='icon xr-icon-database'><use xlink:href='#icon-database'></use></svg></label><div class='xr-var-attrs'><dl class='xr-attrs'><dt><span>GRIB_paramId :</span></dt><dd>132</dd><dt><span>GRIB_shortName :</span></dt><dd>v</dd><dt><span>GRIB_units :</span></dt><dd>m s**-1</dd><dt><span>GRIB_name :</span></dt><dd>V component of wind</dd><dt><span>GRIB_cfName :</span></dt><dd>northward_wind</dd><dt><span>GRIB_cfVarName :</span></dt><dd>v</dd><dt><span>GRIB_dataType :</span></dt><dd>an</dd><dt><span>GRIB_missingValue :</span></dt><dd>9999</dd><dt><span>GRIB_numberOfPoints :</span></dt><dd>1038240</dd><dt><span>GRIB_totalNumber :</span></dt><dd>0</dd><dt><span>GRIB_typeOfLevel :</span></dt><dd>isobaricInhPa</dd><dt><span>GRIB_NV :</span></dt><dd>0</dd><dt><span>GRIB_stepUnits :</span></dt><dd>1</dd><dt><span>GRIB_stepType :</span></dt><dd>instant</dd><dt><span>GRIB_gridType :</span></dt><dd>regular_ll</dd><dt><span>GRIB_gridDefinitionDescription :</span></dt><dd>Latitude/Longitude Grid</dd><dt><span>GRIB_Nx :</span></dt><dd>1440</dd><dt><span>GRIB_iDirectionIncrementInDegrees :</span></dt><dd>0.25</dd><dt><span>GRIB_iScansNegatively :</span></dt><dd>0</dd><dt><span>GRIB_longitudeOfFirstGridPointInDegrees :</span></dt><dd>0.0</dd><dt><span>GRIB_longitudeOfLastGridPointInDegrees :</span></dt><dd>359.75</dd><dt><span>GRIB_Ny :</span></dt><dd>721</dd><dt><span>GRIB_jDirectionIncrementInDegrees :</span></dt><dd>0.25</dd><dt><span>GRIB_jPointsAreConsecutive :</span></dt><dd>0</dd><dt><span>GRIB_jScansPositively :</span></dt><dd>0</dd><dt><span>GRIB_latitudeOfFirstGridPointInDegrees :</span></dt><dd>90.0</dd><dt><span>GRIB_latitudeOfLastGridPointInDegrees :</span></dt><dd>-90.0</dd><dt><span>long_name :</span></dt><dd>V component of wind</dd><dt><span>units :</span></dt><dd>m s**-1</dd><dt><span>standard_name :</span></dt><dd>northward_wind</dd></dl></div><div class='xr-var-data'><table>\n",
       "<tr>\n",
       "<td>\n",
       "<table>\n",
       "  <thead>\n",
       "    <tr><td> </td><th> Array </th><th> Chunk </th></tr>\n",
       "  </thead>\n",
       "  <tbody>\n",
       "    <tr><th> Bytes </th><td> 24.72 GB </td> <td> 12.36 GB </td></tr>\n",
       "    <tr><th> Shape </th><td> (248, 24, 721, 1440) </td> <td> (124, 24, 721, 1440) </td></tr>\n",
       "    <tr><th> Count </th><td> 6 Tasks </td><td> 2 Chunks </td></tr>\n",
       "    <tr><th> Type </th><td> float32 </td><td> numpy.ndarray </td></tr>\n",
       "  </tbody>\n",
       "</table>\n",
       "</td>\n",
       "<td>\n",
       "<svg width=\"408\" height=\"126\" style=\"stroke:rgb(0,0,0);stroke-width:1\" >\n",
       "\n",
       "  <!-- Horizontal lines -->\n",
       "  <line x1=\"0\" y1=\"0\" x2=\"41\" y2=\"0\" style=\"stroke-width:2\" />\n",
       "  <line x1=\"0\" y1=\"25\" x2=\"41\" y2=\"25\" style=\"stroke-width:2\" />\n",
       "\n",
       "  <!-- Vertical lines -->\n",
       "  <line x1=\"0\" y1=\"0\" x2=\"0\" y2=\"25\" style=\"stroke-width:2\" />\n",
       "  <line x1=\"20\" y1=\"0\" x2=\"20\" y2=\"25\" />\n",
       "  <line x1=\"41\" y1=\"0\" x2=\"41\" y2=\"25\" style=\"stroke-width:2\" />\n",
       "\n",
       "  <!-- Colored Rectangle -->\n",
       "  <polygon points=\"0.0,0.0 41.35398437346009,0.0 41.35398437346009,25.412616514582485 0.0,25.412616514582485\" style=\"fill:#ECB172A0;stroke-width:0\"/>\n",
       "\n",
       "  <!-- Text -->\n",
       "  <text x=\"20.676992\" y=\"45.412617\" font-size=\"1.0rem\" font-weight=\"100\" text-anchor=\"middle\" >248</text>\n",
       "  <text x=\"61.353984\" y=\"12.706308\" font-size=\"1.0rem\" font-weight=\"100\" text-anchor=\"middle\" transform=\"rotate(0,61.353984,12.706308)\">1</text>\n",
       "\n",
       "\n",
       "  <!-- Horizontal lines -->\n",
       "  <line x1=\"111\" y1=\"0\" x2=\"127\" y2=\"16\" style=\"stroke-width:2\" />\n",
       "  <line x1=\"111\" y1=\"60\" x2=\"127\" y2=\"76\" style=\"stroke-width:2\" />\n",
       "\n",
       "  <!-- Vertical lines -->\n",
       "  <line x1=\"111\" y1=\"0\" x2=\"111\" y2=\"60\" style=\"stroke-width:2\" />\n",
       "  <line x1=\"127\" y1=\"16\" x2=\"127\" y2=\"76\" style=\"stroke-width:2\" />\n",
       "\n",
       "  <!-- Colored Rectangle -->\n",
       "  <polygon points=\"111.0,0.0 127.48408095241591,16.484080952415905 127.48408095241591,76.56741428574924 111.0,60.083333333333336\" style=\"fill:#ECB172A0;stroke-width:0\"/>\n",
       "\n",
       "  <!-- Horizontal lines -->\n",
       "  <line x1=\"111\" y1=\"0\" x2=\"231\" y2=\"0\" style=\"stroke-width:2\" />\n",
       "  <line x1=\"127\" y1=\"16\" x2=\"247\" y2=\"16\" style=\"stroke-width:2\" />\n",
       "\n",
       "  <!-- Vertical lines -->\n",
       "  <line x1=\"111\" y1=\"0\" x2=\"127\" y2=\"16\" style=\"stroke-width:2\" />\n",
       "  <line x1=\"231\" y1=\"0\" x2=\"247\" y2=\"16\" style=\"stroke-width:2\" />\n",
       "\n",
       "  <!-- Colored Rectangle -->\n",
       "  <polygon points=\"111.0,0.0 231.0,0.0 247.4840809524159,16.484080952415905 127.48408095241591,16.484080952415905\" style=\"fill:#ECB172A0;stroke-width:0\"/>\n",
       "\n",
       "  <!-- Horizontal lines -->\n",
       "  <line x1=\"127\" y1=\"16\" x2=\"247\" y2=\"16\" style=\"stroke-width:2\" />\n",
       "  <line x1=\"127\" y1=\"76\" x2=\"247\" y2=\"76\" style=\"stroke-width:2\" />\n",
       "\n",
       "  <!-- Vertical lines -->\n",
       "  <line x1=\"127\" y1=\"16\" x2=\"127\" y2=\"76\" style=\"stroke-width:2\" />\n",
       "  <line x1=\"247\" y1=\"16\" x2=\"247\" y2=\"76\" style=\"stroke-width:2\" />\n",
       "\n",
       "  <!-- Colored Rectangle -->\n",
       "  <polygon points=\"127.48408095241591,16.484080952415905 247.48408095241592,16.484080952415905 247.48408095241592,76.56741428574924 127.48408095241591,76.56741428574924\" style=\"fill:#ECB172A0;stroke-width:0\"/>\n",
       "\n",
       "  <!-- Text -->\n",
       "  <text x=\"187.484081\" y=\"96.567414\" font-size=\"1.0rem\" font-weight=\"100\" text-anchor=\"middle\" >1440</text>\n",
       "  <text x=\"267.484081\" y=\"46.525748\" font-size=\"1.0rem\" font-weight=\"100\" text-anchor=\"middle\" transform=\"rotate(-90,267.484081,46.525748)\">721</text>\n",
       "  <text x=\"109.242040\" y=\"88.325374\" font-size=\"1.0rem\" font-weight=\"100\" text-anchor=\"middle\" transform=\"rotate(45,109.242040,88.325374)\">24</text>\n",
       "</svg>\n",
       "</td>\n",
       "</tr>\n",
       "</table></div></li><li class='xr-var-item'><div class='xr-var-name'><span>w</span></div><div class='xr-var-dims'>(time, isobaricInhPa, latitude, longitude)</div><div class='xr-var-dtype'>float32</div><div class='xr-var-preview xr-preview'>dask.array&lt;chunksize=(124, 24, 721, 1440), meta=np.ndarray&gt;</div><input id='attrs-4b5f9e53-d603-4f6c-af14-c35ea191619a' class='xr-var-attrs-in' type='checkbox' ><label for='attrs-4b5f9e53-d603-4f6c-af14-c35ea191619a' title='Show/Hide attributes'><svg class='icon xr-icon-file-text2'><use xlink:href='#icon-file-text2'></use></svg></label><input id='data-76fe82bc-b155-41c2-b914-5de36f5284ec' class='xr-var-data-in' type='checkbox'><label for='data-76fe82bc-b155-41c2-b914-5de36f5284ec' title='Show/Hide data repr'><svg class='icon xr-icon-database'><use xlink:href='#icon-database'></use></svg></label><div class='xr-var-attrs'><dl class='xr-attrs'><dt><span>GRIB_paramId :</span></dt><dd>135</dd><dt><span>GRIB_shortName :</span></dt><dd>w</dd><dt><span>GRIB_units :</span></dt><dd>Pa s**-1</dd><dt><span>GRIB_name :</span></dt><dd>Vertical velocity</dd><dt><span>GRIB_cfName :</span></dt><dd>lagrangian_tendency_of_air_pressure</dd><dt><span>GRIB_cfVarName :</span></dt><dd>w</dd><dt><span>GRIB_dataType :</span></dt><dd>an</dd><dt><span>GRIB_missingValue :</span></dt><dd>9999</dd><dt><span>GRIB_numberOfPoints :</span></dt><dd>1038240</dd><dt><span>GRIB_totalNumber :</span></dt><dd>0</dd><dt><span>GRIB_typeOfLevel :</span></dt><dd>isobaricInhPa</dd><dt><span>GRIB_NV :</span></dt><dd>0</dd><dt><span>GRIB_stepUnits :</span></dt><dd>1</dd><dt><span>GRIB_stepType :</span></dt><dd>instant</dd><dt><span>GRIB_gridType :</span></dt><dd>regular_ll</dd><dt><span>GRIB_gridDefinitionDescription :</span></dt><dd>Latitude/Longitude Grid</dd><dt><span>GRIB_Nx :</span></dt><dd>1440</dd><dt><span>GRIB_iDirectionIncrementInDegrees :</span></dt><dd>0.25</dd><dt><span>GRIB_iScansNegatively :</span></dt><dd>0</dd><dt><span>GRIB_longitudeOfFirstGridPointInDegrees :</span></dt><dd>0.0</dd><dt><span>GRIB_longitudeOfLastGridPointInDegrees :</span></dt><dd>359.75</dd><dt><span>GRIB_Ny :</span></dt><dd>721</dd><dt><span>GRIB_jDirectionIncrementInDegrees :</span></dt><dd>0.25</dd><dt><span>GRIB_jPointsAreConsecutive :</span></dt><dd>0</dd><dt><span>GRIB_jScansPositively :</span></dt><dd>0</dd><dt><span>GRIB_latitudeOfFirstGridPointInDegrees :</span></dt><dd>90.0</dd><dt><span>GRIB_latitudeOfLastGridPointInDegrees :</span></dt><dd>-90.0</dd><dt><span>long_name :</span></dt><dd>Vertical velocity</dd><dt><span>units :</span></dt><dd>Pa s**-1</dd><dt><span>standard_name :</span></dt><dd>lagrangian_tendency_of_air_pressure</dd></dl></div><div class='xr-var-data'><table>\n",
       "<tr>\n",
       "<td>\n",
       "<table>\n",
       "  <thead>\n",
       "    <tr><td> </td><th> Array </th><th> Chunk </th></tr>\n",
       "  </thead>\n",
       "  <tbody>\n",
       "    <tr><th> Bytes </th><td> 24.72 GB </td> <td> 12.36 GB </td></tr>\n",
       "    <tr><th> Shape </th><td> (248, 24, 721, 1440) </td> <td> (124, 24, 721, 1440) </td></tr>\n",
       "    <tr><th> Count </th><td> 6 Tasks </td><td> 2 Chunks </td></tr>\n",
       "    <tr><th> Type </th><td> float32 </td><td> numpy.ndarray </td></tr>\n",
       "  </tbody>\n",
       "</table>\n",
       "</td>\n",
       "<td>\n",
       "<svg width=\"408\" height=\"126\" style=\"stroke:rgb(0,0,0);stroke-width:1\" >\n",
       "\n",
       "  <!-- Horizontal lines -->\n",
       "  <line x1=\"0\" y1=\"0\" x2=\"41\" y2=\"0\" style=\"stroke-width:2\" />\n",
       "  <line x1=\"0\" y1=\"25\" x2=\"41\" y2=\"25\" style=\"stroke-width:2\" />\n",
       "\n",
       "  <!-- Vertical lines -->\n",
       "  <line x1=\"0\" y1=\"0\" x2=\"0\" y2=\"25\" style=\"stroke-width:2\" />\n",
       "  <line x1=\"20\" y1=\"0\" x2=\"20\" y2=\"25\" />\n",
       "  <line x1=\"41\" y1=\"0\" x2=\"41\" y2=\"25\" style=\"stroke-width:2\" />\n",
       "\n",
       "  <!-- Colored Rectangle -->\n",
       "  <polygon points=\"0.0,0.0 41.35398437346009,0.0 41.35398437346009,25.412616514582485 0.0,25.412616514582485\" style=\"fill:#ECB172A0;stroke-width:0\"/>\n",
       "\n",
       "  <!-- Text -->\n",
       "  <text x=\"20.676992\" y=\"45.412617\" font-size=\"1.0rem\" font-weight=\"100\" text-anchor=\"middle\" >248</text>\n",
       "  <text x=\"61.353984\" y=\"12.706308\" font-size=\"1.0rem\" font-weight=\"100\" text-anchor=\"middle\" transform=\"rotate(0,61.353984,12.706308)\">1</text>\n",
       "\n",
       "\n",
       "  <!-- Horizontal lines -->\n",
       "  <line x1=\"111\" y1=\"0\" x2=\"127\" y2=\"16\" style=\"stroke-width:2\" />\n",
       "  <line x1=\"111\" y1=\"60\" x2=\"127\" y2=\"76\" style=\"stroke-width:2\" />\n",
       "\n",
       "  <!-- Vertical lines -->\n",
       "  <line x1=\"111\" y1=\"0\" x2=\"111\" y2=\"60\" style=\"stroke-width:2\" />\n",
       "  <line x1=\"127\" y1=\"16\" x2=\"127\" y2=\"76\" style=\"stroke-width:2\" />\n",
       "\n",
       "  <!-- Colored Rectangle -->\n",
       "  <polygon points=\"111.0,0.0 127.48408095241591,16.484080952415905 127.48408095241591,76.56741428574924 111.0,60.083333333333336\" style=\"fill:#ECB172A0;stroke-width:0\"/>\n",
       "\n",
       "  <!-- Horizontal lines -->\n",
       "  <line x1=\"111\" y1=\"0\" x2=\"231\" y2=\"0\" style=\"stroke-width:2\" />\n",
       "  <line x1=\"127\" y1=\"16\" x2=\"247\" y2=\"16\" style=\"stroke-width:2\" />\n",
       "\n",
       "  <!-- Vertical lines -->\n",
       "  <line x1=\"111\" y1=\"0\" x2=\"127\" y2=\"16\" style=\"stroke-width:2\" />\n",
       "  <line x1=\"231\" y1=\"0\" x2=\"247\" y2=\"16\" style=\"stroke-width:2\" />\n",
       "\n",
       "  <!-- Colored Rectangle -->\n",
       "  <polygon points=\"111.0,0.0 231.0,0.0 247.4840809524159,16.484080952415905 127.48408095241591,16.484080952415905\" style=\"fill:#ECB172A0;stroke-width:0\"/>\n",
       "\n",
       "  <!-- Horizontal lines -->\n",
       "  <line x1=\"127\" y1=\"16\" x2=\"247\" y2=\"16\" style=\"stroke-width:2\" />\n",
       "  <line x1=\"127\" y1=\"76\" x2=\"247\" y2=\"76\" style=\"stroke-width:2\" />\n",
       "\n",
       "  <!-- Vertical lines -->\n",
       "  <line x1=\"127\" y1=\"16\" x2=\"127\" y2=\"76\" style=\"stroke-width:2\" />\n",
       "  <line x1=\"247\" y1=\"16\" x2=\"247\" y2=\"76\" style=\"stroke-width:2\" />\n",
       "\n",
       "  <!-- Colored Rectangle -->\n",
       "  <polygon points=\"127.48408095241591,16.484080952415905 247.48408095241592,16.484080952415905 247.48408095241592,76.56741428574924 127.48408095241591,76.56741428574924\" style=\"fill:#ECB172A0;stroke-width:0\"/>\n",
       "\n",
       "  <!-- Text -->\n",
       "  <text x=\"187.484081\" y=\"96.567414\" font-size=\"1.0rem\" font-weight=\"100\" text-anchor=\"middle\" >1440</text>\n",
       "  <text x=\"267.484081\" y=\"46.525748\" font-size=\"1.0rem\" font-weight=\"100\" text-anchor=\"middle\" transform=\"rotate(-90,267.484081,46.525748)\">721</text>\n",
       "  <text x=\"109.242040\" y=\"88.325374\" font-size=\"1.0rem\" font-weight=\"100\" text-anchor=\"middle\" transform=\"rotate(45,109.242040,88.325374)\">24</text>\n",
       "</svg>\n",
       "</td>\n",
       "</tr>\n",
       "</table></div></li></ul></div></li><li class='xr-section-item'><input id='section-57137941-4180-41cb-8a2d-d954d3f87bb5' class='xr-section-summary-in' type='checkbox'  checked><label for='section-57137941-4180-41cb-8a2d-d954d3f87bb5' class='xr-section-summary' >Attributes: <span>(7)</span></label><div class='xr-section-inline-details'></div><div class='xr-section-details'><dl class='xr-attrs'><dt><span>GRIB_edition :</span></dt><dd>1</dd><dt><span>GRIB_centre :</span></dt><dd>ecmf</dd><dt><span>GRIB_centreDescription :</span></dt><dd>European Centre for Medium-Range Weather Forecasts</dd><dt><span>GRIB_subCentre :</span></dt><dd>0</dd><dt><span>Conventions :</span></dt><dd>CF-1.7</dd><dt><span>institution :</span></dt><dd>European Centre for Medium-Range Weather Forecasts</dd><dt><span>history :</span></dt><dd>2022-01-23T22:23:14 GRIB to CDM+CF via cfgrib-0.9.8.5/ecCodes-2.24.1 with {&quot;source&quot;: &quot;/gemeinsam_tmp/SSW_2021/ERA5/adaptor.mars.internal-1641922827.7100482-29275-10-f640de5d-c799-4896-89be-be870b48248c.grib&quot;, &quot;filter_by_keys&quot;: {}, &quot;encode_cf&quot;: [&quot;parameter&quot;, &quot;time&quot;, &quot;geography&quot;, &quot;vertical&quot;]}</dd></dl></div></li></ul></div></div>"
      ],
      "text/plain": [
       "<xarray.Dataset>\n",
       "Dimensions:        (isobaricInhPa: 24, latitude: 721, longitude: 1440, time: 248)\n",
       "Coordinates:\n",
       "    number         int64 0\n",
       "  * time           (time) datetime64[ns] 2020-12-01 ... 2021-01-31T18:00:00\n",
       "    step           timedelta64[ns] 00:00:00\n",
       "  * isobaricInhPa  (isobaricInhPa) int64 1000 950 925 900 850 800 ... 7 5 3 2 1\n",
       "  * latitude       (latitude) float64 90.0 89.75 89.5 ... -89.5 -89.75 -90.0\n",
       "  * longitude      (longitude) float64 0.0 0.25 0.5 0.75 ... 359.2 359.5 359.8\n",
       "    valid_time     (time) datetime64[ns] dask.array<chunksize=(124,), meta=np.ndarray>\n",
       "Data variables:\n",
       "    t              (time, isobaricInhPa, latitude, longitude) float32 dask.array<chunksize=(124, 24, 721, 1440), meta=np.ndarray>\n",
       "    u              (time, isobaricInhPa, latitude, longitude) float32 dask.array<chunksize=(124, 24, 721, 1440), meta=np.ndarray>\n",
       "    v              (time, isobaricInhPa, latitude, longitude) float32 dask.array<chunksize=(124, 24, 721, 1440), meta=np.ndarray>\n",
       "    w              (time, isobaricInhPa, latitude, longitude) float32 dask.array<chunksize=(124, 24, 721, 1440), meta=np.ndarray>\n",
       "Attributes:\n",
       "    GRIB_edition:            1\n",
       "    GRIB_centre:             ecmf\n",
       "    GRIB_centreDescription:  European Centre for Medium-Range Weather Forecasts\n",
       "    GRIB_subCentre:          0\n",
       "    Conventions:             CF-1.7\n",
       "    institution:             European Centre for Medium-Range Weather Forecasts\n",
       "    history:                 2022-01-23T22:23:14 GRIB to CDM+CF via cfgrib-0...."
      ]
     },
     "execution_count": 8,
     "metadata": {},
     "output_type": "execute_result"
    }
   ],
   "source": [
    "ds_era5"
   ]
  },
  {
   "cell_type": "markdown",
   "id": "60e266b2",
   "metadata": {},
   "source": [
    "### Test Plots"
   ]
  },
  {
   "cell_type": "code",
   "execution_count": 8,
   "id": "fd96a17a",
   "metadata": {
    "ExecuteTime": {
     "end_time": "2022-01-23T18:41:43.287607Z",
     "start_time": "2022-01-23T18:41:41.793920Z"
    },
    "scrolled": false
   },
   "outputs": [
    {
     "data": {
      "text/plain": [
       "<cartopy.mpl.gridliner.Gridliner at 0x7f856af9e080>"
      ]
     },
     "execution_count": 8,
     "metadata": {},
     "output_type": "execute_result"
    },
    {
     "data": {
      "image/png": "[encoded data removed]",
      "text/plain": [
       "<Figure size 432x288 with 2 Axes>"
      ]
     },
     "metadata": {
      "needs_background": "light"
     },
     "output_type": "display_data"
    }
   ],
   "source": [
    "p = ds_era5['t'].sel(\n",
    "    isobaricInhPa=10,\n",
    "    time = '2021-01-05T00'\n",
    "    ).plot(\n",
    "        subplot_kws=dict(projection=ccrs.Orthographic(0, 90)), \n",
    "        transform=ccrs.PlateCarree(),\n",
    "        #robust = True\n",
    ")\n",
    "p.axes.set_global()\n",
    "p.axes.coastlines()\n",
    "p.axes.gridlines()"
   ]
  },
  {
   "cell_type": "markdown",
   "id": "425b83f7",
   "metadata": {},
   "source": [
    "## testtt\n"
   ]
  },
  {
   "cell_type": "code",
   "execution_count": 10,
   "id": "cf52682b",
   "metadata": {
    "ExecuteTime": {
     "end_time": "2022-01-24T00:02:47.298689Z",
     "start_time": "2022-01-24T00:02:47.279975Z"
    }
   },
   "outputs": [],
   "source": [
    "var = 'u'\n",
    "t = ds_era5.time[0]"
   ]
  },
  {
   "cell_type": "code",
   "execution_count": 12,
   "id": "8802cba8",
   "metadata": {
    "ExecuteTime": {
     "end_time": "2022-01-23T18:42:17.636222Z",
     "start_time": "2022-01-23T18:42:14.711450Z"
    }
   },
   "outputs": [
    {
     "data": {
      "image/png": "[encoded data removed]",
      "text/plain": [
       "<Figure size 720x504 with 2 Axes>"
      ]
     },
     "metadata": {
      "needs_background": "light"
     },
     "output_type": "display_data"
    }
   ],
   "source": [
    "sel = ds_era5[var].sel(**{coord_info.get(dataset).get('time'): t.data},).load()\n",
    "plot_profile_xr(sel, t, dataset,  mode='meridional',\n",
    "                norm_bound=None, norm_type = 'diverging', \n",
    "                cmap = plt.cm.PuOr, levels=20,\n",
    "                save=False )"
   ]
  },
  {
   "cell_type": "code",
   "execution_count": null,
   "id": "334c91b0",
   "metadata": {},
   "outputs": [],
   "source": []
  },
  {
   "cell_type": "markdown",
   "id": "b6fb01b6",
   "metadata": {},
   "source": [
    "### Plot u zonal profiles: ~2 min"
   ]
  },
  {
   "cell_type": "code",
   "execution_count": 9,
   "id": "2c34f747",
   "metadata": {
    "ExecuteTime": {
     "end_time": "2022-01-23T22:06:30.076150Z",
     "start_time": "2022-01-23T22:06:30.069875Z"
    }
   },
   "outputs": [],
   "source": [
    "var = 'u'"
   ]
  },
  {
   "cell_type": "code",
   "execution_count": 14,
   "id": "0f166e38",
   "metadata": {
    "ExecuteTime": {
     "end_time": "2022-01-23T18:48:50.481961Z",
     "start_time": "2022-01-23T18:42:41.734697Z"
    }
   },
   "outputs": [],
   "source": [
    "sel_all = ds_era5[var].sel(\n",
    "#               **{coord_info.get(dataset).get('lat'): slice(0, 10)},\n",
    "#               **{coord_info.get(dataset).get('p'): slice(500, 1)}\n",
    ").load()\n",
    "\n",
    "mini = sel_all.min().data\n",
    "maxi = sel_all.max().data\n",
    "\n",
    "for t in sel_all.time:\n",
    "    sel = sel_all.sel(**{coord_info.get(dataset).get('time'): t.data},) \n",
    "  \n",
    "    plot_profile_xr(sel, t, dataset,  mode='meridional',\n",
    "                    norm_bound=(mini, maxi), norm_type = 'diverging', \n",
    "                    cmap = plt.cm.PuOr, levels=20,\n",
    "                    save=True )"
   ]
  },
  {
   "cell_type": "code",
   "execution_count": 15,
   "id": "c2e0e645",
   "metadata": {
    "ExecuteTime": {
     "end_time": "2022-01-23T18:49:03.882743Z",
     "start_time": "2022-01-23T18:48:50.483889Z"
    }
   },
   "outputs": [],
   "source": [
    "file_folder = results_dir.get(dataset) + '/u_meridional_profile'\n",
    "make_gif(file_folder, dataset,  duration=150)"
   ]
  },
  {
   "cell_type": "markdown",
   "id": "34874334",
   "metadata": {},
   "source": [
    "### Plot t (°C) zonal profiles: ~6 min"
   ]
  },
  {
   "cell_type": "code",
   "execution_count": 16,
   "id": "f85e736a",
   "metadata": {
    "ExecuteTime": {
     "end_time": "2022-01-23T18:49:03.889203Z",
     "start_time": "2022-01-23T18:49:03.885510Z"
    }
   },
   "outputs": [],
   "source": [
    "var = 't'"
   ]
  },
  {
   "cell_type": "code",
   "execution_count": 17,
   "id": "8cc3aa0b",
   "metadata": {
    "ExecuteTime": {
     "end_time": "2022-01-23T18:52:54.446720Z",
     "start_time": "2022-01-23T18:49:03.891522Z"
    }
   },
   "outputs": [],
   "source": [
    "sel_all = ds_era5[var].sel(\n",
    "#               **{coord_info.get(dataset).get('lat'): slice(0, 10)},\n",
    "#               **{coord_info.get(dataset).get('p'): slice(500, 1)}\n",
    ").load() - 273.15\n",
    "sel_all = sel_all.rename('tc')\n",
    "\n",
    "mini = sel_all.min().data\n",
    "maxi = sel_all.max().data"
   ]
  },
  {
   "cell_type": "code",
   "execution_count": 18,
   "id": "e4b821e7",
   "metadata": {
    "ExecuteTime": {
     "end_time": "2022-01-23T18:55:15.035771Z",
     "start_time": "2022-01-23T18:52:54.448776Z"
    }
   },
   "outputs": [],
   "source": [
    "for t in sel_all.time:\n",
    "    sel = sel_all.sel(**{coord_info.get(dataset).get('time'): t.data},)\n",
    "    \n",
    "    plot_profile_xr(sel, t, dataset, mode='meridional',\n",
    "                    norm_bound=(mini, maxi), norm_type = 'diverging', \n",
    "                    cmap = plt.cm.RdBu_r, levels=20, \n",
    "                    save=True )"
   ]
  },
  {
   "cell_type": "code",
   "execution_count": 19,
   "id": "fddceeec",
   "metadata": {
    "ExecuteTime": {
     "end_time": "2022-01-23T18:55:29.211837Z",
     "start_time": "2022-01-23T18:55:15.037378Z"
    }
   },
   "outputs": [],
   "source": [
    "file_folder = results_dir.get(dataset) + '/tc_meridional_profile'\n",
    "make_gif(file_folder, dataset,  duration=150)"
   ]
  },
  {
   "cell_type": "markdown",
   "id": "f44381bc",
   "metadata": {},
   "source": [
    "### Plot Geopotential maps: ~10 min"
   ]
  },
  {
   "cell_type": "code",
   "execution_count": 20,
   "id": "d6902f97",
   "metadata": {
    "ExecuteTime": {
     "end_time": "2022-01-23T18:55:29.217277Z",
     "start_time": "2022-01-23T18:55:29.214298Z"
    }
   },
   "outputs": [],
   "source": [
    "p_level = 10\n",
    "var = 'z'"
   ]
  },
  {
   "cell_type": "code",
   "execution_count": 21,
   "id": "0a443bd8",
   "metadata": {
    "ExecuteTime": {
     "end_time": "2022-01-23T18:55:29.242018Z",
     "start_time": "2022-01-23T18:55:29.221520Z"
    }
   },
   "outputs": [
    {
     "ename": "KeyError",
     "evalue": "'z'",
     "output_type": "error",
     "traceback": [
      "\u001b[0;31m---------------------------------------------------------------------------\u001b[0m",
      "\u001b[0;31mKeyError\u001b[0m                                  Traceback (most recent call last)",
      "\u001b[0;32m~/.conda/envs/nwp-py3/lib/python3.6/site-packages/xarray/core/dataset.py\u001b[0m in \u001b[0;36m_construct_dataarray\u001b[0;34m(self, name)\u001b[0m\n\u001b[1;32m   1304\u001b[0m         \u001b[0;32mtry\u001b[0m\u001b[0;34m:\u001b[0m\u001b[0;34m\u001b[0m\u001b[0;34m\u001b[0m\u001b[0m\n\u001b[0;32m-> 1305\u001b[0;31m             \u001b[0mvariable\u001b[0m \u001b[0;34m=\u001b[0m \u001b[0mself\u001b[0m\u001b[0;34m.\u001b[0m\u001b[0m_variables\u001b[0m\u001b[0;34m[\u001b[0m\u001b[0mname\u001b[0m\u001b[0;34m]\u001b[0m\u001b[0;34m\u001b[0m\u001b[0;34m\u001b[0m\u001b[0m\n\u001b[0m\u001b[1;32m   1306\u001b[0m         \u001b[0;32mexcept\u001b[0m \u001b[0mKeyError\u001b[0m\u001b[0;34m:\u001b[0m\u001b[0;34m\u001b[0m\u001b[0;34m\u001b[0m\u001b[0m\n",
      "\u001b[0;31mKeyError\u001b[0m: 'z'",
      "\nDuring handling of the above exception, another exception occurred:\n",
      "\u001b[0;31mKeyError\u001b[0m                                  Traceback (most recent call last)",
      "\u001b[0;32m<ipython-input-21-da31d159becf>\u001b[0m in \u001b[0;36m<module>\u001b[0;34m\u001b[0m\n\u001b[0;32m----> 1\u001b[0;31m sel_all = ds_era5[var].sel(\n\u001b[0m\u001b[1;32m      2\u001b[0m                 \u001b[0;34m**\u001b[0m\u001b[0;34m{\u001b[0m\u001b[0mcoord_info\u001b[0m\u001b[0;34m.\u001b[0m\u001b[0mget\u001b[0m\u001b[0;34m(\u001b[0m\u001b[0mdataset\u001b[0m\u001b[0;34m)\u001b[0m\u001b[0;34m.\u001b[0m\u001b[0mget\u001b[0m\u001b[0;34m(\u001b[0m\u001b[0;34m'lat'\u001b[0m\u001b[0;34m)\u001b[0m\u001b[0;34m:\u001b[0m \u001b[0mslice\u001b[0m\u001b[0;34m(\u001b[0m\u001b[0;36m0\u001b[0m\u001b[0;34m,\u001b[0m \u001b[0;36m90\u001b[0m\u001b[0;34m)\u001b[0m\u001b[0;34m}\u001b[0m\u001b[0;34m,\u001b[0m\u001b[0;34m\u001b[0m\u001b[0;34m\u001b[0m\u001b[0m\n\u001b[1;32m      3\u001b[0m                 \u001b[0;34m**\u001b[0m\u001b[0;34m{\u001b[0m\u001b[0mcoord_info\u001b[0m\u001b[0;34m.\u001b[0m\u001b[0mget\u001b[0m\u001b[0;34m(\u001b[0m\u001b[0mdataset\u001b[0m\u001b[0;34m)\u001b[0m\u001b[0;34m.\u001b[0m\u001b[0mget\u001b[0m\u001b[0;34m(\u001b[0m\u001b[0;34m'p'\u001b[0m\u001b[0;34m)\u001b[0m\u001b[0;34m:\u001b[0m \u001b[0mp_level\u001b[0m\u001b[0;34m}\u001b[0m\u001b[0;34m,\u001b[0m\u001b[0;34m\u001b[0m\u001b[0;34m\u001b[0m\u001b[0m\n\u001b[1;32m      4\u001b[0m                 ).compute()\n\u001b[1;32m      5\u001b[0m \u001b[0mmaxi\u001b[0m \u001b[0;34m=\u001b[0m \u001b[0msel_all\u001b[0m\u001b[0;34m.\u001b[0m\u001b[0mmax\u001b[0m\u001b[0;34m(\u001b[0m\u001b[0;34m)\u001b[0m\u001b[0;34m.\u001b[0m\u001b[0mdata\u001b[0m\u001b[0;34m\u001b[0m\u001b[0;34m\u001b[0m\u001b[0m\n",
      "\u001b[0;32m~/.conda/envs/nwp-py3/lib/python3.6/site-packages/xarray/core/dataset.py\u001b[0m in \u001b[0;36m__getitem__\u001b[0;34m(self, key)\u001b[0m\n\u001b[1;32m   1407\u001b[0m \u001b[0;34m\u001b[0m\u001b[0m\n\u001b[1;32m   1408\u001b[0m         \u001b[0;32mif\u001b[0m \u001b[0mhashable\u001b[0m\u001b[0;34m(\u001b[0m\u001b[0mkey\u001b[0m\u001b[0;34m)\u001b[0m\u001b[0;34m:\u001b[0m\u001b[0;34m\u001b[0m\u001b[0;34m\u001b[0m\u001b[0m\n\u001b[0;32m-> 1409\u001b[0;31m             \u001b[0;32mreturn\u001b[0m \u001b[0mself\u001b[0m\u001b[0;34m.\u001b[0m\u001b[0m_construct_dataarray\u001b[0m\u001b[0;34m(\u001b[0m\u001b[0mkey\u001b[0m\u001b[0;34m)\u001b[0m\u001b[0;34m\u001b[0m\u001b[0;34m\u001b[0m\u001b[0m\n\u001b[0m\u001b[1;32m   1410\u001b[0m         \u001b[0;32melse\u001b[0m\u001b[0;34m:\u001b[0m\u001b[0;34m\u001b[0m\u001b[0;34m\u001b[0m\u001b[0m\n\u001b[1;32m   1411\u001b[0m             \u001b[0;32mreturn\u001b[0m \u001b[0mself\u001b[0m\u001b[0;34m.\u001b[0m\u001b[0m_copy_listed\u001b[0m\u001b[0;34m(\u001b[0m\u001b[0mnp\u001b[0m\u001b[0;34m.\u001b[0m\u001b[0masarray\u001b[0m\u001b[0;34m(\u001b[0m\u001b[0mkey\u001b[0m\u001b[0;34m)\u001b[0m\u001b[0;34m)\u001b[0m\u001b[0;34m\u001b[0m\u001b[0;34m\u001b[0m\u001b[0m\n",
      "\u001b[0;32m~/.conda/envs/nwp-py3/lib/python3.6/site-packages/xarray/core/dataset.py\u001b[0m in \u001b[0;36m_construct_dataarray\u001b[0;34m(self, name)\u001b[0m\n\u001b[1;32m   1306\u001b[0m         \u001b[0;32mexcept\u001b[0m \u001b[0mKeyError\u001b[0m\u001b[0;34m:\u001b[0m\u001b[0;34m\u001b[0m\u001b[0;34m\u001b[0m\u001b[0m\n\u001b[1;32m   1307\u001b[0m             _, name, variable = _get_virtual_variable(\n\u001b[0;32m-> 1308\u001b[0;31m                 \u001b[0mself\u001b[0m\u001b[0;34m.\u001b[0m\u001b[0m_variables\u001b[0m\u001b[0;34m,\u001b[0m \u001b[0mname\u001b[0m\u001b[0;34m,\u001b[0m \u001b[0mself\u001b[0m\u001b[0;34m.\u001b[0m\u001b[0m_level_coords\u001b[0m\u001b[0;34m,\u001b[0m \u001b[0mself\u001b[0m\u001b[0;34m.\u001b[0m\u001b[0mdims\u001b[0m\u001b[0;34m\u001b[0m\u001b[0;34m\u001b[0m\u001b[0m\n\u001b[0m\u001b[1;32m   1309\u001b[0m             )\n\u001b[1;32m   1310\u001b[0m \u001b[0;34m\u001b[0m\u001b[0m\n",
      "\u001b[0;32m~/.conda/envs/nwp-py3/lib/python3.6/site-packages/xarray/core/dataset.py\u001b[0m in \u001b[0;36m_get_virtual_variable\u001b[0;34m(variables, key, level_vars, dim_sizes)\u001b[0m\n\u001b[1;32m    169\u001b[0m         \u001b[0mref_var\u001b[0m \u001b[0;34m=\u001b[0m \u001b[0mdim_var\u001b[0m\u001b[0;34m.\u001b[0m\u001b[0mto_index_variable\u001b[0m\u001b[0;34m(\u001b[0m\u001b[0;34m)\u001b[0m\u001b[0;34m.\u001b[0m\u001b[0mget_level_variable\u001b[0m\u001b[0;34m(\u001b[0m\u001b[0mref_name\u001b[0m\u001b[0;34m)\u001b[0m\u001b[0;34m\u001b[0m\u001b[0;34m\u001b[0m\u001b[0m\n\u001b[1;32m    170\u001b[0m     \u001b[0;32melse\u001b[0m\u001b[0;34m:\u001b[0m\u001b[0;34m\u001b[0m\u001b[0;34m\u001b[0m\u001b[0m\n\u001b[0;32m--> 171\u001b[0;31m         \u001b[0mref_var\u001b[0m \u001b[0;34m=\u001b[0m \u001b[0mvariables\u001b[0m\u001b[0;34m[\u001b[0m\u001b[0mref_name\u001b[0m\u001b[0;34m]\u001b[0m\u001b[0;34m\u001b[0m\u001b[0;34m\u001b[0m\u001b[0m\n\u001b[0m\u001b[1;32m    172\u001b[0m \u001b[0;34m\u001b[0m\u001b[0m\n\u001b[1;32m    173\u001b[0m     \u001b[0;32mif\u001b[0m \u001b[0mvar_name\u001b[0m \u001b[0;32mis\u001b[0m \u001b[0;32mNone\u001b[0m\u001b[0;34m:\u001b[0m\u001b[0;34m\u001b[0m\u001b[0;34m\u001b[0m\u001b[0m\n",
      "\u001b[0;31mKeyError\u001b[0m: 'z'"
     ]
    }
   ],
   "source": [
    "sel_all = ds_era5[var].sel(\n",
    "                **{coord_info.get(dataset).get('lat'): slice(0, 90)},\n",
    "                **{coord_info.get(dataset).get('p'): p_level},\n",
    "                ).compute()\n",
    "maxi = sel_all.max().data\n",
    "mini = sel_all.min().data"
   ]
  },
  {
   "cell_type": "code",
   "execution_count": null,
   "id": "6bf2bf86",
   "metadata": {
    "ExecuteTime": {
     "end_time": "2022-01-23T18:55:29.243433Z",
     "start_time": "2022-01-23T18:42:48.711Z"
    }
   },
   "outputs": [],
   "source": [
    "for t in sel_all.time:\n",
    "    sel = sel_all.sel(**{coord_info.get(dataset).get('time'): t.data})\n",
    "    plot_map_xr(sel, t, dataset, figsize=(6,6),\n",
    "             projection=ccrs.Orthographic(central_longitude=0, central_latitude=90),\n",
    "             norm=True, norm_bound=(mini, maxi), norm_type='linear',\n",
    "             levels=20, cmap=plt.cm.Purples,\n",
    "             save=True\n",
    "             )"
   ]
  },
  {
   "cell_type": "code",
   "execution_count": null,
   "id": "afccbd94",
   "metadata": {
    "ExecuteTime": {
     "end_time": "2022-01-23T18:55:29.244308Z",
     "start_time": "2022-01-23T18:42:50.077Z"
    }
   },
   "outputs": [],
   "source": [
    "file_folder = results_dir.get(dataset) + 'z_' + str(int(p_level)) + 'hPa'\n",
    "make_gif(file_folder, dataset,  duration=150)"
   ]
  },
  {
   "cell_type": "markdown",
   "id": "18b40453",
   "metadata": {},
   "source": [
    "### Plot Temperature (°C) maps: ~10 min"
   ]
  },
  {
   "cell_type": "code",
   "execution_count": 22,
   "id": "8273be3f",
   "metadata": {
    "ExecuteTime": {
     "end_time": "2022-01-23T20:11:04.527020Z",
     "start_time": "2022-01-23T20:11:04.521739Z"
    }
   },
   "outputs": [],
   "source": [
    "p_level = 10\n",
    "var = 't'"
   ]
  },
  {
   "cell_type": "code",
   "execution_count": 23,
   "id": "971b3305",
   "metadata": {
    "ExecuteTime": {
     "end_time": "2022-01-23T20:11:05.199708Z",
     "start_time": "2022-01-23T20:11:04.773491Z"
    }
   },
   "outputs": [],
   "source": [
    "sel_all = ds_era5[var].sel(\n",
    "                **{coord_info.get(dataset).get('lat'): slice(0, 90, -1)},\n",
    "                **{coord_info.get(dataset).get('p'): p_level},\n",
    "                ).load() - 273.15\n",
    "\n",
    "sel_all = sel_all.rename('tc')\n",
    "\n",
    "maxi = sel_all.max().data\n",
    "mini = sel_all.min().data"
   ]
  },
  {
   "cell_type": "code",
   "execution_count": 24,
   "id": "9268e1c1",
   "metadata": {
    "ExecuteTime": {
     "end_time": "2022-01-23T20:11:05.205906Z",
     "start_time": "2022-01-23T20:11:05.201525Z"
    }
   },
   "outputs": [
    {
     "data": {
      "text/plain": [
       "(array(-92.48689, dtype=float32), array(10.303558, dtype=float32))"
      ]
     },
     "execution_count": 24,
     "metadata": {},
     "output_type": "execute_result"
    }
   ],
   "source": [
    "mini, maxi"
   ]
  },
  {
   "cell_type": "code",
   "execution_count": 25,
   "id": "072c8fed",
   "metadata": {
    "ExecuteTime": {
     "end_time": "2022-01-23T20:23:20.707069Z",
     "start_time": "2022-01-23T20:11:05.262571Z"
    }
   },
   "outputs": [],
   "source": [
    "for t in sel_all.time:\n",
    "    sel = sel_all.sel(**{coord_info.get(dataset).get('time'): t.data})\n",
    "    plot_map_xr(sel, t, dataset, figsize=(6,6),\n",
    "             projection=ccrs.Orthographic(central_longitude=0, central_latitude=90),\n",
    "             norm=True, norm_bound=(mini,0, maxi), norm_type='diverging',\n",
    "             levels=20, cmap=plt.cm.RdBu_r,\n",
    "             save=True\n",
    "             )"
   ]
  },
  {
   "cell_type": "code",
   "execution_count": 26,
   "id": "8b480623",
   "metadata": {
    "ExecuteTime": {
     "end_time": "2022-01-23T20:23:31.708346Z",
     "start_time": "2022-01-23T20:23:20.709023Z"
    }
   },
   "outputs": [],
   "source": [
    "file_folder = results_dir.get(dataset) + '/tc_' + str(int(p_level)) + 'hPa'\n",
    "make_gif(file_folder, dataset,  duration=150)"
   ]
  },
  {
   "cell_type": "markdown",
   "id": "88791cc7",
   "metadata": {},
   "source": [
    "### Plot Geopotential profiles: ~10 min"
   ]
  },
  {
   "cell_type": "code",
   "execution_count": null,
   "id": "0f93c5e9",
   "metadata": {},
   "outputs": [],
   "source": []
  },
  {
   "cell_type": "code",
   "execution_count": null,
   "id": "e927a7da",
   "metadata": {},
   "outputs": [],
   "source": []
  },
  {
   "cell_type": "code",
   "execution_count": null,
   "id": "2914ad99",
   "metadata": {},
   "outputs": [],
   "source": []
  },
  {
   "cell_type": "code",
   "execution_count": null,
   "id": "03576833",
   "metadata": {},
   "outputs": [],
   "source": []
  },
  {
   "cell_type": "markdown",
   "id": "e882f500",
   "metadata": {},
   "source": [
    "# EP Flux tests"
   ]
  },
  {
   "cell_type": "code",
   "execution_count": null,
   "id": "01738645",
   "metadata": {
    "ExecuteTime": {
     "end_time": "2022-01-23T18:34:50.935365Z",
     "start_time": "2022-01-23T18:34:50.921716Z"
    }
   },
   "outputs": [],
   "source": [
    "t = ds_era5.time[0:5]"
   ]
  },
  {
   "cell_type": "code",
   "execution_count": null,
   "id": "6a8d1721",
   "metadata": {
    "ExecuteTime": {
     "end_time": "2022-01-23T18:38:19.785294Z",
     "start_time": "2022-01-23T18:35:15.623471Z"
    }
   },
   "outputs": [],
   "source": [
    "test_data = ds_era5.sel(\n",
    "    #isobaricInhPa=10,\n",
    "    time = t.data\n",
    "    ).load()"
   ]
  },
  {
   "cell_type": "code",
   "execution_count": null,
   "id": "da115fe7",
   "metadata": {
    "ExecuteTime": {
     "end_time": "2022-01-23T18:38:19.797628Z",
     "start_time": "2022-01-23T18:38:19.789186Z"
    }
   },
   "outputs": [],
   "source": [
    "test_data.dims"
   ]
  },
  {
   "cell_type": "code",
   "execution_count": null,
   "id": "ccaf6ac7",
   "metadata": {
    "ExecuteTime": {
     "end_time": "2022-01-23T18:38:24.642513Z",
     "start_time": "2022-01-23T18:38:19.799231Z"
    }
   },
   "outputs": [],
   "source": [
    "ep1, ep2, ep1_div, ep2_div = climate.ComputeEPfluxDivXr(test_data['u'],test_data['v'], test_data['t'],\n",
    "                lat=coord_info.get(dataset).get('lat'), lon=coord_info.get(dataset).get('lon'),\n",
    "                pres=coord_info.get(dataset).get('p'), time=coord_info.get(dataset).get('time') )\n",
    "\n",
    "ep1.name = 'EP1'\n",
    "ep2.name = 'EP2'\n",
    "ep1_div.name = 'EP1_div'\n",
    "ep2_div.name = 'EP2_div'"
   ]
  },
  {
   "cell_type": "code",
   "execution_count": null,
   "id": "cfca5ab0",
   "metadata": {
    "ExecuteTime": {
     "end_time": "2022-01-23T18:38:24.648018Z",
     "start_time": "2022-01-23T18:38:24.644366Z"
    }
   },
   "outputs": [],
   "source": [
    "ep1.dims, ep1.shape"
   ]
  },
  {
   "cell_type": "raw",
   "id": "791c0101",
   "metadata": {
    "ExecuteTime": {
     "end_time": "2022-01-22T15:16:36.291774Z",
     "start_time": "2022-01-22T15:16:36.270384Z"
    }
   },
   "source": [
    "ep1"
   ]
  },
  {
   "cell_type": "code",
   "execution_count": null,
   "id": "2b91b889",
   "metadata": {
    "ExecuteTime": {
     "end_time": "2022-01-23T18:40:04.814625Z",
     "start_time": "2022-01-23T18:40:04.171769Z"
    }
   },
   "outputs": [],
   "source": [
    "t = ep1.time[0]\n",
    "\n",
    "sel = ep1.sel(time = t.data,\n",
    "#                    **{coord_info.get(dataset).get('lat'): slice(0, 10)},\n",
    "                   **{coord_info.get(dataset).get('p'): slice(500, 1)}) \n",
    "\n",
    "#norm_bound=(-0.5, 0.5)\n",
    "\n",
    "# meridional    zonal\n",
    "plot_profile_xr(sel, t, dataset, mode='meridional', average = False,\n",
    "                norm_bound=None, norm_type = 'diverging', \n",
    "                cmap = plt.cm.PuOr, levels=50,\n",
    "                save=False )"
   ]
  },
  {
   "cell_type": "code",
   "execution_count": null,
   "id": "b8b940c8",
   "metadata": {
    "ExecuteTime": {
     "end_time": "2022-01-23T18:38:25.656033Z",
     "start_time": "2022-01-23T18:35:23.157Z"
    }
   },
   "outputs": [],
   "source": [
    "t = ep1.time[0]\n",
    "\n",
    "sel = ep2.sel(time = t.data,\n",
    "#                    **{coord_info.get(dataset).get('lat'): slice(0, 10)},\n",
    "                   **{coord_info.get(dataset).get('p'): slice(500, 1)}\n",
    "                  ) \n",
    "\n",
    "#norm_bound=(-0.5, 0.5)\n",
    "\n",
    "# meridional    zonal\n",
    "plot_profile_xr(sel, t, dataset=dataset, mode='meridional', average = False,\n",
    "                norm_bound=None, norm_type = 'diverging', \n",
    "                cmap = plt.cm.PuOr, levels=50,\n",
    "                save=False )"
   ]
  },
  {
   "cell_type": "code",
   "execution_count": null,
   "id": "4014f723",
   "metadata": {
    "ExecuteTime": {
     "end_time": "2022-01-23T18:38:25.657021Z",
     "start_time": "2022-01-23T18:35:23.957Z"
    }
   },
   "outputs": [],
   "source": [
    "t = ep1.time[0]\n",
    "\n",
    "sel = ep1_div.sel(time = t.data,\n",
    "                       **{coord_info.get(dataset).get('lat'): slice(-89, 89)},\n",
    "                       **{coord_info.get(dataset).get('p'): slice(500, 1)},\n",
    "                      ) \n",
    "\n",
    "norm_bound=(-1e+2,1e+2)\n",
    "\n",
    "# meridional    zonal\n",
    "plot_profile_xr(sel, t, dataset=dataset, mode='meridional', average = False,\n",
    "                norm_bound=None, norm_type = 'diverging', \n",
    "                cmap = plt.cm.PuOr, levels=50,\n",
    "                save=False )"
   ]
  },
  {
   "cell_type": "code",
   "execution_count": null,
   "id": "376185fb",
   "metadata": {
    "ExecuteTime": {
     "end_time": "2022-01-23T18:38:25.657673Z",
     "start_time": "2022-01-23T18:35:24.581Z"
    }
   },
   "outputs": [],
   "source": [
    "t = ep1.time[0]\n",
    "\n",
    "sel = ep2_div.sel(time = t.data)\n",
    "sel = sel.sel(**{coord_info.get(dataset).get('lat'): slice(-89, 89)},\n",
    "              **{coord_info.get(dataset).get('p'): slice(\n",
    "                                              #sel[coord_info.get(dataset).get('p')][4].data,\n",
    "                                              500,\n",
    "                                              sel[coord_info.get(dataset).get('p')][-1].data)},\n",
    "                 ) \n",
    ", \n",
    "                       \n",
    "\n",
    "# meridional    zonal\n",
    "plot_profile_xr(sel, t, dataset=dataset, mode='meridional', average = False,\n",
    "                norm_bound=None, norm_type = 'diverging', \n",
    "                cmap = plt.cm.PuOr, levels=50,\n",
    "                save=False )"
   ]
  },
  {
   "cell_type": "code",
   "execution_count": null,
   "id": "aa095990",
   "metadata": {},
   "outputs": [],
   "source": []
  },
  {
   "cell_type": "code",
   "execution_count": null,
   "id": "7804d21b",
   "metadata": {
    "ExecuteTime": {
     "end_time": "2022-01-23T01:52:48.952650Z",
     "start_time": "2022-01-23T01:52:48.750573Z"
    }
   },
   "outputs": [],
   "source": [
    "ep2.sel(**{coord_info.get(dataset).get('p'): 10},\n",
    "        **{coord_info.get(dataset).get('lat'): 50}\n",
    "       ).plot()"
   ]
  },
  {
   "cell_type": "code",
   "execution_count": null,
   "id": "bc764735",
   "metadata": {},
   "outputs": [],
   "source": []
  },
  {
   "cell_type": "code",
   "execution_count": null,
   "id": "918aaacc",
   "metadata": {
    "ExecuteTime": {
     "end_time": "2022-01-23T02:00:38.520828Z",
     "start_time": "2022-01-23T02:00:38.495123Z"
    }
   },
   "outputs": [],
   "source": [
    "ds_era5[coord_info.get(dataset).get('p')]"
   ]
  },
  {
   "cell_type": "markdown",
   "id": "2b1a59f6",
   "metadata": {},
   "source": [
    "### Compote EP Eddy Heat"
   ]
  },
  {
   "cell_type": "markdown",
   "id": "25ce48ed",
   "metadata": {
    "ExecuteTime": {
     "end_time": "2022-01-23T16:23:47.860398Z",
     "start_time": "2022-01-23T16:23:47.814738Z"
    }
   },
   "source": [
    "ds_era5"
   ]
  },
  {
   "cell_type": "code",
   "execution_count": null,
   "id": "96ab783f",
   "metadata": {
    "ExecuteTime": {
     "end_time": "2022-01-23T16:42:04.279549Z",
     "start_time": "2022-01-23T16:40:17.345674Z"
    }
   },
   "outputs": [],
   "source": [
    "test_data = ds_era5.sel(\n",
    "    **{coord_info.get(dataset).get('p'): slice(300, 5)},\n",
    "    **{coord_info.get(dataset).get('lat'): slice(75, 45)}\n",
    "       ).load()"
   ]
  },
  {
   "cell_type": "code",
   "execution_count": null,
   "id": "253e9958",
   "metadata": {
    "ExecuteTime": {
     "end_time": "2022-01-23T16:42:04.350226Z",
     "start_time": "2022-01-23T16:42:04.281727Z"
    }
   },
   "outputs": [],
   "source": [
    "test_data"
   ]
  },
  {
   "cell_type": "code",
   "execution_count": null,
   "id": "6e763392",
   "metadata": {
    "ExecuteTime": {
     "end_time": "2022-01-23T16:42:24.030091Z",
     "start_time": "2022-01-23T16:42:04.354631Z"
    }
   },
   "outputs": [],
   "source": [
    "ep1, ep2, ep1_div, ep2_div = climate.ComputeEPfluxDivXr(test_data['u'], test_data['v'], test_data['t'],\n",
    "                lat=coord_info.get(dataset).get('lat'), lon=coord_info.get(dataset).get('lon'),\n",
    "                pres=coord_info.get(dataset).get('p'), time=coord_info.get(dataset).get('time') )\n",
    "\n",
    "ep1.name = 'EP1'\n",
    "ep2.name = 'EP2'\n",
    "ep1_div.name = 'EP1_div'\n",
    "ep2_div.name = 'EP2_div'"
   ]
  },
  {
   "cell_type": "code",
   "execution_count": null,
   "id": "9d6a8c60",
   "metadata": {
    "ExecuteTime": {
     "end_time": "2022-01-23T16:42:24.058364Z",
     "start_time": "2022-01-23T16:42:24.032026Z"
    }
   },
   "outputs": [],
   "source": [
    "ep2"
   ]
  },
  {
   "cell_type": "code",
   "execution_count": null,
   "id": "f2e2924f",
   "metadata": {
    "ExecuteTime": {
     "end_time": "2022-01-23T16:42:24.073635Z",
     "start_time": "2022-01-23T16:42:24.059672Z"
    }
   },
   "outputs": [],
   "source": [
    "eddy_heat = ep2\n",
    "coslat_weights = np.cos(np.deg2rad(eddy_heat[coord_info.get(dataset).get('lat')]))\n",
    "coslat_weights.name = \"weights\"\n",
    "eddy_heat = eddy_heat.weighted(coslat_weights)\n",
    "eddy_heat = eddy_heat.mean(dim = coord_info.get(dataset).get('lat'))"
   ]
  },
  {
   "cell_type": "code",
   "execution_count": null,
   "id": "9d5d59aa",
   "metadata": {
    "ExecuteTime": {
     "end_time": "2022-01-23T16:42:24.094007Z",
     "start_time": "2022-01-23T16:42:24.075555Z"
    }
   },
   "outputs": [],
   "source": [
    "eddy_heat"
   ]
  },
  {
   "cell_type": "code",
   "execution_count": null,
   "id": "5d72578b",
   "metadata": {
    "ExecuteTime": {
     "end_time": "2022-01-23T16:42:42.713015Z",
     "start_time": "2022-01-23T16:42:42.525538Z"
    }
   },
   "outputs": [],
   "source": [
    "p = eddy_heat.sel(**{coord_info.get(dataset).get('p'): 300}\n",
    "       ).plot()\n",
    "\n",
    "ax = p[0].axes\n",
    "\n",
    "ax.grid()\n",
    "\n",
    "pass"
   ]
  },
  {
   "cell_type": "markdown",
   "id": "7fa415de",
   "metadata": {},
   "source": [
    "## Compute whole timeseries EP (loading data ~5:30 min | EP calc ~2:30 min)"
   ]
  },
  {
   "cell_type": "code",
   "execution_count": null,
   "id": "6cdcbae1",
   "metadata": {
    "ExecuteTime": {
     "end_time": "2022-01-23T01:56:09.237947Z",
     "start_time": "2022-01-23T01:52:59.642061Z"
    }
   },
   "outputs": [],
   "source": [
    "test_data = ds_era5.load()"
   ]
  },
  {
   "cell_type": "code",
   "execution_count": null,
   "id": "f4f78f01",
   "metadata": {
    "ExecuteTime": {
     "end_time": "2022-01-23T01:58:25.181128Z",
     "start_time": "2022-01-23T01:56:09.241079Z"
    }
   },
   "outputs": [],
   "source": [
    "ep1, ep2, ep1_div, ep2_div = climate.ComputeEPfluxDivXr(test_data['u'], test_data['v'], test_data['t'],\n",
    "                lat=coord_info.get(dataset).get('lat'), lon=coord_info.get(dataset).get('lon'),\n",
    "                pres=coord_info.get(dataset).get('p'), time=coord_info.get(dataset).get('time') )\n",
    "\n",
    "ep1.name = 'EP1'\n",
    "ep2.name = 'EP2'\n",
    "ep1_div.name = 'EP1_div'\n",
    "ep2_div.name = 'EP2_div'"
   ]
  },
  {
   "cell_type": "code",
   "execution_count": null,
   "id": "388af939",
   "metadata": {},
   "outputs": [],
   "source": []
  },
  {
   "cell_type": "code",
   "execution_count": null,
   "id": "723635da",
   "metadata": {
    "ExecuteTime": {
     "end_time": "2022-01-23T01:58:25.319109Z",
     "start_time": "2022-01-23T01:58:25.184784Z"
    }
   },
   "outputs": [],
   "source": [
    "ep2.sel(**{coord_info.get(dataset).get('p'): 10},\n",
    "        **{coord_info.get(dataset).get('lat'): 50}\n",
    "       ).plot()"
   ]
  },
  {
   "cell_type": "code",
   "execution_count": null,
   "id": "b4b436ad",
   "metadata": {},
   "outputs": [],
   "source": []
  },
  {
   "cell_type": "code",
   "execution_count": null,
   "id": "3a012c1a",
   "metadata": {},
   "outputs": [],
   "source": []
  },
  {
   "cell_type": "markdown",
   "id": "6093d18d",
   "metadata": {
    "ExecuteTime": {
     "end_time": "2022-01-22T18:12:58.682881Z",
     "start_time": "2022-01-22T18:12:58.655586Z"
    }
   },
   "source": [
    "### Compute EP1 profile series ~ 1 min"
   ]
  },
  {
   "cell_type": "code",
   "execution_count": null,
   "id": "ad32ce3a",
   "metadata": {
    "ExecuteTime": {
     "end_time": "2022-01-22T19:16:34.762926Z",
     "start_time": "2022-01-22T19:15:42.428180Z"
    }
   },
   "outputs": [],
   "source": [
    "sel_all = ep1.sel(\n",
    "#               **{coord_info.get(dataset).get('lat'): slice(0, 10)},\n",
    "              **{coord_info.get(dataset).get('p'): slice(500, 1)})\n",
    "\n",
    "mini = sel_all.min().data\n",
    "maxi = sel_all.max().data\n",
    "\n",
    "for t in sel_all.time:\n",
    "    sel = sel_all.sel(time = t.data) \n",
    "    \n",
    "    plot_profile_xr(sel, t, dataset=dataset, mode='meridional', average = False,\n",
    "                    norm_bound=(mini,maxi), norm_type = 'diverging', \n",
    "                    cmap = plt.cm.PuOr, levels=50,\n",
    "                    save=True )"
   ]
  },
  {
   "cell_type": "code",
   "execution_count": null,
   "id": "6d3b10dc",
   "metadata": {
    "ExecuteTime": {
     "end_time": "2022-01-22T19:16:39.720119Z",
     "start_time": "2022-01-22T19:16:34.765160Z"
    }
   },
   "outputs": [],
   "source": [
    "file_folder = results_dir.get(dataset) + '/EP1_meridional_profile'\n",
    "make_gif(file_folder, dataset,  duration=150)"
   ]
  },
  {
   "cell_type": "markdown",
   "id": "12cd458d",
   "metadata": {
    "ExecuteTime": {
     "end_time": "2022-01-22T18:37:02.199235Z",
     "start_time": "2022-01-22T18:37:02.190036Z"
    }
   },
   "source": [
    "### Compute EP2 profile series ~ 1 min"
   ]
  },
  {
   "cell_type": "code",
   "execution_count": null,
   "id": "87011cf2",
   "metadata": {
    "ExecuteTime": {
     "end_time": "2022-01-22T19:17:29.243665Z",
     "start_time": "2022-01-22T19:16:39.722166Z"
    }
   },
   "outputs": [],
   "source": [
    "sel_all = ep2.sel(\n",
    "#               **{coord_info.get(dataset).get('lat'): slice(0, 10)},\n",
    "              **{coord_info.get(dataset).get('p'): slice(500, 1)})\n",
    "\n",
    "mini = sel_all.min().data\n",
    "maxi = sel_all.max().data\n",
    "\n",
    "for t in sel_all.time:\n",
    "    sel = sel_all.sel(time = t.data) \n",
    "\n",
    "    plot_profile_xr(sel, t, dataset=dataset, mode='meridional', average = False,\n",
    "                    norm_bound=(mini,maxi), norm_type = 'diverging', \n",
    "                    cmap = plt.cm.PuOr, levels=50,\n",
    "                    save=True )"
   ]
  },
  {
   "cell_type": "code",
   "execution_count": null,
   "id": "8299501f",
   "metadata": {
    "ExecuteTime": {
     "end_time": "2022-01-22T19:17:34.185278Z",
     "start_time": "2022-01-22T19:17:29.246555Z"
    }
   },
   "outputs": [],
   "source": [
    "file_folder = results_dir.get(dataset) + '/EP2_meridional_profile'\n",
    "make_gif(file_folder, dataset,  duration=150)"
   ]
  },
  {
   "cell_type": "markdown",
   "id": "f8049152",
   "metadata": {},
   "source": [
    "### Compute EP1_div profile series ~ 1 min"
   ]
  },
  {
   "cell_type": "code",
   "execution_count": null,
   "id": "7bef1113",
   "metadata": {
    "ExecuteTime": {
     "end_time": "2022-01-22T19:18:26.863480Z",
     "start_time": "2022-01-22T19:17:34.187183Z"
    }
   },
   "outputs": [],
   "source": [
    "sel_all = ep1_div.sel(\n",
    "              **{coord_info.get(dataset).get('lat'): slice(-89, 89)},\n",
    "              **{coord_info.get(dataset).get('p'): slice(500, 1)})\n",
    "\n",
    "mini = sel_all.min().data\n",
    "maxi = sel_all.max().data\n",
    "\n",
    "for t in sel_all.time:\n",
    "    sel = sel_all.sel(time = t.data) \n",
    "\n",
    "    plot_profile_xr(sel, t, dataset=dataset, mode='meridional', average = False,\n",
    "                    norm_bound=(mini,maxi), norm_type = 'diverging', \n",
    "                    cmap = plt.cm.PuOr, levels=50,\n",
    "                    save=True )"
   ]
  },
  {
   "cell_type": "code",
   "execution_count": null,
   "id": "6f6a93a4",
   "metadata": {
    "ExecuteTime": {
     "end_time": "2022-01-22T19:18:31.740573Z",
     "start_time": "2022-01-22T19:18:26.865213Z"
    }
   },
   "outputs": [],
   "source": [
    "file_folder = results_dir.get(dataset) + '/EP1_div_meridional_profile'\n",
    "make_gif(file_folder, dataset,  duration=150)"
   ]
  },
  {
   "cell_type": "markdown",
   "id": "8a2d5cb3",
   "metadata": {},
   "source": [
    "### Compute EP2_div profile series ~ 1 min"
   ]
  },
  {
   "cell_type": "code",
   "execution_count": null,
   "id": "17733398",
   "metadata": {
    "ExecuteTime": {
     "end_time": "2022-01-22T19:19:22.557747Z",
     "start_time": "2022-01-22T19:18:31.743352Z"
    }
   },
   "outputs": [],
   "source": [
    "sel_all = ep2_div.sel(\n",
    "              **{coord_info.get(dataset).get('lat'): slice(-89, 89)},\n",
    "              **{coord_info.get(dataset).get('p'): slice(500, 1)})\n",
    "\n",
    "mini = sel_all.min().data\n",
    "maxi = sel_all.max().data\n",
    "\n",
    "for t in sel_all.time:\n",
    "    sel = sel_all.sel(time = t.data) \n",
    "\n",
    "    plot_profile_xr(sel, t, dataset=dataset, mode='meridional', average = False,\n",
    "                    norm_bound=(mini,maxi), norm_type = 'diverging', \n",
    "                    cmap = plt.cm.PuOr, levels=50,\n",
    "                    save=True )"
   ]
  },
  {
   "cell_type": "code",
   "execution_count": null,
   "id": "1834a4ec",
   "metadata": {
    "ExecuteTime": {
     "end_time": "2022-01-22T19:19:27.553726Z",
     "start_time": "2022-01-22T19:19:22.559991Z"
    }
   },
   "outputs": [],
   "source": [
    "file_folder = results_dir.get(dataset) + '/EP2_div_meridional_profile'\n",
    "make_gif(file_folder, dataset,  duration=150)"
   ]
  },
  {
   "cell_type": "markdown",
   "id": "f630f7c8",
   "metadata": {},
   "source": [
    "# VMFC"
   ]
  },
  {
   "cell_type": "code",
   "execution_count": null,
   "id": "7e008a45",
   "metadata": {
    "ExecuteTime": {
     "end_time": "2022-01-23T16:19:03.532132Z",
     "start_time": "2022-01-23T16:19:03.416576Z"
    }
   },
   "outputs": [],
   "source": [
    "filter_by_keys={'typeOfLevel': 'isobaricInhPa'}\n",
    "infiles = f'{data_dir}ERA5/vmfc_20201201_20210131.nc'\n",
    "ds_era5_vmfc = xr.open_mfdataset(\n",
    "    infiles,\n",
    "    #engine='cfgrib',\n",
    "    #combine='nested',\n",
    "    #concat_dim = 'time',\n",
    "    parallel = True,\n",
    "    #backend_kwargs={'filter_by_keys': filter_by_keys},\n",
    ").load()\n"
   ]
  },
  {
   "cell_type": "code",
   "execution_count": null,
   "id": "e7c625a0",
   "metadata": {
    "ExecuteTime": {
     "end_time": "2022-01-23T16:19:03.555950Z",
     "start_time": "2022-01-23T16:19:03.535559Z"
    }
   },
   "outputs": [],
   "source": [
    "ds_era5_vmfc.time"
   ]
  },
  {
   "cell_type": "code",
   "execution_count": null,
   "id": "cf6246ba",
   "metadata": {
    "ExecuteTime": {
     "end_time": "2022-01-23T16:19:03.564638Z",
     "start_time": "2022-01-23T16:19:03.557701Z"
    }
   },
   "outputs": [],
   "source": [
    "t = ds_era5_vmfc.time[0]\n",
    "\n",
    "sel = ds_era5_vmfc['vmfc'].sel(time = t.data)\n",
    "sel = sel.sel(\n",
    "            #**{coord_info.get(dataset).get('lat'): slice(-89, 89)},\n",
    "            **{coord_info.get(dataset).get('p'): slice(500,1)},\n",
    "             )"
   ]
  },
  {
   "cell_type": "raw",
   "id": "503d9657",
   "metadata": {
    "ExecuteTime": {
     "end_time": "2022-01-22T19:33:09.251577Z",
     "start_time": "2022-01-22T19:33:09.225666Z"
    }
   },
   "source": [
    "sel"
   ]
  },
  {
   "cell_type": "code",
   "execution_count": null,
   "id": "afe11364",
   "metadata": {
    "ExecuteTime": {
     "end_time": "2022-01-23T16:19:04.677579Z",
     "start_time": "2022-01-23T16:19:03.566713Z"
    }
   },
   "outputs": [],
   "source": [
    "# meridional    zonal\n",
    "plot_profile_xr(sel, t, dataset=dataset, mode='meridional', average = False,\n",
    "                norm_bound=None, norm_type = 'diverging', \n",
    "                cmap = plt.cm.PuOr, levels=50,\n",
    "                save=False )"
   ]
  },
  {
   "cell_type": "markdown",
   "id": "96422bb0",
   "metadata": {},
   "source": [
    "### Compute VMFC profile series ~ 1 min"
   ]
  },
  {
   "cell_type": "code",
   "execution_count": null,
   "id": "f0d0b104",
   "metadata": {
    "ExecuteTime": {
     "end_time": "2022-01-22T19:35:51.859778Z",
     "start_time": "2022-01-22T19:34:55.056639Z"
    }
   },
   "outputs": [],
   "source": [
    "sel_all = ds_era5_vmfc['vmfc'].sel(\n",
    "              #**{coord_info.get(dataset).get('lat'): slice(-89, 89)},\n",
    "              **{coord_info.get(dataset).get('p'): slice(500, 1)})\n",
    "\n",
    "mini = sel_all.min().data\n",
    "maxi = sel_all.max().data\n",
    "\n",
    "for t in sel_all.time:\n",
    "    sel = sel_all.sel(time = t.data) \n",
    "\n",
    "    plot_profile_xr(sel, t, dataset=dataset, mode='meridional', average = False,\n",
    "                    norm_bound=(mini,maxi), norm_type = 'diverging', \n",
    "                    cmap = plt.cm.PuOr, levels=50,\n",
    "                    save=True )"
   ]
  },
  {
   "cell_type": "code",
   "execution_count": null,
   "id": "073382cc",
   "metadata": {
    "ExecuteTime": {
     "end_time": "2022-01-22T19:36:06.400262Z",
     "start_time": "2022-01-22T19:36:00.941990Z"
    }
   },
   "outputs": [],
   "source": [
    "file_folder = results_dir.get(dataset) + '/vmfc_meridional_profile'\n",
    "make_gif(file_folder, dataset,  duration=150)"
   ]
  },
  {
   "cell_type": "code",
   "execution_count": null,
   "id": "b4b09b76",
   "metadata": {},
   "outputs": [],
   "source": []
  }
 ],
 "metadata": {
  "kernelspec": {
   "display_name": "nwp-py3",
   "language": "python",
   "name": "nwp-py3"
  },
  "language_info": {
   "codemirror_mode": {
    "name": "ipython",
    "version": 3
   },
   "file_extension": ".py",
   "mimetype": "text/x-python",
   "name": "python",
   "nbconvert_exporter": "python",
   "pygments_lexer": "ipython3",
   "version": "3.6.13"
  }
 },
 "nbformat": 4,
 "nbformat_minor": 5
}
