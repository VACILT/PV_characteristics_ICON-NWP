{
 "cells": [
  {
   "cell_type": "code",
   "execution_count": 1,
   "id": "22e8ef90",
   "metadata": {
    "ExecuteTime": {
     "end_time": "2022-01-28T12:31:29.701306Z",
     "start_time": "2022-01-28T12:31:25.403928Z"
    }
   },
   "outputs": [],
   "source": [
    "import os\n",
    "\n",
    "import numpy as np\n",
    "import xarray as xr\n",
    "import cfgrib\n",
    "import cartopy.crs as ccrs\n",
    "from cartopy.util import add_cyclic_point\n",
    "\n",
    "from dask.distributed import Client, LocalCluster\n",
    "\n",
    "import matplotlib as mpl\n",
    "import matplotlib.pyplot as plt\n",
    "plt.rcParams.update({'font.size': 16, \"axes.labelsize\":16, \"axes.titlesize\":16,\n",
    "                     \"font.weight\": \"bold\",\"axes.labelweight\":\"bold\",\"axes.titleweight\":\"bold\",\n",
    "                    \"figure.titleweight\":\"bold\", \"figure.titlesize\":\"large\" })\n",
    "\n",
    "from ambiance import Atmosphere\n",
    "from aostools import climate\n",
    "\n",
    "from Eval import plot_map_xr, plot_profile_xr, make_gif\n",
    "from Eval import var_info, coord_info, results_dir\n"
   ]
  },
  {
   "cell_type": "code",
   "execution_count": 2,
   "id": "cbf0b9f8",
   "metadata": {
    "ExecuteTime": {
     "end_time": "2022-01-28T12:31:30.802842Z",
     "start_time": "2022-01-28T12:31:30.784342Z"
    }
   },
   "outputs": [],
   "source": [
    "# Make an atmosphere object\n",
    "heights = np.linspace(-5e3, 80e3, num=1000)\n",
    "atmosphere = Atmosphere(heights)"
   ]
  },
  {
   "cell_type": "code",
   "execution_count": 3,
   "id": "3f2f8f58",
   "metadata": {
    "ExecuteTime": {
     "end_time": "2022-01-28T12:31:32.063638Z",
     "start_time": "2022-01-28T12:31:31.293751Z"
    }
   },
   "outputs": [
    {
     "name": "stderr",
     "output_type": "stream",
     "text": [
      "/home/ap1_12/.conda/envs/nwp-py3/lib/python3.6/site-packages/ipykernel_launcher.py:7: UserWarning: Attempted to set non-positive left xlim on a log-scaled axis.\n",
      "Invalid limit will be ignored.\n",
      "  import sys\n"
     ]
    },
    {
     "data": {
      "image/png": "[encoded data removed]",
      "text/plain": [
       "<Figure size 864x504 with 1 Axes>"
      ]
     },
     "metadata": {
      "needs_background": "light"
     },
     "output_type": "display_data"
    }
   ],
   "source": [
    "fig, ax = plt.subplots(figsize=(12,7))\n",
    "ax.plot(atmosphere.pressure/100, heights/1000)\n",
    "\n",
    "ax.set_xscale('log')\n",
    "\n",
    "ax.set_ylim(0,82)\n",
    "ax.set_xlim(-20,1000)\n",
    "\n",
    "ax.set_title('Standard Atmosphere')\n",
    "ax.set_ylabel('Height [km]')\n",
    "ax.set_xlabel('Pressure [hPa]')\n",
    "ax.grid()\n",
    "fig.show()"
   ]
  },
  {
   "cell_type": "markdown",
   "id": "a894ba34",
   "metadata": {},
   "source": [
    "# Open dataset"
   ]
  },
  {
   "cell_type": "code",
   "execution_count": 4,
   "id": "f8eb9df8",
   "metadata": {
    "ExecuteTime": {
     "end_time": "2022-01-28T12:32:44.415605Z",
     "start_time": "2022-01-28T12:32:44.410759Z"
    }
   },
   "outputs": [],
   "source": [
    "dataset = 'icon'"
   ]
  },
  {
   "cell_type": "code",
   "execution_count": 5,
   "id": "a8b05588",
   "metadata": {
    "ExecuteTime": {
     "end_time": "2022-01-28T12:32:45.216005Z",
     "start_time": "2022-01-28T12:32:45.211394Z"
    }
   },
   "outputs": [],
   "source": [
    "data_dir = '/gemeinsam_tmp/SSW_2021/'"
   ]
  },
  {
   "cell_type": "code",
   "execution_count": 6,
   "id": "e90386a7",
   "metadata": {
    "ExecuteTime": {
     "end_time": "2022-01-28T12:32:47.647284Z",
     "start_time": "2022-01-28T12:32:45.677459Z"
    }
   },
   "outputs": [],
   "source": [
    "#client = Client(LocalCluster(host='192.168.154.3')) # change to ora's IP adress: 192.168.135.33\n",
    "client = Client(LocalCluster(host='192.168.155.33'))"
   ]
  },
  {
   "cell_type": "code",
   "execution_count": 7,
   "id": "50560cbf",
   "metadata": {
    "ExecuteTime": {
     "end_time": "2022-01-28T12:32:47.662132Z",
     "start_time": "2022-01-28T12:32:47.652595Z"
    }
   },
   "outputs": [
    {
     "data": {
      "text/html": [
       "<table style=\"border: 2px solid white;\">\n",
       "<tr>\n",
       "<td style=\"vertical-align: top; border: 0px solid white\">\n",
       "<h3 style=\"text-align: left;\">Client</h3>\n",
       "<ul style=\"text-align: left; list-style: none; margin: 0; padding: 0;\">\n",
       "  <li><b>Scheduler: </b>tcp://192.168.155.33:40331</li>\n",
       "  <li><b>Dashboard: </b><a href='http://192.168.155.33:8787/status' target='_blank'>http://192.168.155.33:8787/status</a></li>\n",
       "</ul>\n",
       "</td>\n",
       "<td style=\"vertical-align: top; border: 0px solid white\">\n",
       "<h3 style=\"text-align: left;\">Cluster</h3>\n",
       "<ul style=\"text-align: left; list-style:none; margin: 0; padding: 0;\">\n",
       "  <li><b>Workers: </b>8</li>\n",
       "  <li><b>Cores: </b>64</li>\n",
       "  <li><b>Memory: </b>810.22 GB</li>\n",
       "</ul>\n",
       "</td>\n",
       "</tr>\n",
       "</table>"
      ],
      "text/plain": [
       "<Client: 'tcp://192.168.155.33:40331' processes=8 threads=64, memory=810.22 GB>"
      ]
     },
     "execution_count": 7,
     "metadata": {},
     "output_type": "execute_result"
    }
   ],
   "source": [
    "client"
   ]
  },
  {
   "cell_type": "markdown",
   "id": "eccf2ddd",
   "metadata": {},
   "source": [
    "## ICON"
   ]
  },
  {
   "cell_type": "code",
   "execution_count": 8,
   "id": "f557b7f2",
   "metadata": {
    "ExecuteTime": {
     "end_time": "2022-01-28T12:33:20.325983Z",
     "start_time": "2022-01-28T12:32:47.663709Z"
    }
   },
   "outputs": [],
   "source": [
    "filter_by_keys={'typeOfLevel': 'isobaricInhPa'}\n",
    "infiles = f'{data_dir}dwd/analysis_new/igar??????????'\n",
    "ds_icon = xr.open_mfdataset(\n",
    "    infiles,\n",
    "    engine='cfgrib',\n",
    "    combine='nested',\n",
    "    concat_dim = 'time',\n",
    "    parallel = True,\n",
    "    backend_kwargs={'filter_by_keys': filter_by_keys},\n",
    ")"
   ]
  },
  {
   "cell_type": "code",
   "execution_count": 9,
   "id": "a87ab20d",
   "metadata": {
    "ExecuteTime": {
     "end_time": "2022-01-28T12:33:20.483735Z",
     "start_time": "2022-01-28T12:33:20.328167Z"
    }
   },
   "outputs": [
    {
     "data": {
      "text/html": [
       "<div><svg style=\"position: absolute; width: 0; height: 0; overflow: hidden\">\n",
       "<defs>\n",
       "<symbol id=\"icon-database\" viewBox=\"0 0 32 32\">\n",
       "<path d=\"M16 0c-8.837 0-16 2.239-16 5v4c0 2.761 7.163 5 16 5s16-2.239 16-5v-4c0-2.761-7.163-5-16-5z\"></path>\n",
       "<path d=\"M16 17c-8.837 0-16-2.239-16-5v6c0 2.761 7.163 5 16 5s16-2.239 16-5v-6c0 2.761-7.163 5-16 5z\"></path>\n",
       "<path d=\"M16 26c-8.837 0-16-2.239-16-5v6c0 2.761 7.163 5 16 5s16-2.239 16-5v-6c0 2.761-7.163 5-16 5z\"></path>\n",
       "</symbol>\n",
       "<symbol id=\"icon-file-text2\" viewBox=\"0 0 32 32\">\n",
       "<path d=\"M28.681 7.159c-0.694-0.947-1.662-2.053-2.724-3.116s-2.169-2.030-3.116-2.724c-1.612-1.182-2.393-1.319-2.841-1.319h-15.5c-1.378 0-2.5 1.121-2.5 2.5v27c0 1.378 1.122 2.5 2.5 2.5h23c1.378 0 2.5-1.122 2.5-2.5v-19.5c0-0.448-0.137-1.23-1.319-2.841zM24.543 5.457c0.959 0.959 1.712 1.825 2.268 2.543h-4.811v-4.811c0.718 0.556 1.584 1.309 2.543 2.268zM28 29.5c0 0.271-0.229 0.5-0.5 0.5h-23c-0.271 0-0.5-0.229-0.5-0.5v-27c0-0.271 0.229-0.5 0.5-0.5 0 0 15.499-0 15.5 0v7c0 0.552 0.448 1 1 1h7v19.5z\"></path>\n",
       "<path d=\"M23 26h-14c-0.552 0-1-0.448-1-1s0.448-1 1-1h14c0.552 0 1 0.448 1 1s-0.448 1-1 1z\"></path>\n",
       "<path d=\"M23 22h-14c-0.552 0-1-0.448-1-1s0.448-1 1-1h14c0.552 0 1 0.448 1 1s-0.448 1-1 1z\"></path>\n",
       "<path d=\"M23 18h-14c-0.552 0-1-0.448-1-1s0.448-1 1-1h14c0.552 0 1 0.448 1 1s-0.448 1-1 1z\"></path>\n",
       "</symbol>\n",
       "</defs>\n",
       "</svg>\n",
       "<style>/* CSS stylesheet for displaying xarray objects in jupyterlab.\n",
       " *\n",
       " */\n",
       "\n",
       ":root {\n",
       "  --xr-font-color0: var(--jp-content-font-color0, rgba(0, 0, 0, 1));\n",
       "  --xr-font-color2: var(--jp-content-font-color2, rgba(0, 0, 0, 0.54));\n",
       "  --xr-font-color3: var(--jp-content-font-color3, rgba(0, 0, 0, 0.38));\n",
       "  --xr-border-color: var(--jp-border-color2, #e0e0e0);\n",
       "  --xr-disabled-color: var(--jp-layout-color3, #bdbdbd);\n",
       "  --xr-background-color: var(--jp-layout-color0, white);\n",
       "  --xr-background-color-row-even: var(--jp-layout-color1, white);\n",
       "  --xr-background-color-row-odd: var(--jp-layout-color2, #eeeeee);\n",
       "}\n",
       "\n",
       "html[theme=dark],\n",
       "body.vscode-dark {\n",
       "  --xr-font-color0: rgba(255, 255, 255, 1);\n",
       "  --xr-font-color2: rgba(255, 255, 255, 0.54);\n",
       "  --xr-font-color3: rgba(255, 255, 255, 0.38);\n",
       "  --xr-border-color: #1F1F1F;\n",
       "  --xr-disabled-color: #515151;\n",
       "  --xr-background-color: #111111;\n",
       "  --xr-background-color-row-even: #111111;\n",
       "  --xr-background-color-row-odd: #313131;\n",
       "}\n",
       "\n",
       ".xr-wrap {\n",
       "  display: block;\n",
       "  min-width: 300px;\n",
       "  max-width: 700px;\n",
       "}\n",
       "\n",
       ".xr-text-repr-fallback {\n",
       "  /* fallback to plain text repr when CSS is not injected (untrusted notebook) */\n",
       "  display: none;\n",
       "}\n",
       "\n",
       ".xr-header {\n",
       "  padding-top: 6px;\n",
       "  padding-bottom: 6px;\n",
       "  margin-bottom: 4px;\n",
       "  border-bottom: solid 1px var(--xr-border-color);\n",
       "}\n",
       "\n",
       ".xr-header > div,\n",
       ".xr-header > ul {\n",
       "  display: inline;\n",
       "  margin-top: 0;\n",
       "  margin-bottom: 0;\n",
       "}\n",
       "\n",
       ".xr-obj-type,\n",
       ".xr-array-name {\n",
       "  margin-left: 2px;\n",
       "  margin-right: 10px;\n",
       "}\n",
       "\n",
       ".xr-obj-type {\n",
       "  color: var(--xr-font-color2);\n",
       "}\n",
       "\n",
       ".xr-sections {\n",
       "  padding-left: 0 !important;\n",
       "  display: grid;\n",
       "  grid-template-columns: 150px auto auto 1fr 20px 20px;\n",
       "}\n",
       "\n",
       ".xr-section-item {\n",
       "  display: contents;\n",
       "}\n",
       "\n",
       ".xr-section-item input {\n",
       "  display: none;\n",
       "}\n",
       "\n",
       ".xr-section-item input + label {\n",
       "  color: var(--xr-disabled-color);\n",
       "}\n",
       "\n",
       ".xr-section-item input:enabled + label {\n",
       "  cursor: pointer;\n",
       "  color: var(--xr-font-color2);\n",
       "}\n",
       "\n",
       ".xr-section-item input:enabled + label:hover {\n",
       "  color: var(--xr-font-color0);\n",
       "}\n",
       "\n",
       ".xr-section-summary {\n",
       "  grid-column: 1;\n",
       "  color: var(--xr-font-color2);\n",
       "  font-weight: 500;\n",
       "}\n",
       "\n",
       ".xr-section-summary > span {\n",
       "  display: inline-block;\n",
       "  padding-left: 0.5em;\n",
       "}\n",
       "\n",
       ".xr-section-summary-in:disabled + label {\n",
       "  color: var(--xr-font-color2);\n",
       "}\n",
       "\n",
       ".xr-section-summary-in + label:before {\n",
       "  display: inline-block;\n",
       "  content: '►';\n",
       "  font-size: 11px;\n",
       "  width: 15px;\n",
       "  text-align: center;\n",
       "}\n",
       "\n",
       ".xr-section-summary-in:disabled + label:before {\n",
       "  color: var(--xr-disabled-color);\n",
       "}\n",
       "\n",
       ".xr-section-summary-in:checked + label:before {\n",
       "  content: '▼';\n",
       "}\n",
       "\n",
       ".xr-section-summary-in:checked + label > span {\n",
       "  display: none;\n",
       "}\n",
       "\n",
       ".xr-section-summary,\n",
       ".xr-section-inline-details {\n",
       "  padding-top: 4px;\n",
       "  padding-bottom: 4px;\n",
       "}\n",
       "\n",
       ".xr-section-inline-details {\n",
       "  grid-column: 2 / -1;\n",
       "}\n",
       "\n",
       ".xr-section-details {\n",
       "  display: none;\n",
       "  grid-column: 1 / -1;\n",
       "  margin-bottom: 5px;\n",
       "}\n",
       "\n",
       ".xr-section-summary-in:checked ~ .xr-section-details {\n",
       "  display: contents;\n",
       "}\n",
       "\n",
       ".xr-array-wrap {\n",
       "  grid-column: 1 / -1;\n",
       "  display: grid;\n",
       "  grid-template-columns: 20px auto;\n",
       "}\n",
       "\n",
       ".xr-array-wrap > label {\n",
       "  grid-column: 1;\n",
       "  vertical-align: top;\n",
       "}\n",
       "\n",
       ".xr-preview {\n",
       "  color: var(--xr-font-color3);\n",
       "}\n",
       "\n",
       ".xr-array-preview,\n",
       ".xr-array-data {\n",
       "  padding: 0 5px !important;\n",
       "  grid-column: 2;\n",
       "}\n",
       "\n",
       ".xr-array-data,\n",
       ".xr-array-in:checked ~ .xr-array-preview {\n",
       "  display: none;\n",
       "}\n",
       "\n",
       ".xr-array-in:checked ~ .xr-array-data,\n",
       ".xr-array-preview {\n",
       "  display: inline-block;\n",
       "}\n",
       "\n",
       ".xr-dim-list {\n",
       "  display: inline-block !important;\n",
       "  list-style: none;\n",
       "  padding: 0 !important;\n",
       "  margin: 0;\n",
       "}\n",
       "\n",
       ".xr-dim-list li {\n",
       "  display: inline-block;\n",
       "  padding: 0;\n",
       "  margin: 0;\n",
       "}\n",
       "\n",
       ".xr-dim-list:before {\n",
       "  content: '(';\n",
       "}\n",
       "\n",
       ".xr-dim-list:after {\n",
       "  content: ')';\n",
       "}\n",
       "\n",
       ".xr-dim-list li:not(:last-child):after {\n",
       "  content: ',';\n",
       "  padding-right: 5px;\n",
       "}\n",
       "\n",
       ".xr-has-index {\n",
       "  font-weight: bold;\n",
       "}\n",
       "\n",
       ".xr-var-list,\n",
       ".xr-var-item {\n",
       "  display: contents;\n",
       "}\n",
       "\n",
       ".xr-var-item > div,\n",
       ".xr-var-item label,\n",
       ".xr-var-item > .xr-var-name span {\n",
       "  background-color: var(--xr-background-color-row-even);\n",
       "  margin-bottom: 0;\n",
       "}\n",
       "\n",
       ".xr-var-item > .xr-var-name:hover span {\n",
       "  padding-right: 5px;\n",
       "}\n",
       "\n",
       ".xr-var-list > li:nth-child(odd) > div,\n",
       ".xr-var-list > li:nth-child(odd) > label,\n",
       ".xr-var-list > li:nth-child(odd) > .xr-var-name span {\n",
       "  background-color: var(--xr-background-color-row-odd);\n",
       "}\n",
       "\n",
       ".xr-var-name {\n",
       "  grid-column: 1;\n",
       "}\n",
       "\n",
       ".xr-var-dims {\n",
       "  grid-column: 2;\n",
       "}\n",
       "\n",
       ".xr-var-dtype {\n",
       "  grid-column: 3;\n",
       "  text-align: right;\n",
       "  color: var(--xr-font-color2);\n",
       "}\n",
       "\n",
       ".xr-var-preview {\n",
       "  grid-column: 4;\n",
       "}\n",
       "\n",
       ".xr-var-name,\n",
       ".xr-var-dims,\n",
       ".xr-var-dtype,\n",
       ".xr-preview,\n",
       ".xr-attrs dt {\n",
       "  white-space: nowrap;\n",
       "  overflow: hidden;\n",
       "  text-overflow: ellipsis;\n",
       "  padding-right: 10px;\n",
       "}\n",
       "\n",
       ".xr-var-name:hover,\n",
       ".xr-var-dims:hover,\n",
       ".xr-var-dtype:hover,\n",
       ".xr-attrs dt:hover {\n",
       "  overflow: visible;\n",
       "  width: auto;\n",
       "  z-index: 1;\n",
       "}\n",
       "\n",
       ".xr-var-attrs,\n",
       ".xr-var-data {\n",
       "  display: none;\n",
       "  background-color: var(--xr-background-color) !important;\n",
       "  padding-bottom: 5px !important;\n",
       "}\n",
       "\n",
       ".xr-var-attrs-in:checked ~ .xr-var-attrs,\n",
       ".xr-var-data-in:checked ~ .xr-var-data {\n",
       "  display: block;\n",
       "}\n",
       "\n",
       ".xr-var-data > table {\n",
       "  float: right;\n",
       "}\n",
       "\n",
       ".xr-var-name span,\n",
       ".xr-var-data,\n",
       ".xr-attrs {\n",
       "  padding-left: 25px !important;\n",
       "}\n",
       "\n",
       ".xr-attrs,\n",
       ".xr-var-attrs,\n",
       ".xr-var-data {\n",
       "  grid-column: 1 / -1;\n",
       "}\n",
       "\n",
       "dl.xr-attrs {\n",
       "  padding: 0;\n",
       "  margin: 0;\n",
       "  display: grid;\n",
       "  grid-template-columns: 125px auto;\n",
       "}\n",
       "\n",
       ".xr-attrs dt,\n",
       ".xr-attrs dd {\n",
       "  padding: 0;\n",
       "  margin: 0;\n",
       "  float: left;\n",
       "  padding-right: 10px;\n",
       "  width: auto;\n",
       "}\n",
       "\n",
       ".xr-attrs dt {\n",
       "  font-weight: normal;\n",
       "  grid-column: 1;\n",
       "}\n",
       "\n",
       ".xr-attrs dt:hover span {\n",
       "  display: inline-block;\n",
       "  background: var(--xr-background-color);\n",
       "  padding-right: 10px;\n",
       "}\n",
       "\n",
       ".xr-attrs dd {\n",
       "  grid-column: 2;\n",
       "  white-space: pre-wrap;\n",
       "  word-break: break-all;\n",
       "}\n",
       "\n",
       ".xr-icon-database,\n",
       ".xr-icon-file-text2 {\n",
       "  display: inline-block;\n",
       "  vertical-align: middle;\n",
       "  width: 1em;\n",
       "  height: 1.5em !important;\n",
       "  stroke-width: 0;\n",
       "  stroke: currentColor;\n",
       "  fill: currentColor;\n",
       "}\n",
       "</style><pre class='xr-text-repr-fallback'>&lt;xarray.Dataset&gt;\n",
       "Dimensions:        (isobaricInhPa: 25, latitude: 721, longitude: 1440, time: 93)\n",
       "Coordinates:\n",
       "  * time           (time) datetime64[ns] 2020-12-15 ... 2021-01-07\n",
       "    step           timedelta64[ns] 00:00:00\n",
       "  * isobaricInhPa  (isobaricInhPa) int64 1000 950 925 900 850 800 ... 7 5 3 2 1\n",
       "  * latitude       (latitude) float64 -90.0 -89.75 -89.5 ... 89.5 89.75 90.0\n",
       "  * longitude      (longitude) float64 0.0 0.25 0.5 0.75 ... 359.2 359.5 359.8\n",
       "    valid_time     (time) datetime64[ns] 2020-12-15 ... 2021-01-07\n",
       "Data variables:\n",
       "    u              (time, isobaricInhPa, latitude, longitude) float32 dask.array&lt;chunksize=(1, 25, 721, 1440), meta=np.ndarray&gt;\n",
       "    v              (time, isobaricInhPa, latitude, longitude) float32 dask.array&lt;chunksize=(1, 25, 721, 1440), meta=np.ndarray&gt;\n",
       "    w              (time, isobaricInhPa, latitude, longitude) float32 dask.array&lt;chunksize=(1, 25, 721, 1440), meta=np.ndarray&gt;\n",
       "    t              (time, isobaricInhPa, latitude, longitude) float32 dask.array&lt;chunksize=(1, 25, 721, 1440), meta=np.ndarray&gt;\n",
       "    z              (time, isobaricInhPa, latitude, longitude) float32 dask.array&lt;chunksize=(1, 25, 721, 1440), meta=np.ndarray&gt;\n",
       "Attributes:\n",
       "    GRIB_edition:            2\n",
       "    GRIB_centre:             edzw\n",
       "    GRIB_centreDescription:  Offenbach \n",
       "    GRIB_subCentre:          255\n",
       "    Conventions:             CF-1.7\n",
       "    institution:             Offenbach \n",
       "    history:                 2022-01-28T13:33:08 GRIB to CDM+CF via cfgrib-0....</pre><div class='xr-wrap' hidden><div class='xr-header'><div class='xr-obj-type'>xarray.Dataset</div></div><ul class='xr-sections'><li class='xr-section-item'><input id='section-7cff6278-a68d-4048-b693-6331e7bfa942' class='xr-section-summary-in' type='checkbox' disabled ><label for='section-7cff6278-a68d-4048-b693-6331e7bfa942' class='xr-section-summary'  title='Expand/collapse section'>Dimensions:</label><div class='xr-section-inline-details'><ul class='xr-dim-list'><li><span class='xr-has-index'>isobaricInhPa</span>: 25</li><li><span class='xr-has-index'>latitude</span>: 721</li><li><span class='xr-has-index'>longitude</span>: 1440</li><li><span class='xr-has-index'>time</span>: 93</li></ul></div><div class='xr-section-details'></div></li><li class='xr-section-item'><input id='section-7e6de089-4779-4adb-8378-3a9bd2a2fa7d' class='xr-section-summary-in' type='checkbox'  checked><label for='section-7e6de089-4779-4adb-8378-3a9bd2a2fa7d' class='xr-section-summary' >Coordinates: <span>(6)</span></label><div class='xr-section-inline-details'></div><div class='xr-section-details'><ul class='xr-var-list'><li class='xr-var-item'><div class='xr-var-name'><span class='xr-has-index'>time</span></div><div class='xr-var-dims'>(time)</div><div class='xr-var-dtype'>datetime64[ns]</div><div class='xr-var-preview xr-preview'>2020-12-15 ... 2021-01-07</div><input id='attrs-5f7f877f-5c41-4b37-8e49-b53c5a65853d' class='xr-var-attrs-in' type='checkbox' ><label for='attrs-5f7f877f-5c41-4b37-8e49-b53c5a65853d' title='Show/Hide attributes'><svg class='icon xr-icon-file-text2'><use xlink:href='#icon-file-text2'></use></svg></label><input id='data-03583faa-d667-4b42-b8c4-05ccfe377882' class='xr-var-data-in' type='checkbox'><label for='data-03583faa-d667-4b42-b8c4-05ccfe377882' title='Show/Hide data repr'><svg class='icon xr-icon-database'><use xlink:href='#icon-database'></use></svg></label><div class='xr-var-attrs'><dl class='xr-attrs'><dt><span>long_name :</span></dt><dd>initial time of forecast</dd><dt><span>standard_name :</span></dt><dd>forecast_reference_time</dd></dl></div><div class='xr-var-data'><pre>array([&#x27;2020-12-15T00:00:00.000000000&#x27;, &#x27;2020-12-15T06:00:00.000000000&#x27;,\n",
       "       &#x27;2020-12-15T12:00:00.000000000&#x27;, &#x27;2020-12-15T18:00:00.000000000&#x27;,\n",
       "       &#x27;2020-12-16T00:00:00.000000000&#x27;, &#x27;2020-12-16T06:00:00.000000000&#x27;,\n",
       "       &#x27;2020-12-16T12:00:00.000000000&#x27;, &#x27;2020-12-16T18:00:00.000000000&#x27;,\n",
       "       &#x27;2020-12-17T00:00:00.000000000&#x27;, &#x27;2020-12-17T06:00:00.000000000&#x27;,\n",
       "       &#x27;2020-12-17T12:00:00.000000000&#x27;, &#x27;2020-12-17T18:00:00.000000000&#x27;,\n",
       "       &#x27;2020-12-18T00:00:00.000000000&#x27;, &#x27;2020-12-18T06:00:00.000000000&#x27;,\n",
       "       &#x27;2020-12-18T12:00:00.000000000&#x27;, &#x27;2020-12-18T18:00:00.000000000&#x27;,\n",
       "       &#x27;2020-12-19T00:00:00.000000000&#x27;, &#x27;2020-12-19T06:00:00.000000000&#x27;,\n",
       "       &#x27;2020-12-19T12:00:00.000000000&#x27;, &#x27;2020-12-19T18:00:00.000000000&#x27;,\n",
       "       &#x27;2020-12-20T00:00:00.000000000&#x27;, &#x27;2020-12-20T06:00:00.000000000&#x27;,\n",
       "       &#x27;2020-12-20T12:00:00.000000000&#x27;, &#x27;2020-12-20T18:00:00.000000000&#x27;,\n",
       "       &#x27;2020-12-21T00:00:00.000000000&#x27;, &#x27;2020-12-21T06:00:00.000000000&#x27;,\n",
       "       &#x27;2020-12-21T12:00:00.000000000&#x27;, &#x27;2020-12-21T18:00:00.000000000&#x27;,\n",
       "       &#x27;2020-12-22T00:00:00.000000000&#x27;, &#x27;2020-12-22T06:00:00.000000000&#x27;,\n",
       "       &#x27;2020-12-22T12:00:00.000000000&#x27;, &#x27;2020-12-22T18:00:00.000000000&#x27;,\n",
       "       &#x27;2020-12-23T00:00:00.000000000&#x27;, &#x27;2020-12-23T06:00:00.000000000&#x27;,\n",
       "       &#x27;2020-12-23T12:00:00.000000000&#x27;, &#x27;2020-12-23T18:00:00.000000000&#x27;,\n",
       "       &#x27;2020-12-24T00:00:00.000000000&#x27;, &#x27;2020-12-24T06:00:00.000000000&#x27;,\n",
       "       &#x27;2020-12-24T12:00:00.000000000&#x27;, &#x27;2020-12-24T18:00:00.000000000&#x27;,\n",
       "       &#x27;2020-12-25T00:00:00.000000000&#x27;, &#x27;2020-12-25T06:00:00.000000000&#x27;,\n",
       "       &#x27;2020-12-25T12:00:00.000000000&#x27;, &#x27;2020-12-25T18:00:00.000000000&#x27;,\n",
       "       &#x27;2020-12-26T00:00:00.000000000&#x27;, &#x27;2020-12-26T06:00:00.000000000&#x27;,\n",
       "       &#x27;2020-12-26T12:00:00.000000000&#x27;, &#x27;2020-12-26T18:00:00.000000000&#x27;,\n",
       "       &#x27;2020-12-27T00:00:00.000000000&#x27;, &#x27;2020-12-27T06:00:00.000000000&#x27;,\n",
       "       &#x27;2020-12-27T12:00:00.000000000&#x27;, &#x27;2020-12-27T18:00:00.000000000&#x27;,\n",
       "       &#x27;2020-12-28T00:00:00.000000000&#x27;, &#x27;2020-12-28T06:00:00.000000000&#x27;,\n",
       "       &#x27;2020-12-28T12:00:00.000000000&#x27;, &#x27;2020-12-28T18:00:00.000000000&#x27;,\n",
       "       &#x27;2020-12-29T00:00:00.000000000&#x27;, &#x27;2020-12-29T06:00:00.000000000&#x27;,\n",
       "       &#x27;2020-12-29T12:00:00.000000000&#x27;, &#x27;2020-12-29T18:00:00.000000000&#x27;,\n",
       "       &#x27;2020-12-30T00:00:00.000000000&#x27;, &#x27;2020-12-30T06:00:00.000000000&#x27;,\n",
       "       &#x27;2020-12-30T12:00:00.000000000&#x27;, &#x27;2020-12-30T18:00:00.000000000&#x27;,\n",
       "       &#x27;2020-12-31T00:00:00.000000000&#x27;, &#x27;2020-12-31T06:00:00.000000000&#x27;,\n",
       "       &#x27;2020-12-31T12:00:00.000000000&#x27;, &#x27;2020-12-31T18:00:00.000000000&#x27;,\n",
       "       &#x27;2021-01-01T00:00:00.000000000&#x27;, &#x27;2021-01-01T06:00:00.000000000&#x27;,\n",
       "       &#x27;2021-01-01T12:00:00.000000000&#x27;, &#x27;2021-01-01T18:00:00.000000000&#x27;,\n",
       "       &#x27;2021-01-02T00:00:00.000000000&#x27;, &#x27;2021-01-02T06:00:00.000000000&#x27;,\n",
       "       &#x27;2021-01-02T12:00:00.000000000&#x27;, &#x27;2021-01-02T18:00:00.000000000&#x27;,\n",
       "       &#x27;2021-01-03T00:00:00.000000000&#x27;, &#x27;2021-01-03T06:00:00.000000000&#x27;,\n",
       "       &#x27;2021-01-03T12:00:00.000000000&#x27;, &#x27;2021-01-03T18:00:00.000000000&#x27;,\n",
       "       &#x27;2021-01-04T00:00:00.000000000&#x27;, &#x27;2021-01-04T06:00:00.000000000&#x27;,\n",
       "       &#x27;2021-01-04T12:00:00.000000000&#x27;, &#x27;2021-01-04T18:00:00.000000000&#x27;,\n",
       "       &#x27;2021-01-05T00:00:00.000000000&#x27;, &#x27;2021-01-05T06:00:00.000000000&#x27;,\n",
       "       &#x27;2021-01-05T12:00:00.000000000&#x27;, &#x27;2021-01-05T18:00:00.000000000&#x27;,\n",
       "       &#x27;2021-01-06T00:00:00.000000000&#x27;, &#x27;2021-01-06T06:00:00.000000000&#x27;,\n",
       "       &#x27;2021-01-06T12:00:00.000000000&#x27;, &#x27;2021-01-06T18:00:00.000000000&#x27;,\n",
       "       &#x27;2021-01-07T00:00:00.000000000&#x27;], dtype=&#x27;datetime64[ns]&#x27;)</pre></div></li><li class='xr-var-item'><div class='xr-var-name'><span>step</span></div><div class='xr-var-dims'>()</div><div class='xr-var-dtype'>timedelta64[ns]</div><div class='xr-var-preview xr-preview'>00:00:00</div><input id='attrs-159eb33d-35c0-4924-9a4f-3e46c954c270' class='xr-var-attrs-in' type='checkbox' ><label for='attrs-159eb33d-35c0-4924-9a4f-3e46c954c270' title='Show/Hide attributes'><svg class='icon xr-icon-file-text2'><use xlink:href='#icon-file-text2'></use></svg></label><input id='data-5f57e07c-3087-494a-b03c-9e981be6060f' class='xr-var-data-in' type='checkbox'><label for='data-5f57e07c-3087-494a-b03c-9e981be6060f' title='Show/Hide data repr'><svg class='icon xr-icon-database'><use xlink:href='#icon-database'></use></svg></label><div class='xr-var-attrs'><dl class='xr-attrs'><dt><span>long_name :</span></dt><dd>time since forecast_reference_time</dd><dt><span>standard_name :</span></dt><dd>forecast_period</dd></dl></div><div class='xr-var-data'><pre>array(0, dtype=&#x27;timedelta64[ns]&#x27;)</pre></div></li><li class='xr-var-item'><div class='xr-var-name'><span class='xr-has-index'>isobaricInhPa</span></div><div class='xr-var-dims'>(isobaricInhPa)</div><div class='xr-var-dtype'>int64</div><div class='xr-var-preview xr-preview'>1000 950 925 900 850 ... 7 5 3 2 1</div><input id='attrs-1e60546d-7bb1-4e69-809a-18c16562d4d4' class='xr-var-attrs-in' type='checkbox' ><label for='attrs-1e60546d-7bb1-4e69-809a-18c16562d4d4' title='Show/Hide attributes'><svg class='icon xr-icon-file-text2'><use xlink:href='#icon-file-text2'></use></svg></label><input id='data-3492ecf9-5a6b-4c49-9a82-bd0dd64bc53f' class='xr-var-data-in' type='checkbox'><label for='data-3492ecf9-5a6b-4c49-9a82-bd0dd64bc53f' title='Show/Hide data repr'><svg class='icon xr-icon-database'><use xlink:href='#icon-database'></use></svg></label><div class='xr-var-attrs'><dl class='xr-attrs'><dt><span>long_name :</span></dt><dd>pressure</dd><dt><span>units :</span></dt><dd>hPa</dd><dt><span>positive :</span></dt><dd>down</dd><dt><span>stored_direction :</span></dt><dd>decreasing</dd><dt><span>standard_name :</span></dt><dd>air_pressure</dd></dl></div><div class='xr-var-data'><pre>array([1000,  950,  925,  900,  850,  800,  700,  600,  500,  400,  300,  250,\n",
       "        200,  150,  100,   70,   50,   30,   20,   10,    7,    5,    3,    2,\n",
       "          1])</pre></div></li><li class='xr-var-item'><div class='xr-var-name'><span class='xr-has-index'>latitude</span></div><div class='xr-var-dims'>(latitude)</div><div class='xr-var-dtype'>float64</div><div class='xr-var-preview xr-preview'>-90.0 -89.75 -89.5 ... 89.75 90.0</div><input id='attrs-f9de85c9-a44c-4a90-ae93-cdf5ac1963d7' class='xr-var-attrs-in' type='checkbox' ><label for='attrs-f9de85c9-a44c-4a90-ae93-cdf5ac1963d7' title='Show/Hide attributes'><svg class='icon xr-icon-file-text2'><use xlink:href='#icon-file-text2'></use></svg></label><input id='data-1d2c69b6-fbd3-4d97-9bc3-cfd2682e13ca' class='xr-var-data-in' type='checkbox'><label for='data-1d2c69b6-fbd3-4d97-9bc3-cfd2682e13ca' title='Show/Hide data repr'><svg class='icon xr-icon-database'><use xlink:href='#icon-database'></use></svg></label><div class='xr-var-attrs'><dl class='xr-attrs'><dt><span>units :</span></dt><dd>degrees_north</dd><dt><span>standard_name :</span></dt><dd>latitude</dd><dt><span>long_name :</span></dt><dd>latitude</dd></dl></div><div class='xr-var-data'><pre>array([-90.  , -89.75, -89.5 , ...,  89.5 ,  89.75,  90.  ])</pre></div></li><li class='xr-var-item'><div class='xr-var-name'><span class='xr-has-index'>longitude</span></div><div class='xr-var-dims'>(longitude)</div><div class='xr-var-dtype'>float64</div><div class='xr-var-preview xr-preview'>0.0 0.25 0.5 ... 359.2 359.5 359.8</div><input id='attrs-c5e56c46-c33e-4db2-ae19-7a986b7620d6' class='xr-var-attrs-in' type='checkbox' ><label for='attrs-c5e56c46-c33e-4db2-ae19-7a986b7620d6' title='Show/Hide attributes'><svg class='icon xr-icon-file-text2'><use xlink:href='#icon-file-text2'></use></svg></label><input id='data-fed39299-735e-418a-899b-beb9c1ac212b' class='xr-var-data-in' type='checkbox'><label for='data-fed39299-735e-418a-899b-beb9c1ac212b' title='Show/Hide data repr'><svg class='icon xr-icon-database'><use xlink:href='#icon-database'></use></svg></label><div class='xr-var-attrs'><dl class='xr-attrs'><dt><span>units :</span></dt><dd>degrees_east</dd><dt><span>standard_name :</span></dt><dd>longitude</dd><dt><span>long_name :</span></dt><dd>longitude</dd></dl></div><div class='xr-var-data'><pre>array([0.0000e+00, 2.5000e-01, 5.0000e-01, ..., 3.5925e+02, 3.5950e+02,\n",
       "       3.5975e+02])</pre></div></li><li class='xr-var-item'><div class='xr-var-name'><span>valid_time</span></div><div class='xr-var-dims'>(time)</div><div class='xr-var-dtype'>datetime64[ns]</div><div class='xr-var-preview xr-preview'>2020-12-15 ... 2021-01-07</div><input id='attrs-bd416468-5623-4af2-b31f-ea7c8afe33a9' class='xr-var-attrs-in' type='checkbox' ><label for='attrs-bd416468-5623-4af2-b31f-ea7c8afe33a9' title='Show/Hide attributes'><svg class='icon xr-icon-file-text2'><use xlink:href='#icon-file-text2'></use></svg></label><input id='data-d4b63f45-c58c-4557-9330-7feb318c200e' class='xr-var-data-in' type='checkbox'><label for='data-d4b63f45-c58c-4557-9330-7feb318c200e' title='Show/Hide data repr'><svg class='icon xr-icon-database'><use xlink:href='#icon-database'></use></svg></label><div class='xr-var-attrs'><dl class='xr-attrs'><dt><span>standard_name :</span></dt><dd>time</dd><dt><span>long_name :</span></dt><dd>time</dd></dl></div><div class='xr-var-data'><pre>array([&#x27;2020-12-15T00:00:00.000000000&#x27;, &#x27;2020-12-15T06:00:00.000000000&#x27;,\n",
       "       &#x27;2020-12-15T12:00:00.000000000&#x27;, &#x27;2020-12-15T18:00:00.000000000&#x27;,\n",
       "       &#x27;2020-12-16T00:00:00.000000000&#x27;, &#x27;2020-12-16T06:00:00.000000000&#x27;,\n",
       "       &#x27;2020-12-16T12:00:00.000000000&#x27;, &#x27;2020-12-16T18:00:00.000000000&#x27;,\n",
       "       &#x27;2020-12-17T00:00:00.000000000&#x27;, &#x27;2020-12-17T06:00:00.000000000&#x27;,\n",
       "       &#x27;2020-12-17T12:00:00.000000000&#x27;, &#x27;2020-12-17T18:00:00.000000000&#x27;,\n",
       "       &#x27;2020-12-18T00:00:00.000000000&#x27;, &#x27;2020-12-18T06:00:00.000000000&#x27;,\n",
       "       &#x27;2020-12-18T12:00:00.000000000&#x27;, &#x27;2020-12-18T18:00:00.000000000&#x27;,\n",
       "       &#x27;2020-12-19T00:00:00.000000000&#x27;, &#x27;2020-12-19T06:00:00.000000000&#x27;,\n",
       "       &#x27;2020-12-19T12:00:00.000000000&#x27;, &#x27;2020-12-19T18:00:00.000000000&#x27;,\n",
       "       &#x27;2020-12-20T00:00:00.000000000&#x27;, &#x27;2020-12-20T06:00:00.000000000&#x27;,\n",
       "       &#x27;2020-12-20T12:00:00.000000000&#x27;, &#x27;2020-12-20T18:00:00.000000000&#x27;,\n",
       "       &#x27;2020-12-21T00:00:00.000000000&#x27;, &#x27;2020-12-21T06:00:00.000000000&#x27;,\n",
       "       &#x27;2020-12-21T12:00:00.000000000&#x27;, &#x27;2020-12-21T18:00:00.000000000&#x27;,\n",
       "       &#x27;2020-12-22T00:00:00.000000000&#x27;, &#x27;2020-12-22T06:00:00.000000000&#x27;,\n",
       "       &#x27;2020-12-22T12:00:00.000000000&#x27;, &#x27;2020-12-22T18:00:00.000000000&#x27;,\n",
       "       &#x27;2020-12-23T00:00:00.000000000&#x27;, &#x27;2020-12-23T06:00:00.000000000&#x27;,\n",
       "       &#x27;2020-12-23T12:00:00.000000000&#x27;, &#x27;2020-12-23T18:00:00.000000000&#x27;,\n",
       "       &#x27;2020-12-24T00:00:00.000000000&#x27;, &#x27;2020-12-24T06:00:00.000000000&#x27;,\n",
       "       &#x27;2020-12-24T12:00:00.000000000&#x27;, &#x27;2020-12-24T18:00:00.000000000&#x27;,\n",
       "...\n",
       "       &#x27;2020-12-28T12:00:00.000000000&#x27;, &#x27;2020-12-28T18:00:00.000000000&#x27;,\n",
       "       &#x27;2020-12-29T00:00:00.000000000&#x27;, &#x27;2020-12-29T06:00:00.000000000&#x27;,\n",
       "       &#x27;2020-12-29T12:00:00.000000000&#x27;, &#x27;2020-12-29T18:00:00.000000000&#x27;,\n",
       "       &#x27;2020-12-30T00:00:00.000000000&#x27;, &#x27;2020-12-30T06:00:00.000000000&#x27;,\n",
       "       &#x27;2020-12-30T12:00:00.000000000&#x27;, &#x27;2020-12-30T18:00:00.000000000&#x27;,\n",
       "       &#x27;2020-12-31T00:00:00.000000000&#x27;, &#x27;2020-12-31T06:00:00.000000000&#x27;,\n",
       "       &#x27;2020-12-31T12:00:00.000000000&#x27;, &#x27;2020-12-31T18:00:00.000000000&#x27;,\n",
       "       &#x27;2021-01-01T00:00:00.000000000&#x27;, &#x27;2021-01-01T06:00:00.000000000&#x27;,\n",
       "       &#x27;2021-01-01T12:00:00.000000000&#x27;, &#x27;2021-01-01T18:00:00.000000000&#x27;,\n",
       "       &#x27;2021-01-02T00:00:00.000000000&#x27;, &#x27;2021-01-02T06:00:00.000000000&#x27;,\n",
       "       &#x27;2021-01-02T12:00:00.000000000&#x27;, &#x27;2021-01-02T18:00:00.000000000&#x27;,\n",
       "       &#x27;2021-01-03T00:00:00.000000000&#x27;, &#x27;2021-01-03T06:00:00.000000000&#x27;,\n",
       "       &#x27;2021-01-03T12:00:00.000000000&#x27;, &#x27;2021-01-03T18:00:00.000000000&#x27;,\n",
       "       &#x27;2021-01-04T00:00:00.000000000&#x27;, &#x27;2021-01-04T06:00:00.000000000&#x27;,\n",
       "       &#x27;2021-01-04T12:00:00.000000000&#x27;, &#x27;2021-01-04T18:00:00.000000000&#x27;,\n",
       "       &#x27;2021-01-05T00:00:00.000000000&#x27;, &#x27;2021-01-05T06:00:00.000000000&#x27;,\n",
       "       &#x27;2021-01-05T12:00:00.000000000&#x27;, &#x27;2021-01-05T18:00:00.000000000&#x27;,\n",
       "       &#x27;2021-01-06T00:00:00.000000000&#x27;, &#x27;2021-01-06T06:00:00.000000000&#x27;,\n",
       "       &#x27;2021-01-06T12:00:00.000000000&#x27;, &#x27;2021-01-06T18:00:00.000000000&#x27;,\n",
       "       &#x27;2021-01-07T00:00:00.000000000&#x27;], dtype=&#x27;datetime64[ns]&#x27;)</pre></div></li></ul></div></li><li class='xr-section-item'><input id='section-1d1a6443-efe1-4d4e-9c5b-199420351b66' class='xr-section-summary-in' type='checkbox'  checked><label for='section-1d1a6443-efe1-4d4e-9c5b-199420351b66' class='xr-section-summary' >Data variables: <span>(5)</span></label><div class='xr-section-inline-details'></div><div class='xr-section-details'><ul class='xr-var-list'><li class='xr-var-item'><div class='xr-var-name'><span>u</span></div><div class='xr-var-dims'>(time, isobaricInhPa, latitude, longitude)</div><div class='xr-var-dtype'>float32</div><div class='xr-var-preview xr-preview'>dask.array&lt;chunksize=(1, 25, 721, 1440), meta=np.ndarray&gt;</div><input id='attrs-33313a5e-5391-4a58-8bb3-b1d2783c161d' class='xr-var-attrs-in' type='checkbox' ><label for='attrs-33313a5e-5391-4a58-8bb3-b1d2783c161d' title='Show/Hide attributes'><svg class='icon xr-icon-file-text2'><use xlink:href='#icon-file-text2'></use></svg></label><input id='data-f1f569f7-1276-4d6e-83ee-f8a741afd876' class='xr-var-data-in' type='checkbox'><label for='data-f1f569f7-1276-4d6e-83ee-f8a741afd876' title='Show/Hide data repr'><svg class='icon xr-icon-database'><use xlink:href='#icon-database'></use></svg></label><div class='xr-var-attrs'><dl class='xr-attrs'><dt><span>GRIB_paramId :</span></dt><dd>131</dd><dt><span>GRIB_shortName :</span></dt><dd>u</dd><dt><span>GRIB_units :</span></dt><dd>m s**-1</dd><dt><span>GRIB_name :</span></dt><dd>U component of wind</dd><dt><span>GRIB_cfName :</span></dt><dd>eastward_wind</dd><dt><span>GRIB_cfVarName :</span></dt><dd>u</dd><dt><span>GRIB_dataType :</span></dt><dd>an</dd><dt><span>GRIB_missingValue :</span></dt><dd>9999</dd><dt><span>GRIB_numberOfPoints :</span></dt><dd>1038240</dd><dt><span>GRIB_typeOfLevel :</span></dt><dd>isobaricInhPa</dd><dt><span>GRIB_NV :</span></dt><dd>0</dd><dt><span>GRIB_stepUnits :</span></dt><dd>1</dd><dt><span>GRIB_stepType :</span></dt><dd>instant</dd><dt><span>GRIB_gridType :</span></dt><dd>regular_ll</dd><dt><span>GRIB_gridDefinitionDescription :</span></dt><dd>Latitude/longitude </dd><dt><span>GRIB_Nx :</span></dt><dd>1440</dd><dt><span>GRIB_iDirectionIncrementInDegrees :</span></dt><dd>0.25</dd><dt><span>GRIB_iScansNegatively :</span></dt><dd>0</dd><dt><span>GRIB_longitudeOfFirstGridPointInDegrees :</span></dt><dd>0.0</dd><dt><span>GRIB_longitudeOfLastGridPointInDegrees :</span></dt><dd>359.75</dd><dt><span>GRIB_Ny :</span></dt><dd>721</dd><dt><span>GRIB_jDirectionIncrementInDegrees :</span></dt><dd>0.25</dd><dt><span>GRIB_jPointsAreConsecutive :</span></dt><dd>0</dd><dt><span>GRIB_jScansPositively :</span></dt><dd>1</dd><dt><span>GRIB_latitudeOfFirstGridPointInDegrees :</span></dt><dd>-90.0</dd><dt><span>GRIB_latitudeOfLastGridPointInDegrees :</span></dt><dd>90.0</dd><dt><span>long_name :</span></dt><dd>U component of wind</dd><dt><span>units :</span></dt><dd>m s**-1</dd><dt><span>standard_name :</span></dt><dd>eastward_wind</dd></dl></div><div class='xr-var-data'><table>\n",
       "<tr>\n",
       "<td>\n",
       "<table>\n",
       "  <thead>\n",
       "    <tr><td> </td><th> Array </th><th> Chunk </th></tr>\n",
       "  </thead>\n",
       "  <tbody>\n",
       "    <tr><th> Bytes </th><td> 9.66 GB </td> <td> 103.82 MB </td></tr>\n",
       "    <tr><th> Shape </th><td> (93, 25, 721, 1440) </td> <td> (1, 25, 721, 1440) </td></tr>\n",
       "    <tr><th> Count </th><td> 372 Tasks </td><td> 93 Chunks </td></tr>\n",
       "    <tr><th> Type </th><td> float32 </td><td> numpy.ndarray </td></tr>\n",
       "  </tbody>\n",
       "</table>\n",
       "</td>\n",
       "<td>\n",
       "<svg width=\"398\" height=\"126\" style=\"stroke:rgb(0,0,0);stroke-width:1\" >\n",
       "\n",
       "  <!-- Horizontal lines -->\n",
       "  <line x1=\"0\" y1=\"0\" x2=\"36\" y2=\"0\" style=\"stroke-width:2\" />\n",
       "  <line x1=\"0\" y1=\"25\" x2=\"36\" y2=\"25\" style=\"stroke-width:2\" />\n",
       "\n",
       "  <!-- Vertical lines -->\n",
       "  <line x1=\"0\" y1=\"0\" x2=\"0\" y2=\"25\" style=\"stroke-width:2\" />\n",
       "  <line x1=\"0\" y1=\"0\" x2=\"0\" y2=\"25\" />\n",
       "  <line x1=\"1\" y1=\"0\" x2=\"1\" y2=\"25\" />\n",
       "  <line x1=\"3\" y1=\"0\" x2=\"3\" y2=\"25\" />\n",
       "  <line x1=\"4\" y1=\"0\" x2=\"4\" y2=\"25\" />\n",
       "  <line x1=\"5\" y1=\"0\" x2=\"5\" y2=\"25\" />\n",
       "  <line x1=\"6\" y1=\"0\" x2=\"6\" y2=\"25\" />\n",
       "  <line x1=\"7\" y1=\"0\" x2=\"7\" y2=\"25\" />\n",
       "  <line x1=\"8\" y1=\"0\" x2=\"8\" y2=\"25\" />\n",
       "  <line x1=\"10\" y1=\"0\" x2=\"10\" y2=\"25\" />\n",
       "  <line x1=\"11\" y1=\"0\" x2=\"11\" y2=\"25\" />\n",
       "  <line x1=\"12\" y1=\"0\" x2=\"12\" y2=\"25\" />\n",
       "  <line x1=\"13\" y1=\"0\" x2=\"13\" y2=\"25\" />\n",
       "  <line x1=\"14\" y1=\"0\" x2=\"14\" y2=\"25\" />\n",
       "  <line x1=\"15\" y1=\"0\" x2=\"15\" y2=\"25\" />\n",
       "  <line x1=\"16\" y1=\"0\" x2=\"16\" y2=\"25\" />\n",
       "  <line x1=\"17\" y1=\"0\" x2=\"17\" y2=\"25\" />\n",
       "  <line x1=\"18\" y1=\"0\" x2=\"18\" y2=\"25\" />\n",
       "  <line x1=\"20\" y1=\"0\" x2=\"20\" y2=\"25\" />\n",
       "  <line x1=\"21\" y1=\"0\" x2=\"21\" y2=\"25\" />\n",
       "  <line x1=\"22\" y1=\"0\" x2=\"22\" y2=\"25\" />\n",
       "  <line x1=\"23\" y1=\"0\" x2=\"23\" y2=\"25\" />\n",
       "  <line x1=\"24\" y1=\"0\" x2=\"24\" y2=\"25\" />\n",
       "  <line x1=\"25\" y1=\"0\" x2=\"25\" y2=\"25\" />\n",
       "  <line x1=\"26\" y1=\"0\" x2=\"26\" y2=\"25\" />\n",
       "  <line x1=\"27\" y1=\"0\" x2=\"27\" y2=\"25\" />\n",
       "  <line x1=\"29\" y1=\"0\" x2=\"29\" y2=\"25\" />\n",
       "  <line x1=\"30\" y1=\"0\" x2=\"30\" y2=\"25\" />\n",
       "  <line x1=\"31\" y1=\"0\" x2=\"31\" y2=\"25\" />\n",
       "  <line x1=\"32\" y1=\"0\" x2=\"32\" y2=\"25\" />\n",
       "  <line x1=\"33\" y1=\"0\" x2=\"33\" y2=\"25\" />\n",
       "  <line x1=\"34\" y1=\"0\" x2=\"34\" y2=\"25\" />\n",
       "  <line x1=\"36\" y1=\"0\" x2=\"36\" y2=\"25\" style=\"stroke-width:2\" />\n",
       "\n",
       "  <!-- Colored Rectangle -->\n",
       "  <polygon points=\"0.0,0.0 36.05716770030603,0.0 36.05716770030603,25.412616514582485 0.0,25.412616514582485\" style=\"fill:#8B4903A0;stroke-width:0\"/>\n",
       "\n",
       "  <!-- Text -->\n",
       "  <text x=\"18.028584\" y=\"45.412617\" font-size=\"1.0rem\" font-weight=\"100\" text-anchor=\"middle\" >93</text>\n",
       "  <text x=\"56.057168\" y=\"12.706308\" font-size=\"1.0rem\" font-weight=\"100\" text-anchor=\"middle\" transform=\"rotate(0,56.057168,12.706308)\">1</text>\n",
       "\n",
       "\n",
       "  <!-- Horizontal lines -->\n",
       "  <line x1=\"106\" y1=\"0\" x2=\"122\" y2=\"16\" style=\"stroke-width:2\" />\n",
       "  <line x1=\"106\" y1=\"60\" x2=\"122\" y2=\"76\" style=\"stroke-width:2\" />\n",
       "\n",
       "  <!-- Vertical lines -->\n",
       "  <line x1=\"106\" y1=\"0\" x2=\"106\" y2=\"60\" style=\"stroke-width:2\" />\n",
       "  <line x1=\"122\" y1=\"16\" x2=\"122\" y2=\"76\" style=\"stroke-width:2\" />\n",
       "\n",
       "  <!-- Colored Rectangle -->\n",
       "  <polygon points=\"106.0,0.0 122.6148792154626,16.6148792154626 122.6148792154626,76.69821254879594 106.0,60.083333333333336\" style=\"fill:#ECB172A0;stroke-width:0\"/>\n",
       "\n",
       "  <!-- Horizontal lines -->\n",
       "  <line x1=\"106\" y1=\"0\" x2=\"226\" y2=\"0\" style=\"stroke-width:2\" />\n",
       "  <line x1=\"122\" y1=\"16\" x2=\"242\" y2=\"16\" style=\"stroke-width:2\" />\n",
       "\n",
       "  <!-- Vertical lines -->\n",
       "  <line x1=\"106\" y1=\"0\" x2=\"122\" y2=\"16\" style=\"stroke-width:2\" />\n",
       "  <line x1=\"226\" y1=\"0\" x2=\"242\" y2=\"16\" style=\"stroke-width:2\" />\n",
       "\n",
       "  <!-- Colored Rectangle -->\n",
       "  <polygon points=\"106.0,0.0 226.0,0.0 242.6148792154626,16.6148792154626 122.6148792154626,16.6148792154626\" style=\"fill:#ECB172A0;stroke-width:0\"/>\n",
       "\n",
       "  <!-- Horizontal lines -->\n",
       "  <line x1=\"122\" y1=\"16\" x2=\"242\" y2=\"16\" style=\"stroke-width:2\" />\n",
       "  <line x1=\"122\" y1=\"76\" x2=\"242\" y2=\"76\" style=\"stroke-width:2\" />\n",
       "\n",
       "  <!-- Vertical lines -->\n",
       "  <line x1=\"122\" y1=\"16\" x2=\"122\" y2=\"76\" style=\"stroke-width:2\" />\n",
       "  <line x1=\"242\" y1=\"16\" x2=\"242\" y2=\"76\" style=\"stroke-width:2\" />\n",
       "\n",
       "  <!-- Colored Rectangle -->\n",
       "  <polygon points=\"122.6148792154626,16.6148792154626 242.6148792154626,16.6148792154626 242.6148792154626,76.69821254879594 122.6148792154626,76.69821254879594\" style=\"fill:#ECB172A0;stroke-width:0\"/>\n",
       "\n",
       "  <!-- Text -->\n",
       "  <text x=\"182.614879\" y=\"96.698213\" font-size=\"1.0rem\" font-weight=\"100\" text-anchor=\"middle\" >1440</text>\n",
       "  <text x=\"262.614879\" y=\"46.656546\" font-size=\"1.0rem\" font-weight=\"100\" text-anchor=\"middle\" transform=\"rotate(-90,262.614879,46.656546)\">721</text>\n",
       "  <text x=\"104.307440\" y=\"88.390773\" font-size=\"1.0rem\" font-weight=\"100\" text-anchor=\"middle\" transform=\"rotate(45,104.307440,88.390773)\">25</text>\n",
       "</svg>\n",
       "</td>\n",
       "</tr>\n",
       "</table></div></li><li class='xr-var-item'><div class='xr-var-name'><span>v</span></div><div class='xr-var-dims'>(time, isobaricInhPa, latitude, longitude)</div><div class='xr-var-dtype'>float32</div><div class='xr-var-preview xr-preview'>dask.array&lt;chunksize=(1, 25, 721, 1440), meta=np.ndarray&gt;</div><input id='attrs-52343623-bb83-49ff-922c-7c3561f623bd' class='xr-var-attrs-in' type='checkbox' ><label for='attrs-52343623-bb83-49ff-922c-7c3561f623bd' title='Show/Hide attributes'><svg class='icon xr-icon-file-text2'><use xlink:href='#icon-file-text2'></use></svg></label><input id='data-4c7a5b10-ecbb-4db5-b006-928052b66463' class='xr-var-data-in' type='checkbox'><label for='data-4c7a5b10-ecbb-4db5-b006-928052b66463' title='Show/Hide data repr'><svg class='icon xr-icon-database'><use xlink:href='#icon-database'></use></svg></label><div class='xr-var-attrs'><dl class='xr-attrs'><dt><span>GRIB_paramId :</span></dt><dd>132</dd><dt><span>GRIB_shortName :</span></dt><dd>v</dd><dt><span>GRIB_units :</span></dt><dd>m s**-1</dd><dt><span>GRIB_name :</span></dt><dd>V component of wind</dd><dt><span>GRIB_cfName :</span></dt><dd>northward_wind</dd><dt><span>GRIB_cfVarName :</span></dt><dd>v</dd><dt><span>GRIB_dataType :</span></dt><dd>an</dd><dt><span>GRIB_missingValue :</span></dt><dd>9999</dd><dt><span>GRIB_numberOfPoints :</span></dt><dd>1038240</dd><dt><span>GRIB_typeOfLevel :</span></dt><dd>isobaricInhPa</dd><dt><span>GRIB_NV :</span></dt><dd>0</dd><dt><span>GRIB_stepUnits :</span></dt><dd>1</dd><dt><span>GRIB_stepType :</span></dt><dd>instant</dd><dt><span>GRIB_gridType :</span></dt><dd>regular_ll</dd><dt><span>GRIB_gridDefinitionDescription :</span></dt><dd>Latitude/longitude </dd><dt><span>GRIB_Nx :</span></dt><dd>1440</dd><dt><span>GRIB_iDirectionIncrementInDegrees :</span></dt><dd>0.25</dd><dt><span>GRIB_iScansNegatively :</span></dt><dd>0</dd><dt><span>GRIB_longitudeOfFirstGridPointInDegrees :</span></dt><dd>0.0</dd><dt><span>GRIB_longitudeOfLastGridPointInDegrees :</span></dt><dd>359.75</dd><dt><span>GRIB_Ny :</span></dt><dd>721</dd><dt><span>GRIB_jDirectionIncrementInDegrees :</span></dt><dd>0.25</dd><dt><span>GRIB_jPointsAreConsecutive :</span></dt><dd>0</dd><dt><span>GRIB_jScansPositively :</span></dt><dd>1</dd><dt><span>GRIB_latitudeOfFirstGridPointInDegrees :</span></dt><dd>-90.0</dd><dt><span>GRIB_latitudeOfLastGridPointInDegrees :</span></dt><dd>90.0</dd><dt><span>long_name :</span></dt><dd>V component of wind</dd><dt><span>units :</span></dt><dd>m s**-1</dd><dt><span>standard_name :</span></dt><dd>northward_wind</dd></dl></div><div class='xr-var-data'><table>\n",
       "<tr>\n",
       "<td>\n",
       "<table>\n",
       "  <thead>\n",
       "    <tr><td> </td><th> Array </th><th> Chunk </th></tr>\n",
       "  </thead>\n",
       "  <tbody>\n",
       "    <tr><th> Bytes </th><td> 9.66 GB </td> <td> 103.82 MB </td></tr>\n",
       "    <tr><th> Shape </th><td> (93, 25, 721, 1440) </td> <td> (1, 25, 721, 1440) </td></tr>\n",
       "    <tr><th> Count </th><td> 372 Tasks </td><td> 93 Chunks </td></tr>\n",
       "    <tr><th> Type </th><td> float32 </td><td> numpy.ndarray </td></tr>\n",
       "  </tbody>\n",
       "</table>\n",
       "</td>\n",
       "<td>\n",
       "<svg width=\"398\" height=\"126\" style=\"stroke:rgb(0,0,0);stroke-width:1\" >\n",
       "\n",
       "  <!-- Horizontal lines -->\n",
       "  <line x1=\"0\" y1=\"0\" x2=\"36\" y2=\"0\" style=\"stroke-width:2\" />\n",
       "  <line x1=\"0\" y1=\"25\" x2=\"36\" y2=\"25\" style=\"stroke-width:2\" />\n",
       "\n",
       "  <!-- Vertical lines -->\n",
       "  <line x1=\"0\" y1=\"0\" x2=\"0\" y2=\"25\" style=\"stroke-width:2\" />\n",
       "  <line x1=\"0\" y1=\"0\" x2=\"0\" y2=\"25\" />\n",
       "  <line x1=\"1\" y1=\"0\" x2=\"1\" y2=\"25\" />\n",
       "  <line x1=\"3\" y1=\"0\" x2=\"3\" y2=\"25\" />\n",
       "  <line x1=\"4\" y1=\"0\" x2=\"4\" y2=\"25\" />\n",
       "  <line x1=\"5\" y1=\"0\" x2=\"5\" y2=\"25\" />\n",
       "  <line x1=\"6\" y1=\"0\" x2=\"6\" y2=\"25\" />\n",
       "  <line x1=\"7\" y1=\"0\" x2=\"7\" y2=\"25\" />\n",
       "  <line x1=\"8\" y1=\"0\" x2=\"8\" y2=\"25\" />\n",
       "  <line x1=\"10\" y1=\"0\" x2=\"10\" y2=\"25\" />\n",
       "  <line x1=\"11\" y1=\"0\" x2=\"11\" y2=\"25\" />\n",
       "  <line x1=\"12\" y1=\"0\" x2=\"12\" y2=\"25\" />\n",
       "  <line x1=\"13\" y1=\"0\" x2=\"13\" y2=\"25\" />\n",
       "  <line x1=\"14\" y1=\"0\" x2=\"14\" y2=\"25\" />\n",
       "  <line x1=\"15\" y1=\"0\" x2=\"15\" y2=\"25\" />\n",
       "  <line x1=\"16\" y1=\"0\" x2=\"16\" y2=\"25\" />\n",
       "  <line x1=\"17\" y1=\"0\" x2=\"17\" y2=\"25\" />\n",
       "  <line x1=\"18\" y1=\"0\" x2=\"18\" y2=\"25\" />\n",
       "  <line x1=\"20\" y1=\"0\" x2=\"20\" y2=\"25\" />\n",
       "  <line x1=\"21\" y1=\"0\" x2=\"21\" y2=\"25\" />\n",
       "  <line x1=\"22\" y1=\"0\" x2=\"22\" y2=\"25\" />\n",
       "  <line x1=\"23\" y1=\"0\" x2=\"23\" y2=\"25\" />\n",
       "  <line x1=\"24\" y1=\"0\" x2=\"24\" y2=\"25\" />\n",
       "  <line x1=\"25\" y1=\"0\" x2=\"25\" y2=\"25\" />\n",
       "  <line x1=\"26\" y1=\"0\" x2=\"26\" y2=\"25\" />\n",
       "  <line x1=\"27\" y1=\"0\" x2=\"27\" y2=\"25\" />\n",
       "  <line x1=\"29\" y1=\"0\" x2=\"29\" y2=\"25\" />\n",
       "  <line x1=\"30\" y1=\"0\" x2=\"30\" y2=\"25\" />\n",
       "  <line x1=\"31\" y1=\"0\" x2=\"31\" y2=\"25\" />\n",
       "  <line x1=\"32\" y1=\"0\" x2=\"32\" y2=\"25\" />\n",
       "  <line x1=\"33\" y1=\"0\" x2=\"33\" y2=\"25\" />\n",
       "  <line x1=\"34\" y1=\"0\" x2=\"34\" y2=\"25\" />\n",
       "  <line x1=\"36\" y1=\"0\" x2=\"36\" y2=\"25\" style=\"stroke-width:2\" />\n",
       "\n",
       "  <!-- Colored Rectangle -->\n",
       "  <polygon points=\"0.0,0.0 36.05716770030603,0.0 36.05716770030603,25.412616514582485 0.0,25.412616514582485\" style=\"fill:#8B4903A0;stroke-width:0\"/>\n",
       "\n",
       "  <!-- Text -->\n",
       "  <text x=\"18.028584\" y=\"45.412617\" font-size=\"1.0rem\" font-weight=\"100\" text-anchor=\"middle\" >93</text>\n",
       "  <text x=\"56.057168\" y=\"12.706308\" font-size=\"1.0rem\" font-weight=\"100\" text-anchor=\"middle\" transform=\"rotate(0,56.057168,12.706308)\">1</text>\n",
       "\n",
       "\n",
       "  <!-- Horizontal lines -->\n",
       "  <line x1=\"106\" y1=\"0\" x2=\"122\" y2=\"16\" style=\"stroke-width:2\" />\n",
       "  <line x1=\"106\" y1=\"60\" x2=\"122\" y2=\"76\" style=\"stroke-width:2\" />\n",
       "\n",
       "  <!-- Vertical lines -->\n",
       "  <line x1=\"106\" y1=\"0\" x2=\"106\" y2=\"60\" style=\"stroke-width:2\" />\n",
       "  <line x1=\"122\" y1=\"16\" x2=\"122\" y2=\"76\" style=\"stroke-width:2\" />\n",
       "\n",
       "  <!-- Colored Rectangle -->\n",
       "  <polygon points=\"106.0,0.0 122.6148792154626,16.6148792154626 122.6148792154626,76.69821254879594 106.0,60.083333333333336\" style=\"fill:#ECB172A0;stroke-width:0\"/>\n",
       "\n",
       "  <!-- Horizontal lines -->\n",
       "  <line x1=\"106\" y1=\"0\" x2=\"226\" y2=\"0\" style=\"stroke-width:2\" />\n",
       "  <line x1=\"122\" y1=\"16\" x2=\"242\" y2=\"16\" style=\"stroke-width:2\" />\n",
       "\n",
       "  <!-- Vertical lines -->\n",
       "  <line x1=\"106\" y1=\"0\" x2=\"122\" y2=\"16\" style=\"stroke-width:2\" />\n",
       "  <line x1=\"226\" y1=\"0\" x2=\"242\" y2=\"16\" style=\"stroke-width:2\" />\n",
       "\n",
       "  <!-- Colored Rectangle -->\n",
       "  <polygon points=\"106.0,0.0 226.0,0.0 242.6148792154626,16.6148792154626 122.6148792154626,16.6148792154626\" style=\"fill:#ECB172A0;stroke-width:0\"/>\n",
       "\n",
       "  <!-- Horizontal lines -->\n",
       "  <line x1=\"122\" y1=\"16\" x2=\"242\" y2=\"16\" style=\"stroke-width:2\" />\n",
       "  <line x1=\"122\" y1=\"76\" x2=\"242\" y2=\"76\" style=\"stroke-width:2\" />\n",
       "\n",
       "  <!-- Vertical lines -->\n",
       "  <line x1=\"122\" y1=\"16\" x2=\"122\" y2=\"76\" style=\"stroke-width:2\" />\n",
       "  <line x1=\"242\" y1=\"16\" x2=\"242\" y2=\"76\" style=\"stroke-width:2\" />\n",
       "\n",
       "  <!-- Colored Rectangle -->\n",
       "  <polygon points=\"122.6148792154626,16.6148792154626 242.6148792154626,16.6148792154626 242.6148792154626,76.69821254879594 122.6148792154626,76.69821254879594\" style=\"fill:#ECB172A0;stroke-width:0\"/>\n",
       "\n",
       "  <!-- Text -->\n",
       "  <text x=\"182.614879\" y=\"96.698213\" font-size=\"1.0rem\" font-weight=\"100\" text-anchor=\"middle\" >1440</text>\n",
       "  <text x=\"262.614879\" y=\"46.656546\" font-size=\"1.0rem\" font-weight=\"100\" text-anchor=\"middle\" transform=\"rotate(-90,262.614879,46.656546)\">721</text>\n",
       "  <text x=\"104.307440\" y=\"88.390773\" font-size=\"1.0rem\" font-weight=\"100\" text-anchor=\"middle\" transform=\"rotate(45,104.307440,88.390773)\">25</text>\n",
       "</svg>\n",
       "</td>\n",
       "</tr>\n",
       "</table></div></li><li class='xr-var-item'><div class='xr-var-name'><span>w</span></div><div class='xr-var-dims'>(time, isobaricInhPa, latitude, longitude)</div><div class='xr-var-dtype'>float32</div><div class='xr-var-preview xr-preview'>dask.array&lt;chunksize=(1, 25, 721, 1440), meta=np.ndarray&gt;</div><input id='attrs-a7442234-e4cf-4330-962c-a8c3df99018e' class='xr-var-attrs-in' type='checkbox' ><label for='attrs-a7442234-e4cf-4330-962c-a8c3df99018e' title='Show/Hide attributes'><svg class='icon xr-icon-file-text2'><use xlink:href='#icon-file-text2'></use></svg></label><input id='data-0c530d71-880a-482f-9b8d-8a45fe28fc1c' class='xr-var-data-in' type='checkbox'><label for='data-0c530d71-880a-482f-9b8d-8a45fe28fc1c' title='Show/Hide data repr'><svg class='icon xr-icon-database'><use xlink:href='#icon-database'></use></svg></label><div class='xr-var-attrs'><dl class='xr-attrs'><dt><span>GRIB_paramId :</span></dt><dd>135</dd><dt><span>GRIB_shortName :</span></dt><dd>w</dd><dt><span>GRIB_units :</span></dt><dd>Pa s**-1</dd><dt><span>GRIB_name :</span></dt><dd>Vertical velocity</dd><dt><span>GRIB_cfName :</span></dt><dd>lagrangian_tendency_of_air_pressure</dd><dt><span>GRIB_cfVarName :</span></dt><dd>w</dd><dt><span>GRIB_dataType :</span></dt><dd>an</dd><dt><span>GRIB_missingValue :</span></dt><dd>9999</dd><dt><span>GRIB_numberOfPoints :</span></dt><dd>1038240</dd><dt><span>GRIB_typeOfLevel :</span></dt><dd>isobaricInhPa</dd><dt><span>GRIB_NV :</span></dt><dd>0</dd><dt><span>GRIB_stepUnits :</span></dt><dd>1</dd><dt><span>GRIB_stepType :</span></dt><dd>instant</dd><dt><span>GRIB_gridType :</span></dt><dd>regular_ll</dd><dt><span>GRIB_gridDefinitionDescription :</span></dt><dd>Latitude/longitude </dd><dt><span>GRIB_Nx :</span></dt><dd>1440</dd><dt><span>GRIB_iDirectionIncrementInDegrees :</span></dt><dd>0.25</dd><dt><span>GRIB_iScansNegatively :</span></dt><dd>0</dd><dt><span>GRIB_longitudeOfFirstGridPointInDegrees :</span></dt><dd>0.0</dd><dt><span>GRIB_longitudeOfLastGridPointInDegrees :</span></dt><dd>359.75</dd><dt><span>GRIB_Ny :</span></dt><dd>721</dd><dt><span>GRIB_jDirectionIncrementInDegrees :</span></dt><dd>0.25</dd><dt><span>GRIB_jPointsAreConsecutive :</span></dt><dd>0</dd><dt><span>GRIB_jScansPositively :</span></dt><dd>1</dd><dt><span>GRIB_latitudeOfFirstGridPointInDegrees :</span></dt><dd>-90.0</dd><dt><span>GRIB_latitudeOfLastGridPointInDegrees :</span></dt><dd>90.0</dd><dt><span>long_name :</span></dt><dd>Vertical velocity</dd><dt><span>units :</span></dt><dd>Pa s**-1</dd><dt><span>standard_name :</span></dt><dd>lagrangian_tendency_of_air_pressure</dd></dl></div><div class='xr-var-data'><table>\n",
       "<tr>\n",
       "<td>\n",
       "<table>\n",
       "  <thead>\n",
       "    <tr><td> </td><th> Array </th><th> Chunk </th></tr>\n",
       "  </thead>\n",
       "  <tbody>\n",
       "    <tr><th> Bytes </th><td> 9.66 GB </td> <td> 103.82 MB </td></tr>\n",
       "    <tr><th> Shape </th><td> (93, 25, 721, 1440) </td> <td> (1, 25, 721, 1440) </td></tr>\n",
       "    <tr><th> Count </th><td> 372 Tasks </td><td> 93 Chunks </td></tr>\n",
       "    <tr><th> Type </th><td> float32 </td><td> numpy.ndarray </td></tr>\n",
       "  </tbody>\n",
       "</table>\n",
       "</td>\n",
       "<td>\n",
       "<svg width=\"398\" height=\"126\" style=\"stroke:rgb(0,0,0);stroke-width:1\" >\n",
       "\n",
       "  <!-- Horizontal lines -->\n",
       "  <line x1=\"0\" y1=\"0\" x2=\"36\" y2=\"0\" style=\"stroke-width:2\" />\n",
       "  <line x1=\"0\" y1=\"25\" x2=\"36\" y2=\"25\" style=\"stroke-width:2\" />\n",
       "\n",
       "  <!-- Vertical lines -->\n",
       "  <line x1=\"0\" y1=\"0\" x2=\"0\" y2=\"25\" style=\"stroke-width:2\" />\n",
       "  <line x1=\"0\" y1=\"0\" x2=\"0\" y2=\"25\" />\n",
       "  <line x1=\"1\" y1=\"0\" x2=\"1\" y2=\"25\" />\n",
       "  <line x1=\"3\" y1=\"0\" x2=\"3\" y2=\"25\" />\n",
       "  <line x1=\"4\" y1=\"0\" x2=\"4\" y2=\"25\" />\n",
       "  <line x1=\"5\" y1=\"0\" x2=\"5\" y2=\"25\" />\n",
       "  <line x1=\"6\" y1=\"0\" x2=\"6\" y2=\"25\" />\n",
       "  <line x1=\"7\" y1=\"0\" x2=\"7\" y2=\"25\" />\n",
       "  <line x1=\"8\" y1=\"0\" x2=\"8\" y2=\"25\" />\n",
       "  <line x1=\"10\" y1=\"0\" x2=\"10\" y2=\"25\" />\n",
       "  <line x1=\"11\" y1=\"0\" x2=\"11\" y2=\"25\" />\n",
       "  <line x1=\"12\" y1=\"0\" x2=\"12\" y2=\"25\" />\n",
       "  <line x1=\"13\" y1=\"0\" x2=\"13\" y2=\"25\" />\n",
       "  <line x1=\"14\" y1=\"0\" x2=\"14\" y2=\"25\" />\n",
       "  <line x1=\"15\" y1=\"0\" x2=\"15\" y2=\"25\" />\n",
       "  <line x1=\"16\" y1=\"0\" x2=\"16\" y2=\"25\" />\n",
       "  <line x1=\"17\" y1=\"0\" x2=\"17\" y2=\"25\" />\n",
       "  <line x1=\"18\" y1=\"0\" x2=\"18\" y2=\"25\" />\n",
       "  <line x1=\"20\" y1=\"0\" x2=\"20\" y2=\"25\" />\n",
       "  <line x1=\"21\" y1=\"0\" x2=\"21\" y2=\"25\" />\n",
       "  <line x1=\"22\" y1=\"0\" x2=\"22\" y2=\"25\" />\n",
       "  <line x1=\"23\" y1=\"0\" x2=\"23\" y2=\"25\" />\n",
       "  <line x1=\"24\" y1=\"0\" x2=\"24\" y2=\"25\" />\n",
       "  <line x1=\"25\" y1=\"0\" x2=\"25\" y2=\"25\" />\n",
       "  <line x1=\"26\" y1=\"0\" x2=\"26\" y2=\"25\" />\n",
       "  <line x1=\"27\" y1=\"0\" x2=\"27\" y2=\"25\" />\n",
       "  <line x1=\"29\" y1=\"0\" x2=\"29\" y2=\"25\" />\n",
       "  <line x1=\"30\" y1=\"0\" x2=\"30\" y2=\"25\" />\n",
       "  <line x1=\"31\" y1=\"0\" x2=\"31\" y2=\"25\" />\n",
       "  <line x1=\"32\" y1=\"0\" x2=\"32\" y2=\"25\" />\n",
       "  <line x1=\"33\" y1=\"0\" x2=\"33\" y2=\"25\" />\n",
       "  <line x1=\"34\" y1=\"0\" x2=\"34\" y2=\"25\" />\n",
       "  <line x1=\"36\" y1=\"0\" x2=\"36\" y2=\"25\" style=\"stroke-width:2\" />\n",
       "\n",
       "  <!-- Colored Rectangle -->\n",
       "  <polygon points=\"0.0,0.0 36.05716770030603,0.0 36.05716770030603,25.412616514582485 0.0,25.412616514582485\" style=\"fill:#8B4903A0;stroke-width:0\"/>\n",
       "\n",
       "  <!-- Text -->\n",
       "  <text x=\"18.028584\" y=\"45.412617\" font-size=\"1.0rem\" font-weight=\"100\" text-anchor=\"middle\" >93</text>\n",
       "  <text x=\"56.057168\" y=\"12.706308\" font-size=\"1.0rem\" font-weight=\"100\" text-anchor=\"middle\" transform=\"rotate(0,56.057168,12.706308)\">1</text>\n",
       "\n",
       "\n",
       "  <!-- Horizontal lines -->\n",
       "  <line x1=\"106\" y1=\"0\" x2=\"122\" y2=\"16\" style=\"stroke-width:2\" />\n",
       "  <line x1=\"106\" y1=\"60\" x2=\"122\" y2=\"76\" style=\"stroke-width:2\" />\n",
       "\n",
       "  <!-- Vertical lines -->\n",
       "  <line x1=\"106\" y1=\"0\" x2=\"106\" y2=\"60\" style=\"stroke-width:2\" />\n",
       "  <line x1=\"122\" y1=\"16\" x2=\"122\" y2=\"76\" style=\"stroke-width:2\" />\n",
       "\n",
       "  <!-- Colored Rectangle -->\n",
       "  <polygon points=\"106.0,0.0 122.6148792154626,16.6148792154626 122.6148792154626,76.69821254879594 106.0,60.083333333333336\" style=\"fill:#ECB172A0;stroke-width:0\"/>\n",
       "\n",
       "  <!-- Horizontal lines -->\n",
       "  <line x1=\"106\" y1=\"0\" x2=\"226\" y2=\"0\" style=\"stroke-width:2\" />\n",
       "  <line x1=\"122\" y1=\"16\" x2=\"242\" y2=\"16\" style=\"stroke-width:2\" />\n",
       "\n",
       "  <!-- Vertical lines -->\n",
       "  <line x1=\"106\" y1=\"0\" x2=\"122\" y2=\"16\" style=\"stroke-width:2\" />\n",
       "  <line x1=\"226\" y1=\"0\" x2=\"242\" y2=\"16\" style=\"stroke-width:2\" />\n",
       "\n",
       "  <!-- Colored Rectangle -->\n",
       "  <polygon points=\"106.0,0.0 226.0,0.0 242.6148792154626,16.6148792154626 122.6148792154626,16.6148792154626\" style=\"fill:#ECB172A0;stroke-width:0\"/>\n",
       "\n",
       "  <!-- Horizontal lines -->\n",
       "  <line x1=\"122\" y1=\"16\" x2=\"242\" y2=\"16\" style=\"stroke-width:2\" />\n",
       "  <line x1=\"122\" y1=\"76\" x2=\"242\" y2=\"76\" style=\"stroke-width:2\" />\n",
       "\n",
       "  <!-- Vertical lines -->\n",
       "  <line x1=\"122\" y1=\"16\" x2=\"122\" y2=\"76\" style=\"stroke-width:2\" />\n",
       "  <line x1=\"242\" y1=\"16\" x2=\"242\" y2=\"76\" style=\"stroke-width:2\" />\n",
       "\n",
       "  <!-- Colored Rectangle -->\n",
       "  <polygon points=\"122.6148792154626,16.6148792154626 242.6148792154626,16.6148792154626 242.6148792154626,76.69821254879594 122.6148792154626,76.69821254879594\" style=\"fill:#ECB172A0;stroke-width:0\"/>\n",
       "\n",
       "  <!-- Text -->\n",
       "  <text x=\"182.614879\" y=\"96.698213\" font-size=\"1.0rem\" font-weight=\"100\" text-anchor=\"middle\" >1440</text>\n",
       "  <text x=\"262.614879\" y=\"46.656546\" font-size=\"1.0rem\" font-weight=\"100\" text-anchor=\"middle\" transform=\"rotate(-90,262.614879,46.656546)\">721</text>\n",
       "  <text x=\"104.307440\" y=\"88.390773\" font-size=\"1.0rem\" font-weight=\"100\" text-anchor=\"middle\" transform=\"rotate(45,104.307440,88.390773)\">25</text>\n",
       "</svg>\n",
       "</td>\n",
       "</tr>\n",
       "</table></div></li><li class='xr-var-item'><div class='xr-var-name'><span>t</span></div><div class='xr-var-dims'>(time, isobaricInhPa, latitude, longitude)</div><div class='xr-var-dtype'>float32</div><div class='xr-var-preview xr-preview'>dask.array&lt;chunksize=(1, 25, 721, 1440), meta=np.ndarray&gt;</div><input id='attrs-c78a9db2-0915-4e99-a832-fb13e4d0a032' class='xr-var-attrs-in' type='checkbox' ><label for='attrs-c78a9db2-0915-4e99-a832-fb13e4d0a032' title='Show/Hide attributes'><svg class='icon xr-icon-file-text2'><use xlink:href='#icon-file-text2'></use></svg></label><input id='data-0a337e95-ef18-4078-a503-9ca5fab27d85' class='xr-var-data-in' type='checkbox'><label for='data-0a337e95-ef18-4078-a503-9ca5fab27d85' title='Show/Hide data repr'><svg class='icon xr-icon-database'><use xlink:href='#icon-database'></use></svg></label><div class='xr-var-attrs'><dl class='xr-attrs'><dt><span>GRIB_paramId :</span></dt><dd>130</dd><dt><span>GRIB_shortName :</span></dt><dd>t</dd><dt><span>GRIB_units :</span></dt><dd>K</dd><dt><span>GRIB_name :</span></dt><dd>Temperature</dd><dt><span>GRIB_cfName :</span></dt><dd>air_temperature</dd><dt><span>GRIB_cfVarName :</span></dt><dd>t</dd><dt><span>GRIB_dataType :</span></dt><dd>an</dd><dt><span>GRIB_missingValue :</span></dt><dd>9999</dd><dt><span>GRIB_numberOfPoints :</span></dt><dd>1038240</dd><dt><span>GRIB_typeOfLevel :</span></dt><dd>isobaricInhPa</dd><dt><span>GRIB_NV :</span></dt><dd>0</dd><dt><span>GRIB_stepUnits :</span></dt><dd>1</dd><dt><span>GRIB_stepType :</span></dt><dd>instant</dd><dt><span>GRIB_gridType :</span></dt><dd>regular_ll</dd><dt><span>GRIB_gridDefinitionDescription :</span></dt><dd>Latitude/longitude </dd><dt><span>GRIB_Nx :</span></dt><dd>1440</dd><dt><span>GRIB_iDirectionIncrementInDegrees :</span></dt><dd>0.25</dd><dt><span>GRIB_iScansNegatively :</span></dt><dd>0</dd><dt><span>GRIB_longitudeOfFirstGridPointInDegrees :</span></dt><dd>0.0</dd><dt><span>GRIB_longitudeOfLastGridPointInDegrees :</span></dt><dd>359.75</dd><dt><span>GRIB_Ny :</span></dt><dd>721</dd><dt><span>GRIB_jDirectionIncrementInDegrees :</span></dt><dd>0.25</dd><dt><span>GRIB_jPointsAreConsecutive :</span></dt><dd>0</dd><dt><span>GRIB_jScansPositively :</span></dt><dd>1</dd><dt><span>GRIB_latitudeOfFirstGridPointInDegrees :</span></dt><dd>-90.0</dd><dt><span>GRIB_latitudeOfLastGridPointInDegrees :</span></dt><dd>90.0</dd><dt><span>long_name :</span></dt><dd>Temperature</dd><dt><span>units :</span></dt><dd>K</dd><dt><span>standard_name :</span></dt><dd>air_temperature</dd></dl></div><div class='xr-var-data'><table>\n",
       "<tr>\n",
       "<td>\n",
       "<table>\n",
       "  <thead>\n",
       "    <tr><td> </td><th> Array </th><th> Chunk </th></tr>\n",
       "  </thead>\n",
       "  <tbody>\n",
       "    <tr><th> Bytes </th><td> 9.66 GB </td> <td> 103.82 MB </td></tr>\n",
       "    <tr><th> Shape </th><td> (93, 25, 721, 1440) </td> <td> (1, 25, 721, 1440) </td></tr>\n",
       "    <tr><th> Count </th><td> 372 Tasks </td><td> 93 Chunks </td></tr>\n",
       "    <tr><th> Type </th><td> float32 </td><td> numpy.ndarray </td></tr>\n",
       "  </tbody>\n",
       "</table>\n",
       "</td>\n",
       "<td>\n",
       "<svg width=\"398\" height=\"126\" style=\"stroke:rgb(0,0,0);stroke-width:1\" >\n",
       "\n",
       "  <!-- Horizontal lines -->\n",
       "  <line x1=\"0\" y1=\"0\" x2=\"36\" y2=\"0\" style=\"stroke-width:2\" />\n",
       "  <line x1=\"0\" y1=\"25\" x2=\"36\" y2=\"25\" style=\"stroke-width:2\" />\n",
       "\n",
       "  <!-- Vertical lines -->\n",
       "  <line x1=\"0\" y1=\"0\" x2=\"0\" y2=\"25\" style=\"stroke-width:2\" />\n",
       "  <line x1=\"0\" y1=\"0\" x2=\"0\" y2=\"25\" />\n",
       "  <line x1=\"1\" y1=\"0\" x2=\"1\" y2=\"25\" />\n",
       "  <line x1=\"3\" y1=\"0\" x2=\"3\" y2=\"25\" />\n",
       "  <line x1=\"4\" y1=\"0\" x2=\"4\" y2=\"25\" />\n",
       "  <line x1=\"5\" y1=\"0\" x2=\"5\" y2=\"25\" />\n",
       "  <line x1=\"6\" y1=\"0\" x2=\"6\" y2=\"25\" />\n",
       "  <line x1=\"7\" y1=\"0\" x2=\"7\" y2=\"25\" />\n",
       "  <line x1=\"8\" y1=\"0\" x2=\"8\" y2=\"25\" />\n",
       "  <line x1=\"10\" y1=\"0\" x2=\"10\" y2=\"25\" />\n",
       "  <line x1=\"11\" y1=\"0\" x2=\"11\" y2=\"25\" />\n",
       "  <line x1=\"12\" y1=\"0\" x2=\"12\" y2=\"25\" />\n",
       "  <line x1=\"13\" y1=\"0\" x2=\"13\" y2=\"25\" />\n",
       "  <line x1=\"14\" y1=\"0\" x2=\"14\" y2=\"25\" />\n",
       "  <line x1=\"15\" y1=\"0\" x2=\"15\" y2=\"25\" />\n",
       "  <line x1=\"16\" y1=\"0\" x2=\"16\" y2=\"25\" />\n",
       "  <line x1=\"17\" y1=\"0\" x2=\"17\" y2=\"25\" />\n",
       "  <line x1=\"18\" y1=\"0\" x2=\"18\" y2=\"25\" />\n",
       "  <line x1=\"20\" y1=\"0\" x2=\"20\" y2=\"25\" />\n",
       "  <line x1=\"21\" y1=\"0\" x2=\"21\" y2=\"25\" />\n",
       "  <line x1=\"22\" y1=\"0\" x2=\"22\" y2=\"25\" />\n",
       "  <line x1=\"23\" y1=\"0\" x2=\"23\" y2=\"25\" />\n",
       "  <line x1=\"24\" y1=\"0\" x2=\"24\" y2=\"25\" />\n",
       "  <line x1=\"25\" y1=\"0\" x2=\"25\" y2=\"25\" />\n",
       "  <line x1=\"26\" y1=\"0\" x2=\"26\" y2=\"25\" />\n",
       "  <line x1=\"27\" y1=\"0\" x2=\"27\" y2=\"25\" />\n",
       "  <line x1=\"29\" y1=\"0\" x2=\"29\" y2=\"25\" />\n",
       "  <line x1=\"30\" y1=\"0\" x2=\"30\" y2=\"25\" />\n",
       "  <line x1=\"31\" y1=\"0\" x2=\"31\" y2=\"25\" />\n",
       "  <line x1=\"32\" y1=\"0\" x2=\"32\" y2=\"25\" />\n",
       "  <line x1=\"33\" y1=\"0\" x2=\"33\" y2=\"25\" />\n",
       "  <line x1=\"34\" y1=\"0\" x2=\"34\" y2=\"25\" />\n",
       "  <line x1=\"36\" y1=\"0\" x2=\"36\" y2=\"25\" style=\"stroke-width:2\" />\n",
       "\n",
       "  <!-- Colored Rectangle -->\n",
       "  <polygon points=\"0.0,0.0 36.05716770030603,0.0 36.05716770030603,25.412616514582485 0.0,25.412616514582485\" style=\"fill:#8B4903A0;stroke-width:0\"/>\n",
       "\n",
       "  <!-- Text -->\n",
       "  <text x=\"18.028584\" y=\"45.412617\" font-size=\"1.0rem\" font-weight=\"100\" text-anchor=\"middle\" >93</text>\n",
       "  <text x=\"56.057168\" y=\"12.706308\" font-size=\"1.0rem\" font-weight=\"100\" text-anchor=\"middle\" transform=\"rotate(0,56.057168,12.706308)\">1</text>\n",
       "\n",
       "\n",
       "  <!-- Horizontal lines -->\n",
       "  <line x1=\"106\" y1=\"0\" x2=\"122\" y2=\"16\" style=\"stroke-width:2\" />\n",
       "  <line x1=\"106\" y1=\"60\" x2=\"122\" y2=\"76\" style=\"stroke-width:2\" />\n",
       "\n",
       "  <!-- Vertical lines -->\n",
       "  <line x1=\"106\" y1=\"0\" x2=\"106\" y2=\"60\" style=\"stroke-width:2\" />\n",
       "  <line x1=\"122\" y1=\"16\" x2=\"122\" y2=\"76\" style=\"stroke-width:2\" />\n",
       "\n",
       "  <!-- Colored Rectangle -->\n",
       "  <polygon points=\"106.0,0.0 122.6148792154626,16.6148792154626 122.6148792154626,76.69821254879594 106.0,60.083333333333336\" style=\"fill:#ECB172A0;stroke-width:0\"/>\n",
       "\n",
       "  <!-- Horizontal lines -->\n",
       "  <line x1=\"106\" y1=\"0\" x2=\"226\" y2=\"0\" style=\"stroke-width:2\" />\n",
       "  <line x1=\"122\" y1=\"16\" x2=\"242\" y2=\"16\" style=\"stroke-width:2\" />\n",
       "\n",
       "  <!-- Vertical lines -->\n",
       "  <line x1=\"106\" y1=\"0\" x2=\"122\" y2=\"16\" style=\"stroke-width:2\" />\n",
       "  <line x1=\"226\" y1=\"0\" x2=\"242\" y2=\"16\" style=\"stroke-width:2\" />\n",
       "\n",
       "  <!-- Colored Rectangle -->\n",
       "  <polygon points=\"106.0,0.0 226.0,0.0 242.6148792154626,16.6148792154626 122.6148792154626,16.6148792154626\" style=\"fill:#ECB172A0;stroke-width:0\"/>\n",
       "\n",
       "  <!-- Horizontal lines -->\n",
       "  <line x1=\"122\" y1=\"16\" x2=\"242\" y2=\"16\" style=\"stroke-width:2\" />\n",
       "  <line x1=\"122\" y1=\"76\" x2=\"242\" y2=\"76\" style=\"stroke-width:2\" />\n",
       "\n",
       "  <!-- Vertical lines -->\n",
       "  <line x1=\"122\" y1=\"16\" x2=\"122\" y2=\"76\" style=\"stroke-width:2\" />\n",
       "  <line x1=\"242\" y1=\"16\" x2=\"242\" y2=\"76\" style=\"stroke-width:2\" />\n",
       "\n",
       "  <!-- Colored Rectangle -->\n",
       "  <polygon points=\"122.6148792154626,16.6148792154626 242.6148792154626,16.6148792154626 242.6148792154626,76.69821254879594 122.6148792154626,76.69821254879594\" style=\"fill:#ECB172A0;stroke-width:0\"/>\n",
       "\n",
       "  <!-- Text -->\n",
       "  <text x=\"182.614879\" y=\"96.698213\" font-size=\"1.0rem\" font-weight=\"100\" text-anchor=\"middle\" >1440</text>\n",
       "  <text x=\"262.614879\" y=\"46.656546\" font-size=\"1.0rem\" font-weight=\"100\" text-anchor=\"middle\" transform=\"rotate(-90,262.614879,46.656546)\">721</text>\n",
       "  <text x=\"104.307440\" y=\"88.390773\" font-size=\"1.0rem\" font-weight=\"100\" text-anchor=\"middle\" transform=\"rotate(45,104.307440,88.390773)\">25</text>\n",
       "</svg>\n",
       "</td>\n",
       "</tr>\n",
       "</table></div></li><li class='xr-var-item'><div class='xr-var-name'><span>z</span></div><div class='xr-var-dims'>(time, isobaricInhPa, latitude, longitude)</div><div class='xr-var-dtype'>float32</div><div class='xr-var-preview xr-preview'>dask.array&lt;chunksize=(1, 25, 721, 1440), meta=np.ndarray&gt;</div><input id='attrs-d3ab8ba2-38a8-42e2-b14a-2aa4b1fff33a' class='xr-var-attrs-in' type='checkbox' ><label for='attrs-d3ab8ba2-38a8-42e2-b14a-2aa4b1fff33a' title='Show/Hide attributes'><svg class='icon xr-icon-file-text2'><use xlink:href='#icon-file-text2'></use></svg></label><input id='data-0ded1954-dd93-46e5-a320-5d80c61e357e' class='xr-var-data-in' type='checkbox'><label for='data-0ded1954-dd93-46e5-a320-5d80c61e357e' title='Show/Hide data repr'><svg class='icon xr-icon-database'><use xlink:href='#icon-database'></use></svg></label><div class='xr-var-attrs'><dl class='xr-attrs'><dt><span>GRIB_paramId :</span></dt><dd>129</dd><dt><span>GRIB_shortName :</span></dt><dd>z</dd><dt><span>GRIB_units :</span></dt><dd>m**2 s**-2</dd><dt><span>GRIB_name :</span></dt><dd>Geopotential</dd><dt><span>GRIB_cfName :</span></dt><dd>geopotential</dd><dt><span>GRIB_cfVarName :</span></dt><dd>z</dd><dt><span>GRIB_dataType :</span></dt><dd>an</dd><dt><span>GRIB_missingValue :</span></dt><dd>9999</dd><dt><span>GRIB_numberOfPoints :</span></dt><dd>1038240</dd><dt><span>GRIB_typeOfLevel :</span></dt><dd>isobaricInhPa</dd><dt><span>GRIB_NV :</span></dt><dd>0</dd><dt><span>GRIB_stepUnits :</span></dt><dd>1</dd><dt><span>GRIB_stepType :</span></dt><dd>instant</dd><dt><span>GRIB_gridType :</span></dt><dd>regular_ll</dd><dt><span>GRIB_gridDefinitionDescription :</span></dt><dd>Latitude/longitude </dd><dt><span>GRIB_Nx :</span></dt><dd>1440</dd><dt><span>GRIB_iDirectionIncrementInDegrees :</span></dt><dd>0.25</dd><dt><span>GRIB_iScansNegatively :</span></dt><dd>0</dd><dt><span>GRIB_longitudeOfFirstGridPointInDegrees :</span></dt><dd>0.0</dd><dt><span>GRIB_longitudeOfLastGridPointInDegrees :</span></dt><dd>359.75</dd><dt><span>GRIB_Ny :</span></dt><dd>721</dd><dt><span>GRIB_jDirectionIncrementInDegrees :</span></dt><dd>0.25</dd><dt><span>GRIB_jPointsAreConsecutive :</span></dt><dd>0</dd><dt><span>GRIB_jScansPositively :</span></dt><dd>1</dd><dt><span>GRIB_latitudeOfFirstGridPointInDegrees :</span></dt><dd>-90.0</dd><dt><span>GRIB_latitudeOfLastGridPointInDegrees :</span></dt><dd>90.0</dd><dt><span>long_name :</span></dt><dd>Geopotential</dd><dt><span>units :</span></dt><dd>m**2 s**-2</dd><dt><span>standard_name :</span></dt><dd>geopotential</dd></dl></div><div class='xr-var-data'><table>\n",
       "<tr>\n",
       "<td>\n",
       "<table>\n",
       "  <thead>\n",
       "    <tr><td> </td><th> Array </th><th> Chunk </th></tr>\n",
       "  </thead>\n",
       "  <tbody>\n",
       "    <tr><th> Bytes </th><td> 9.66 GB </td> <td> 103.82 MB </td></tr>\n",
       "    <tr><th> Shape </th><td> (93, 25, 721, 1440) </td> <td> (1, 25, 721, 1440) </td></tr>\n",
       "    <tr><th> Count </th><td> 372 Tasks </td><td> 93 Chunks </td></tr>\n",
       "    <tr><th> Type </th><td> float32 </td><td> numpy.ndarray </td></tr>\n",
       "  </tbody>\n",
       "</table>\n",
       "</td>\n",
       "<td>\n",
       "<svg width=\"398\" height=\"126\" style=\"stroke:rgb(0,0,0);stroke-width:1\" >\n",
       "\n",
       "  <!-- Horizontal lines -->\n",
       "  <line x1=\"0\" y1=\"0\" x2=\"36\" y2=\"0\" style=\"stroke-width:2\" />\n",
       "  <line x1=\"0\" y1=\"25\" x2=\"36\" y2=\"25\" style=\"stroke-width:2\" />\n",
       "\n",
       "  <!-- Vertical lines -->\n",
       "  <line x1=\"0\" y1=\"0\" x2=\"0\" y2=\"25\" style=\"stroke-width:2\" />\n",
       "  <line x1=\"0\" y1=\"0\" x2=\"0\" y2=\"25\" />\n",
       "  <line x1=\"1\" y1=\"0\" x2=\"1\" y2=\"25\" />\n",
       "  <line x1=\"3\" y1=\"0\" x2=\"3\" y2=\"25\" />\n",
       "  <line x1=\"4\" y1=\"0\" x2=\"4\" y2=\"25\" />\n",
       "  <line x1=\"5\" y1=\"0\" x2=\"5\" y2=\"25\" />\n",
       "  <line x1=\"6\" y1=\"0\" x2=\"6\" y2=\"25\" />\n",
       "  <line x1=\"7\" y1=\"0\" x2=\"7\" y2=\"25\" />\n",
       "  <line x1=\"8\" y1=\"0\" x2=\"8\" y2=\"25\" />\n",
       "  <line x1=\"10\" y1=\"0\" x2=\"10\" y2=\"25\" />\n",
       "  <line x1=\"11\" y1=\"0\" x2=\"11\" y2=\"25\" />\n",
       "  <line x1=\"12\" y1=\"0\" x2=\"12\" y2=\"25\" />\n",
       "  <line x1=\"13\" y1=\"0\" x2=\"13\" y2=\"25\" />\n",
       "  <line x1=\"14\" y1=\"0\" x2=\"14\" y2=\"25\" />\n",
       "  <line x1=\"15\" y1=\"0\" x2=\"15\" y2=\"25\" />\n",
       "  <line x1=\"16\" y1=\"0\" x2=\"16\" y2=\"25\" />\n",
       "  <line x1=\"17\" y1=\"0\" x2=\"17\" y2=\"25\" />\n",
       "  <line x1=\"18\" y1=\"0\" x2=\"18\" y2=\"25\" />\n",
       "  <line x1=\"20\" y1=\"0\" x2=\"20\" y2=\"25\" />\n",
       "  <line x1=\"21\" y1=\"0\" x2=\"21\" y2=\"25\" />\n",
       "  <line x1=\"22\" y1=\"0\" x2=\"22\" y2=\"25\" />\n",
       "  <line x1=\"23\" y1=\"0\" x2=\"23\" y2=\"25\" />\n",
       "  <line x1=\"24\" y1=\"0\" x2=\"24\" y2=\"25\" />\n",
       "  <line x1=\"25\" y1=\"0\" x2=\"25\" y2=\"25\" />\n",
       "  <line x1=\"26\" y1=\"0\" x2=\"26\" y2=\"25\" />\n",
       "  <line x1=\"27\" y1=\"0\" x2=\"27\" y2=\"25\" />\n",
       "  <line x1=\"29\" y1=\"0\" x2=\"29\" y2=\"25\" />\n",
       "  <line x1=\"30\" y1=\"0\" x2=\"30\" y2=\"25\" />\n",
       "  <line x1=\"31\" y1=\"0\" x2=\"31\" y2=\"25\" />\n",
       "  <line x1=\"32\" y1=\"0\" x2=\"32\" y2=\"25\" />\n",
       "  <line x1=\"33\" y1=\"0\" x2=\"33\" y2=\"25\" />\n",
       "  <line x1=\"34\" y1=\"0\" x2=\"34\" y2=\"25\" />\n",
       "  <line x1=\"36\" y1=\"0\" x2=\"36\" y2=\"25\" style=\"stroke-width:2\" />\n",
       "\n",
       "  <!-- Colored Rectangle -->\n",
       "  <polygon points=\"0.0,0.0 36.05716770030603,0.0 36.05716770030603,25.412616514582485 0.0,25.412616514582485\" style=\"fill:#8B4903A0;stroke-width:0\"/>\n",
       "\n",
       "  <!-- Text -->\n",
       "  <text x=\"18.028584\" y=\"45.412617\" font-size=\"1.0rem\" font-weight=\"100\" text-anchor=\"middle\" >93</text>\n",
       "  <text x=\"56.057168\" y=\"12.706308\" font-size=\"1.0rem\" font-weight=\"100\" text-anchor=\"middle\" transform=\"rotate(0,56.057168,12.706308)\">1</text>\n",
       "\n",
       "\n",
       "  <!-- Horizontal lines -->\n",
       "  <line x1=\"106\" y1=\"0\" x2=\"122\" y2=\"16\" style=\"stroke-width:2\" />\n",
       "  <line x1=\"106\" y1=\"60\" x2=\"122\" y2=\"76\" style=\"stroke-width:2\" />\n",
       "\n",
       "  <!-- Vertical lines -->\n",
       "  <line x1=\"106\" y1=\"0\" x2=\"106\" y2=\"60\" style=\"stroke-width:2\" />\n",
       "  <line x1=\"122\" y1=\"16\" x2=\"122\" y2=\"76\" style=\"stroke-width:2\" />\n",
       "\n",
       "  <!-- Colored Rectangle -->\n",
       "  <polygon points=\"106.0,0.0 122.6148792154626,16.6148792154626 122.6148792154626,76.69821254879594 106.0,60.083333333333336\" style=\"fill:#ECB172A0;stroke-width:0\"/>\n",
       "\n",
       "  <!-- Horizontal lines -->\n",
       "  <line x1=\"106\" y1=\"0\" x2=\"226\" y2=\"0\" style=\"stroke-width:2\" />\n",
       "  <line x1=\"122\" y1=\"16\" x2=\"242\" y2=\"16\" style=\"stroke-width:2\" />\n",
       "\n",
       "  <!-- Vertical lines -->\n",
       "  <line x1=\"106\" y1=\"0\" x2=\"122\" y2=\"16\" style=\"stroke-width:2\" />\n",
       "  <line x1=\"226\" y1=\"0\" x2=\"242\" y2=\"16\" style=\"stroke-width:2\" />\n",
       "\n",
       "  <!-- Colored Rectangle -->\n",
       "  <polygon points=\"106.0,0.0 226.0,0.0 242.6148792154626,16.6148792154626 122.6148792154626,16.6148792154626\" style=\"fill:#ECB172A0;stroke-width:0\"/>\n",
       "\n",
       "  <!-- Horizontal lines -->\n",
       "  <line x1=\"122\" y1=\"16\" x2=\"242\" y2=\"16\" style=\"stroke-width:2\" />\n",
       "  <line x1=\"122\" y1=\"76\" x2=\"242\" y2=\"76\" style=\"stroke-width:2\" />\n",
       "\n",
       "  <!-- Vertical lines -->\n",
       "  <line x1=\"122\" y1=\"16\" x2=\"122\" y2=\"76\" style=\"stroke-width:2\" />\n",
       "  <line x1=\"242\" y1=\"16\" x2=\"242\" y2=\"76\" style=\"stroke-width:2\" />\n",
       "\n",
       "  <!-- Colored Rectangle -->\n",
       "  <polygon points=\"122.6148792154626,16.6148792154626 242.6148792154626,16.6148792154626 242.6148792154626,76.69821254879594 122.6148792154626,76.69821254879594\" style=\"fill:#ECB172A0;stroke-width:0\"/>\n",
       "\n",
       "  <!-- Text -->\n",
       "  <text x=\"182.614879\" y=\"96.698213\" font-size=\"1.0rem\" font-weight=\"100\" text-anchor=\"middle\" >1440</text>\n",
       "  <text x=\"262.614879\" y=\"46.656546\" font-size=\"1.0rem\" font-weight=\"100\" text-anchor=\"middle\" transform=\"rotate(-90,262.614879,46.656546)\">721</text>\n",
       "  <text x=\"104.307440\" y=\"88.390773\" font-size=\"1.0rem\" font-weight=\"100\" text-anchor=\"middle\" transform=\"rotate(45,104.307440,88.390773)\">25</text>\n",
       "</svg>\n",
       "</td>\n",
       "</tr>\n",
       "</table></div></li></ul></div></li><li class='xr-section-item'><input id='section-343447e4-94cb-4f1c-9233-b6d932709f1c' class='xr-section-summary-in' type='checkbox'  checked><label for='section-343447e4-94cb-4f1c-9233-b6d932709f1c' class='xr-section-summary' >Attributes: <span>(7)</span></label><div class='xr-section-inline-details'></div><div class='xr-section-details'><dl class='xr-attrs'><dt><span>GRIB_edition :</span></dt><dd>2</dd><dt><span>GRIB_centre :</span></dt><dd>edzw</dd><dt><span>GRIB_centreDescription :</span></dt><dd>Offenbach </dd><dt><span>GRIB_subCentre :</span></dt><dd>255</dd><dt><span>Conventions :</span></dt><dd>CF-1.7</dd><dt><span>institution :</span></dt><dd>Offenbach </dd><dt><span>history :</span></dt><dd>2022-01-28T13:33:08 GRIB to CDM+CF via cfgrib-0.9.8.5/ecCodes-2.24.1 with {&quot;source&quot;: &quot;/gemeinsam_tmp/SSW_2021/dwd/analysis_new/igar2020121500&quot;, &quot;filter_by_keys&quot;: {&quot;typeOfLevel&quot;: &quot;isobaricInhPa&quot;}, &quot;encode_cf&quot;: [&quot;parameter&quot;, &quot;time&quot;, &quot;geography&quot;, &quot;vertical&quot;]}</dd></dl></div></li></ul></div></div>"
      ],
      "text/plain": [
       "<xarray.Dataset>\n",
       "Dimensions:        (isobaricInhPa: 25, latitude: 721, longitude: 1440, time: 93)\n",
       "Coordinates:\n",
       "  * time           (time) datetime64[ns] 2020-12-15 ... 2021-01-07\n",
       "    step           timedelta64[ns] 00:00:00\n",
       "  * isobaricInhPa  (isobaricInhPa) int64 1000 950 925 900 850 800 ... 7 5 3 2 1\n",
       "  * latitude       (latitude) float64 -90.0 -89.75 -89.5 ... 89.5 89.75 90.0\n",
       "  * longitude      (longitude) float64 0.0 0.25 0.5 0.75 ... 359.2 359.5 359.8\n",
       "    valid_time     (time) datetime64[ns] 2020-12-15 ... 2021-01-07\n",
       "Data variables:\n",
       "    u              (time, isobaricInhPa, latitude, longitude) float32 dask.array<chunksize=(1, 25, 721, 1440), meta=np.ndarray>\n",
       "    v              (time, isobaricInhPa, latitude, longitude) float32 dask.array<chunksize=(1, 25, 721, 1440), meta=np.ndarray>\n",
       "    w              (time, isobaricInhPa, latitude, longitude) float32 dask.array<chunksize=(1, 25, 721, 1440), meta=np.ndarray>\n",
       "    t              (time, isobaricInhPa, latitude, longitude) float32 dask.array<chunksize=(1, 25, 721, 1440), meta=np.ndarray>\n",
       "    z              (time, isobaricInhPa, latitude, longitude) float32 dask.array<chunksize=(1, 25, 721, 1440), meta=np.ndarray>\n",
       "Attributes:\n",
       "    GRIB_edition:            2\n",
       "    GRIB_centre:             edzw\n",
       "    GRIB_centreDescription:  Offenbach \n",
       "    GRIB_subCentre:          255\n",
       "    Conventions:             CF-1.7\n",
       "    institution:             Offenbach \n",
       "    history:                 2022-01-28T13:33:08 GRIB to CDM+CF via cfgrib-0...."
      ]
     },
     "execution_count": 9,
     "metadata": {},
     "output_type": "execute_result"
    }
   ],
   "source": [
    "ds_icon"
   ]
  },
  {
   "cell_type": "markdown",
   "id": "1c091080",
   "metadata": {},
   "source": [
    "### Chunk the array"
   ]
  },
  {
   "cell_type": "raw",
   "id": "4166b7a4",
   "metadata": {
    "ExecuteTime": {
     "end_time": "2022-01-21T18:30:34.227054Z",
     "start_time": "2022-01-21T18:30:34.206373Z"
    }
   },
   "source": [
    "# ds = ds.chunk({'latitude': 50, 'longitude':50,'time':50})\n",
    "ds_icon = ds_icon.chunk({'time':100,'longitude':100})"
   ]
  },
  {
   "cell_type": "raw",
   "id": "4a4cdfb2",
   "metadata": {
    "ExecuteTime": {
     "end_time": "2022-01-21T18:30:34.234259Z",
     "start_time": "2022-01-21T18:30:34.228838Z"
    }
   },
   "source": [
    "ds_icon.u.data"
   ]
  },
  {
   "cell_type": "markdown",
   "id": "60e266b2",
   "metadata": {},
   "source": [
    "### Test Plots"
   ]
  },
  {
   "cell_type": "code",
   "execution_count": 10,
   "id": "fd96a17a",
   "metadata": {
    "ExecuteTime": {
     "end_time": "2022-01-28T12:33:24.880196Z",
     "start_time": "2022-01-28T12:33:20.485647Z"
    },
    "scrolled": false
   },
   "outputs": [
    {
     "data": {
      "text/plain": [
       "<cartopy.mpl.gridliner.Gridliner at 0x7fee71fd4630>"
      ]
     },
     "execution_count": 10,
     "metadata": {},
     "output_type": "execute_result"
    },
    {
     "data": {
      "image/png": "[encoded data removed]",
      "text/plain": [
       "<Figure size 432x288 with 2 Axes>"
      ]
     },
     "metadata": {
      "needs_background": "light"
     },
     "output_type": "display_data"
    }
   ],
   "source": [
    "p = ds_icon['z'].sel(\n",
    "    isobaricInhPa=10,\n",
    "    time = '2021-01-05T00'\n",
    "    ).plot(\n",
    "        subplot_kws=dict(projection=ccrs.Orthographic(0, 90)), \n",
    "        transform=ccrs.PlateCarree(),\n",
    "        #robust = True\n",
    ")\n",
    "p.axes.set_global()\n",
    "p.axes.coastlines()\n",
    "p.axes.gridlines()"
   ]
  },
  {
   "cell_type": "markdown",
   "id": "425b83f7",
   "metadata": {},
   "source": [
    "## testtt\n"
   ]
  },
  {
   "cell_type": "code",
   "execution_count": 11,
   "id": "8e6f1995",
   "metadata": {
    "ExecuteTime": {
     "end_time": "2022-01-28T12:33:31.126956Z",
     "start_time": "2022-01-28T12:33:29.064580Z"
    }
   },
   "outputs": [
    {
     "data": {
      "text/html": [
       "<div><svg style=\"position: absolute; width: 0; height: 0; overflow: hidden\">\n",
       "<defs>\n",
       "<symbol id=\"icon-database\" viewBox=\"0 0 32 32\">\n",
       "<path d=\"M16 0c-8.837 0-16 2.239-16 5v4c0 2.761 7.163 5 16 5s16-2.239 16-5v-4c0-2.761-7.163-5-16-5z\"></path>\n",
       "<path d=\"M16 17c-8.837 0-16-2.239-16-5v6c0 2.761 7.163 5 16 5s16-2.239 16-5v-6c0 2.761-7.163 5-16 5z\"></path>\n",
       "<path d=\"M16 26c-8.837 0-16-2.239-16-5v6c0 2.761 7.163 5 16 5s16-2.239 16-5v-6c0 2.761-7.163 5-16 5z\"></path>\n",
       "</symbol>\n",
       "<symbol id=\"icon-file-text2\" viewBox=\"0 0 32 32\">\n",
       "<path d=\"M28.681 7.159c-0.694-0.947-1.662-2.053-2.724-3.116s-2.169-2.030-3.116-2.724c-1.612-1.182-2.393-1.319-2.841-1.319h-15.5c-1.378 0-2.5 1.121-2.5 2.5v27c0 1.378 1.122 2.5 2.5 2.5h23c1.378 0 2.5-1.122 2.5-2.5v-19.5c0-0.448-0.137-1.23-1.319-2.841zM24.543 5.457c0.959 0.959 1.712 1.825 2.268 2.543h-4.811v-4.811c0.718 0.556 1.584 1.309 2.543 2.268zM28 29.5c0 0.271-0.229 0.5-0.5 0.5h-23c-0.271 0-0.5-0.229-0.5-0.5v-27c0-0.271 0.229-0.5 0.5-0.5 0 0 15.499-0 15.5 0v7c0 0.552 0.448 1 1 1h7v19.5z\"></path>\n",
       "<path d=\"M23 26h-14c-0.552 0-1-0.448-1-1s0.448-1 1-1h14c0.552 0 1 0.448 1 1s-0.448 1-1 1z\"></path>\n",
       "<path d=\"M23 22h-14c-0.552 0-1-0.448-1-1s0.448-1 1-1h14c0.552 0 1 0.448 1 1s-0.448 1-1 1z\"></path>\n",
       "<path d=\"M23 18h-14c-0.552 0-1-0.448-1-1s0.448-1 1-1h14c0.552 0 1 0.448 1 1s-0.448 1-1 1z\"></path>\n",
       "</symbol>\n",
       "</defs>\n",
       "</svg>\n",
       "<style>/* CSS stylesheet for displaying xarray objects in jupyterlab.\n",
       " *\n",
       " */\n",
       "\n",
       ":root {\n",
       "  --xr-font-color0: var(--jp-content-font-color0, rgba(0, 0, 0, 1));\n",
       "  --xr-font-color2: var(--jp-content-font-color2, rgba(0, 0, 0, 0.54));\n",
       "  --xr-font-color3: var(--jp-content-font-color3, rgba(0, 0, 0, 0.38));\n",
       "  --xr-border-color: var(--jp-border-color2, #e0e0e0);\n",
       "  --xr-disabled-color: var(--jp-layout-color3, #bdbdbd);\n",
       "  --xr-background-color: var(--jp-layout-color0, white);\n",
       "  --xr-background-color-row-even: var(--jp-layout-color1, white);\n",
       "  --xr-background-color-row-odd: var(--jp-layout-color2, #eeeeee);\n",
       "}\n",
       "\n",
       "html[theme=dark],\n",
       "body.vscode-dark {\n",
       "  --xr-font-color0: rgba(255, 255, 255, 1);\n",
       "  --xr-font-color2: rgba(255, 255, 255, 0.54);\n",
       "  --xr-font-color3: rgba(255, 255, 255, 0.38);\n",
       "  --xr-border-color: #1F1F1F;\n",
       "  --xr-disabled-color: #515151;\n",
       "  --xr-background-color: #111111;\n",
       "  --xr-background-color-row-even: #111111;\n",
       "  --xr-background-color-row-odd: #313131;\n",
       "}\n",
       "\n",
       ".xr-wrap {\n",
       "  display: block;\n",
       "  min-width: 300px;\n",
       "  max-width: 700px;\n",
       "}\n",
       "\n",
       ".xr-text-repr-fallback {\n",
       "  /* fallback to plain text repr when CSS is not injected (untrusted notebook) */\n",
       "  display: none;\n",
       "}\n",
       "\n",
       ".xr-header {\n",
       "  padding-top: 6px;\n",
       "  padding-bottom: 6px;\n",
       "  margin-bottom: 4px;\n",
       "  border-bottom: solid 1px var(--xr-border-color);\n",
       "}\n",
       "\n",
       ".xr-header > div,\n",
       ".xr-header > ul {\n",
       "  display: inline;\n",
       "  margin-top: 0;\n",
       "  margin-bottom: 0;\n",
       "}\n",
       "\n",
       ".xr-obj-type,\n",
       ".xr-array-name {\n",
       "  margin-left: 2px;\n",
       "  margin-right: 10px;\n",
       "}\n",
       "\n",
       ".xr-obj-type {\n",
       "  color: var(--xr-font-color2);\n",
       "}\n",
       "\n",
       ".xr-sections {\n",
       "  padding-left: 0 !important;\n",
       "  display: grid;\n",
       "  grid-template-columns: 150px auto auto 1fr 20px 20px;\n",
       "}\n",
       "\n",
       ".xr-section-item {\n",
       "  display: contents;\n",
       "}\n",
       "\n",
       ".xr-section-item input {\n",
       "  display: none;\n",
       "}\n",
       "\n",
       ".xr-section-item input + label {\n",
       "  color: var(--xr-disabled-color);\n",
       "}\n",
       "\n",
       ".xr-section-item input:enabled + label {\n",
       "  cursor: pointer;\n",
       "  color: var(--xr-font-color2);\n",
       "}\n",
       "\n",
       ".xr-section-item input:enabled + label:hover {\n",
       "  color: var(--xr-font-color0);\n",
       "}\n",
       "\n",
       ".xr-section-summary {\n",
       "  grid-column: 1;\n",
       "  color: var(--xr-font-color2);\n",
       "  font-weight: 500;\n",
       "}\n",
       "\n",
       ".xr-section-summary > span {\n",
       "  display: inline-block;\n",
       "  padding-left: 0.5em;\n",
       "}\n",
       "\n",
       ".xr-section-summary-in:disabled + label {\n",
       "  color: var(--xr-font-color2);\n",
       "}\n",
       "\n",
       ".xr-section-summary-in + label:before {\n",
       "  display: inline-block;\n",
       "  content: '►';\n",
       "  font-size: 11px;\n",
       "  width: 15px;\n",
       "  text-align: center;\n",
       "}\n",
       "\n",
       ".xr-section-summary-in:disabled + label:before {\n",
       "  color: var(--xr-disabled-color);\n",
       "}\n",
       "\n",
       ".xr-section-summary-in:checked + label:before {\n",
       "  content: '▼';\n",
       "}\n",
       "\n",
       ".xr-section-summary-in:checked + label > span {\n",
       "  display: none;\n",
       "}\n",
       "\n",
       ".xr-section-summary,\n",
       ".xr-section-inline-details {\n",
       "  padding-top: 4px;\n",
       "  padding-bottom: 4px;\n",
       "}\n",
       "\n",
       ".xr-section-inline-details {\n",
       "  grid-column: 2 / -1;\n",
       "}\n",
       "\n",
       ".xr-section-details {\n",
       "  display: none;\n",
       "  grid-column: 1 / -1;\n",
       "  margin-bottom: 5px;\n",
       "}\n",
       "\n",
       ".xr-section-summary-in:checked ~ .xr-section-details {\n",
       "  display: contents;\n",
       "}\n",
       "\n",
       ".xr-array-wrap {\n",
       "  grid-column: 1 / -1;\n",
       "  display: grid;\n",
       "  grid-template-columns: 20px auto;\n",
       "}\n",
       "\n",
       ".xr-array-wrap > label {\n",
       "  grid-column: 1;\n",
       "  vertical-align: top;\n",
       "}\n",
       "\n",
       ".xr-preview {\n",
       "  color: var(--xr-font-color3);\n",
       "}\n",
       "\n",
       ".xr-array-preview,\n",
       ".xr-array-data {\n",
       "  padding: 0 5px !important;\n",
       "  grid-column: 2;\n",
       "}\n",
       "\n",
       ".xr-array-data,\n",
       ".xr-array-in:checked ~ .xr-array-preview {\n",
       "  display: none;\n",
       "}\n",
       "\n",
       ".xr-array-in:checked ~ .xr-array-data,\n",
       ".xr-array-preview {\n",
       "  display: inline-block;\n",
       "}\n",
       "\n",
       ".xr-dim-list {\n",
       "  display: inline-block !important;\n",
       "  list-style: none;\n",
       "  padding: 0 !important;\n",
       "  margin: 0;\n",
       "}\n",
       "\n",
       ".xr-dim-list li {\n",
       "  display: inline-block;\n",
       "  padding: 0;\n",
       "  margin: 0;\n",
       "}\n",
       "\n",
       ".xr-dim-list:before {\n",
       "  content: '(';\n",
       "}\n",
       "\n",
       ".xr-dim-list:after {\n",
       "  content: ')';\n",
       "}\n",
       "\n",
       ".xr-dim-list li:not(:last-child):after {\n",
       "  content: ',';\n",
       "  padding-right: 5px;\n",
       "}\n",
       "\n",
       ".xr-has-index {\n",
       "  font-weight: bold;\n",
       "}\n",
       "\n",
       ".xr-var-list,\n",
       ".xr-var-item {\n",
       "  display: contents;\n",
       "}\n",
       "\n",
       ".xr-var-item > div,\n",
       ".xr-var-item label,\n",
       ".xr-var-item > .xr-var-name span {\n",
       "  background-color: var(--xr-background-color-row-even);\n",
       "  margin-bottom: 0;\n",
       "}\n",
       "\n",
       ".xr-var-item > .xr-var-name:hover span {\n",
       "  padding-right: 5px;\n",
       "}\n",
       "\n",
       ".xr-var-list > li:nth-child(odd) > div,\n",
       ".xr-var-list > li:nth-child(odd) > label,\n",
       ".xr-var-list > li:nth-child(odd) > .xr-var-name span {\n",
       "  background-color: var(--xr-background-color-row-odd);\n",
       "}\n",
       "\n",
       ".xr-var-name {\n",
       "  grid-column: 1;\n",
       "}\n",
       "\n",
       ".xr-var-dims {\n",
       "  grid-column: 2;\n",
       "}\n",
       "\n",
       ".xr-var-dtype {\n",
       "  grid-column: 3;\n",
       "  text-align: right;\n",
       "  color: var(--xr-font-color2);\n",
       "}\n",
       "\n",
       ".xr-var-preview {\n",
       "  grid-column: 4;\n",
       "}\n",
       "\n",
       ".xr-var-name,\n",
       ".xr-var-dims,\n",
       ".xr-var-dtype,\n",
       ".xr-preview,\n",
       ".xr-attrs dt {\n",
       "  white-space: nowrap;\n",
       "  overflow: hidden;\n",
       "  text-overflow: ellipsis;\n",
       "  padding-right: 10px;\n",
       "}\n",
       "\n",
       ".xr-var-name:hover,\n",
       ".xr-var-dims:hover,\n",
       ".xr-var-dtype:hover,\n",
       ".xr-attrs dt:hover {\n",
       "  overflow: visible;\n",
       "  width: auto;\n",
       "  z-index: 1;\n",
       "}\n",
       "\n",
       ".xr-var-attrs,\n",
       ".xr-var-data {\n",
       "  display: none;\n",
       "  background-color: var(--xr-background-color) !important;\n",
       "  padding-bottom: 5px !important;\n",
       "}\n",
       "\n",
       ".xr-var-attrs-in:checked ~ .xr-var-attrs,\n",
       ".xr-var-data-in:checked ~ .xr-var-data {\n",
       "  display: block;\n",
       "}\n",
       "\n",
       ".xr-var-data > table {\n",
       "  float: right;\n",
       "}\n",
       "\n",
       ".xr-var-name span,\n",
       ".xr-var-data,\n",
       ".xr-attrs {\n",
       "  padding-left: 25px !important;\n",
       "}\n",
       "\n",
       ".xr-attrs,\n",
       ".xr-var-attrs,\n",
       ".xr-var-data {\n",
       "  grid-column: 1 / -1;\n",
       "}\n",
       "\n",
       "dl.xr-attrs {\n",
       "  padding: 0;\n",
       "  margin: 0;\n",
       "  display: grid;\n",
       "  grid-template-columns: 125px auto;\n",
       "}\n",
       "\n",
       ".xr-attrs dt,\n",
       ".xr-attrs dd {\n",
       "  padding: 0;\n",
       "  margin: 0;\n",
       "  float: left;\n",
       "  padding-right: 10px;\n",
       "  width: auto;\n",
       "}\n",
       "\n",
       ".xr-attrs dt {\n",
       "  font-weight: normal;\n",
       "  grid-column: 1;\n",
       "}\n",
       "\n",
       ".xr-attrs dt:hover span {\n",
       "  display: inline-block;\n",
       "  background: var(--xr-background-color);\n",
       "  padding-right: 10px;\n",
       "}\n",
       "\n",
       ".xr-attrs dd {\n",
       "  grid-column: 2;\n",
       "  white-space: pre-wrap;\n",
       "  word-break: break-all;\n",
       "}\n",
       "\n",
       ".xr-icon-database,\n",
       ".xr-icon-file-text2 {\n",
       "  display: inline-block;\n",
       "  vertical-align: middle;\n",
       "  width: 1em;\n",
       "  height: 1.5em !important;\n",
       "  stroke-width: 0;\n",
       "  stroke: currentColor;\n",
       "  fill: currentColor;\n",
       "}\n",
       "</style><pre class='xr-text-repr-fallback'>&lt;xarray.DataArray &#x27;u&#x27; (isobaricInhPa: 25, latitude: 721, longitude: 1440)&gt;\n",
       "array([[[  0.3550396 ,   0.38238335,   0.41070366, ...,   0.27105522,\n",
       "           0.29937553,   0.32671928],\n",
       "        [ -0.24554634,  -0.34417915,  -0.31488228, ...,  -0.33734322,\n",
       "          -0.30609322,  -0.27581978],\n",
       "        [ -0.91449165,  -0.8969135 ,  -0.8773823 , ...,  -0.982851  ,\n",
       "          -0.9603901 ,  -0.9369526 ],\n",
       "        ...,\n",
       "        [ -4.518984  ,  -4.5238667 ,  -4.5287495 , ...,  -4.503359  ,\n",
       "          -4.509218  ,  -4.514101  ],\n",
       "        [ -4.496523  ,  -4.5023823 ,  -4.507265  , ...,  -4.478945  ,\n",
       "          -4.484804  ,  -4.4906635 ],\n",
       "        [ -5.009218  ,  -5.014101  ,  -5.0199604 , ...,  -4.99164   ,\n",
       "          -4.9974995 ,  -5.003359  ]],\n",
       "\n",
       "       [[  0.3558426 ,   0.38318634,   0.4105301 , ...,   0.27185822,\n",
       "           0.29920197,   0.32654572],\n",
       "        [ -0.24571991,  -0.34337616,  -0.31407928, ...,  -0.33751678,\n",
       "          -0.30626678,  -0.2769699 ],\n",
       "        [ -0.91368866,  -0.89806366,  -0.8765793 , ...,  -0.98204803,\n",
       "          -0.96056366,  -0.93712616],\n",
       "...\n",
       "        [-70.68656   , -70.70219   , -70.713905  , ..., -70.631874  ,\n",
       "         -70.651405  , -70.67094   ],\n",
       "        [-71.838905  , -71.85453   , -71.870155  , ..., -71.78422   ,\n",
       "         -71.80375   , -71.82328   ],\n",
       "        [-74.631874  , -74.65531   , -74.67875   , ..., -74.54594   ,\n",
       "         -74.57719   , -74.60453   ]],\n",
       "\n",
       "       [[ -6.5872116 ,  -6.6028366 ,  -6.6184616 , ...,  -6.532524  ,\n",
       "          -6.548149  ,  -6.5715866 ],\n",
       "        [ -6.6965866 ,  -6.720024  ,  -6.735649  , ...,  -6.641899  ,\n",
       "          -6.657524  ,  -6.6809616 ],\n",
       "        [ -7.016899  ,  -7.032524  ,  -7.0559616 , ...,  -6.954399  ,\n",
       "          -6.9778366 ,  -6.9934616 ],\n",
       "        ...,\n",
       "        [-80.33721   , -80.38409   , -80.42315   , ..., -80.2044    ,\n",
       "         -80.251274  , -80.29815   ],\n",
       "        [-82.64971   , -82.688774  , -82.72784   , ..., -82.5169    ,\n",
       "         -82.563774  , -82.60284   ],\n",
       "        [-86.07159   , -86.11846   , -86.157524  , ..., -85.92315   ,\n",
       "         -85.97784   , -86.02471   ]]], dtype=float32)\n",
       "Coordinates:\n",
       "    time           datetime64[ns] 2020-12-15\n",
       "    step           timedelta64[ns] 00:00:00\n",
       "  * isobaricInhPa  (isobaricInhPa) int64 1000 950 925 900 850 800 ... 7 5 3 2 1\n",
       "  * latitude       (latitude) float64 -90.0 -89.75 -89.5 ... 89.5 89.75 90.0\n",
       "  * longitude      (longitude) float64 0.0 0.25 0.5 0.75 ... 359.2 359.5 359.8\n",
       "    valid_time     datetime64[ns] 2020-12-15\n",
       "Attributes: (12/29)\n",
       "    GRIB_paramId:                             131\n",
       "    GRIB_shortName:                           u\n",
       "    GRIB_units:                               m s**-1\n",
       "    GRIB_name:                                U component of wind\n",
       "    GRIB_cfName:                              eastward_wind\n",
       "    GRIB_cfVarName:                           u\n",
       "    ...                                       ...\n",
       "    GRIB_jScansPositively:                    1\n",
       "    GRIB_latitudeOfFirstGridPointInDegrees:   -90.0\n",
       "    GRIB_latitudeOfLastGridPointInDegrees:    90.0\n",
       "    long_name:                                U component of wind\n",
       "    units:                                    m s**-1\n",
       "    standard_name:                            eastward_wind</pre><div class='xr-wrap' hidden><div class='xr-header'><div class='xr-obj-type'>xarray.DataArray</div><div class='xr-array-name'>'u'</div><ul class='xr-dim-list'><li><span class='xr-has-index'>isobaricInhPa</span>: 25</li><li><span class='xr-has-index'>latitude</span>: 721</li><li><span class='xr-has-index'>longitude</span>: 1440</li></ul></div><ul class='xr-sections'><li class='xr-section-item'><div class='xr-array-wrap'><input id='section-00681714-7aac-404e-abef-8bec86050c7e' class='xr-array-in' type='checkbox' checked><label for='section-00681714-7aac-404e-abef-8bec86050c7e' title='Show/hide data repr'><svg class='icon xr-icon-database'><use xlink:href='#icon-database'></use></svg></label><div class='xr-array-preview xr-preview'><span>0.355 0.3824 0.4107 0.438 0.4664 ... -85.88 -85.92 -85.98 -86.02</span></div><div class='xr-array-data'><pre>array([[[  0.3550396 ,   0.38238335,   0.41070366, ...,   0.27105522,\n",
       "           0.29937553,   0.32671928],\n",
       "        [ -0.24554634,  -0.34417915,  -0.31488228, ...,  -0.33734322,\n",
       "          -0.30609322,  -0.27581978],\n",
       "        [ -0.91449165,  -0.8969135 ,  -0.8773823 , ...,  -0.982851  ,\n",
       "          -0.9603901 ,  -0.9369526 ],\n",
       "        ...,\n",
       "        [ -4.518984  ,  -4.5238667 ,  -4.5287495 , ...,  -4.503359  ,\n",
       "          -4.509218  ,  -4.514101  ],\n",
       "        [ -4.496523  ,  -4.5023823 ,  -4.507265  , ...,  -4.478945  ,\n",
       "          -4.484804  ,  -4.4906635 ],\n",
       "        [ -5.009218  ,  -5.014101  ,  -5.0199604 , ...,  -4.99164   ,\n",
       "          -4.9974995 ,  -5.003359  ]],\n",
       "\n",
       "       [[  0.3558426 ,   0.38318634,   0.4105301 , ...,   0.27185822,\n",
       "           0.29920197,   0.32654572],\n",
       "        [ -0.24571991,  -0.34337616,  -0.31407928, ...,  -0.33751678,\n",
       "          -0.30626678,  -0.2769699 ],\n",
       "        [ -0.91368866,  -0.89806366,  -0.8765793 , ...,  -0.98204803,\n",
       "          -0.96056366,  -0.93712616],\n",
       "...\n",
       "        [-70.68656   , -70.70219   , -70.713905  , ..., -70.631874  ,\n",
       "         -70.651405  , -70.67094   ],\n",
       "        [-71.838905  , -71.85453   , -71.870155  , ..., -71.78422   ,\n",
       "         -71.80375   , -71.82328   ],\n",
       "        [-74.631874  , -74.65531   , -74.67875   , ..., -74.54594   ,\n",
       "         -74.57719   , -74.60453   ]],\n",
       "\n",
       "       [[ -6.5872116 ,  -6.6028366 ,  -6.6184616 , ...,  -6.532524  ,\n",
       "          -6.548149  ,  -6.5715866 ],\n",
       "        [ -6.6965866 ,  -6.720024  ,  -6.735649  , ...,  -6.641899  ,\n",
       "          -6.657524  ,  -6.6809616 ],\n",
       "        [ -7.016899  ,  -7.032524  ,  -7.0559616 , ...,  -6.954399  ,\n",
       "          -6.9778366 ,  -6.9934616 ],\n",
       "        ...,\n",
       "        [-80.33721   , -80.38409   , -80.42315   , ..., -80.2044    ,\n",
       "         -80.251274  , -80.29815   ],\n",
       "        [-82.64971   , -82.688774  , -82.72784   , ..., -82.5169    ,\n",
       "         -82.563774  , -82.60284   ],\n",
       "        [-86.07159   , -86.11846   , -86.157524  , ..., -85.92315   ,\n",
       "         -85.97784   , -86.02471   ]]], dtype=float32)</pre></div></div></li><li class='xr-section-item'><input id='section-97fd67d8-858e-4745-974e-60f20fc81ff3' class='xr-section-summary-in' type='checkbox'  checked><label for='section-97fd67d8-858e-4745-974e-60f20fc81ff3' class='xr-section-summary' >Coordinates: <span>(6)</span></label><div class='xr-section-inline-details'></div><div class='xr-section-details'><ul class='xr-var-list'><li class='xr-var-item'><div class='xr-var-name'><span>time</span></div><div class='xr-var-dims'>()</div><div class='xr-var-dtype'>datetime64[ns]</div><div class='xr-var-preview xr-preview'>2020-12-15</div><input id='attrs-e735e0af-883a-4c1d-8cb8-36a163970ef2' class='xr-var-attrs-in' type='checkbox' ><label for='attrs-e735e0af-883a-4c1d-8cb8-36a163970ef2' title='Show/Hide attributes'><svg class='icon xr-icon-file-text2'><use xlink:href='#icon-file-text2'></use></svg></label><input id='data-49d53819-f1ed-4d3a-a764-98abdb76d4d4' class='xr-var-data-in' type='checkbox'><label for='data-49d53819-f1ed-4d3a-a764-98abdb76d4d4' title='Show/Hide data repr'><svg class='icon xr-icon-database'><use xlink:href='#icon-database'></use></svg></label><div class='xr-var-attrs'><dl class='xr-attrs'><dt><span>long_name :</span></dt><dd>initial time of forecast</dd><dt><span>standard_name :</span></dt><dd>forecast_reference_time</dd></dl></div><div class='xr-var-data'><pre>array(&#x27;2020-12-15T00:00:00.000000000&#x27;, dtype=&#x27;datetime64[ns]&#x27;)</pre></div></li><li class='xr-var-item'><div class='xr-var-name'><span>step</span></div><div class='xr-var-dims'>()</div><div class='xr-var-dtype'>timedelta64[ns]</div><div class='xr-var-preview xr-preview'>00:00:00</div><input id='attrs-d317a821-cc7b-4546-a33c-b0c94ad71842' class='xr-var-attrs-in' type='checkbox' ><label for='attrs-d317a821-cc7b-4546-a33c-b0c94ad71842' title='Show/Hide attributes'><svg class='icon xr-icon-file-text2'><use xlink:href='#icon-file-text2'></use></svg></label><input id='data-36d72d28-993b-4d84-93f7-b9f535be2495' class='xr-var-data-in' type='checkbox'><label for='data-36d72d28-993b-4d84-93f7-b9f535be2495' title='Show/Hide data repr'><svg class='icon xr-icon-database'><use xlink:href='#icon-database'></use></svg></label><div class='xr-var-attrs'><dl class='xr-attrs'><dt><span>long_name :</span></dt><dd>time since forecast_reference_time</dd><dt><span>standard_name :</span></dt><dd>forecast_period</dd></dl></div><div class='xr-var-data'><pre>array(0, dtype=&#x27;timedelta64[ns]&#x27;)</pre></div></li><li class='xr-var-item'><div class='xr-var-name'><span class='xr-has-index'>isobaricInhPa</span></div><div class='xr-var-dims'>(isobaricInhPa)</div><div class='xr-var-dtype'>int64</div><div class='xr-var-preview xr-preview'>1000 950 925 900 850 ... 7 5 3 2 1</div><input id='attrs-1f3f777d-f76a-4d0a-b767-58ecf20129eb' class='xr-var-attrs-in' type='checkbox' ><label for='attrs-1f3f777d-f76a-4d0a-b767-58ecf20129eb' title='Show/Hide attributes'><svg class='icon xr-icon-file-text2'><use xlink:href='#icon-file-text2'></use></svg></label><input id='data-a996b84b-6ef2-4a3f-a8f6-49c41f451e7d' class='xr-var-data-in' type='checkbox'><label for='data-a996b84b-6ef2-4a3f-a8f6-49c41f451e7d' title='Show/Hide data repr'><svg class='icon xr-icon-database'><use xlink:href='#icon-database'></use></svg></label><div class='xr-var-attrs'><dl class='xr-attrs'><dt><span>long_name :</span></dt><dd>pressure</dd><dt><span>units :</span></dt><dd>hPa</dd><dt><span>positive :</span></dt><dd>down</dd><dt><span>stored_direction :</span></dt><dd>decreasing</dd><dt><span>standard_name :</span></dt><dd>air_pressure</dd></dl></div><div class='xr-var-data'><pre>array([1000,  950,  925,  900,  850,  800,  700,  600,  500,  400,  300,  250,\n",
       "        200,  150,  100,   70,   50,   30,   20,   10,    7,    5,    3,    2,\n",
       "          1])</pre></div></li><li class='xr-var-item'><div class='xr-var-name'><span class='xr-has-index'>latitude</span></div><div class='xr-var-dims'>(latitude)</div><div class='xr-var-dtype'>float64</div><div class='xr-var-preview xr-preview'>-90.0 -89.75 -89.5 ... 89.75 90.0</div><input id='attrs-1a268ed7-2849-4079-aad4-c325d83413b4' class='xr-var-attrs-in' type='checkbox' ><label for='attrs-1a268ed7-2849-4079-aad4-c325d83413b4' title='Show/Hide attributes'><svg class='icon xr-icon-file-text2'><use xlink:href='#icon-file-text2'></use></svg></label><input id='data-cc588d95-0341-483f-ad71-9ef28c92dfd0' class='xr-var-data-in' type='checkbox'><label for='data-cc588d95-0341-483f-ad71-9ef28c92dfd0' title='Show/Hide data repr'><svg class='icon xr-icon-database'><use xlink:href='#icon-database'></use></svg></label><div class='xr-var-attrs'><dl class='xr-attrs'><dt><span>units :</span></dt><dd>degrees_north</dd><dt><span>standard_name :</span></dt><dd>latitude</dd><dt><span>long_name :</span></dt><dd>latitude</dd></dl></div><div class='xr-var-data'><pre>array([-90.  , -89.75, -89.5 , ...,  89.5 ,  89.75,  90.  ])</pre></div></li><li class='xr-var-item'><div class='xr-var-name'><span class='xr-has-index'>longitude</span></div><div class='xr-var-dims'>(longitude)</div><div class='xr-var-dtype'>float64</div><div class='xr-var-preview xr-preview'>0.0 0.25 0.5 ... 359.2 359.5 359.8</div><input id='attrs-f2c336cc-7031-414f-86ac-e3ffa8c6f416' class='xr-var-attrs-in' type='checkbox' ><label for='attrs-f2c336cc-7031-414f-86ac-e3ffa8c6f416' title='Show/Hide attributes'><svg class='icon xr-icon-file-text2'><use xlink:href='#icon-file-text2'></use></svg></label><input id='data-1424582b-1553-4966-9cb5-2606128c56c6' class='xr-var-data-in' type='checkbox'><label for='data-1424582b-1553-4966-9cb5-2606128c56c6' title='Show/Hide data repr'><svg class='icon xr-icon-database'><use xlink:href='#icon-database'></use></svg></label><div class='xr-var-attrs'><dl class='xr-attrs'><dt><span>units :</span></dt><dd>degrees_east</dd><dt><span>standard_name :</span></dt><dd>longitude</dd><dt><span>long_name :</span></dt><dd>longitude</dd></dl></div><div class='xr-var-data'><pre>array([0.0000e+00, 2.5000e-01, 5.0000e-01, ..., 3.5925e+02, 3.5950e+02,\n",
       "       3.5975e+02])</pre></div></li><li class='xr-var-item'><div class='xr-var-name'><span>valid_time</span></div><div class='xr-var-dims'>()</div><div class='xr-var-dtype'>datetime64[ns]</div><div class='xr-var-preview xr-preview'>2020-12-15</div><input id='attrs-5fdfd55e-7d50-49fb-ad99-7358a35df977' class='xr-var-attrs-in' type='checkbox' ><label for='attrs-5fdfd55e-7d50-49fb-ad99-7358a35df977' title='Show/Hide attributes'><svg class='icon xr-icon-file-text2'><use xlink:href='#icon-file-text2'></use></svg></label><input id='data-2b9e4d09-6dde-417e-b37c-875df0583e1a' class='xr-var-data-in' type='checkbox'><label for='data-2b9e4d09-6dde-417e-b37c-875df0583e1a' title='Show/Hide data repr'><svg class='icon xr-icon-database'><use xlink:href='#icon-database'></use></svg></label><div class='xr-var-attrs'><dl class='xr-attrs'><dt><span>standard_name :</span></dt><dd>time</dd><dt><span>long_name :</span></dt><dd>time</dd></dl></div><div class='xr-var-data'><pre>array(&#x27;2020-12-15T00:00:00.000000000&#x27;, dtype=&#x27;datetime64[ns]&#x27;)</pre></div></li></ul></div></li><li class='xr-section-item'><input id='section-92308131-2eda-43a9-9cca-60a64afc06c2' class='xr-section-summary-in' type='checkbox'  ><label for='section-92308131-2eda-43a9-9cca-60a64afc06c2' class='xr-section-summary' >Attributes: <span>(29)</span></label><div class='xr-section-inline-details'></div><div class='xr-section-details'><dl class='xr-attrs'><dt><span>GRIB_paramId :</span></dt><dd>131</dd><dt><span>GRIB_shortName :</span></dt><dd>u</dd><dt><span>GRIB_units :</span></dt><dd>m s**-1</dd><dt><span>GRIB_name :</span></dt><dd>U component of wind</dd><dt><span>GRIB_cfName :</span></dt><dd>eastward_wind</dd><dt><span>GRIB_cfVarName :</span></dt><dd>u</dd><dt><span>GRIB_dataType :</span></dt><dd>an</dd><dt><span>GRIB_missingValue :</span></dt><dd>9999</dd><dt><span>GRIB_numberOfPoints :</span></dt><dd>1038240</dd><dt><span>GRIB_typeOfLevel :</span></dt><dd>isobaricInhPa</dd><dt><span>GRIB_NV :</span></dt><dd>0</dd><dt><span>GRIB_stepUnits :</span></dt><dd>1</dd><dt><span>GRIB_stepType :</span></dt><dd>instant</dd><dt><span>GRIB_gridType :</span></dt><dd>regular_ll</dd><dt><span>GRIB_gridDefinitionDescription :</span></dt><dd>Latitude/longitude </dd><dt><span>GRIB_Nx :</span></dt><dd>1440</dd><dt><span>GRIB_iDirectionIncrementInDegrees :</span></dt><dd>0.25</dd><dt><span>GRIB_iScansNegatively :</span></dt><dd>0</dd><dt><span>GRIB_longitudeOfFirstGridPointInDegrees :</span></dt><dd>0.0</dd><dt><span>GRIB_longitudeOfLastGridPointInDegrees :</span></dt><dd>359.75</dd><dt><span>GRIB_Ny :</span></dt><dd>721</dd><dt><span>GRIB_jDirectionIncrementInDegrees :</span></dt><dd>0.25</dd><dt><span>GRIB_jPointsAreConsecutive :</span></dt><dd>0</dd><dt><span>GRIB_jScansPositively :</span></dt><dd>1</dd><dt><span>GRIB_latitudeOfFirstGridPointInDegrees :</span></dt><dd>-90.0</dd><dt><span>GRIB_latitudeOfLastGridPointInDegrees :</span></dt><dd>90.0</dd><dt><span>long_name :</span></dt><dd>U component of wind</dd><dt><span>units :</span></dt><dd>m s**-1</dd><dt><span>standard_name :</span></dt><dd>eastward_wind</dd></dl></div></li></ul></div></div>"
      ],
      "text/plain": [
       "<xarray.DataArray 'u' (isobaricInhPa: 25, latitude: 721, longitude: 1440)>\n",
       "array([[[  0.3550396 ,   0.38238335,   0.41070366, ...,   0.27105522,\n",
       "           0.29937553,   0.32671928],\n",
       "        [ -0.24554634,  -0.34417915,  -0.31488228, ...,  -0.33734322,\n",
       "          -0.30609322,  -0.27581978],\n",
       "        [ -0.91449165,  -0.8969135 ,  -0.8773823 , ...,  -0.982851  ,\n",
       "          -0.9603901 ,  -0.9369526 ],\n",
       "        ...,\n",
       "        [ -4.518984  ,  -4.5238667 ,  -4.5287495 , ...,  -4.503359  ,\n",
       "          -4.509218  ,  -4.514101  ],\n",
       "        [ -4.496523  ,  -4.5023823 ,  -4.507265  , ...,  -4.478945  ,\n",
       "          -4.484804  ,  -4.4906635 ],\n",
       "        [ -5.009218  ,  -5.014101  ,  -5.0199604 , ...,  -4.99164   ,\n",
       "          -4.9974995 ,  -5.003359  ]],\n",
       "\n",
       "       [[  0.3558426 ,   0.38318634,   0.4105301 , ...,   0.27185822,\n",
       "           0.29920197,   0.32654572],\n",
       "        [ -0.24571991,  -0.34337616,  -0.31407928, ...,  -0.33751678,\n",
       "          -0.30626678,  -0.2769699 ],\n",
       "        [ -0.91368866,  -0.89806366,  -0.8765793 , ...,  -0.98204803,\n",
       "          -0.96056366,  -0.93712616],\n",
       "...\n",
       "        [-70.68656   , -70.70219   , -70.713905  , ..., -70.631874  ,\n",
       "         -70.651405  , -70.67094   ],\n",
       "        [-71.838905  , -71.85453   , -71.870155  , ..., -71.78422   ,\n",
       "         -71.80375   , -71.82328   ],\n",
       "        [-74.631874  , -74.65531   , -74.67875   , ..., -74.54594   ,\n",
       "         -74.57719   , -74.60453   ]],\n",
       "\n",
       "       [[ -6.5872116 ,  -6.6028366 ,  -6.6184616 , ...,  -6.532524  ,\n",
       "          -6.548149  ,  -6.5715866 ],\n",
       "        [ -6.6965866 ,  -6.720024  ,  -6.735649  , ...,  -6.641899  ,\n",
       "          -6.657524  ,  -6.6809616 ],\n",
       "        [ -7.016899  ,  -7.032524  ,  -7.0559616 , ...,  -6.954399  ,\n",
       "          -6.9778366 ,  -6.9934616 ],\n",
       "        ...,\n",
       "        [-80.33721   , -80.38409   , -80.42315   , ..., -80.2044    ,\n",
       "         -80.251274  , -80.29815   ],\n",
       "        [-82.64971   , -82.688774  , -82.72784   , ..., -82.5169    ,\n",
       "         -82.563774  , -82.60284   ],\n",
       "        [-86.07159   , -86.11846   , -86.157524  , ..., -85.92315   ,\n",
       "         -85.97784   , -86.02471   ]]], dtype=float32)\n",
       "Coordinates:\n",
       "    time           datetime64[ns] 2020-12-15\n",
       "    step           timedelta64[ns] 00:00:00\n",
       "  * isobaricInhPa  (isobaricInhPa) int64 1000 950 925 900 850 800 ... 7 5 3 2 1\n",
       "  * latitude       (latitude) float64 -90.0 -89.75 -89.5 ... 89.5 89.75 90.0\n",
       "  * longitude      (longitude) float64 0.0 0.25 0.5 0.75 ... 359.2 359.5 359.8\n",
       "    valid_time     datetime64[ns] 2020-12-15\n",
       "Attributes: (12/29)\n",
       "    GRIB_paramId:                             131\n",
       "    GRIB_shortName:                           u\n",
       "    GRIB_units:                               m s**-1\n",
       "    GRIB_name:                                U component of wind\n",
       "    GRIB_cfName:                              eastward_wind\n",
       "    GRIB_cfVarName:                           u\n",
       "    ...                                       ...\n",
       "    GRIB_jScansPositively:                    1\n",
       "    GRIB_latitudeOfFirstGridPointInDegrees:   -90.0\n",
       "    GRIB_latitudeOfLastGridPointInDegrees:    90.0\n",
       "    long_name:                                U component of wind\n",
       "    units:                                    m s**-1\n",
       "    standard_name:                            eastward_wind"
      ]
     },
     "execution_count": 11,
     "metadata": {},
     "output_type": "execute_result"
    }
   ],
   "source": [
    "var = 'u'\n",
    "t = ds_icon.time[0]\n",
    "\n",
    "sel = ds_icon[var].sel(**{coord_info.get(dataset).get('time'): t.data},).load()\n",
    "sel"
   ]
  },
  {
   "cell_type": "code",
   "execution_count": 12,
   "id": "662a8128",
   "metadata": {
    "ExecuteTime": {
     "end_time": "2022-01-28T12:33:42.757038Z",
     "start_time": "2022-01-28T12:33:41.933149Z"
    }
   },
   "outputs": [
    {
     "data": {
      "image/png": "[encoded data removed]",
      "text/plain": [
       "<Figure size 720x504 with 2 Axes>"
      ]
     },
     "metadata": {
      "needs_background": "light"
     },
     "output_type": "display_data"
    }
   ],
   "source": [
    "plot_profile_xr(sel, t, dataset=dataset,  mode='meridional',\n",
    "                norm_bound=None, norm_type = 'diverging', \n",
    "                cmap = plt.cm.PuOr, levels=20,\n",
    "                save=False )"
   ]
  },
  {
   "cell_type": "code",
   "execution_count": null,
   "id": "7402a668",
   "metadata": {},
   "outputs": [],
   "source": []
  },
  {
   "cell_type": "code",
   "execution_count": null,
   "id": "334c91b0",
   "metadata": {},
   "outputs": [],
   "source": []
  },
  {
   "cell_type": "markdown",
   "id": "b6fb01b6",
   "metadata": {},
   "source": [
    "### Plot u meridional profiles: ~2 min"
   ]
  },
  {
   "cell_type": "code",
   "execution_count": 13,
   "id": "2c34f747",
   "metadata": {
    "ExecuteTime": {
     "end_time": "2022-01-28T12:34:19.551097Z",
     "start_time": "2022-01-28T12:34:19.543674Z"
    }
   },
   "outputs": [],
   "source": [
    "var = 'u'"
   ]
  },
  {
   "cell_type": "code",
   "execution_count": 14,
   "id": "0f166e38",
   "metadata": {
    "ExecuteTime": {
     "end_time": "2022-01-28T12:36:25.425555Z",
     "start_time": "2022-01-28T12:34:20.441535Z"
    }
   },
   "outputs": [],
   "source": [
    "sel_all = ds_icon[var].sel(\n",
    "#               **{coord_info.get(dataset).get('lat'): slice(0, 10)},\n",
    "#               **{coord_info.get(dataset).get('p'): slice(500, 1)}\n",
    ").load()\n",
    "\n",
    "mini = sel_all.min().data\n",
    "maxi = sel_all.max().data\n",
    "\n",
    "for t in sel_all.time:\n",
    "    sel = sel_all.sel(**{coord_info.get(dataset).get('time'): t.data},) \n",
    "  \n",
    "    plot_profile_xr(sel, t, dataset=dataset,  mode='meridional',\n",
    "                    norm_bound=(mini, maxi), norm_type = 'diverging', \n",
    "                    cmap = plt.cm.PuOr, levels=20,\n",
    "                    save=True )"
   ]
  },
  {
   "cell_type": "code",
   "execution_count": 16,
   "id": "c2e0e645",
   "metadata": {
    "ExecuteTime": {
     "end_time": "2022-01-28T12:36:52.213280Z",
     "start_time": "2022-01-28T12:36:46.788483Z"
    }
   },
   "outputs": [],
   "source": [
    "file_folder = results_dir.get(dataset) + '/u_meridional_profile'\n",
    "make_gif(file_folder, dataset=dataset, duration=150)"
   ]
  },
  {
   "cell_type": "markdown",
   "id": "93346e2e",
   "metadata": {},
   "source": [
    "### Plot t meridional profiles: ~2 min"
   ]
  },
  {
   "cell_type": "code",
   "execution_count": null,
   "id": "ac902748",
   "metadata": {
    "ExecuteTime": {
     "end_time": "2022-01-23T01:19:54.427389Z",
     "start_time": "2022-01-23T01:19:54.425016Z"
    }
   },
   "outputs": [],
   "source": [
    "var = 't'"
   ]
  },
  {
   "cell_type": "code",
   "execution_count": null,
   "id": "f72482ff",
   "metadata": {
    "ExecuteTime": {
     "end_time": "2022-01-23T01:20:53.064519Z",
     "start_time": "2022-01-23T01:19:54.428793Z"
    }
   },
   "outputs": [],
   "source": [
    "sel_all = ds_icon[var].sel(\n",
    "#               **{coord_info.get(dataset).get('lat'): slice(0, 10)},\n",
    "#               **{coord_info.get(dataset).get('p'): slice(500, 1)}\n",
    ").load()\n",
    "\n",
    "mini = sel_all.min().data\n",
    "maxi = sel_all.max().data\n",
    "\n",
    "for t in sel_all.time:\n",
    "    sel = sel_all.sel(**{coord_info.get(dataset).get('time'): t.data},)\n",
    "    \n",
    "    plot_profile_xr(sel, t, dataset=dataset, mode='meridional',\n",
    "                    norm_bound=(mini, maxi), norm_type = 'linear', \n",
    "                    cmap = plt.cm.Reds, levels=20, \n",
    "                    save=True, )"
   ]
  },
  {
   "cell_type": "code",
   "execution_count": null,
   "id": "0a9a784a",
   "metadata": {
    "ExecuteTime": {
     "end_time": "2022-01-23T01:20:58.267183Z",
     "start_time": "2022-01-23T01:20:53.066314Z"
    }
   },
   "outputs": [],
   "source": [
    "file_folder = results_dir.get(dataset) + '/t_meridional_profile'\n",
    "make_gif(file_folder, dataset=dataset, duration=150)"
   ]
  },
  {
   "cell_type": "markdown",
   "id": "34874334",
   "metadata": {},
   "source": [
    "### Plot t (°C) meridional profiles: ~2 min"
   ]
  },
  {
   "cell_type": "code",
   "execution_count": null,
   "id": "f85e736a",
   "metadata": {
    "ExecuteTime": {
     "end_time": "2022-01-23T01:18:45.968321Z",
     "start_time": "2022-01-23T01:18:45.962995Z"
    }
   },
   "outputs": [],
   "source": [
    "var = 't'"
   ]
  },
  {
   "cell_type": "code",
   "execution_count": null,
   "id": "8cc3aa0b",
   "metadata": {
    "ExecuteTime": {
     "end_time": "2022-01-23T01:19:49.100955Z",
     "start_time": "2022-01-23T01:18:48.142962Z"
    }
   },
   "outputs": [],
   "source": [
    "sel_all = ds_icon[var].sel(\n",
    "#               **{coord_info.get(dataset).get('lat'): slice(0, 10)},\n",
    "#               **{coord_info.get(dataset).get('p'): slice(500, 1)}\n",
    ").load() - 273.15\n",
    "sel_all = sel_all.rename('tc')\n",
    "\n",
    "mini = sel_all.min().data\n",
    "maxi = sel_all.max().data\n",
    "\n",
    "for t in sel_all.time:\n",
    "    sel = sel_all.sel(**{coord_info.get(dataset).get('time'): t.data},)\n",
    "    \n",
    "    plot_profile_xr(sel, t, dataset=dataset, mode='meridional',\n",
    "                    norm_bound=(mini, maxi), norm_type = 'diverging', \n",
    "                    cmap = plt.cm.RdBu_r, levels=20, \n",
    "                    save=True )"
   ]
  },
  {
   "cell_type": "code",
   "execution_count": null,
   "id": "fddceeec",
   "metadata": {
    "ExecuteTime": {
     "end_time": "2022-01-23T01:19:54.423209Z",
     "start_time": "2022-01-23T01:19:49.102455Z"
    }
   },
   "outputs": [],
   "source": [
    "file_folder = results_dir.get(dataset) + '/tc_meridional_profile'\n",
    "make_gif(file_folder, dataset=dataset, duration=150)"
   ]
  },
  {
   "cell_type": "markdown",
   "id": "f44381bc",
   "metadata": {},
   "source": [
    "### Plot Geopotential maps: ~10 min"
   ]
  },
  {
   "cell_type": "code",
   "execution_count": null,
   "id": "d6902f97",
   "metadata": {
    "ExecuteTime": {
     "end_time": "2022-01-23T00:50:01.002805Z",
     "start_time": "2022-01-23T00:50:01.000193Z"
    }
   },
   "outputs": [],
   "source": [
    "p_level = 10\n",
    "var = 'z'"
   ]
  },
  {
   "cell_type": "code",
   "execution_count": null,
   "id": "0a443bd8",
   "metadata": {
    "ExecuteTime": {
     "end_time": "2022-01-23T00:50:36.437979Z",
     "start_time": "2022-01-23T00:50:01.004638Z"
    }
   },
   "outputs": [],
   "source": [
    "sel_all = ds_icon[var].sel(\n",
    "                **{coord_info.get(dataset).get('lat'): slice(0, 90)},\n",
    "                **{coord_info.get(dataset).get('p'): p_level},\n",
    "                ).compute()\n",
    "maxi = sel_all.max().data\n",
    "mini = sel_all.min().data"
   ]
  },
  {
   "cell_type": "code",
   "execution_count": null,
   "id": "6bf2bf86",
   "metadata": {
    "ExecuteTime": {
     "end_time": "2022-01-23T01:01:02.248069Z",
     "start_time": "2022-01-23T00:53:31.084635Z"
    }
   },
   "outputs": [],
   "source": [
    "for t in sel_all.time:\n",
    "    icon_plot = sel_all.sel(**{coord_info.get(dataset).get('time'): t.data})\n",
    "    plot_map_xr(icon_plot, t, dataset=dataset, figsize=(6,6),\n",
    "             projection=ccrs.Orthographic(central_longitude=0, central_latitude=90),\n",
    "             norm=True, norm_bound=(mini, maxi), norm_type='linear',\n",
    "             levels=20, cmap=plt.cm.Purples,\n",
    "             save=True\n",
    "             )"
   ]
  },
  {
   "cell_type": "code",
   "execution_count": null,
   "id": "afccbd94",
   "metadata": {
    "ExecuteTime": {
     "end_time": "2022-01-23T01:01:24.809776Z",
     "start_time": "2022-01-23T01:01:20.825839Z"
    }
   },
   "outputs": [],
   "source": [
    "file_folder = results_dir.get(dataset) + 'z_' + str(int(p_level)) + 'hPa'\n",
    "make_gif(file_folder, dataset=dataset, duration=150)"
   ]
  },
  {
   "cell_type": "markdown",
   "id": "18b40453",
   "metadata": {},
   "source": [
    "### Plot Temperature (°C) maps: ~10 min"
   ]
  },
  {
   "cell_type": "code",
   "execution_count": null,
   "id": "8273be3f",
   "metadata": {
    "ExecuteTime": {
     "end_time": "2022-01-23T01:22:08.020653Z",
     "start_time": "2022-01-23T01:22:08.014354Z"
    }
   },
   "outputs": [],
   "source": [
    "p_level = 10\n",
    "var = 't'"
   ]
  },
  {
   "cell_type": "code",
   "execution_count": null,
   "id": "971b3305",
   "metadata": {
    "ExecuteTime": {
     "end_time": "2022-01-23T01:22:08.639403Z",
     "start_time": "2022-01-23T01:22:08.450874Z"
    }
   },
   "outputs": [],
   "source": [
    "sel_all = ds_icon[var].sel(\n",
    "                **{coord_info.get(dataset).get('lat'): slice(0, 90)},\n",
    "                **{coord_info.get(dataset).get('p'): p_level},\n",
    "                ).load() - 273.15\n",
    "\n",
    "sel_all = sel_all.rename('tc')\n",
    "\n",
    "maxi = sel_all.max().data\n",
    "mini = sel_all.min().data"
   ]
  },
  {
   "cell_type": "code",
   "execution_count": null,
   "id": "072c8fed",
   "metadata": {
    "ExecuteTime": {
     "end_time": "2022-01-23T01:28:31.043668Z",
     "start_time": "2022-01-23T01:25:14.187006Z"
    }
   },
   "outputs": [],
   "source": [
    "for t in sel_all.time:\n",
    "    icon_plot = sel_all.sel(**{coord_info.get(dataset).get('time'): t.data})\n",
    "    plot_map_xr(icon_plot, t, dataset=dataset, figsize=(6,6),\n",
    "             projection=ccrs.Orthographic(central_longitude=0, central_latitude=90),\n",
    "             norm=True, norm_bound=(mini,0, maxi), norm_type='diverging',\n",
    "             levels=20, cmap=plt.cm.RdBu_r,\n",
    "             save=True\n",
    "             )"
   ]
  },
  {
   "cell_type": "code",
   "execution_count": null,
   "id": "8b480623",
   "metadata": {
    "ExecuteTime": {
     "end_time": "2022-01-23T01:28:48.302937Z",
     "start_time": "2022-01-23T01:28:44.258452Z"
    }
   },
   "outputs": [],
   "source": [
    "file_folder = results_dir.get(dataset) + '/tc_' + str(int(p_level)) + 'hPa'\n",
    "make_gif(file_folder, dataset=dataset, duration=150)"
   ]
  },
  {
   "cell_type": "markdown",
   "id": "88791cc7",
   "metadata": {},
   "source": [
    "### Plot Geopotential profiles: ~10 min"
   ]
  },
  {
   "cell_type": "code",
   "execution_count": null,
   "id": "0f93c5e9",
   "metadata": {},
   "outputs": [],
   "source": []
  },
  {
   "cell_type": "code",
   "execution_count": null,
   "id": "e927a7da",
   "metadata": {},
   "outputs": [],
   "source": []
  },
  {
   "cell_type": "code",
   "execution_count": null,
   "id": "2914ad99",
   "metadata": {},
   "outputs": [],
   "source": []
  },
  {
   "cell_type": "code",
   "execution_count": null,
   "id": "03576833",
   "metadata": {},
   "outputs": [],
   "source": []
  },
  {
   "cell_type": "markdown",
   "id": "e882f500",
   "metadata": {},
   "source": [
    "# EP Flux tests"
   ]
  },
  {
   "cell_type": "code",
   "execution_count": null,
   "id": "01738645",
   "metadata": {
    "ExecuteTime": {
     "end_time": "2022-01-23T01:48:30.706853Z",
     "start_time": "2022-01-23T01:48:30.684998Z"
    }
   },
   "outputs": [],
   "source": [
    "t = ds_icon.time[0:5]"
   ]
  },
  {
   "cell_type": "code",
   "execution_count": null,
   "id": "6a8d1721",
   "metadata": {
    "ExecuteTime": {
     "end_time": "2022-01-23T01:48:42.233773Z",
     "start_time": "2022-01-23T01:48:33.822253Z"
    }
   },
   "outputs": [],
   "source": [
    "test_data = ds_icon.sel(\n",
    "    #isobaricInhPa=10,\n",
    "    time = t.data\n",
    "    ).load()"
   ]
  },
  {
   "cell_type": "code",
   "execution_count": null,
   "id": "da115fe7",
   "metadata": {
    "ExecuteTime": {
     "end_time": "2022-01-23T01:48:42.239694Z",
     "start_time": "2022-01-23T01:48:42.235898Z"
    }
   },
   "outputs": [],
   "source": [
    "test_data.dims"
   ]
  },
  {
   "cell_type": "code",
   "execution_count": null,
   "id": "ccaf6ac7",
   "metadata": {
    "ExecuteTime": {
     "end_time": "2022-01-23T01:48:47.344295Z",
     "start_time": "2022-01-23T01:48:42.241261Z"
    }
   },
   "outputs": [],
   "source": [
    "ep1, ep2, ep1_div, ep2_div = climate.ComputeEPfluxDivXr(test_data['u'],test_data['v'], test_data['t'],\n",
    "                lat=coord_info.get(dataset).get('lat'), lon=coord_info.get(dataset).get('lon'),\n",
    "                pres=coord_info.get(dataset).get('p'), time=coord_info.get(dataset).get('time') )\n",
    "\n",
    "ep1.name = 'EP1'\n",
    "ep2.name = 'EP2'\n",
    "ep1_div.name = 'EP1_div'\n",
    "ep2_div.name = 'EP2_div'"
   ]
  },
  {
   "cell_type": "code",
   "execution_count": null,
   "id": "cfca5ab0",
   "metadata": {
    "ExecuteTime": {
     "end_time": "2022-01-23T01:48:47.349508Z",
     "start_time": "2022-01-23T01:48:47.345924Z"
    }
   },
   "outputs": [],
   "source": [
    "ep1.dims, ep1.shape"
   ]
  },
  {
   "cell_type": "raw",
   "id": "791c0101",
   "metadata": {
    "ExecuteTime": {
     "end_time": "2022-01-22T15:16:36.291774Z",
     "start_time": "2022-01-22T15:16:36.270384Z"
    }
   },
   "source": [
    "ep1"
   ]
  },
  {
   "cell_type": "code",
   "execution_count": null,
   "id": "2b91b889",
   "metadata": {
    "ExecuteTime": {
     "end_time": "2022-01-23T01:48:47.960574Z",
     "start_time": "2022-01-23T01:48:47.350810Z"
    }
   },
   "outputs": [],
   "source": [
    "t = ep1.time[0]\n",
    "\n",
    "sel = ep1.sel(time = t.data,\n",
    "#                    **{coord_info.get(dataset).get('lat'): slice(0, 10)},\n",
    "                   **{coord_info.get(dataset).get('p'): slice(500, 1)}) \n",
    "\n",
    "#norm_bound=(-0.5, 0.5)\n",
    "\n",
    "# meridional    zonal\n",
    "plot_profile_xr(sel, t, dataset=dataset, mode='meridional', average = False,\n",
    "                norm_bound=None, norm_type = 'diverging', \n",
    "                cmap = plt.cm.PuOr, levels=50,\n",
    "                save=False )"
   ]
  },
  {
   "cell_type": "code",
   "execution_count": null,
   "id": "b8b940c8",
   "metadata": {
    "ExecuteTime": {
     "end_time": "2022-01-23T01:49:02.073784Z",
     "start_time": "2022-01-23T01:49:01.445314Z"
    }
   },
   "outputs": [],
   "source": [
    "t = ep1.time[0]\n",
    "\n",
    "sel = ep2.sel(time = t.data,\n",
    "#                    **{coord_info.get(dataset).get('lat'): slice(0, 10)},\n",
    "                   **{coord_info.get(dataset).get('p'): slice(500, 1)}\n",
    "                  ) \n",
    "\n",
    "#norm_bound=(-0.5, 0.5)\n",
    "\n",
    "# meridional    zonal\n",
    "plot_profile_xr(sel, t, dataset=dataset, mode='meridional', average = False,\n",
    "                norm_bound=None, norm_type = 'diverging', \n",
    "                cmap = plt.cm.PuOr, levels=50,\n",
    "                save=False )"
   ]
  },
  {
   "cell_type": "code",
   "execution_count": null,
   "id": "4014f723",
   "metadata": {
    "ExecuteTime": {
     "end_time": "2022-01-23T01:49:02.749418Z",
     "start_time": "2022-01-23T01:49:02.075559Z"
    }
   },
   "outputs": [],
   "source": [
    "t = ep1.time[0]\n",
    "\n",
    "sel = ep1_div.sel(time = t.data,\n",
    "                       **{coord_info.get(dataset).get('lat'): slice(-89, 89)},\n",
    "                       **{coord_info.get(dataset).get('p'): slice(500, 1)},\n",
    "                      ) \n",
    "\n",
    "norm_bound=(-1e+2,1e+2)\n",
    "\n",
    "# meridional    zonal\n",
    "plot_profile_xr(sel, t, dataset=dataset, mode='meridional', average = False,\n",
    "                norm_bound=None, norm_type = 'diverging', \n",
    "                cmap = plt.cm.PuOr, levels=50,\n",
    "                save=False )"
   ]
  },
  {
   "cell_type": "code",
   "execution_count": null,
   "id": "376185fb",
   "metadata": {
    "ExecuteTime": {
     "end_time": "2022-01-23T01:49:03.368228Z",
     "start_time": "2022-01-23T01:49:02.751334Z"
    }
   },
   "outputs": [],
   "source": [
    "t = ep1.time[0]\n",
    "\n",
    "sel = ep2_div.sel(time = t.data)\n",
    "sel = sel.sel(**{coord_info.get(dataset).get('lat'): slice(-89, 89)},\n",
    "                      **{coord_info.get(dataset).get('p'): slice(\n",
    "                                                      #sel[coord_info.get(dataset).get('p')][4].data,\n",
    "                                                      500,\n",
    "                                                      sel[coord_info.get(dataset).get('p')][-1].data)},\n",
    "                         ) \n",
    ", \n",
    "                       \n",
    "\n",
    "# meridional    zonal\n",
    "plot_profile_xr(sel, t, dataset=dataset, mode='meridional', average = False,\n",
    "                norm_bound=None, norm_type = 'diverging', \n",
    "                cmap = plt.cm.PuOr, levels=50,\n",
    "                save=False )"
   ]
  },
  {
   "cell_type": "code",
   "execution_count": null,
   "id": "aa095990",
   "metadata": {},
   "outputs": [],
   "source": []
  },
  {
   "cell_type": "code",
   "execution_count": null,
   "id": "7804d21b",
   "metadata": {
    "ExecuteTime": {
     "end_time": "2022-01-23T01:52:48.952650Z",
     "start_time": "2022-01-23T01:52:48.750573Z"
    }
   },
   "outputs": [],
   "source": [
    "ep2.sel(**{coord_info.get(dataset).get('p'): 10},\n",
    "        **{coord_info.get(dataset).get('lat'): 50}\n",
    "       ).plot()"
   ]
  },
  {
   "cell_type": "code",
   "execution_count": null,
   "id": "bc764735",
   "metadata": {},
   "outputs": [],
   "source": []
  },
  {
   "cell_type": "code",
   "execution_count": null,
   "id": "918aaacc",
   "metadata": {
    "ExecuteTime": {
     "end_time": "2022-01-23T02:00:38.520828Z",
     "start_time": "2022-01-23T02:00:38.495123Z"
    }
   },
   "outputs": [],
   "source": [
    "ds_icon[coord_info.get(dataset).get('p')]"
   ]
  },
  {
   "cell_type": "markdown",
   "id": "2b1a59f6",
   "metadata": {},
   "source": [
    "### Compote EP Eddy Heat"
   ]
  },
  {
   "cell_type": "code",
   "execution_count": null,
   "id": "96ab783f",
   "metadata": {
    "ExecuteTime": {
     "end_time": "2022-01-23T02:00:50.895402Z",
     "start_time": "2022-01-23T02:00:50.885723Z"
    }
   },
   "outputs": [],
   "source": [
    "test_data = ds_icon.sel(\n",
    "    **{coord_info.get(dataset).get('p'): slice(20, 5)},\n",
    "    **{coord_info.get(dataset).get('lat'): slice(45, 75)}\n",
    "       ).load()"
   ]
  },
  {
   "cell_type": "code",
   "execution_count": null,
   "id": "6e763392",
   "metadata": {
    "ExecuteTime": {
     "end_time": "2022-01-23T02:00:55.270641Z",
     "start_time": "2022-01-23T02:00:52.671425Z"
    }
   },
   "outputs": [],
   "source": [
    "ep1, ep2, ep1_div, ep2_div = climate.ComputeEPfluxDivXr(test_data['u'], test_data['v'], test_data['t'],\n",
    "                lat=coord_info.get(dataset).get('lat'), lon=coord_info.get(dataset).get('lon'),\n",
    "                pres=coord_info.get(dataset).get('p'), time=coord_info.get(dataset).get('time') )\n",
    "\n",
    "ep1.name = 'EP1'\n",
    "ep2.name = 'EP2'\n",
    "ep1_div.name = 'EP1_div'\n",
    "ep2_div.name = 'EP2_div'"
   ]
  },
  {
   "cell_type": "code",
   "execution_count": null,
   "id": "f2e2924f",
   "metadata": {
    "ExecuteTime": {
     "end_time": "2022-01-23T02:00:57.561299Z",
     "start_time": "2022-01-23T02:00:57.380963Z"
    }
   },
   "outputs": [],
   "source": [
    "ep2.sel(**{coord_info.get(dataset).get('p'): 10},\n",
    "        **{coord_info.get(dataset).get('lat'): 50}\n",
    "       ).plot()"
   ]
  },
  {
   "cell_type": "markdown",
   "id": "7fa415de",
   "metadata": {},
   "source": [
    "## Compute whole timeseries EP (loading data ~5:30 min | EP calc ~2:30 min)"
   ]
  },
  {
   "cell_type": "code",
   "execution_count": null,
   "id": "6cdcbae1",
   "metadata": {
    "ExecuteTime": {
     "end_time": "2022-01-23T01:56:09.237947Z",
     "start_time": "2022-01-23T01:52:59.642061Z"
    }
   },
   "outputs": [],
   "source": [
    "test_data = ds_icon.load()"
   ]
  },
  {
   "cell_type": "code",
   "execution_count": null,
   "id": "f4f78f01",
   "metadata": {
    "ExecuteTime": {
     "end_time": "2022-01-23T01:58:25.181128Z",
     "start_time": "2022-01-23T01:56:09.241079Z"
    }
   },
   "outputs": [],
   "source": [
    "ep1, ep2, ep1_div, ep2_div = climate.ComputeEPfluxDivXr(test_data['u'], test_data['v'], test_data['t'],\n",
    "                lat=coord_info.get(dataset).get('lat'), lon=coord_info.get(dataset).get('lon'),\n",
    "                pres=coord_info.get(dataset).get('p'), time=coord_info.get(dataset).get('time') )\n",
    "\n",
    "ep1.name = 'EP1'\n",
    "ep2.name = 'EP2'\n",
    "ep1_div.name = 'EP1_div'\n",
    "ep2_div.name = 'EP2_div'"
   ]
  },
  {
   "cell_type": "code",
   "execution_count": null,
   "id": "388af939",
   "metadata": {},
   "outputs": [],
   "source": []
  },
  {
   "cell_type": "code",
   "execution_count": null,
   "id": "723635da",
   "metadata": {
    "ExecuteTime": {
     "end_time": "2022-01-23T01:58:25.319109Z",
     "start_time": "2022-01-23T01:58:25.184784Z"
    }
   },
   "outputs": [],
   "source": [
    "ep2.sel(**{coord_info.get(dataset).get('p'): 10},\n",
    "        **{coord_info.get(dataset).get('lat'): 50}\n",
    "       ).plot()"
   ]
  },
  {
   "cell_type": "code",
   "execution_count": null,
   "id": "b4b436ad",
   "metadata": {},
   "outputs": [],
   "source": []
  },
  {
   "cell_type": "code",
   "execution_count": null,
   "id": "3a012c1a",
   "metadata": {},
   "outputs": [],
   "source": []
  },
  {
   "cell_type": "markdown",
   "id": "6093d18d",
   "metadata": {
    "ExecuteTime": {
     "end_time": "2022-01-22T18:12:58.682881Z",
     "start_time": "2022-01-22T18:12:58.655586Z"
    }
   },
   "source": [
    "### Compute EP1 profile series ~ 1 min"
   ]
  },
  {
   "cell_type": "code",
   "execution_count": null,
   "id": "ad32ce3a",
   "metadata": {
    "ExecuteTime": {
     "end_time": "2022-01-22T19:16:34.762926Z",
     "start_time": "2022-01-22T19:15:42.428180Z"
    }
   },
   "outputs": [],
   "source": [
    "sel_all = ep1.sel(\n",
    "#               **{coord_info.get(dataset).get('lat'): slice(0, 10)},\n",
    "              **{coord_info.get(dataset).get('p'): slice(500, 1)})\n",
    "\n",
    "mini = sel_all.min().data\n",
    "maxi = sel_all.max().data\n",
    "\n",
    "for t in sel_all.time:\n",
    "    sel = sel_all.sel(time = t.data) \n",
    "    \n",
    "    plot_profile_xr(sel, t, dataset=dataset, mode='meridional', average = False,\n",
    "                    norm_bound=(mini,maxi), norm_type = 'diverging', \n",
    "                    cmap = plt.cm.PuOr, levels=50,\n",
    "                    save=True )"
   ]
  },
  {
   "cell_type": "code",
   "execution_count": null,
   "id": "6d3b10dc",
   "metadata": {
    "ExecuteTime": {
     "end_time": "2022-01-22T19:16:39.720119Z",
     "start_time": "2022-01-22T19:16:34.765160Z"
    }
   },
   "outputs": [],
   "source": [
    "file_folder = results_dir.get(dataset) + '/EP1_meridional_profile'\n",
    "make_gif(file_folder, dataset=dataset, duration=150)"
   ]
  },
  {
   "cell_type": "markdown",
   "id": "12cd458d",
   "metadata": {
    "ExecuteTime": {
     "end_time": "2022-01-22T18:37:02.199235Z",
     "start_time": "2022-01-22T18:37:02.190036Z"
    }
   },
   "source": [
    "### Compute EP2 profile series ~ 1 min"
   ]
  },
  {
   "cell_type": "code",
   "execution_count": null,
   "id": "87011cf2",
   "metadata": {
    "ExecuteTime": {
     "end_time": "2022-01-22T19:17:29.243665Z",
     "start_time": "2022-01-22T19:16:39.722166Z"
    }
   },
   "outputs": [],
   "source": [
    "sel_all = ep2.sel(\n",
    "#               **{coord_info.get(dataset).get('lat'): slice(0, 10)},\n",
    "              **{coord_info.get(dataset).get('p'): slice(500, 1)})\n",
    "\n",
    "mini = sel_all.min().data\n",
    "maxi = sel_all.max().data\n",
    "\n",
    "for t in sel_all.time:\n",
    "    sel = sel_all.sel(time = t.data) \n",
    "\n",
    "    plot_profile_xr(sel, t, dataset=dataset, mode='meridional', average = False,\n",
    "                    norm_bound=(mini,maxi), norm_type = 'diverging', \n",
    "                    cmap = plt.cm.PuOr, levels=50,\n",
    "                    save=True )"
   ]
  },
  {
   "cell_type": "code",
   "execution_count": null,
   "id": "8299501f",
   "metadata": {
    "ExecuteTime": {
     "end_time": "2022-01-22T19:17:34.185278Z",
     "start_time": "2022-01-22T19:17:29.246555Z"
    }
   },
   "outputs": [],
   "source": [
    "file_folder = results_dir.get(dataset) + '/EP2_meridional_profile'\n",
    "make_gif(file_folder, dataset=dataset, duration=150)"
   ]
  },
  {
   "cell_type": "markdown",
   "id": "f8049152",
   "metadata": {},
   "source": [
    "### Compute EP1_div profile series ~ 1 min"
   ]
  },
  {
   "cell_type": "code",
   "execution_count": null,
   "id": "7bef1113",
   "metadata": {
    "ExecuteTime": {
     "end_time": "2022-01-22T19:18:26.863480Z",
     "start_time": "2022-01-22T19:17:34.187183Z"
    }
   },
   "outputs": [],
   "source": [
    "sel_all = ep1_div.sel(\n",
    "              **{coord_info.get(dataset).get('lat'): slice(-89, 89)},\n",
    "              **{coord_info.get(dataset).get('p'): slice(500, 1)})\n",
    "\n",
    "mini = sel_all.min().data\n",
    "maxi = sel_all.max().data\n",
    "\n",
    "for t in sel_all.time:\n",
    "    sel = sel_all.sel(time = t.data) \n",
    "\n",
    "    plot_profile_xr(sel, t, dataset=dataset, mode='meridional', average = False,\n",
    "                    norm_bound=(mini,maxi), norm_type = 'diverging', \n",
    "                    cmap = plt.cm.PuOr, levels=50,\n",
    "                    save=True )"
   ]
  },
  {
   "cell_type": "code",
   "execution_count": null,
   "id": "6f6a93a4",
   "metadata": {
    "ExecuteTime": {
     "end_time": "2022-01-22T19:18:31.740573Z",
     "start_time": "2022-01-22T19:18:26.865213Z"
    }
   },
   "outputs": [],
   "source": [
    "file_folder = results_dir.get(dataset) + '/EP1_div_meridional_profile'\n",
    "make_gif(file_folder, dataset=dataset, duration=150)"
   ]
  },
  {
   "cell_type": "markdown",
   "id": "8a2d5cb3",
   "metadata": {},
   "source": [
    "### Compute EP2_div profile series ~ 1 min"
   ]
  },
  {
   "cell_type": "code",
   "execution_count": null,
   "id": "17733398",
   "metadata": {
    "ExecuteTime": {
     "end_time": "2022-01-22T19:19:22.557747Z",
     "start_time": "2022-01-22T19:18:31.743352Z"
    }
   },
   "outputs": [],
   "source": [
    "sel_all = ep2_div.sel(\n",
    "              **{coord_info.get(dataset).get('lat'): slice(-89, 89)},\n",
    "              **{coord_info.get(dataset).get('p'): slice(500, 1)})\n",
    "\n",
    "mini = sel_all.min().data\n",
    "maxi = sel_all.max().data\n",
    "\n",
    "for t in sel_all.time:\n",
    "    sel = sel_all.sel(time = t.data) \n",
    "\n",
    "    plot_profile_xr(sel, t, dataset=dataset, mode='meridional', average = False,\n",
    "                    norm_bound=(mini,maxi), norm_type = 'diverging', \n",
    "                    cmap = plt.cm.PuOr, levels=50,\n",
    "                    save=True )"
   ]
  },
  {
   "cell_type": "code",
   "execution_count": null,
   "id": "1834a4ec",
   "metadata": {
    "ExecuteTime": {
     "end_time": "2022-01-22T19:19:27.553726Z",
     "start_time": "2022-01-22T19:19:22.559991Z"
    }
   },
   "outputs": [],
   "source": [
    "file_folder = results_dir.get(dataset) + '/EP2_div_meridional_profile'\n",
    "make_gif(file_folder, dataset=dataset, duration=150)"
   ]
  },
  {
   "cell_type": "markdown",
   "id": "f630f7c8",
   "metadata": {},
   "source": [
    "# VMFC\n",
    "vmfc_20201215_20210107.nc"
   ]
  },
  {
   "cell_type": "code",
   "execution_count": null,
   "id": "7e008a45",
   "metadata": {
    "ExecuteTime": {
     "end_time": "2022-01-22T19:32:16.168902Z",
     "start_time": "2022-01-22T19:32:16.047340Z"
    }
   },
   "outputs": [],
   "source": [
    "filter_by_keys={'typeOfLevel': 'isobaricInhPa'}\n",
    "infiles = f'{data_dir}dwd/analysis_new/vmfc_20201215_20210107.nc'\n",
    "ds_icon_vmfc = xr.open_mfdataset(\n",
    "    infiles,\n",
    "    #engine='cfgrib',\n",
    "    #combine='nested',\n",
    "    #concat_dim = 'time',\n",
    "    parallel = True,\n",
    "    #backend_kwargs={'filter_by_keys': filter_by_keys},\n",
    ").load()\n"
   ]
  },
  {
   "cell_type": "code",
   "execution_count": null,
   "id": "e7c625a0",
   "metadata": {
    "ExecuteTime": {
     "end_time": "2022-01-22T19:32:17.072448Z",
     "start_time": "2022-01-22T19:32:17.040240Z"
    }
   },
   "outputs": [],
   "source": [
    "ds_icon_vmfc.time"
   ]
  },
  {
   "cell_type": "code",
   "execution_count": null,
   "id": "cf6246ba",
   "metadata": {
    "ExecuteTime": {
     "end_time": "2022-01-22T19:33:23.616616Z",
     "start_time": "2022-01-22T19:33:23.600823Z"
    }
   },
   "outputs": [],
   "source": [
    "t = ds_icon_vmfc.time[0]\n",
    "\n",
    "sel = ds_icon_vmfc['vmfc'].sel(time = t.data)\n",
    "sel = sel.sel(\n",
    "            #**{coord_info.get(dataset).get('lat'): slice(-89, 89)},\n",
    "            **{coord_info.get(dataset).get('p'): slice(500,1)},\n",
    "             )"
   ]
  },
  {
   "cell_type": "raw",
   "id": "503d9657",
   "metadata": {
    "ExecuteTime": {
     "end_time": "2022-01-22T19:33:09.251577Z",
     "start_time": "2022-01-22T19:33:09.225666Z"
    }
   },
   "source": [
    "sel"
   ]
  },
  {
   "cell_type": "code",
   "execution_count": null,
   "id": "afe11364",
   "metadata": {
    "ExecuteTime": {
     "end_time": "2022-01-22T19:33:25.520979Z",
     "start_time": "2022-01-22T19:33:24.706111Z"
    }
   },
   "outputs": [],
   "source": [
    "# meridional    zonal\n",
    "plot_profile_xr(sel, t, dataset=dataset, mode='meridional', average = False,\n",
    "                norm_bound=None, norm_type = 'diverging', \n",
    "                cmap = plt.cm.PuOr, levels=50,\n",
    "                save=False )"
   ]
  },
  {
   "cell_type": "markdown",
   "id": "96422bb0",
   "metadata": {},
   "source": [
    "### Compute VMFC profile series ~ 1 min"
   ]
  },
  {
   "cell_type": "code",
   "execution_count": null,
   "id": "f0d0b104",
   "metadata": {
    "ExecuteTime": {
     "end_time": "2022-01-22T19:35:51.859778Z",
     "start_time": "2022-01-22T19:34:55.056639Z"
    }
   },
   "outputs": [],
   "source": [
    "sel_all = ds_icon_vmfc['vmfc'].sel(\n",
    "              #**{coord_info.get(dataset).get('lat'): slice(-89, 89)},\n",
    "              **{coord_info.get(dataset).get('p'): slice(500, 1)})\n",
    "\n",
    "mini = sel_all.min().data\n",
    "maxi = sel_all.max().data\n",
    "\n",
    "for t in sel_all.time:\n",
    "    sel = sel_all.sel(time = t.data) \n",
    "\n",
    "    plot_profile_xr(sel, t, dataset=dataset, mode='meridional', average = False,\n",
    "                    norm_bound=(mini,maxi), norm_type = 'diverging', \n",
    "                    cmap = plt.cm.PuOr, levels=50,\n",
    "                    save=True )"
   ]
  },
  {
   "cell_type": "code",
   "execution_count": null,
   "id": "073382cc",
   "metadata": {
    "ExecuteTime": {
     "end_time": "2022-01-22T19:36:06.400262Z",
     "start_time": "2022-01-22T19:36:00.941990Z"
    }
   },
   "outputs": [],
   "source": [
    "file_folder = results_dir.get(dataset) + '/vmfc_meridional_profile'\n",
    "make_gif(file_folder, dataset=dataset, duration=150)"
   ]
  },
  {
   "cell_type": "code",
   "execution_count": null,
   "id": "b4b09b76",
   "metadata": {},
   "outputs": [],
   "source": []
  }
 ],
 "metadata": {
  "kernelspec": {
   "display_name": "nwp-py3",
   "language": "python",
   "name": "nwp-py3"
  },
  "language_info": {
   "codemirror_mode": {
    "name": "ipython",
    "version": 3
   },
   "file_extension": ".py",
   "mimetype": "text/x-python",
   "name": "python",
   "nbconvert_exporter": "python",
   "pygments_lexer": "ipython3",
   "version": "3.6.13"
  }
 },
 "nbformat": 4,
 "nbformat_minor": 5
}
