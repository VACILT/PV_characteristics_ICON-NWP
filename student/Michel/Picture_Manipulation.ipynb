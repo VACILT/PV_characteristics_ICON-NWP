{
 "cells": [
  {
   "cell_type": "code",
   "execution_count": 1,
   "id": "71076048",
   "metadata": {
    "ExecuteTime": {
     "end_time": "2022-01-24T20:18:06.328759Z",
     "start_time": "2022-01-24T20:18:06.306751Z"
    }
   },
   "outputs": [],
   "source": []
  },
  {
   "cell_type": "code",
   "execution_count": null,
   "id": "ab5a3060",
   "metadata": {},
   "outputs": [],
   "source": []
  },
  {
   "cell_type": "code",
   "execution_count": null,
   "id": "fad33264",
   "metadata": {},
   "outputs": [],
   "source": []
  }
 ],
 "metadata": {
  "kernelspec": {
   "display_name": "nwp-py3",
   "language": "python",
   "name": "nwp-py3"
  },
  "language_info": {
   "codemirror_mode": {
    "name": "ipython",
    "version": 3
   },
   "file_extension": ".py",
   "mimetype": "text/x-python",
   "name": "python",
   "nbconvert_exporter": "python",
   "pygments_lexer": "ipython3",
   "version": "3.6.13"
  }
 },
 "nbformat": 4,
 "nbformat_minor": 5
}
