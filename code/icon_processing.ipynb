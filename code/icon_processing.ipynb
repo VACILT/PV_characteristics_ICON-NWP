{
 "cells": [
  {
   "cell_type": "markdown",
   "metadata": {
    "toc": true
   },
   "source": [
    "<h1>Table of Contents<span class=\"tocSkip\"></span></h1>\n",
    "<div class=\"toc\"><ul class=\"toc-item\"></ul></div>"
   ]
  },
  {
   "cell_type": "code",
   "execution_count": 17,
   "metadata": {
    "ExecuteTime": {
     "end_time": "2019-05-02T14:35:38.422305Z",
     "start_time": "2019-05-02T14:35:37.907611Z"
    }
   },
   "outputs": [],
   "source": [
    "!bzip2 -d icon-eu-eps_europe_icosahedral_single-level_2019050206_048_tot_prec.grib2.bz2"
   ]
  },
  {
   "cell_type": "code",
   "execution_count": null,
   "metadata": {},
   "outputs": [],
   "source": []
  },
  {
   "cell_type": "code",
   "execution_count": 21,
   "metadata": {
    "ExecuteTime": {
     "end_time": "2019-05-02T14:38:38.025861Z",
     "start_time": "2019-05-02T14:38:37.898271Z"
    }
   },
   "outputs": [
    {
     "name": "stdout",
     "output_type": "stream",
     "text": [
      "cdo: error while loading shared libraries: libhdf5_hl.so.8: cannot open shared object file: No such file or directory\r\n"
     ]
    }
   ],
   "source": [
    "!cdo gennn,target_grid_world_025.txt icon_grid_0024_R02B06_G.nc weights_eps.nc \n",
    "!cdo -f nc remap,target_grid_world_025.txt,weights_eps.nc icon-eps_global_icosahedral_single-level_2019050206_060_tot_prec.grib2 icon-eps_global_icosahedral_single-level_2019050206_060_tot_prec.nc"
   ]
  },
  {
   "cell_type": "code",
   "execution_count": 45,
   "metadata": {
    "ExecuteTime": {
     "end_time": "2019-05-02T16:48:02.022795Z",
     "start_time": "2019-05-02T16:48:02.016225Z"
    }
   },
   "outputs": [],
   "source": [
    "import xarray as xr\n",
    "import glob\n",
    "import numpy as np\n",
    "%matplotlib inline"
   ]
  },
  {
   "cell_type": "code",
   "execution_count": 28,
   "metadata": {
    "ExecuteTime": {
     "end_time": "2019-05-02T16:43:29.854571Z",
     "start_time": "2019-05-02T16:43:29.846180Z"
    }
   },
   "outputs": [
    {
     "data": {
      "text/plain": [
       "['icon-eps_global_icosahedral_single-level_2019050206_060_tot_prec.nc',\n",
       " 'icon-eps_global_icosahedral_single-level_2019050206_042_tot_prec.nc',\n",
       " 'icon-eps_global_icosahedral_single-level_2019050206_054_tot_prec.nc',\n",
       " 'icon-eps_global_icosahedral_single-level_2019050206_048_tot_prec.nc']"
      ]
     },
     "execution_count": 28,
     "metadata": {},
     "output_type": "execute_result"
    }
   ],
   "source": [
    "glob.glob('icon-eps_global_icosahedral_single-level_2019050206_0*_tot_prec.nc')"
   ]
  },
  {
   "cell_type": "code",
   "execution_count": 52,
   "metadata": {
    "ExecuteTime": {
     "end_time": "2019-05-02T16:49:25.572274Z",
     "start_time": "2019-05-02T16:49:25.550286Z"
    }
   },
   "outputs": [
    {
     "data": {
      "text/plain": [
       "<xarray.Dataset>\n",
       "Dimensions:  (lat: 721, lon: 1440, time: 40)\n",
       "Coordinates:\n",
       "  * time     (time) datetime64[ns] 2019-05-04T06:00:00 ... 2019-05-04T06:00:00\n",
       "  * lon      (lon) float32 0.0 0.25 0.5 0.75 1.0 ... 359.0 359.25 359.5 359.75\n",
       "  * lat      (lat) float32 -90.0 -89.75 -89.5 -89.25 ... 89.25 89.5 89.75 90.0\n",
       "Data variables:\n",
       "    tp       (time, lat, lon) float32 ...\n",
       "Attributes:\n",
       "    CDI:          Climate Data Interface version ?? (http://mpimet.mpg.de/cdi)\n",
       "    Conventions:  CF-1.6\n",
       "    history:      Thu May 02 18:40:25 2019: cdo -f nc remap,target_grid_world...\n",
       "    institution:  Deutscher Wetterdienst\n",
       "    CDO:          Climate Data Operators version 1.9.3 (http://mpimet.mpg.de/..."
      ]
     },
     "execution_count": 52,
     "metadata": {},
     "output_type": "execute_result"
    }
   ],
   "source": [
    "ds = xr.open_dataset('icon-eps_global_icosahedral_single-level_2019050206_048_tot_prec.nc')\n",
    "ds"
   ]
  },
  {
   "cell_type": "code",
   "execution_count": 53,
   "metadata": {
    "ExecuteTime": {
     "end_time": "2019-05-02T16:49:28.899390Z",
     "start_time": "2019-05-02T16:49:28.884501Z"
    }
   },
   "outputs": [
    {
     "data": {
      "text/plain": [
       "<xarray.DataArray 'time' (time: 40)>\n",
       "array(['2019-05-04T06:00:00.000000000', '2019-05-04T06:00:00.000000000',\n",
       "       '2019-05-04T06:00:00.000000000', '2019-05-04T06:00:00.000000000',\n",
       "       '2019-05-04T06:00:00.000000000', '2019-05-04T06:00:00.000000000',\n",
       "       '2019-05-04T06:00:00.000000000', '2019-05-04T06:00:00.000000000',\n",
       "       '2019-05-04T06:00:00.000000000', '2019-05-04T06:00:00.000000000',\n",
       "       '2019-05-04T06:00:00.000000000', '2019-05-04T06:00:00.000000000',\n",
       "       '2019-05-04T06:00:00.000000000', '2019-05-04T06:00:00.000000000',\n",
       "       '2019-05-04T06:00:00.000000000', '2019-05-04T06:00:00.000000000',\n",
       "       '2019-05-04T06:00:00.000000000', '2019-05-04T06:00:00.000000000',\n",
       "       '2019-05-04T06:00:00.000000000', '2019-05-04T06:00:00.000000000',\n",
       "       '2019-05-04T06:00:00.000000000', '2019-05-04T06:00:00.000000000',\n",
       "       '2019-05-04T06:00:00.000000000', '2019-05-04T06:00:00.000000000',\n",
       "       '2019-05-04T06:00:00.000000000', '2019-05-04T06:00:00.000000000',\n",
       "       '2019-05-04T06:00:00.000000000', '2019-05-04T06:00:00.000000000',\n",
       "       '2019-05-04T06:00:00.000000000', '2019-05-04T06:00:00.000000000',\n",
       "       '2019-05-04T06:00:00.000000000', '2019-05-04T06:00:00.000000000',\n",
       "       '2019-05-04T06:00:00.000000000', '2019-05-04T06:00:00.000000000',\n",
       "       '2019-05-04T06:00:00.000000000', '2019-05-04T06:00:00.000000000',\n",
       "       '2019-05-04T06:00:00.000000000', '2019-05-04T06:00:00.000000000',\n",
       "       '2019-05-04T06:00:00.000000000', '2019-05-04T06:00:00.000000000'],\n",
       "      dtype='datetime64[ns]')\n",
       "Coordinates:\n",
       "  * time     (time) datetime64[ns] 2019-05-04T06:00:00 ... 2019-05-04T06:00:00\n",
       "Attributes:\n",
       "    standard_name:  time\n",
       "    axis:           T"
      ]
     },
     "execution_count": 53,
     "metadata": {},
     "output_type": "execute_result"
    }
   ],
   "source": [
    "ds.time"
   ]
  },
  {
   "cell_type": "code",
   "execution_count": 54,
   "metadata": {
    "ExecuteTime": {
     "end_time": "2019-05-02T16:49:36.119668Z",
     "start_time": "2019-05-02T16:49:36.107649Z"
    }
   },
   "outputs": [
    {
     "data": {
      "text/plain": [
       "<xarray.DataArray 'time' ()>\n",
       "array('2019-05-04T06:00:00.000000000', dtype='datetime64[ns]')\n",
       "Coordinates:\n",
       "    time     datetime64[ns] 2019-05-04T06:00:00\n",
       "Attributes:\n",
       "    standard_name:  time\n",
       "    axis:           T"
      ]
     },
     "execution_count": 54,
     "metadata": {},
     "output_type": "execute_result"
    }
   ],
   "source": [
    "ds.time[0]"
   ]
  },
  {
   "cell_type": "code",
   "execution_count": 38,
   "metadata": {
    "ExecuteTime": {
     "end_time": "2019-05-02T16:46:24.353744Z",
     "start_time": "2019-05-02T16:46:24.338282Z"
    }
   },
   "outputs": [
    {
     "data": {
      "text/plain": [
       "<xarray.Dataset>\n",
       "Dimensions:  (ens: 40, lat: 721, lon: 1440)\n",
       "Coordinates:\n",
       "  * ens      (ens) datetime64[ns] 2019-05-04T06:00:00 ... 2019-05-04T06:00:00\n",
       "  * lon      (lon) float32 0.0 0.25 0.5 0.75 1.0 ... 359.0 359.25 359.5 359.75\n",
       "  * lat      (lat) float32 -90.0 -89.75 -89.5 -89.25 ... 89.25 89.5 89.75 90.0\n",
       "Data variables:\n",
       "    tp       (ens, lat, lon) float32 ...\n",
       "Attributes:\n",
       "    CDI:          Climate Data Interface version ?? (http://mpimet.mpg.de/cdi)\n",
       "    Conventions:  CF-1.6\n",
       "    history:      Thu May 02 18:40:25 2019: cdo -f nc remap,target_grid_world...\n",
       "    institution:  Deutscher Wetterdienst\n",
       "    CDO:          Climate Data Operators version 1.9.3 (http://mpimet.mpg.de/..."
      ]
     },
     "execution_count": 38,
     "metadata": {},
     "output_type": "execute_result"
    }
   ],
   "source": [
    "ds.rename({'time':'ens'})"
   ]
  },
  {
   "cell_type": "code",
   "execution_count": 55,
   "metadata": {
    "ExecuteTime": {
     "end_time": "2019-05-02T16:49:40.031461Z",
     "start_time": "2019-05-02T16:49:40.026765Z"
    }
   },
   "outputs": [],
   "source": [
    "def rename(ds):\n",
    "    t_arr = ds['time'][0]\n",
    "    ds = ds.rename({'time':'ens'})\n",
    "    ds['ens'] = np.arange(40)\n",
    "    ds['time'] = t_arr\n",
    "    return ds"
   ]
  },
  {
   "cell_type": "code",
   "execution_count": 56,
   "metadata": {
    "ExecuteTime": {
     "end_time": "2019-05-02T16:49:42.836919Z",
     "start_time": "2019-05-02T16:49:42.768004Z"
    }
   },
   "outputs": [
    {
     "data": {
      "text/plain": [
       "<xarray.Dataset>\n",
       "Dimensions:  (ens: 40, lat: 721, lon: 1440, time: 4)\n",
       "Coordinates:\n",
       "  * ens      (ens) int64 0 1 2 3 4 5 6 7 8 9 ... 30 31 32 33 34 35 36 37 38 39\n",
       "  * lon      (lon) float32 0.0 0.25 0.5 0.75 1.0 ... 359.0 359.25 359.5 359.75\n",
       "  * lat      (lat) float32 -90.0 -89.75 -89.5 -89.25 ... 89.25 89.5 89.75 90.0\n",
       "  * time     (time) datetime64[ns] 2019-05-04 ... 2019-05-04T18:00:00\n",
       "Data variables:\n",
       "    tp       (time, ens, lat, lon) float32 dask.array<shape=(4, 40, 721, 1440), chunksize=(1, 40, 721, 1440)>\n",
       "Attributes:\n",
       "    CDI:          Climate Data Interface version ?? (http://mpimet.mpg.de/cdi)\n",
       "    Conventions:  CF-1.6\n",
       "    history:      Thu May 02 18:40:12 2019: cdo -f nc remap,target_grid_world...\n",
       "    institution:  Deutscher Wetterdienst\n",
       "    CDO:          Climate Data Operators version 1.9.3 (http://mpimet.mpg.de/..."
      ]
     },
     "execution_count": 56,
     "metadata": {},
     "output_type": "execute_result"
    }
   ],
   "source": [
    "ds = xr.open_mfdataset('icon-eps_global_icosahedral_single-level_2019050206_0*_tot_prec.nc', \\\n",
    "                       concat_dim='time', preprocess = rename)\n",
    "ds"
   ]
  },
  {
   "cell_type": "code",
   "execution_count": 88,
   "metadata": {
    "ExecuteTime": {
     "end_time": "2019-05-02T17:11:34.160917Z",
     "start_time": "2019-05-02T17:11:31.289603Z"
    }
   },
   "outputs": [
    {
     "data": {
      "text/plain": [
       "[<matplotlib.lines.Line2D at 0x7f99643aa668>]"
      ]
     },
     "execution_count": 88,
     "metadata": {},
     "output_type": "execute_result"
    },
    {
     "data": {
      "image/png": "[encoded data removed]",
      "text/plain": [
       "<Figure size 432x288 with 1 Axes>"
      ]
     },
     "metadata": {
      "needs_background": "light"
     },
     "output_type": "display_data"
    }
   ],
   "source": [
    "ds['tp'].sel(lat = lat0, lon = lon0, method ='nearest').mean('ens').plot()"
   ]
  },
  {
   "cell_type": "code",
   "execution_count": 89,
   "metadata": {
    "ExecuteTime": {
     "end_time": "2019-05-02T17:17:56.368738Z",
     "start_time": "2019-05-02T17:17:56.338923Z"
    }
   },
   "outputs": [
    {
     "data": {
      "text/plain": [
       "<xarray.DataArray 'tp' (time: 4, ens: 40, points: 16)>\n",
       "dask.array<shape=(4, 40, 16), dtype=float32, chunksize=(1, 40, 16)>\n",
       "Coordinates:\n",
       "  * ens      (ens) int64 0 1 2 3 4 5 6 7 8 9 ... 30 31 32 33 34 35 36 37 38 39\n",
       "  * time     (time) datetime64[ns] 2019-05-04 ... 2019-05-04T18:00:00\n",
       "  * points   (points) MultiIndex\n",
       "  - lat      (points) float64 49.5 49.5 49.5 49.5 ... 50.25 50.25 50.25 50.25\n",
       "  - lon      (points) float64 15.0 15.25 15.5 15.75 ... 15.0 15.25 15.5 15.75\n",
       "Attributes:\n",
       "    long_name:           Total Precipitation\n",
       "    units:               kg m**-2\n",
       "    param:               52.1.0\n",
       "    realization:         1\n",
       "    ensemble_members:    40\n",
       "    forecast_init_type:  192"
      ]
     },
     "execution_count": 89,
     "metadata": {},
     "output_type": "execute_result"
    }
   ],
   "source": [
    "lat0, lon0 = 49.95, 15.266667\n",
    "delta = 0.5\n",
    "temp = ds.sel(lat = slice(lat0-delta,lat0+delta), lon = slice(lon0-delta,lon0+delta))['tp'].stack(points = ('lat','lon'))\n",
    "temp#.plot(x = 'time', vmin = 0)"
   ]
  },
  {
   "cell_type": "code",
   "execution_count": 91,
   "metadata": {
    "ExecuteTime": {
     "end_time": "2019-05-02T17:18:36.345879Z",
     "start_time": "2019-05-02T17:18:33.130814Z"
    },
    "scrolled": false
   },
   "outputs": [
    {
     "data": {
      "text/plain": [
       "[<matplotlib.lines.Line2D at 0x7f996425d438>,\n",
       " <matplotlib.lines.Line2D at 0x7f99645cabe0>,\n",
       " <matplotlib.lines.Line2D at 0x7f99645ca5c0>,\n",
       " <matplotlib.lines.Line2D at 0x7f996457ac18>,\n",
       " <matplotlib.lines.Line2D at 0x7f996457a908>,\n",
       " <matplotlib.lines.Line2D at 0x7f996458f8d0>,\n",
       " <matplotlib.lines.Line2D at 0x7f996458fcf8>,\n",
       " <matplotlib.lines.Line2D at 0x7f996458ff98>,\n",
       " <matplotlib.lines.Line2D at 0x7f996458f7f0>,\n",
       " <matplotlib.lines.Line2D at 0x7f996458f780>,\n",
       " <matplotlib.lines.Line2D at 0x7f996425d588>,\n",
       " <matplotlib.lines.Line2D at 0x7f996458f9b0>,\n",
       " <matplotlib.lines.Line2D at 0x7f99643e6978>,\n",
       " <matplotlib.lines.Line2D at 0x7f99643c30f0>,\n",
       " <matplotlib.lines.Line2D at 0x7f99643c3cc0>,\n",
       " <matplotlib.lines.Line2D at 0x7f99643c3ef0>]"
      ]
     },
     "execution_count": 91,
     "metadata": {},
     "output_type": "execute_result"
    },
    {
     "data": {
      "image/png": "[encoded data removed]",
      "text/plain": [
       "<Figure size 432x288 with 1 Axes>"
      ]
     },
     "metadata": {
      "needs_background": "light"
     },
     "output_type": "display_data"
    }
   ],
   "source": [
    "((temp > 1).sum('ens')/40.).plot.line(hue = 'points', alpha = 0.5)"
   ]
  }
 ],
 "metadata": {
  "hide_input": false,
  "kernelspec": {
   "display_name": "Python 3",
   "language": "python",
   "name": "python3"
  },
  "language_info": {
   "codemirror_mode": {
    "name": "ipython",
    "version": 3
   },
   "file_extension": ".py",
   "mimetype": "text/x-python",
   "name": "python",
   "nbconvert_exporter": "python",
   "pygments_lexer": "ipython3",
   "version": "3.6.9"
  },
  "latex_envs": {
   "LaTeX_envs_menu_present": true,
   "autoclose": false,
   "autocomplete": true,
   "bibliofile": "biblio.bib",
   "cite_by": "apalike",
   "current_citInitial": 1,
   "eqLabelWithNumbers": true,
   "eqNumInitial": 1,
   "hotkeys": {
    "equation": "Ctrl-E",
    "itemize": "Ctrl-I"
   },
   "labels_anchors": false,
   "latex_user_defs": false,
   "report_style_numbering": false,
   "user_envs_cfg": false
  },
  "toc": {
   "base_numbering": 1,
   "nav_menu": {},
   "number_sections": true,
   "sideBar": true,
   "skip_h1_title": false,
   "title_cell": "Table of Contents",
   "title_sidebar": "Contents",
   "toc_cell": true,
   "toc_position": {},
   "toc_section_display": true,
   "toc_window_display": false
  }
 },
 "nbformat": 4,
 "nbformat_minor": 2
}
