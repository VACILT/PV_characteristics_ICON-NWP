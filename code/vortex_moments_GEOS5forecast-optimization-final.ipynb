{
 "cells": [
  {
   "cell_type": "markdown",
   "metadata": {
    "toc": true
   },
   "source": [
    "<h1>Table of Contents<span class=\"tocSkip\"></span></h1>\n",
    "<div class=\"toc\"><ul class=\"toc-item\"><li><span><a href=\"#Optimized,-w/o-integration-function-though\" data-toc-modified-id=\"Optimized,-w/o-integration-function-though-1\"><span class=\"toc-item-num\">1&nbsp;&nbsp;</span>Optimized, w/o integration function though</a></span></li><li><span><a href=\"#With-integration-function-optimized\" data-toc-modified-id=\"With-integration-function-optimized-2\"><span class=\"toc-item-num\">2&nbsp;&nbsp;</span>With integration function optimized</a></span></li><li><span><a href=\"#Using-chunks\" data-toc-modified-id=\"Using-chunks-3\"><span class=\"toc-item-num\">3&nbsp;&nbsp;</span>Using chunks</a></span><ul class=\"toc-item\"><li><span><a href=\"#dask-=-'allowed'\" data-toc-modified-id=\"dask-=-'allowed'-3.1\"><span class=\"toc-item-num\">3.1&nbsp;&nbsp;</span>dask = 'allowed'</a></span></li><li><span><a href=\"#dask-=-'parallelized'\" data-toc-modified-id=\"dask-=-'parallelized'-3.2\"><span class=\"toc-item-num\">3.2&nbsp;&nbsp;</span>dask = 'parallelized'</a></span></li></ul></li></ul></div>"
   ]
  },
  {
   "cell_type": "code",
   "execution_count": 1,
   "metadata": {
    "ExecuteTime": {
     "end_time": "2018-12-10T13:58:50.520455Z",
     "start_time": "2018-12-10T13:58:49.758275Z"
    }
   },
   "outputs": [],
   "source": [
    "import xarray as xr\n",
    "import vor, vor_fast, vor_fast_setup\n",
    "import numpy as np\n",
    "import matplotlib.pyplot as plt\n",
    "from scipy.interpolate import griddata  \n",
    "\n",
    "%matplotlib inline"
   ]
  },
  {
   "cell_type": "code",
   "execution_count": 2,
   "metadata": {
    "ExecuteTime": {
     "end_time": "2018-12-10T13:58:56.724523Z",
     "start_time": "2018-12-10T13:58:54.965422Z"
    }
   },
   "outputs": [
    {
     "data": {
      "text/plain": [
       "<xarray.DataArray 'h' (time: 11, lat: 281, lon: 1152)>\n",
       "array([[[30739.691, 30739.191, ..., 30740.191, 30740.066],\n",
       "        [30735.691, 30735.316, ..., 30736.441, 30736.316],\n",
       "        ...,\n",
       "        [28757.066, 28757.066, ..., 28757.066, 28757.066],\n",
       "        [28742.066, 28742.066, ..., 28742.066, 28742.066]],\n",
       "\n",
       "       [[30732.441, 30732.066, ..., 30733.441, 30732.691],\n",
       "        [30729.191, 30728.691, ..., 30730.066, 30729.566],\n",
       "        ...,\n",
       "        [28710.816, 28710.816, ..., 28710.816, 28710.816],\n",
       "        [28699.066, 28699.066, ..., 28699.066, 28699.066]],\n",
       "\n",
       "       ...,\n",
       "\n",
       "       [[30661.65 , 30662.275, ..., 30660.15 , 30661.15 ],\n",
       "        [30659.025, 30659.775, ..., 30657.525, 30658.275],\n",
       "        ...,\n",
       "        [29084.65 , 29085.025, ..., 29084.525, 29084.525],\n",
       "        [29062.65 , 29062.65 , ..., 29062.65 , 29062.65 ]],\n",
       "\n",
       "       [[30654.611, 30655.611, ..., 30654.611, 30654.611],\n",
       "        [30652.611, 30654.611, ..., 30652.611, 30652.611],\n",
       "        ...,\n",
       "        [29058.611, 29058.611, ..., 29057.611, 29058.611],\n",
       "        [29036.611, 29036.611, ..., 29036.611, 29036.611]]], dtype=float32)\n",
       "Coordinates:\n",
       "  * time     (time) datetime64[ns] 2018-12-09 2018-12-10 ... 2018-12-19\n",
       "  * lat      (lat) float64 20.0 20.25 20.5 20.75 21.0 ... 89.25 89.5 89.75 90.0\n",
       "  * lon      (lon) float64 -180.0 -179.7 -179.4 -179.1 ... 179.1 179.4 179.7"
      ]
     },
     "execution_count": 2,
     "metadata": {},
     "output_type": "execute_result"
    }
   ],
   "source": [
    "ds_h_sel = xr.open_dataarray('./geos5/geos5_20181209-00_h@10hPa_all.nc')\n",
    "ds_h_sel_daily = ds_h_sel.resample(time = '1D').mean('time')\n",
    "ds_h_sel_daily = ds_h_sel_daily.reset_coords(drop=True)\n",
    "ds_h_sel_daily = ds_h_sel_daily.sel(lat = slice(20,None))\n",
    "ds_h_sel_daily"
   ]
  },
  {
   "cell_type": "code",
   "execution_count": 16,
   "metadata": {
    "ExecuteTime": {
     "end_time": "2018-12-10T14:36:10.509044Z",
     "start_time": "2018-12-10T14:36:10.446820Z"
    }
   },
   "outputs": [],
   "source": [
    "A = 6374.0e3       # Earth radius\n",
    "DEGRAD = np.pi/180. # conversion of degrees to radians\n",
    "RADDEG = 180./np.pi # conversion of radians to degrees \n",
    "\n",
    "#optimized\n",
    "def sph_to_car(field, lons, lats, xypoints,resolution):\n",
    "    nlons = len(lons)\n",
    "    nlats = len(lats)\n",
    "    xyvals = []\n",
    "    for ilon in range(nlons): # -1s needed?\n",
    "        for ilat in range(nlats):\n",
    "            xyvals.append(field[ilat,ilon])\n",
    "\n",
    "    if resolution == 'full':       \n",
    "        cart_x_points = -1.+np.arange(nlons)/(0.5*nlons)             \n",
    "        cart_y_points = -1.+np.arange(nlons)/(0.5*nlons)\n",
    "    elif resolution == 'low':\n",
    "        cart_x_points = -1.+np.arange(50)/(0.5*50)\n",
    "        cart_y_points = -1.+np.arange(50)/(0.5*50)\n",
    "    else:\n",
    "        raise ValueError()\n",
    "    \n",
    "    cart_gridx, cart_gridy = np.meshgrid(cart_x_points,cart_y_points)\n",
    "\n",
    "    field_cart = griddata(xypoints, np.array(xyvals), (cart_gridx,cart_gridy), \\\n",
    "                        method='linear')  # Might want to change to cubic etc?\n",
    "                              \n",
    "    return field_cart, cart_x_points, cart_y_points  \n",
    "#the same\n",
    "def isolate_vortex(field_cart, edge, field_type='GPH'):\n",
    "    \"\"\"\n",
    "    Replace vortex into region (outside) equal to field on vortex edge, and \n",
    "    region (inside) with values of vortex. \n",
    "    For GPH vortex is less than surrounding, for PV it is greater. \n",
    "    \"\"\"\n",
    "    if field_type == 'GPH':\n",
    "        field_cart[np.where(field_cart > edge)] = edge\n",
    "        field_cart[np.isnan(field_cart)] = edge # set NaN regions to edge \n",
    "    elif field_type == 'PV':\n",
    "        field_cart[np.where(field_cart < edge)] = edge\n",
    "        field_cart[np.isnan(field_cart)] = edge # set NaN regions to edge\n",
    "    else:\n",
    "        raise ValueError() # maybe want more specific error type\n",
    "\n",
    "    return field_cart\n",
    "#the same\n",
    "def moment_integrate(vtx_field, x, y,edge):\n",
    "    \"\"\"\n",
    "    Performs moment diagnostic calculations on cartesian field\n",
    "    \"\"\"\n",
    "\n",
    "    # x and y are cartesian gridpoints; vtx_field is cartesian field\n",
    "    # edge is value on vortex edge \n",
    "\n",
    "    box_length = 2*A/len(x)\n",
    "    box_area = box_length**2\n",
    "\n",
    "    # Set up moment diagnostics\n",
    "    M00 = 0\n",
    "    M10 = 0\n",
    "    M01 = 0\n",
    "    Marea = 0\n",
    "    # Integrate over vortex\n",
    "    for ix in range(len(x)):\n",
    "        for iy in range(len(y)):\n",
    "            \n",
    "            M00 += abs(vtx_field[ix,iy]-edge)*(x[ix]**0)*(y[iy]**0) \n",
    "            M10 += abs(vtx_field[ix,iy]-edge)*(x[ix]**1)*(y[iy]**0) \n",
    "            M01 += abs(vtx_field[ix,iy]-edge)*(x[ix]**0)*(y[iy]**1)\n",
    "            Marea += abs(vtx_field[ix,iy]-edge)*(x[ix]**0)*(y[iy]**0)*box_area\n",
    "            \n",
    "    # Calculate centroid \n",
    "    centx = M10/M00\n",
    "    centy = M01/M00\n",
    "\n",
    "    # Convert back to polar coordinates \n",
    "    R = centx**2 + centy**2\n",
    "    #loncent = np.arctan(centx/centy)*RADDEG\n",
    "    latcent = np.arcsin((1-R)/(1+R))*RADDEG\n",
    "\n",
    "    # Set up relative moment diagnostics \n",
    "    J11=0\n",
    "    J20=0\n",
    "    J02=0\n",
    "    #J22=0\n",
    "    #J40=0\n",
    "    #J04=0\n",
    "    for ix in range(len(x)):\n",
    "        for iy in range(len(y)):\n",
    "            \n",
    "            J11 += abs(vtx_field[ix,iy]-edge)*((x[ix]-centx)**1)*((y[iy]-centy)**1)\n",
    "            J20 += abs(vtx_field[ix,iy]-edge)*((x[ix]-centx)**2)*((y[iy]-centy)**0)\n",
    "            J02 += abs(vtx_field[ix,iy]-edge)*((x[ix]-centx)**0)*((y[iy]-centy)**2)\n",
    "            #J22 += abs(vtx_field[ix,iy]-edge)*((x[ix]-centx)**2)*((y[iy]-centy)**2)\n",
    "            #J40 += abs(vtx_field[ix,iy]-edge)*((x[ix]-centx)**4)*((y[iy]-centy)**0)\n",
    "            #J04 += abs(vtx_field[ix,iy]-edge)*((x[ix]-centx)**0)*((y[iy]-centy)**4)   \n",
    "\n",
    "    # Calculate angle between x-axis and major axis of ellipse                  \n",
    "    #angle = 0.5*np.arctan((2*J11)/(J20-J02))*RADDEG\n",
    "\n",
    "    # Calculate aspect ratio\n",
    "    aspect_ratio = np.sqrt(abs(( (J20+J02) + np.sqrt(4*(J11**2)+(J20-J02)**2) ) / \\\n",
    "                               ( (J20+J02) - np.sqrt(4*(J11**2)+(J20-J02)**2) ))) \n",
    "    ar = aspect_ratio #short name for later calculation\n",
    "\n",
    "    # Calculate objective area\n",
    "    #objective_area = Marea/edge \n",
    "\n",
    "\n",
    "    # Calculate excess kurtosis \n",
    "    #kurtosis = M00 * (J40+2*J22+J04)/((J20+J02)**2) \\\n",
    "    #                     - (2./3.)*( (3*(ar**4)+2*(ar**2)+3) / (((ar**2)+1)**2) ) \n",
    "                   \n",
    "    return aspect_ratio, latcent \n",
    "\n",
    "def moment_integrate2(vtx_field, x, y,edge):\n",
    "    \"\"\"\n",
    "    Performs moment diagnostic calculations on cartesian field\n",
    "    \"\"\"\n",
    "\n",
    "    # x and y are cartesian gridpoints; vtx_field is cartesian field\n",
    "    # edge is value on vortex edge \n",
    "\n",
    "    box_length = 2*A/len(x)\n",
    "    box_area = box_length**2\n",
    "\n",
    "    # Set up moment diagnostics\n",
    "    M00 = 0\n",
    "    M10 = 0\n",
    "    M01 = 0\n",
    "    Marea = 0\n",
    "    # Integrate over vortex\n",
    "          \n",
    "    M00 = np.sum(np.abs(vtx_field-edge)*(x[:,np.newaxis]**0)*(y[np.newaxis,:]**0))\n",
    "    M10 = np.sum(np.abs(vtx_field-edge)*(x[:,np.newaxis]**1)*(y[np.newaxis,:]**0))\n",
    "    M01 = np.sum(np.abs(vtx_field-edge)*(x[:,np.newaxis]**0)*(y[np.newaxis,:]**1))\n",
    "    Marea = np.sum(np.abs(vtx_field-edge)*(x[:,np.newaxis]**0)*(y[np.newaxis,:]**0)*box_area)\n",
    "            \n",
    "    # Calculate centroid \n",
    "    centx = M10/M00\n",
    "    centy = M01/M00\n",
    "\n",
    "    # Convert back to polar coordinates \n",
    "    R = centx**2 + centy**2\n",
    "    latcent = np.arcsin((1-R)/(1+R))*RADDEG\n",
    "    \n",
    "    # Set up relative moment diagnostics \n",
    "    J11=0\n",
    "    J20=0\n",
    "    J02=0\n",
    "    J11 = np.sum(np.abs(vtx_field-edge)*((x[:,np.newaxis]-centx)**1)*((y[np.newaxis,:]-centy)**1))\n",
    "    J20 = np.sum(np.abs(vtx_field-edge)*((x[:,np.newaxis]-centx)**2)*((y[np.newaxis,:]-centy)**0))\n",
    "    J02 = np.sum(np.abs(vtx_field-edge)*((x[:,np.newaxis]-centx)**0)*((y[np.newaxis,:]-centy)**2))\n",
    "    aspect_ratio = np.sqrt(abs(( (J20+J02) + np.sqrt(4*(J11**2)+(J20-J02)**2) ) / \\\n",
    "                               ( (J20+J02) - np.sqrt(4*(J11**2)+(J20-J02)**2) ))) \n",
    "    return aspect_ratio, latcent\n",
    "\n",
    "def calc_moments(field, lats, lons, xypoints, hemisphere='NH', field_type='GPH', \\\n",
    "                 edge=3.02e4, resolution='full'):\n",
    "    field_cart, x, y = sph_to_car(field,lons,lats,xypoints,resolution)\n",
    "    field_vtx = isolate_vortex(field_cart, edge, field_type)\n",
    "   \n",
    "    aspect_ratio, latcent = moment_integrate2(field_vtx, x, y,edge)\n",
    "        \n",
    "    return {'aspect_ratio':aspect_ratio, 'centroid_latitude':latcent}\n",
    "                 \n",
    "def calc_xypoints(lons, lats):\n",
    "    DEGRAD = np.pi/180.\n",
    "    lons = lons * DEGRAD\n",
    "    lats = lats * DEGRAD\n",
    "    x = (np.cos(lons[:,np.newaxis])*np.cos(lats))/ (1. + np.sin(lats[np.newaxis,:]))               \n",
    "    y = (np.sin(lons[:,np.newaxis])*np.cos(lats[np.newaxis,:]))/(1. + np.sin(lats[np.newaxis,:]))\n",
    "    nlon_nlat = lons.shape[0]*lats.shape[0]\n",
    "    xypoints = np.stack([x.reshape(nlon_nlat),y.reshape(nlon_nlat)], axis = 1)\n",
    "    return xypoints\n",
    "                 \n",
    "def moments_fce(arr):\n",
    "    moments = calc_moments(arr,lats,lons,xypoints,'NH','GPH',3.02e4)\n",
    "    return np.array([moments['aspect_ratio'], moments['centroid_latitude']])"
   ]
  },
  {
   "cell_type": "code",
   "execution_count": 7,
   "metadata": {
    "ExecuteTime": {
     "end_time": "2018-12-10T14:01:34.026788Z",
     "start_time": "2018-12-10T14:01:34.009951Z"
    }
   },
   "outputs": [],
   "source": [
    "lons = ds_h_sel_daily.lon.values\n",
    "lats = ds_h_sel_daily.lat.values\n",
    "xypoints = calc_xypoints(lons,lats)"
   ]
  },
  {
   "cell_type": "code",
   "execution_count": 8,
   "metadata": {
    "ExecuteTime": {
     "end_time": "2018-12-10T14:01:35.442274Z",
     "start_time": "2018-12-10T14:01:35.425112Z"
    }
   },
   "outputs": [
    {
     "data": {
      "text/plain": [
       "<xarray.DataArray 'h' (time: 11, lat: 281, lon: 1152)>\n",
       "array([[[30739.691, 30739.191, ..., 30740.191, 30740.066],\n",
       "        [30735.691, 30735.316, ..., 30736.441, 30736.316],\n",
       "        ...,\n",
       "        [28757.066, 28757.066, ..., 28757.066, 28757.066],\n",
       "        [28742.066, 28742.066, ..., 28742.066, 28742.066]],\n",
       "\n",
       "       [[30732.441, 30732.066, ..., 30733.441, 30732.691],\n",
       "        [30729.191, 30728.691, ..., 30730.066, 30729.566],\n",
       "        ...,\n",
       "        [28710.816, 28710.816, ..., 28710.816, 28710.816],\n",
       "        [28699.066, 28699.066, ..., 28699.066, 28699.066]],\n",
       "\n",
       "       ...,\n",
       "\n",
       "       [[30661.65 , 30662.275, ..., 30660.15 , 30661.15 ],\n",
       "        [30659.025, 30659.775, ..., 30657.525, 30658.275],\n",
       "        ...,\n",
       "        [29084.65 , 29085.025, ..., 29084.525, 29084.525],\n",
       "        [29062.65 , 29062.65 , ..., 29062.65 , 29062.65 ]],\n",
       "\n",
       "       [[30654.611, 30655.611, ..., 30654.611, 30654.611],\n",
       "        [30652.611, 30654.611, ..., 30652.611, 30652.611],\n",
       "        ...,\n",
       "        [29058.611, 29058.611, ..., 29057.611, 29058.611],\n",
       "        [29036.611, 29036.611, ..., 29036.611, 29036.611]]], dtype=float32)\n",
       "Coordinates:\n",
       "  * time     (time) datetime64[ns] 2018-12-09 2018-12-10 ... 2018-12-19\n",
       "  * lat      (lat) float64 20.0 20.25 20.5 20.75 21.0 ... 89.25 89.5 89.75 90.0\n",
       "  * lon      (lon) float64 -180.0 -179.7 -179.4 -179.1 ... 179.1 179.4 179.7"
      ]
     },
     "execution_count": 8,
     "metadata": {},
     "output_type": "execute_result"
    }
   ],
   "source": [
    "ds_h_sel_daily[:]"
   ]
  },
  {
   "cell_type": "markdown",
   "metadata": {},
   "source": [
    "# Optimized, w/o integration function though"
   ]
  },
  {
   "cell_type": "code",
   "execution_count": 11,
   "metadata": {
    "ExecuteTime": {
     "end_time": "2018-12-10T14:09:18.353702Z",
     "start_time": "2018-12-10T14:02:32.207855Z"
    }
   },
   "outputs": [
    {
     "name": "stderr",
     "output_type": "stream",
     "text": [
      "/usr/local/lib/python3.6/dist-packages/ipykernel_launcher.py:37: RuntimeWarning: invalid value encountered in greater\n"
     ]
    }
   ],
   "source": [
    "moments_xr = xr.apply_ufunc(moments_fce, ds_h_sel_daily[:], \\\n",
    "                            input_core_dims=[['lat', 'lon']], \\\n",
    "                            output_core_dims=[['vars']], vectorize=True)"
   ]
  },
  {
   "cell_type": "code",
   "execution_count": 12,
   "metadata": {
    "ExecuteTime": {
     "end_time": "2018-12-10T14:10:09.960507Z",
     "start_time": "2018-12-10T14:10:09.946370Z"
    }
   },
   "outputs": [
    {
     "data": {
      "text/plain": [
       "<xarray.DataArray 'h' (time: 11, vars: 2)>\n",
       "array([[ 1.786421, 79.144072],\n",
       "       [ 2.007545, 81.204711],\n",
       "       [ 2.157441, 81.365926],\n",
       "       [ 2.174224, 80.909784],\n",
       "       [ 2.117976, 80.349988],\n",
       "       [ 2.049652, 78.916104],\n",
       "       [ 1.94017 , 76.899323],\n",
       "       [ 1.866561, 74.901959],\n",
       "       [ 1.769069, 73.318562],\n",
       "       [ 1.637021, 72.23285 ],\n",
       "       [ 1.567425, 71.856548]])\n",
       "Coordinates:\n",
       "  * time     (time) datetime64[ns] 2018-12-09 2018-12-10 ... 2018-12-19\n",
       "Dimensions without coordinates: vars"
      ]
     },
     "execution_count": 12,
     "metadata": {},
     "output_type": "execute_result"
    }
   ],
   "source": [
    "moments_xr"
   ]
  },
  {
   "cell_type": "code",
   "execution_count": 13,
   "metadata": {
    "ExecuteTime": {
     "end_time": "2018-12-10T14:10:31.903642Z",
     "start_time": "2018-12-10T14:10:31.895879Z"
    }
   },
   "outputs": [],
   "source": [
    "moments_xr['vars'] = ['aspect_ratio', 'centroid_latitude']#.reset_coords()\n",
    "moments_ds = moments_xr.to_dataset(dim = 'vars') #.reset_coords('vars')"
   ]
  },
  {
   "cell_type": "code",
   "execution_count": 14,
   "metadata": {
    "ExecuteTime": {
     "end_time": "2018-12-10T14:10:40.416836Z",
     "start_time": "2018-12-10T14:10:40.137318Z"
    }
   },
   "outputs": [
    {
     "data": {
      "text/plain": [
       "[<matplotlib.lines.Line2D at 0x7f3df870a9b0>]"
      ]
     },
     "execution_count": 14,
     "metadata": {},
     "output_type": "execute_result"
    },
    {
     "data": {
      "image/png": "[encoded data removed]",
      "text/plain": [
       "<Figure size 432x288 with 1 Axes>"
      ]
     },
     "metadata": {
      "needs_background": "light"
     },
     "output_type": "display_data"
    }
   ],
   "source": [
    "moments_ds['aspect_ratio'].plot()"
   ]
  },
  {
   "cell_type": "code",
   "execution_count": 15,
   "metadata": {
    "ExecuteTime": {
     "end_time": "2018-12-10T14:11:11.443171Z",
     "start_time": "2018-12-10T14:11:11.204486Z"
    }
   },
   "outputs": [
    {
     "data": {
      "text/plain": [
       "[<matplotlib.lines.Line2D at 0x7f3da06eafd0>]"
      ]
     },
     "execution_count": 15,
     "metadata": {},
     "output_type": "execute_result"
    },
    {
     "data": {
      "image/png": "[encoded data removed]",
      "text/plain": [
       "<Figure size 432x288 with 1 Axes>"
      ]
     },
     "metadata": {
      "needs_background": "light"
     },
     "output_type": "display_data"
    }
   ],
   "source": [
    "moments_ds['centroid_latitude'].plot()"
   ]
  },
  {
   "cell_type": "markdown",
   "metadata": {},
   "source": [
    "# With integration function optimized"
   ]
  },
  {
   "cell_type": "code",
   "execution_count": 17,
   "metadata": {
    "ExecuteTime": {
     "end_time": "2018-12-10T14:39:29.774184Z",
     "start_time": "2018-12-10T14:36:47.126625Z"
    }
   },
   "outputs": [
    {
     "name": "stderr",
     "output_type": "stream",
     "text": [
      "/usr/local/lib/python3.6/dist-packages/ipykernel_launcher.py:37: RuntimeWarning: invalid value encountered in greater\n"
     ]
    }
   ],
   "source": [
    "moments_xr2 = xr.apply_ufunc(moments_fce, ds_h_sel_daily[:], \\\n",
    "                            input_core_dims=[['lat', 'lon']], \\\n",
    "                            output_core_dims=[['vars']], vectorize=True)"
   ]
  },
  {
   "cell_type": "code",
   "execution_count": 18,
   "metadata": {
    "ExecuteTime": {
     "end_time": "2018-12-10T14:39:38.596778Z",
     "start_time": "2018-12-10T14:39:38.588823Z"
    }
   },
   "outputs": [],
   "source": [
    "moments_xr2['vars'] = ['aspect_ratio', 'centroid_latitude']#.reset_coords()\n",
    "moments_ds2 = moments_xr2.to_dataset(dim = 'vars') #.reset_coords('vars')"
   ]
  },
  {
   "cell_type": "code",
   "execution_count": 19,
   "metadata": {
    "ExecuteTime": {
     "end_time": "2018-12-10T14:39:39.956661Z",
     "start_time": "2018-12-10T14:39:39.700867Z"
    }
   },
   "outputs": [
    {
     "data": {
      "text/plain": [
       "[<matplotlib.lines.Line2D at 0x7f3da06d8518>]"
      ]
     },
     "execution_count": 19,
     "metadata": {},
     "output_type": "execute_result"
    },
    {
     "data": {
      "image/png": "[encoded data removed]",
      "text/plain": [
       "<Figure size 432x288 with 1 Axes>"
      ]
     },
     "metadata": {
      "needs_background": "light"
     },
     "output_type": "display_data"
    }
   ],
   "source": [
    "moments_ds2['aspect_ratio'].plot()"
   ]
  },
  {
   "cell_type": "code",
   "execution_count": 20,
   "metadata": {
    "ExecuteTime": {
     "end_time": "2018-12-10T14:39:41.202024Z",
     "start_time": "2018-12-10T14:39:40.959450Z"
    }
   },
   "outputs": [
    {
     "data": {
      "text/plain": [
       "[<matplotlib.lines.Line2D at 0x7f3da0643eb8>]"
      ]
     },
     "execution_count": 20,
     "metadata": {},
     "output_type": "execute_result"
    },
    {
     "data": {
      "image/png": "[encoded data removed]",
      "text/plain": [
       "<Figure size 432x288 with 1 Axes>"
      ]
     },
     "metadata": {
      "needs_background": "light"
     },
     "output_type": "display_data"
    }
   ],
   "source": [
    "moments_ds2['centroid_latitude'].plot()"
   ]
  },
  {
   "cell_type": "markdown",
   "metadata": {},
   "source": [
    "# Using chunks"
   ]
  },
  {
   "cell_type": "markdown",
   "metadata": {
    "ExecuteTime": {
     "end_time": "2018-12-10T14:40:04.502373Z",
     "start_time": "2018-12-10T14:40:04.444413Z"
    }
   },
   "source": [
    "## dask = 'allowed'"
   ]
  },
  {
   "cell_type": "code",
   "execution_count": 24,
   "metadata": {
    "ExecuteTime": {
     "end_time": "2018-12-10T14:44:46.448569Z",
     "start_time": "2018-12-10T14:42:05.544069Z"
    }
   },
   "outputs": [
    {
     "name": "stderr",
     "output_type": "stream",
     "text": [
      "/usr/local/lib/python3.6/dist-packages/ipykernel_launcher.py:37: RuntimeWarning: invalid value encountered in greater\n"
     ]
    }
   ],
   "source": [
    "moments_xr3 = xr.apply_ufunc(moments_fce, ds_h_sel_daily.chunk({'time': 1}), \\\n",
    "                            input_core_dims=[['lat', 'lon']], \\\n",
    "                            output_core_dims=[['vars']], \\\n",
    "                            output_dtypes = [float], vectorize=True, \\\n",
    "                            dask = 'allowed')"
   ]
  },
  {
   "cell_type": "markdown",
   "metadata": {},
   "source": [
    "## dask = 'parallelized'"
   ]
  },
  {
   "cell_type": "code",
   "execution_count": 27,
   "metadata": {
    "ExecuteTime": {
     "end_time": "2018-12-10T14:46:37.903193Z",
     "start_time": "2018-12-10T14:45:30.059445Z"
    }
   },
   "outputs": [
    {
     "name": "stderr",
     "output_type": "stream",
     "text": [
      "/usr/local/lib/python3.6/dist-packages/ipykernel_launcher.py:37: RuntimeWarning: invalid value encountered in greater\n"
     ]
    }
   ],
   "source": [
    "moments_xr4 = xr.apply_ufunc(moments_fce, ds_h_sel_daily.chunk({'time': 1}), \\\n",
    "                            input_core_dims=[['lat', 'lon']], \\\n",
    "                            output_core_dims=[['vars']], \\\n",
    "                            output_dtypes = [float], vectorize=True, \\\n",
    "                            dask = 'parallelized',\\\n",
    "                            output_sizes = dict(vars = 2)).compute()"
   ]
  },
  {
   "cell_type": "code",
   "execution_count": 28,
   "metadata": {
    "ExecuteTime": {
     "end_time": "2018-12-10T14:46:45.885904Z",
     "start_time": "2018-12-10T14:46:45.878214Z"
    }
   },
   "outputs": [],
   "source": [
    "moments_xr4['vars'] = ['aspect_ratio', 'centroid_latitude']#.reset_coords()\n",
    "moments_ds4 = moments_xr4.to_dataset(dim = 'vars') #.reset_coords('vars')"
   ]
  },
  {
   "cell_type": "code",
   "execution_count": 29,
   "metadata": {
    "ExecuteTime": {
     "end_time": "2018-12-10T14:46:47.131357Z",
     "start_time": "2018-12-10T14:46:46.876727Z"
    }
   },
   "outputs": [
    {
     "data": {
      "text/plain": [
       "[<matplotlib.lines.Line2D at 0x7f3da02a2be0>]"
      ]
     },
     "execution_count": 29,
     "metadata": {},
     "output_type": "execute_result"
    },
    {
     "data": {
      "image/png": "[encoded data removed]",
      "text/plain": [
       "<Figure size 432x288 with 1 Axes>"
      ]
     },
     "metadata": {
      "needs_background": "light"
     },
     "output_type": "display_data"
    }
   ],
   "source": [
    "moments_ds4['aspect_ratio'].plot()"
   ]
  },
  {
   "cell_type": "code",
   "execution_count": 30,
   "metadata": {
    "ExecuteTime": {
     "end_time": "2018-12-10T14:46:48.275592Z",
     "start_time": "2018-12-10T14:46:48.036148Z"
    }
   },
   "outputs": [
    {
     "data": {
      "text/plain": [
       "[<matplotlib.lines.Line2D at 0x7f3da05faa20>]"
      ]
     },
     "execution_count": 30,
     "metadata": {},
     "output_type": "execute_result"
    },
    {
     "data": {
      "image/png": "[encoded data removed]",
      "text/plain": [
       "<Figure size 432x288 with 1 Axes>"
      ]
     },
     "metadata": {
      "needs_background": "light"
     },
     "output_type": "display_data"
    }
   ],
   "source": [
    "moments_ds4['centroid_latitude'].plot()"
   ]
  }
 ],
 "metadata": {
  "hide_input": false,
  "kernelspec": {
   "display_name": "Python 3",
   "language": "python",
   "name": "python3"
  },
  "language_info": {
   "codemirror_mode": {
    "name": "ipython",
    "version": 3
   },
   "file_extension": ".py",
   "mimetype": "text/x-python",
   "name": "python",
   "nbconvert_exporter": "python",
   "pygments_lexer": "ipython3",
   "version": "3.6.9"
  },
  "latex_envs": {
   "LaTeX_envs_menu_present": true,
   "autoclose": false,
   "autocomplete": true,
   "bibliofile": "biblio.bib",
   "cite_by": "apalike",
   "current_citInitial": 1,
   "eqLabelWithNumbers": true,
   "eqNumInitial": 1,
   "hotkeys": {
    "equation": "Ctrl-E",
    "itemize": "Ctrl-I"
   },
   "labels_anchors": false,
   "latex_user_defs": false,
   "report_style_numbering": false,
   "user_envs_cfg": false
  },
  "toc": {
   "base_numbering": 1,
   "nav_menu": {},
   "number_sections": true,
   "sideBar": true,
   "skip_h1_title": false,
   "title_cell": "Table of Contents",
   "title_sidebar": "Contents",
   "toc_cell": true,
   "toc_position": {},
   "toc_section_display": true,
   "toc_window_display": false
  }
 },
 "nbformat": 4,
 "nbformat_minor": 2
}
